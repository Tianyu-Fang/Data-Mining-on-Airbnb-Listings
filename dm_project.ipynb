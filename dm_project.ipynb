{
 "cells": [
  {
   "cell_type": "code",
   "execution_count": 112,
   "id": "9f3042c0-2eba-4987-90a1-e1249229eb2c",
   "metadata": {},
   "outputs": [],
   "source": [
    "import pandas as pd\n",
    "import matplotlib.pyplot as plt\n",
    "import seaborn as sns\n",
    "import numpy as np\n",
    "import numpy.random as nr\n",
    "import math\n",
    "\n",
    "%matplotlib inline\n"
   ]
  },
  {
   "cell_type": "code",
   "execution_count": 113,
   "id": "9b7bf4b3-3614-447f-b6a3-c2fa19f2de0a",
   "metadata": {},
   "outputs": [],
   "source": [
    "calendar_df = pd.read_csv('calendar.csv')\n",
    "listings_df = pd.read_csv('listings.csv')\n",
    "reviews_df = pd.read_csv('reviews.csv')\n"
   ]
  },
  {
   "cell_type": "code",
   "execution_count": 114,
   "id": "0d15bcfa-a589-4490-939e-ccdc0d6a84a4",
   "metadata": {},
   "outputs": [
    {
     "data": {
      "text/plain": [
       "(1308890, 4)"
      ]
     },
     "execution_count": 114,
     "metadata": {},
     "output_type": "execute_result"
    }
   ],
   "source": [
    "calendar_df.shape\n"
   ]
  },
  {
   "cell_type": "code",
   "execution_count": 115,
   "id": "20743e29-851c-4baf-a34e-88ab61ed80d7",
   "metadata": {},
   "outputs": [
    {
     "data": {
      "text/html": [
       "<div>\n",
       "<style scoped>\n",
       "    .dataframe tbody tr th:only-of-type {\n",
       "        vertical-align: middle;\n",
       "    }\n",
       "\n",
       "    .dataframe tbody tr th {\n",
       "        vertical-align: top;\n",
       "    }\n",
       "\n",
       "    .dataframe thead th {\n",
       "        text-align: right;\n",
       "    }\n",
       "</style>\n",
       "<table border=\"1\" class=\"dataframe\">\n",
       "  <thead>\n",
       "    <tr style=\"text-align: right;\">\n",
       "      <th></th>\n",
       "      <th>listing_id</th>\n",
       "      <th>date</th>\n",
       "      <th>available</th>\n",
       "      <th>price</th>\n",
       "    </tr>\n",
       "  </thead>\n",
       "  <tbody>\n",
       "    <tr>\n",
       "      <th>0</th>\n",
       "      <td>12147973</td>\n",
       "      <td>2017-09-05</td>\n",
       "      <td>f</td>\n",
       "      <td>NaN</td>\n",
       "    </tr>\n",
       "    <tr>\n",
       "      <th>1</th>\n",
       "      <td>12147973</td>\n",
       "      <td>2017-09-04</td>\n",
       "      <td>f</td>\n",
       "      <td>NaN</td>\n",
       "    </tr>\n",
       "    <tr>\n",
       "      <th>2</th>\n",
       "      <td>12147973</td>\n",
       "      <td>2017-09-03</td>\n",
       "      <td>f</td>\n",
       "      <td>NaN</td>\n",
       "    </tr>\n",
       "    <tr>\n",
       "      <th>3</th>\n",
       "      <td>12147973</td>\n",
       "      <td>2017-09-02</td>\n",
       "      <td>f</td>\n",
       "      <td>NaN</td>\n",
       "    </tr>\n",
       "    <tr>\n",
       "      <th>4</th>\n",
       "      <td>12147973</td>\n",
       "      <td>2017-09-01</td>\n",
       "      <td>f</td>\n",
       "      <td>NaN</td>\n",
       "    </tr>\n",
       "  </tbody>\n",
       "</table>\n",
       "</div>"
      ],
      "text/plain": [
       "   listing_id        date available price\n",
       "0    12147973  2017-09-05         f   NaN\n",
       "1    12147973  2017-09-04         f   NaN\n",
       "2    12147973  2017-09-03         f   NaN\n",
       "3    12147973  2017-09-02         f   NaN\n",
       "4    12147973  2017-09-01         f   NaN"
      ]
     },
     "execution_count": 115,
     "metadata": {},
     "output_type": "execute_result"
    }
   ],
   "source": [
    "calendar_df.head()"
   ]
  },
  {
   "cell_type": "code",
   "execution_count": 116,
   "id": "8d1e7848-e7f2-4841-b8a8-13cc56619552",
   "metadata": {},
   "outputs": [
    {
     "data": {
      "text/plain": [
       "(3585, 95)"
      ]
     },
     "execution_count": 116,
     "metadata": {},
     "output_type": "execute_result"
    }
   ],
   "source": [
    "listings_df.shape"
   ]
  },
  {
   "cell_type": "code",
   "execution_count": 117,
   "id": "7ff5d2ec-45db-4088-a5eb-91e2430c5e7c",
   "metadata": {},
   "outputs": [
    {
     "data": {
      "text/html": [
       "<div>\n",
       "<style scoped>\n",
       "    .dataframe tbody tr th:only-of-type {\n",
       "        vertical-align: middle;\n",
       "    }\n",
       "\n",
       "    .dataframe tbody tr th {\n",
       "        vertical-align: top;\n",
       "    }\n",
       "\n",
       "    .dataframe thead th {\n",
       "        text-align: right;\n",
       "    }\n",
       "</style>\n",
       "<table border=\"1\" class=\"dataframe\">\n",
       "  <thead>\n",
       "    <tr style=\"text-align: right;\">\n",
       "      <th></th>\n",
       "      <th>id</th>\n",
       "      <th>listing_url</th>\n",
       "      <th>scrape_id</th>\n",
       "      <th>last_scraped</th>\n",
       "      <th>name</th>\n",
       "      <th>summary</th>\n",
       "      <th>space</th>\n",
       "      <th>description</th>\n",
       "      <th>experiences_offered</th>\n",
       "      <th>neighborhood_overview</th>\n",
       "      <th>...</th>\n",
       "      <th>review_scores_value</th>\n",
       "      <th>requires_license</th>\n",
       "      <th>license</th>\n",
       "      <th>jurisdiction_names</th>\n",
       "      <th>instant_bookable</th>\n",
       "      <th>cancellation_policy</th>\n",
       "      <th>require_guest_profile_picture</th>\n",
       "      <th>require_guest_phone_verification</th>\n",
       "      <th>calculated_host_listings_count</th>\n",
       "      <th>reviews_per_month</th>\n",
       "    </tr>\n",
       "  </thead>\n",
       "  <tbody>\n",
       "    <tr>\n",
       "      <th>0</th>\n",
       "      <td>12147973</td>\n",
       "      <td>https://www.airbnb.com/rooms/12147973</td>\n",
       "      <td>20160906204935</td>\n",
       "      <td>2016-09-07</td>\n",
       "      <td>Sunny Bungalow in the City</td>\n",
       "      <td>Cozy, sunny, family home.  Master bedroom high...</td>\n",
       "      <td>The house has an open and cozy feel at the sam...</td>\n",
       "      <td>Cozy, sunny, family home.  Master bedroom high...</td>\n",
       "      <td>none</td>\n",
       "      <td>Roslindale is quiet, convenient and friendly. ...</td>\n",
       "      <td>...</td>\n",
       "      <td>NaN</td>\n",
       "      <td>f</td>\n",
       "      <td>NaN</td>\n",
       "      <td>NaN</td>\n",
       "      <td>f</td>\n",
       "      <td>moderate</td>\n",
       "      <td>f</td>\n",
       "      <td>f</td>\n",
       "      <td>1</td>\n",
       "      <td>NaN</td>\n",
       "    </tr>\n",
       "    <tr>\n",
       "      <th>1</th>\n",
       "      <td>3075044</td>\n",
       "      <td>https://www.airbnb.com/rooms/3075044</td>\n",
       "      <td>20160906204935</td>\n",
       "      <td>2016-09-07</td>\n",
       "      <td>Charming room in pet friendly apt</td>\n",
       "      <td>Charming and quiet room in a second floor 1910...</td>\n",
       "      <td>Small but cozy and quite room with a full size...</td>\n",
       "      <td>Charming and quiet room in a second floor 1910...</td>\n",
       "      <td>none</td>\n",
       "      <td>The room is in Roslindale, a diverse and prima...</td>\n",
       "      <td>...</td>\n",
       "      <td>9.0</td>\n",
       "      <td>f</td>\n",
       "      <td>NaN</td>\n",
       "      <td>NaN</td>\n",
       "      <td>t</td>\n",
       "      <td>moderate</td>\n",
       "      <td>f</td>\n",
       "      <td>f</td>\n",
       "      <td>1</td>\n",
       "      <td>1.30</td>\n",
       "    </tr>\n",
       "    <tr>\n",
       "      <th>2</th>\n",
       "      <td>6976</td>\n",
       "      <td>https://www.airbnb.com/rooms/6976</td>\n",
       "      <td>20160906204935</td>\n",
       "      <td>2016-09-07</td>\n",
       "      <td>Mexican Folk Art Haven in Boston</td>\n",
       "      <td>Come stay with a friendly, middle-aged guy in ...</td>\n",
       "      <td>Come stay with a friendly, middle-aged guy in ...</td>\n",
       "      <td>Come stay with a friendly, middle-aged guy in ...</td>\n",
       "      <td>none</td>\n",
       "      <td>The LOCATION: Roslindale is a safe and diverse...</td>\n",
       "      <td>...</td>\n",
       "      <td>10.0</td>\n",
       "      <td>f</td>\n",
       "      <td>NaN</td>\n",
       "      <td>NaN</td>\n",
       "      <td>f</td>\n",
       "      <td>moderate</td>\n",
       "      <td>t</td>\n",
       "      <td>f</td>\n",
       "      <td>1</td>\n",
       "      <td>0.47</td>\n",
       "    </tr>\n",
       "    <tr>\n",
       "      <th>3</th>\n",
       "      <td>1436513</td>\n",
       "      <td>https://www.airbnb.com/rooms/1436513</td>\n",
       "      <td>20160906204935</td>\n",
       "      <td>2016-09-07</td>\n",
       "      <td>Spacious Sunny Bedroom Suite in Historic Home</td>\n",
       "      <td>Come experience the comforts of home away from...</td>\n",
       "      <td>Most places you find in Boston are small howev...</td>\n",
       "      <td>Come experience the comforts of home away from...</td>\n",
       "      <td>none</td>\n",
       "      <td>Roslindale is a lovely little neighborhood loc...</td>\n",
       "      <td>...</td>\n",
       "      <td>10.0</td>\n",
       "      <td>f</td>\n",
       "      <td>NaN</td>\n",
       "      <td>NaN</td>\n",
       "      <td>f</td>\n",
       "      <td>moderate</td>\n",
       "      <td>f</td>\n",
       "      <td>f</td>\n",
       "      <td>1</td>\n",
       "      <td>1.00</td>\n",
       "    </tr>\n",
       "    <tr>\n",
       "      <th>4</th>\n",
       "      <td>7651065</td>\n",
       "      <td>https://www.airbnb.com/rooms/7651065</td>\n",
       "      <td>20160906204935</td>\n",
       "      <td>2016-09-07</td>\n",
       "      <td>Come Home to Boston</td>\n",
       "      <td>My comfy, clean and relaxing home is one block...</td>\n",
       "      <td>Clean, attractive, private room, one block fro...</td>\n",
       "      <td>My comfy, clean and relaxing home is one block...</td>\n",
       "      <td>none</td>\n",
       "      <td>I love the proximity to downtown, the neighbor...</td>\n",
       "      <td>...</td>\n",
       "      <td>10.0</td>\n",
       "      <td>f</td>\n",
       "      <td>NaN</td>\n",
       "      <td>NaN</td>\n",
       "      <td>f</td>\n",
       "      <td>flexible</td>\n",
       "      <td>f</td>\n",
       "      <td>f</td>\n",
       "      <td>1</td>\n",
       "      <td>2.25</td>\n",
       "    </tr>\n",
       "  </tbody>\n",
       "</table>\n",
       "<p>5 rows × 95 columns</p>\n",
       "</div>"
      ],
      "text/plain": [
       "         id                            listing_url       scrape_id  \\\n",
       "0  12147973  https://www.airbnb.com/rooms/12147973  20160906204935   \n",
       "1   3075044   https://www.airbnb.com/rooms/3075044  20160906204935   \n",
       "2      6976      https://www.airbnb.com/rooms/6976  20160906204935   \n",
       "3   1436513   https://www.airbnb.com/rooms/1436513  20160906204935   \n",
       "4   7651065   https://www.airbnb.com/rooms/7651065  20160906204935   \n",
       "\n",
       "  last_scraped                                           name  \\\n",
       "0   2016-09-07                     Sunny Bungalow in the City   \n",
       "1   2016-09-07              Charming room in pet friendly apt   \n",
       "2   2016-09-07               Mexican Folk Art Haven in Boston   \n",
       "3   2016-09-07  Spacious Sunny Bedroom Suite in Historic Home   \n",
       "4   2016-09-07                            Come Home to Boston   \n",
       "\n",
       "                                             summary  \\\n",
       "0  Cozy, sunny, family home.  Master bedroom high...   \n",
       "1  Charming and quiet room in a second floor 1910...   \n",
       "2  Come stay with a friendly, middle-aged guy in ...   \n",
       "3  Come experience the comforts of home away from...   \n",
       "4  My comfy, clean and relaxing home is one block...   \n",
       "\n",
       "                                               space  \\\n",
       "0  The house has an open and cozy feel at the sam...   \n",
       "1  Small but cozy and quite room with a full size...   \n",
       "2  Come stay with a friendly, middle-aged guy in ...   \n",
       "3  Most places you find in Boston are small howev...   \n",
       "4  Clean, attractive, private room, one block fro...   \n",
       "\n",
       "                                         description experiences_offered  \\\n",
       "0  Cozy, sunny, family home.  Master bedroom high...                none   \n",
       "1  Charming and quiet room in a second floor 1910...                none   \n",
       "2  Come stay with a friendly, middle-aged guy in ...                none   \n",
       "3  Come experience the comforts of home away from...                none   \n",
       "4  My comfy, clean and relaxing home is one block...                none   \n",
       "\n",
       "                               neighborhood_overview  ... review_scores_value  \\\n",
       "0  Roslindale is quiet, convenient and friendly. ...  ...                 NaN   \n",
       "1  The room is in Roslindale, a diverse and prima...  ...                 9.0   \n",
       "2  The LOCATION: Roslindale is a safe and diverse...  ...                10.0   \n",
       "3  Roslindale is a lovely little neighborhood loc...  ...                10.0   \n",
       "4  I love the proximity to downtown, the neighbor...  ...                10.0   \n",
       "\n",
       "  requires_license license jurisdiction_names instant_bookable  \\\n",
       "0                f     NaN                NaN                f   \n",
       "1                f     NaN                NaN                t   \n",
       "2                f     NaN                NaN                f   \n",
       "3                f     NaN                NaN                f   \n",
       "4                f     NaN                NaN                f   \n",
       "\n",
       "  cancellation_policy require_guest_profile_picture  \\\n",
       "0            moderate                             f   \n",
       "1            moderate                             f   \n",
       "2            moderate                             t   \n",
       "3            moderate                             f   \n",
       "4            flexible                             f   \n",
       "\n",
       "  require_guest_phone_verification calculated_host_listings_count  \\\n",
       "0                                f                              1   \n",
       "1                                f                              1   \n",
       "2                                f                              1   \n",
       "3                                f                              1   \n",
       "4                                f                              1   \n",
       "\n",
       "   reviews_per_month  \n",
       "0                NaN  \n",
       "1               1.30  \n",
       "2               0.47  \n",
       "3               1.00  \n",
       "4               2.25  \n",
       "\n",
       "[5 rows x 95 columns]"
      ]
     },
     "execution_count": 117,
     "metadata": {},
     "output_type": "execute_result"
    }
   ],
   "source": [
    "listings_df.head()"
   ]
  },
  {
   "cell_type": "code",
   "execution_count": 118,
   "id": "ff4639e7-92ea-496d-a497-07608f01810c",
   "metadata": {},
   "outputs": [
    {
     "data": {
      "text/plain": [
       "(68275, 6)"
      ]
     },
     "execution_count": 118,
     "metadata": {},
     "output_type": "execute_result"
    }
   ],
   "source": [
    "reviews_df.shape"
   ]
  },
  {
   "cell_type": "code",
   "execution_count": 119,
   "id": "8324bf98-bab5-4733-a630-4113edd86796",
   "metadata": {},
   "outputs": [
    {
     "data": {
      "text/html": [
       "<div>\n",
       "<style scoped>\n",
       "    .dataframe tbody tr th:only-of-type {\n",
       "        vertical-align: middle;\n",
       "    }\n",
       "\n",
       "    .dataframe tbody tr th {\n",
       "        vertical-align: top;\n",
       "    }\n",
       "\n",
       "    .dataframe thead th {\n",
       "        text-align: right;\n",
       "    }\n",
       "</style>\n",
       "<table border=\"1\" class=\"dataframe\">\n",
       "  <thead>\n",
       "    <tr style=\"text-align: right;\">\n",
       "      <th></th>\n",
       "      <th>listing_id</th>\n",
       "      <th>id</th>\n",
       "      <th>date</th>\n",
       "      <th>reviewer_id</th>\n",
       "      <th>reviewer_name</th>\n",
       "      <th>comments</th>\n",
       "    </tr>\n",
       "  </thead>\n",
       "  <tbody>\n",
       "    <tr>\n",
       "      <th>0</th>\n",
       "      <td>1178162</td>\n",
       "      <td>4724140</td>\n",
       "      <td>2013-05-21</td>\n",
       "      <td>4298113</td>\n",
       "      <td>Olivier</td>\n",
       "      <td>My stay at islam's place was really cool! Good...</td>\n",
       "    </tr>\n",
       "    <tr>\n",
       "      <th>1</th>\n",
       "      <td>1178162</td>\n",
       "      <td>4869189</td>\n",
       "      <td>2013-05-29</td>\n",
       "      <td>6452964</td>\n",
       "      <td>Charlotte</td>\n",
       "      <td>Great location for both airport and city - gre...</td>\n",
       "    </tr>\n",
       "    <tr>\n",
       "      <th>2</th>\n",
       "      <td>1178162</td>\n",
       "      <td>5003196</td>\n",
       "      <td>2013-06-06</td>\n",
       "      <td>6449554</td>\n",
       "      <td>Sebastian</td>\n",
       "      <td>We really enjoyed our stay at Islams house. Fr...</td>\n",
       "    </tr>\n",
       "    <tr>\n",
       "      <th>3</th>\n",
       "      <td>1178162</td>\n",
       "      <td>5150351</td>\n",
       "      <td>2013-06-15</td>\n",
       "      <td>2215611</td>\n",
       "      <td>Marine</td>\n",
       "      <td>The room was nice and clean and so were the co...</td>\n",
       "    </tr>\n",
       "    <tr>\n",
       "      <th>4</th>\n",
       "      <td>1178162</td>\n",
       "      <td>5171140</td>\n",
       "      <td>2013-06-16</td>\n",
       "      <td>6848427</td>\n",
       "      <td>Andrew</td>\n",
       "      <td>Great location. Just 5 mins walk from the Airp...</td>\n",
       "    </tr>\n",
       "  </tbody>\n",
       "</table>\n",
       "</div>"
      ],
      "text/plain": [
       "   listing_id       id        date  reviewer_id reviewer_name  \\\n",
       "0     1178162  4724140  2013-05-21      4298113       Olivier   \n",
       "1     1178162  4869189  2013-05-29      6452964     Charlotte   \n",
       "2     1178162  5003196  2013-06-06      6449554     Sebastian   \n",
       "3     1178162  5150351  2013-06-15      2215611        Marine   \n",
       "4     1178162  5171140  2013-06-16      6848427        Andrew   \n",
       "\n",
       "                                            comments  \n",
       "0  My stay at islam's place was really cool! Good...  \n",
       "1  Great location for both airport and city - gre...  \n",
       "2  We really enjoyed our stay at Islams house. Fr...  \n",
       "3  The room was nice and clean and so were the co...  \n",
       "4  Great location. Just 5 mins walk from the Airp...  "
      ]
     },
     "execution_count": 119,
     "metadata": {},
     "output_type": "execute_result"
    }
   ],
   "source": [
    "reviews_df.head()"
   ]
  },
  {
   "cell_type": "code",
   "execution_count": 120,
   "id": "6c3a8dbc-a814-47fa-80b9-8f0c06bbe41b",
   "metadata": {},
   "outputs": [
    {
     "name": "stdout",
     "output_type": "stream",
     "text": [
      "<class 'pandas.core.frame.DataFrame'>\n",
      "RangeIndex: 3585 entries, 0 to 3584\n",
      "Data columns (total 95 columns):\n",
      " #   Column                            Non-Null Count  Dtype  \n",
      "---  ------                            --------------  -----  \n",
      " 0   id                                3585 non-null   int64  \n",
      " 1   listing_url                       3585 non-null   object \n",
      " 2   scrape_id                         3585 non-null   int64  \n",
      " 3   last_scraped                      3585 non-null   object \n",
      " 4   name                              3585 non-null   object \n",
      " 5   summary                           3442 non-null   object \n",
      " 6   space                             2528 non-null   object \n",
      " 7   description                       3585 non-null   object \n",
      " 8   experiences_offered               3585 non-null   object \n",
      " 9   neighborhood_overview             2170 non-null   object \n",
      " 10  notes                             1610 non-null   object \n",
      " 11  transit                           2295 non-null   object \n",
      " 12  access                            2096 non-null   object \n",
      " 13  interaction                       2031 non-null   object \n",
      " 14  house_rules                       2393 non-null   object \n",
      " 15  thumbnail_url                     2986 non-null   object \n",
      " 16  medium_url                        2986 non-null   object \n",
      " 17  picture_url                       3585 non-null   object \n",
      " 18  xl_picture_url                    2986 non-null   object \n",
      " 19  host_id                           3585 non-null   int64  \n",
      " 20  host_url                          3585 non-null   object \n",
      " 21  host_name                         3585 non-null   object \n",
      " 22  host_since                        3585 non-null   object \n",
      " 23  host_location                     3574 non-null   object \n",
      " 24  host_about                        2276 non-null   object \n",
      " 25  host_response_time                3114 non-null   object \n",
      " 26  host_response_rate                3114 non-null   object \n",
      " 27  host_acceptance_rate              3114 non-null   object \n",
      " 28  host_is_superhost                 3585 non-null   object \n",
      " 29  host_thumbnail_url                3585 non-null   object \n",
      " 30  host_picture_url                  3585 non-null   object \n",
      " 31  host_neighbourhood                3246 non-null   object \n",
      " 32  host_listings_count               3585 non-null   int64  \n",
      " 33  host_total_listings_count         3585 non-null   int64  \n",
      " 34  host_verifications                3585 non-null   object \n",
      " 35  host_has_profile_pic              3585 non-null   object \n",
      " 36  host_identity_verified            3585 non-null   object \n",
      " 37  street                            3585 non-null   object \n",
      " 38  neighbourhood                     3042 non-null   object \n",
      " 39  neighbourhood_cleansed            3585 non-null   object \n",
      " 40  neighbourhood_group_cleansed      0 non-null      float64\n",
      " 41  city                              3583 non-null   object \n",
      " 42  state                             3585 non-null   object \n",
      " 43  zipcode                           3547 non-null   object \n",
      " 44  market                            3571 non-null   object \n",
      " 45  smart_location                    3585 non-null   object \n",
      " 46  country_code                      3585 non-null   object \n",
      " 47  country                           3585 non-null   object \n",
      " 48  latitude                          3585 non-null   float64\n",
      " 49  longitude                         3585 non-null   float64\n",
      " 50  is_location_exact                 3585 non-null   object \n",
      " 51  property_type                     3582 non-null   object \n",
      " 52  room_type                         3585 non-null   object \n",
      " 53  accommodates                      3585 non-null   int64  \n",
      " 54  bathrooms                         3571 non-null   float64\n",
      " 55  bedrooms                          3575 non-null   float64\n",
      " 56  beds                              3576 non-null   float64\n",
      " 57  bed_type                          3585 non-null   object \n",
      " 58  amenities                         3585 non-null   object \n",
      " 59  square_feet                       56 non-null     float64\n",
      " 60  price                             3585 non-null   object \n",
      " 61  weekly_price                      892 non-null    object \n",
      " 62  monthly_price                     888 non-null    object \n",
      " 63  security_deposit                  1342 non-null   object \n",
      " 64  cleaning_fee                      2478 non-null   object \n",
      " 65  guests_included                   3585 non-null   int64  \n",
      " 66  extra_people                      3585 non-null   object \n",
      " 67  minimum_nights                    3585 non-null   int64  \n",
      " 68  maximum_nights                    3585 non-null   int64  \n",
      " 69  calendar_updated                  3585 non-null   object \n",
      " 70  has_availability                  0 non-null      float64\n",
      " 71  availability_30                   3585 non-null   int64  \n",
      " 72  availability_60                   3585 non-null   int64  \n",
      " 73  availability_90                   3585 non-null   int64  \n",
      " 74  availability_365                  3585 non-null   int64  \n",
      " 75  calendar_last_scraped             3585 non-null   object \n",
      " 76  number_of_reviews                 3585 non-null   int64  \n",
      " 77  first_review                      2829 non-null   object \n",
      " 78  last_review                       2829 non-null   object \n",
      " 79  review_scores_rating              2772 non-null   float64\n",
      " 80  review_scores_accuracy            2762 non-null   float64\n",
      " 81  review_scores_cleanliness         2767 non-null   float64\n",
      " 82  review_scores_checkin             2765 non-null   float64\n",
      " 83  review_scores_communication       2767 non-null   float64\n",
      " 84  review_scores_location            2763 non-null   float64\n",
      " 85  review_scores_value               2764 non-null   float64\n",
      " 86  requires_license                  3585 non-null   object \n",
      " 87  license                           0 non-null      float64\n",
      " 88  jurisdiction_names                0 non-null      float64\n",
      " 89  instant_bookable                  3585 non-null   object \n",
      " 90  cancellation_policy               3585 non-null   object \n",
      " 91  require_guest_profile_picture     3585 non-null   object \n",
      " 92  require_guest_phone_verification  3585 non-null   object \n",
      " 93  calculated_host_listings_count    3585 non-null   int64  \n",
      " 94  reviews_per_month                 2829 non-null   float64\n",
      "dtypes: float64(18), int64(15), object(62)\n",
      "memory usage: 2.6+ MB\n"
     ]
    }
   ],
   "source": [
    "# listings_csv.dtypes\n",
    "listings_df.info(verbose=True)"
   ]
  },
  {
   "cell_type": "code",
   "execution_count": 121,
   "id": "bb7f92f4-c061-46e2-b46b-96aaa3b7bc64",
   "metadata": {},
   "outputs": [
    {
     "name": "stdout",
     "output_type": "stream",
     "text": [
      "<class 'pandas.core.frame.DataFrame'>\n",
      "RangeIndex: 1308890 entries, 0 to 1308889\n",
      "Data columns (total 4 columns):\n",
      " #   Column      Non-Null Count    Dtype \n",
      "---  ------      --------------    ----- \n",
      " 0   listing_id  1308890 non-null  int64 \n",
      " 1   date        1308890 non-null  object\n",
      " 2   available   1308890 non-null  object\n",
      " 3   price       643037 non-null   object\n",
      "dtypes: int64(1), object(3)\n",
      "memory usage: 39.9+ MB\n"
     ]
    }
   ],
   "source": [
    "calendar_df.info()"
   ]
  },
  {
   "cell_type": "code",
   "execution_count": 122,
   "id": "8887d38a-5fc1-4641-bd8a-0f49abba2b76",
   "metadata": {},
   "outputs": [],
   "source": [
    "calendar_df.set_index('listing_id', inplace=True)\n"
   ]
  },
  {
   "cell_type": "code",
   "execution_count": 123,
   "id": "9679c4cc-0c0f-445e-bf2d-82630d44dbf1",
   "metadata": {},
   "outputs": [
    {
     "data": {
      "text/html": [
       "<div>\n",
       "<style scoped>\n",
       "    .dataframe tbody tr th:only-of-type {\n",
       "        vertical-align: middle;\n",
       "    }\n",
       "\n",
       "    .dataframe tbody tr th {\n",
       "        vertical-align: top;\n",
       "    }\n",
       "\n",
       "    .dataframe thead th {\n",
       "        text-align: right;\n",
       "    }\n",
       "</style>\n",
       "<table border=\"1\" class=\"dataframe\">\n",
       "  <thead>\n",
       "    <tr style=\"text-align: right;\">\n",
       "      <th></th>\n",
       "      <th>date</th>\n",
       "      <th>available</th>\n",
       "      <th>price</th>\n",
       "    </tr>\n",
       "    <tr>\n",
       "      <th>listing_id</th>\n",
       "      <th></th>\n",
       "      <th></th>\n",
       "      <th></th>\n",
       "    </tr>\n",
       "  </thead>\n",
       "  <tbody>\n",
       "    <tr>\n",
       "      <th>12147973</th>\n",
       "      <td>2017-09-05</td>\n",
       "      <td>f</td>\n",
       "      <td>NaN</td>\n",
       "    </tr>\n",
       "    <tr>\n",
       "      <th>12147973</th>\n",
       "      <td>2017-09-04</td>\n",
       "      <td>f</td>\n",
       "      <td>NaN</td>\n",
       "    </tr>\n",
       "    <tr>\n",
       "      <th>12147973</th>\n",
       "      <td>2017-09-03</td>\n",
       "      <td>f</td>\n",
       "      <td>NaN</td>\n",
       "    </tr>\n",
       "    <tr>\n",
       "      <th>12147973</th>\n",
       "      <td>2017-09-02</td>\n",
       "      <td>f</td>\n",
       "      <td>NaN</td>\n",
       "    </tr>\n",
       "    <tr>\n",
       "      <th>12147973</th>\n",
       "      <td>2017-09-01</td>\n",
       "      <td>f</td>\n",
       "      <td>NaN</td>\n",
       "    </tr>\n",
       "  </tbody>\n",
       "</table>\n",
       "</div>"
      ],
      "text/plain": [
       "                  date available price\n",
       "listing_id                            \n",
       "12147973    2017-09-05         f   NaN\n",
       "12147973    2017-09-04         f   NaN\n",
       "12147973    2017-09-03         f   NaN\n",
       "12147973    2017-09-02         f   NaN\n",
       "12147973    2017-09-01         f   NaN"
      ]
     },
     "execution_count": 123,
     "metadata": {},
     "output_type": "execute_result"
    }
   ],
   "source": [
    "calendar_df.head()"
   ]
  },
  {
   "cell_type": "code",
   "execution_count": 124,
   "id": "1e5b0dec-d9f5-46e7-b69f-d6556f7ce8e6",
   "metadata": {},
   "outputs": [],
   "source": [
    "# remove dollar, comma characters to convert price column to float\n",
    "calendar_df.price = calendar_df.price.str.lstrip('$').str.replace(',', '')\n",
    "calendar_df.price = calendar_df.price.astype('float')"
   ]
  },
  {
   "cell_type": "code",
   "execution_count": 125,
   "id": "8a0b0ec3-36d0-4e29-92c0-702b95b69b83",
   "metadata": {},
   "outputs": [],
   "source": [
    "# convert string date to datetime object\n",
    "calendar_df.date = pd.to_datetime(calendar_df.date)"
   ]
  },
  {
   "cell_type": "code",
   "execution_count": 126,
   "id": "6916dcf3-33b9-49a6-89fd-7076ee48be17",
   "metadata": {},
   "outputs": [
    {
     "name": "stdout",
     "output_type": "stream",
     "text": [
      "<class 'pandas.core.frame.DataFrame'>\n",
      "Int64Index: 1308890 entries, 12147973 to 14504422\n",
      "Data columns (total 3 columns):\n",
      " #   Column     Non-Null Count    Dtype         \n",
      "---  ------     --------------    -----         \n",
      " 0   date       1308890 non-null  datetime64[ns]\n",
      " 1   available  1308890 non-null  object        \n",
      " 2   price      643037 non-null   float64       \n",
      "dtypes: datetime64[ns](1), float64(1), object(1)\n",
      "memory usage: 39.9+ MB\n"
     ]
    }
   ],
   "source": [
    "# test\n",
    "calendar_df.info()"
   ]
  },
  {
   "cell_type": "code",
   "execution_count": 127,
   "id": "8f520385-483b-4432-86b2-da4ac69a04db",
   "metadata": {},
   "outputs": [
    {
     "name": "stdout",
     "output_type": "stream",
     "text": [
      "<class 'pandas.core.frame.DataFrame'>\n",
      "RangeIndex: 68275 entries, 0 to 68274\n",
      "Data columns (total 6 columns):\n",
      " #   Column         Non-Null Count  Dtype \n",
      "---  ------         --------------  ----- \n",
      " 0   listing_id     68275 non-null  int64 \n",
      " 1   id             68275 non-null  int64 \n",
      " 2   date           68275 non-null  object\n",
      " 3   reviewer_id    68275 non-null  int64 \n",
      " 4   reviewer_name  68275 non-null  object\n",
      " 5   comments       68222 non-null  object\n",
      "dtypes: int64(3), object(3)\n",
      "memory usage: 3.1+ MB\n"
     ]
    }
   ],
   "source": [
    "reviews_df.info()"
   ]
  },
  {
   "cell_type": "code",
   "execution_count": 128,
   "id": "7e3ed741-72b1-48cc-846a-57cffd3f62ec",
   "metadata": {},
   "outputs": [],
   "source": [
    "reviews_df.set_index('id', inplace=True)"
   ]
  },
  {
   "cell_type": "code",
   "execution_count": 129,
   "id": "9bb5d67f-49e3-487b-ae0d-ee9d74856977",
   "metadata": {},
   "outputs": [],
   "source": [
    "# convert string date to datetime object in reviews set\n",
    "reviews_df.date = pd.to_datetime(reviews_df.date)"
   ]
  },
  {
   "cell_type": "code",
   "execution_count": 130,
   "id": "1092aa44-ba27-4dca-9ec5-4372c57df32b",
   "metadata": {
    "scrolled": true
   },
   "outputs": [
    {
     "name": "stdout",
     "output_type": "stream",
     "text": [
      "<class 'pandas.core.frame.DataFrame'>\n",
      "Int64Index: 68275 entries, 4724140 to 98550693\n",
      "Data columns (total 5 columns):\n",
      " #   Column         Non-Null Count  Dtype         \n",
      "---  ------         --------------  -----         \n",
      " 0   listing_id     68275 non-null  int64         \n",
      " 1   date           68275 non-null  datetime64[ns]\n",
      " 2   reviewer_id    68275 non-null  int64         \n",
      " 3   reviewer_name  68275 non-null  object        \n",
      " 4   comments       68222 non-null  object        \n",
      "dtypes: datetime64[ns](1), int64(2), object(2)\n",
      "memory usage: 3.1+ MB\n"
     ]
    }
   ],
   "source": [
    "# test\n",
    "reviews_df.info()"
   ]
  },
  {
   "cell_type": "code",
   "execution_count": 131,
   "id": "c970b91c-7ea2-4c1c-a211-9ffadaf3c7d2",
   "metadata": {},
   "outputs": [
    {
     "name": "stdout",
     "output_type": "stream",
     "text": [
      "<class 'pandas.core.frame.DataFrame'>\n",
      "RangeIndex: 3585 entries, 0 to 3584\n",
      "Data columns (total 95 columns):\n",
      " #   Column                            Non-Null Count  Dtype  \n",
      "---  ------                            --------------  -----  \n",
      " 0   id                                3585 non-null   int64  \n",
      " 1   listing_url                       3585 non-null   object \n",
      " 2   scrape_id                         3585 non-null   int64  \n",
      " 3   last_scraped                      3585 non-null   object \n",
      " 4   name                              3585 non-null   object \n",
      " 5   summary                           3442 non-null   object \n",
      " 6   space                             2528 non-null   object \n",
      " 7   description                       3585 non-null   object \n",
      " 8   experiences_offered               3585 non-null   object \n",
      " 9   neighborhood_overview             2170 non-null   object \n",
      " 10  notes                             1610 non-null   object \n",
      " 11  transit                           2295 non-null   object \n",
      " 12  access                            2096 non-null   object \n",
      " 13  interaction                       2031 non-null   object \n",
      " 14  house_rules                       2393 non-null   object \n",
      " 15  thumbnail_url                     2986 non-null   object \n",
      " 16  medium_url                        2986 non-null   object \n",
      " 17  picture_url                       3585 non-null   object \n",
      " 18  xl_picture_url                    2986 non-null   object \n",
      " 19  host_id                           3585 non-null   int64  \n",
      " 20  host_url                          3585 non-null   object \n",
      " 21  host_name                         3585 non-null   object \n",
      " 22  host_since                        3585 non-null   object \n",
      " 23  host_location                     3574 non-null   object \n",
      " 24  host_about                        2276 non-null   object \n",
      " 25  host_response_time                3114 non-null   object \n",
      " 26  host_response_rate                3114 non-null   object \n",
      " 27  host_acceptance_rate              3114 non-null   object \n",
      " 28  host_is_superhost                 3585 non-null   object \n",
      " 29  host_thumbnail_url                3585 non-null   object \n",
      " 30  host_picture_url                  3585 non-null   object \n",
      " 31  host_neighbourhood                3246 non-null   object \n",
      " 32  host_listings_count               3585 non-null   int64  \n",
      " 33  host_total_listings_count         3585 non-null   int64  \n",
      " 34  host_verifications                3585 non-null   object \n",
      " 35  host_has_profile_pic              3585 non-null   object \n",
      " 36  host_identity_verified            3585 non-null   object \n",
      " 37  street                            3585 non-null   object \n",
      " 38  neighbourhood                     3042 non-null   object \n",
      " 39  neighbourhood_cleansed            3585 non-null   object \n",
      " 40  neighbourhood_group_cleansed      0 non-null      float64\n",
      " 41  city                              3583 non-null   object \n",
      " 42  state                             3585 non-null   object \n",
      " 43  zipcode                           3547 non-null   object \n",
      " 44  market                            3571 non-null   object \n",
      " 45  smart_location                    3585 non-null   object \n",
      " 46  country_code                      3585 non-null   object \n",
      " 47  country                           3585 non-null   object \n",
      " 48  latitude                          3585 non-null   float64\n",
      " 49  longitude                         3585 non-null   float64\n",
      " 50  is_location_exact                 3585 non-null   object \n",
      " 51  property_type                     3582 non-null   object \n",
      " 52  room_type                         3585 non-null   object \n",
      " 53  accommodates                      3585 non-null   int64  \n",
      " 54  bathrooms                         3571 non-null   float64\n",
      " 55  bedrooms                          3575 non-null   float64\n",
      " 56  beds                              3576 non-null   float64\n",
      " 57  bed_type                          3585 non-null   object \n",
      " 58  amenities                         3585 non-null   object \n",
      " 59  square_feet                       56 non-null     float64\n",
      " 60  price                             3585 non-null   object \n",
      " 61  weekly_price                      892 non-null    object \n",
      " 62  monthly_price                     888 non-null    object \n",
      " 63  security_deposit                  1342 non-null   object \n",
      " 64  cleaning_fee                      2478 non-null   object \n",
      " 65  guests_included                   3585 non-null   int64  \n",
      " 66  extra_people                      3585 non-null   object \n",
      " 67  minimum_nights                    3585 non-null   int64  \n",
      " 68  maximum_nights                    3585 non-null   int64  \n",
      " 69  calendar_updated                  3585 non-null   object \n",
      " 70  has_availability                  0 non-null      float64\n",
      " 71  availability_30                   3585 non-null   int64  \n",
      " 72  availability_60                   3585 non-null   int64  \n",
      " 73  availability_90                   3585 non-null   int64  \n",
      " 74  availability_365                  3585 non-null   int64  \n",
      " 75  calendar_last_scraped             3585 non-null   object \n",
      " 76  number_of_reviews                 3585 non-null   int64  \n",
      " 77  first_review                      2829 non-null   object \n",
      " 78  last_review                       2829 non-null   object \n",
      " 79  review_scores_rating              2772 non-null   float64\n",
      " 80  review_scores_accuracy            2762 non-null   float64\n",
      " 81  review_scores_cleanliness         2767 non-null   float64\n",
      " 82  review_scores_checkin             2765 non-null   float64\n",
      " 83  review_scores_communication       2767 non-null   float64\n",
      " 84  review_scores_location            2763 non-null   float64\n",
      " 85  review_scores_value               2764 non-null   float64\n",
      " 86  requires_license                  3585 non-null   object \n",
      " 87  license                           0 non-null      float64\n",
      " 88  jurisdiction_names                0 non-null      float64\n",
      " 89  instant_bookable                  3585 non-null   object \n",
      " 90  cancellation_policy               3585 non-null   object \n",
      " 91  require_guest_profile_picture     3585 non-null   object \n",
      " 92  require_guest_phone_verification  3585 non-null   object \n",
      " 93  calculated_host_listings_count    3585 non-null   int64  \n",
      " 94  reviews_per_month                 2829 non-null   float64\n",
      "dtypes: float64(18), int64(15), object(62)\n",
      "memory usage: 2.6+ MB\n"
     ]
    }
   ],
   "source": [
    "listings_df.info()"
   ]
  },
  {
   "cell_type": "code",
   "execution_count": 132,
   "id": "cc1a8d66-3af8-4df5-b454-59507132e6e0",
   "metadata": {},
   "outputs": [],
   "source": [
    "listings_df.set_index('id', inplace=True)"
   ]
  },
  {
   "cell_type": "code",
   "execution_count": 133,
   "id": "193a40ce-7a3f-4e06-bffe-ff69fb63ae9b",
   "metadata": {},
   "outputs": [
    {
     "data": {
      "text/html": [
       "<div>\n",
       "<style scoped>\n",
       "    .dataframe tbody tr th:only-of-type {\n",
       "        vertical-align: middle;\n",
       "    }\n",
       "\n",
       "    .dataframe tbody tr th {\n",
       "        vertical-align: top;\n",
       "    }\n",
       "\n",
       "    .dataframe thead th {\n",
       "        text-align: right;\n",
       "    }\n",
       "</style>\n",
       "<table border=\"1\" class=\"dataframe\">\n",
       "  <thead>\n",
       "    <tr style=\"text-align: right;\">\n",
       "      <th></th>\n",
       "      <th>listing_url</th>\n",
       "      <th>scrape_id</th>\n",
       "      <th>last_scraped</th>\n",
       "      <th>name</th>\n",
       "      <th>summary</th>\n",
       "      <th>space</th>\n",
       "      <th>description</th>\n",
       "      <th>experiences_offered</th>\n",
       "      <th>neighborhood_overview</th>\n",
       "      <th>notes</th>\n",
       "      <th>...</th>\n",
       "      <th>review_scores_value</th>\n",
       "      <th>requires_license</th>\n",
       "      <th>license</th>\n",
       "      <th>jurisdiction_names</th>\n",
       "      <th>instant_bookable</th>\n",
       "      <th>cancellation_policy</th>\n",
       "      <th>require_guest_profile_picture</th>\n",
       "      <th>require_guest_phone_verification</th>\n",
       "      <th>calculated_host_listings_count</th>\n",
       "      <th>reviews_per_month</th>\n",
       "    </tr>\n",
       "    <tr>\n",
       "      <th>id</th>\n",
       "      <th></th>\n",
       "      <th></th>\n",
       "      <th></th>\n",
       "      <th></th>\n",
       "      <th></th>\n",
       "      <th></th>\n",
       "      <th></th>\n",
       "      <th></th>\n",
       "      <th></th>\n",
       "      <th></th>\n",
       "      <th></th>\n",
       "      <th></th>\n",
       "      <th></th>\n",
       "      <th></th>\n",
       "      <th></th>\n",
       "      <th></th>\n",
       "      <th></th>\n",
       "      <th></th>\n",
       "      <th></th>\n",
       "      <th></th>\n",
       "      <th></th>\n",
       "    </tr>\n",
       "  </thead>\n",
       "  <tbody>\n",
       "    <tr>\n",
       "      <th>12147973</th>\n",
       "      <td>https://www.airbnb.com/rooms/12147973</td>\n",
       "      <td>20160906204935</td>\n",
       "      <td>2016-09-07</td>\n",
       "      <td>Sunny Bungalow in the City</td>\n",
       "      <td>Cozy, sunny, family home.  Master bedroom high...</td>\n",
       "      <td>The house has an open and cozy feel at the sam...</td>\n",
       "      <td>Cozy, sunny, family home.  Master bedroom high...</td>\n",
       "      <td>none</td>\n",
       "      <td>Roslindale is quiet, convenient and friendly. ...</td>\n",
       "      <td>NaN</td>\n",
       "      <td>...</td>\n",
       "      <td>NaN</td>\n",
       "      <td>f</td>\n",
       "      <td>NaN</td>\n",
       "      <td>NaN</td>\n",
       "      <td>f</td>\n",
       "      <td>moderate</td>\n",
       "      <td>f</td>\n",
       "      <td>f</td>\n",
       "      <td>1</td>\n",
       "      <td>NaN</td>\n",
       "    </tr>\n",
       "    <tr>\n",
       "      <th>3075044</th>\n",
       "      <td>https://www.airbnb.com/rooms/3075044</td>\n",
       "      <td>20160906204935</td>\n",
       "      <td>2016-09-07</td>\n",
       "      <td>Charming room in pet friendly apt</td>\n",
       "      <td>Charming and quiet room in a second floor 1910...</td>\n",
       "      <td>Small but cozy and quite room with a full size...</td>\n",
       "      <td>Charming and quiet room in a second floor 1910...</td>\n",
       "      <td>none</td>\n",
       "      <td>The room is in Roslindale, a diverse and prima...</td>\n",
       "      <td>If you don't have a US cell phone, you can tex...</td>\n",
       "      <td>...</td>\n",
       "      <td>9.0</td>\n",
       "      <td>f</td>\n",
       "      <td>NaN</td>\n",
       "      <td>NaN</td>\n",
       "      <td>t</td>\n",
       "      <td>moderate</td>\n",
       "      <td>f</td>\n",
       "      <td>f</td>\n",
       "      <td>1</td>\n",
       "      <td>1.30</td>\n",
       "    </tr>\n",
       "    <tr>\n",
       "      <th>6976</th>\n",
       "      <td>https://www.airbnb.com/rooms/6976</td>\n",
       "      <td>20160906204935</td>\n",
       "      <td>2016-09-07</td>\n",
       "      <td>Mexican Folk Art Haven in Boston</td>\n",
       "      <td>Come stay with a friendly, middle-aged guy in ...</td>\n",
       "      <td>Come stay with a friendly, middle-aged guy in ...</td>\n",
       "      <td>Come stay with a friendly, middle-aged guy in ...</td>\n",
       "      <td>none</td>\n",
       "      <td>The LOCATION: Roslindale is a safe and diverse...</td>\n",
       "      <td>I am in a scenic part of Boston with a couple ...</td>\n",
       "      <td>...</td>\n",
       "      <td>10.0</td>\n",
       "      <td>f</td>\n",
       "      <td>NaN</td>\n",
       "      <td>NaN</td>\n",
       "      <td>f</td>\n",
       "      <td>moderate</td>\n",
       "      <td>t</td>\n",
       "      <td>f</td>\n",
       "      <td>1</td>\n",
       "      <td>0.47</td>\n",
       "    </tr>\n",
       "    <tr>\n",
       "      <th>1436513</th>\n",
       "      <td>https://www.airbnb.com/rooms/1436513</td>\n",
       "      <td>20160906204935</td>\n",
       "      <td>2016-09-07</td>\n",
       "      <td>Spacious Sunny Bedroom Suite in Historic Home</td>\n",
       "      <td>Come experience the comforts of home away from...</td>\n",
       "      <td>Most places you find in Boston are small howev...</td>\n",
       "      <td>Come experience the comforts of home away from...</td>\n",
       "      <td>none</td>\n",
       "      <td>Roslindale is a lovely little neighborhood loc...</td>\n",
       "      <td>Please be mindful of the property as it is old...</td>\n",
       "      <td>...</td>\n",
       "      <td>10.0</td>\n",
       "      <td>f</td>\n",
       "      <td>NaN</td>\n",
       "      <td>NaN</td>\n",
       "      <td>f</td>\n",
       "      <td>moderate</td>\n",
       "      <td>f</td>\n",
       "      <td>f</td>\n",
       "      <td>1</td>\n",
       "      <td>1.00</td>\n",
       "    </tr>\n",
       "    <tr>\n",
       "      <th>7651065</th>\n",
       "      <td>https://www.airbnb.com/rooms/7651065</td>\n",
       "      <td>20160906204935</td>\n",
       "      <td>2016-09-07</td>\n",
       "      <td>Come Home to Boston</td>\n",
       "      <td>My comfy, clean and relaxing home is one block...</td>\n",
       "      <td>Clean, attractive, private room, one block fro...</td>\n",
       "      <td>My comfy, clean and relaxing home is one block...</td>\n",
       "      <td>none</td>\n",
       "      <td>I love the proximity to downtown, the neighbor...</td>\n",
       "      <td>I have one roommate who lives on the lower lev...</td>\n",
       "      <td>...</td>\n",
       "      <td>10.0</td>\n",
       "      <td>f</td>\n",
       "      <td>NaN</td>\n",
       "      <td>NaN</td>\n",
       "      <td>f</td>\n",
       "      <td>flexible</td>\n",
       "      <td>f</td>\n",
       "      <td>f</td>\n",
       "      <td>1</td>\n",
       "      <td>2.25</td>\n",
       "    </tr>\n",
       "  </tbody>\n",
       "</table>\n",
       "<p>5 rows × 94 columns</p>\n",
       "</div>"
      ],
      "text/plain": [
       "                                    listing_url       scrape_id last_scraped  \\\n",
       "id                                                                             \n",
       "12147973  https://www.airbnb.com/rooms/12147973  20160906204935   2016-09-07   \n",
       "3075044    https://www.airbnb.com/rooms/3075044  20160906204935   2016-09-07   \n",
       "6976          https://www.airbnb.com/rooms/6976  20160906204935   2016-09-07   \n",
       "1436513    https://www.airbnb.com/rooms/1436513  20160906204935   2016-09-07   \n",
       "7651065    https://www.airbnb.com/rooms/7651065  20160906204935   2016-09-07   \n",
       "\n",
       "                                                   name  \\\n",
       "id                                                        \n",
       "12147973                     Sunny Bungalow in the City   \n",
       "3075044               Charming room in pet friendly apt   \n",
       "6976                   Mexican Folk Art Haven in Boston   \n",
       "1436513   Spacious Sunny Bedroom Suite in Historic Home   \n",
       "7651065                             Come Home to Boston   \n",
       "\n",
       "                                                    summary  \\\n",
       "id                                                            \n",
       "12147973  Cozy, sunny, family home.  Master bedroom high...   \n",
       "3075044   Charming and quiet room in a second floor 1910...   \n",
       "6976      Come stay with a friendly, middle-aged guy in ...   \n",
       "1436513   Come experience the comforts of home away from...   \n",
       "7651065   My comfy, clean and relaxing home is one block...   \n",
       "\n",
       "                                                      space  \\\n",
       "id                                                            \n",
       "12147973  The house has an open and cozy feel at the sam...   \n",
       "3075044   Small but cozy and quite room with a full size...   \n",
       "6976      Come stay with a friendly, middle-aged guy in ...   \n",
       "1436513   Most places you find in Boston are small howev...   \n",
       "7651065   Clean, attractive, private room, one block fro...   \n",
       "\n",
       "                                                description  \\\n",
       "id                                                            \n",
       "12147973  Cozy, sunny, family home.  Master bedroom high...   \n",
       "3075044   Charming and quiet room in a second floor 1910...   \n",
       "6976      Come stay with a friendly, middle-aged guy in ...   \n",
       "1436513   Come experience the comforts of home away from...   \n",
       "7651065   My comfy, clean and relaxing home is one block...   \n",
       "\n",
       "         experiences_offered  \\\n",
       "id                             \n",
       "12147973                none   \n",
       "3075044                 none   \n",
       "6976                    none   \n",
       "1436513                 none   \n",
       "7651065                 none   \n",
       "\n",
       "                                      neighborhood_overview  \\\n",
       "id                                                            \n",
       "12147973  Roslindale is quiet, convenient and friendly. ...   \n",
       "3075044   The room is in Roslindale, a diverse and prima...   \n",
       "6976      The LOCATION: Roslindale is a safe and diverse...   \n",
       "1436513   Roslindale is a lovely little neighborhood loc...   \n",
       "7651065   I love the proximity to downtown, the neighbor...   \n",
       "\n",
       "                                                      notes  ...  \\\n",
       "id                                                           ...   \n",
       "12147973                                                NaN  ...   \n",
       "3075044   If you don't have a US cell phone, you can tex...  ...   \n",
       "6976      I am in a scenic part of Boston with a couple ...  ...   \n",
       "1436513   Please be mindful of the property as it is old...  ...   \n",
       "7651065   I have one roommate who lives on the lower lev...  ...   \n",
       "\n",
       "         review_scores_value requires_license license jurisdiction_names  \\\n",
       "id                                                                         \n",
       "12147973                 NaN                f     NaN                NaN   \n",
       "3075044                  9.0                f     NaN                NaN   \n",
       "6976                    10.0                f     NaN                NaN   \n",
       "1436513                 10.0                f     NaN                NaN   \n",
       "7651065                 10.0                f     NaN                NaN   \n",
       "\n",
       "         instant_bookable cancellation_policy require_guest_profile_picture  \\\n",
       "id                                                                            \n",
       "12147973                f            moderate                             f   \n",
       "3075044                 t            moderate                             f   \n",
       "6976                    f            moderate                             t   \n",
       "1436513                 f            moderate                             f   \n",
       "7651065                 f            flexible                             f   \n",
       "\n",
       "         require_guest_phone_verification  calculated_host_listings_count  \\\n",
       "id                                                                          \n",
       "12147973                                f                               1   \n",
       "3075044                                 f                               1   \n",
       "6976                                    f                               1   \n",
       "1436513                                 f                               1   \n",
       "7651065                                 f                               1   \n",
       "\n",
       "         reviews_per_month  \n",
       "id                          \n",
       "12147973               NaN  \n",
       "3075044               1.30  \n",
       "6976                  0.47  \n",
       "1436513               1.00  \n",
       "7651065               2.25  \n",
       "\n",
       "[5 rows x 94 columns]"
      ]
     },
     "execution_count": 133,
     "metadata": {},
     "output_type": "execute_result"
    }
   ],
   "source": [
    "listings_df.head()"
   ]
  },
  {
   "cell_type": "code",
   "execution_count": 134,
   "id": "a6f6e29a-806a-4796-9b06-4443c22c2771",
   "metadata": {},
   "outputs": [],
   "source": [
    "# convert string dates to datetime objects\n",
    "listings_df.last_scraped = pd.to_datetime(listings_df.last_scraped)"
   ]
  },
  {
   "cell_type": "code",
   "execution_count": 135,
   "id": "c90f21cb-b45c-497e-9d36-8cf3f794086a",
   "metadata": {},
   "outputs": [],
   "source": [
    "# convert price column to float type after stripping dollar, comma character\n",
    "listings_df.price = listings_df.price.str.lstrip('$').str.replace(',', '').astype('float')"
   ]
  },
  {
   "cell_type": "code",
   "execution_count": 136,
   "id": "198a6b92-74e8-4fc6-a244-621c03145d14",
   "metadata": {},
   "outputs": [],
   "source": [
    "# drop columns with no recordings\n",
    "\n",
    "listings_df.drop(['neighbourhood_group_cleansed', 'jurisdiction_names', 'license', 'has_availability'],\n",
    "                 axis=1, inplace=True)"
   ]
  },
  {
   "cell_type": "code",
   "execution_count": 137,
   "id": "24c2fcc4-a53f-42cd-a5a6-6fa8920dc9ce",
   "metadata": {},
   "outputs": [],
   "source": [
    "# drop rows with price <= 0, bathrooms < 1, bedrooms <=0, accommodates <= 0\n",
    "\n",
    "listings_df = listings_df[listings_df.price > 0]\n",
    "listings_df = listings_df[listings_df.bathrooms >= 1]\n",
    "listings_df = listings_df[listings_df.bedrooms > 0]\n",
    "listings_df = listings_df[listings_df.accommodates > 0]"
   ]
  },
  {
   "cell_type": "code",
   "execution_count": 138,
   "id": "7c1fdef5-15c5-42dc-896d-b40e06be4026",
   "metadata": {},
   "outputs": [],
   "source": [
    "# replace float values to lower value in bathroom column\n",
    "\n",
    "listings_df['bathrooms'] = listings_df.bathrooms.replace(1.5, 1)\n",
    "listings_df['bathrooms'] = listings_df.bathrooms.replace(2.5, 2)\n",
    "listings_df['bathrooms'] = listings_df.bathrooms.replace(3.5, 3)\n",
    "listings_df['bathrooms'] = listings_df.bathrooms.replace(4.5, 4)"
   ]
  },
  {
   "cell_type": "code",
   "execution_count": 139,
   "id": "cfa6318a-1f03-484c-a604-953dbe0c810b",
   "metadata": {},
   "outputs": [],
   "source": [
    "# convert bedrooms, bathrooms, accommodates count to int from float\n",
    "listings_df.bedrooms = listings_df.bedrooms.astype('int')\n",
    "listings_df.bathrooms = listings_df.bathrooms.astype('int')\n",
    "listings_df.accommodates = listings_df.accommodates.astype('int')"
   ]
  },
  {
   "cell_type": "code",
   "execution_count": 140,
   "id": "2c86078f-7bc7-4f2d-887d-b7a4bb6809f9",
   "metadata": {},
   "outputs": [
    {
     "data": {
      "text/plain": [
       "array(['Boston', 'Roslindale', 'Roslindale, Boston', 'Jamaica Plain',\n",
       "       'Brookline', 'Jamaica Plain, Boston', 'Jamaica Plain (Boston)',\n",
       "       'Roxbury Crossing', 'Jamaica Plain ', 'Jamaica Plain, MA',\n",
       "       'Boston (Jamaica Plain)', 'Jamaica plain ', 'ROXBURY CROSSING',\n",
       "       'Mission Hill, Boston', 'boston', '波士顿',\n",
       "       'Boston, Massachusetts, US', 'South End, Boston', 'Cambridge',\n",
       "       'East Boston', 'east Boston ', 'Charlestown',\n",
       "       'Boston (Charlestown)', 'Somerville', 'Brighton', 'Brighton ',\n",
       "       'Boston ', nan, 'West Roxbury', 'Newton', 'Hyde Park', 'Mattapan',\n",
       "       'Milton', 'Dorchester', 'dorchester, boston ', 'South Boston',\n",
       "       'Allston', 'ALLSTON'], dtype=object)"
      ]
     },
     "execution_count": 140,
     "metadata": {},
     "output_type": "execute_result"
    }
   ],
   "source": [
    "# clean city column\n",
    "\n",
    "listings_df.city.unique()"
   ]
  },
  {
   "cell_type": "code",
   "execution_count": 141,
   "id": "0080ff09-b852-451f-88c3-07f290d026da",
   "metadata": {},
   "outputs": [
    {
     "data": {
      "text/html": [
       "<div>\n",
       "<style scoped>\n",
       "    .dataframe tbody tr th:only-of-type {\n",
       "        vertical-align: middle;\n",
       "    }\n",
       "\n",
       "    .dataframe tbody tr th {\n",
       "        vertical-align: top;\n",
       "    }\n",
       "\n",
       "    .dataframe thead th {\n",
       "        text-align: right;\n",
       "    }\n",
       "</style>\n",
       "<table border=\"1\" class=\"dataframe\">\n",
       "  <thead>\n",
       "    <tr style=\"text-align: right;\">\n",
       "      <th></th>\n",
       "      <th>listing_url</th>\n",
       "      <th>scrape_id</th>\n",
       "      <th>last_scraped</th>\n",
       "      <th>name</th>\n",
       "      <th>summary</th>\n",
       "      <th>space</th>\n",
       "      <th>description</th>\n",
       "      <th>experiences_offered</th>\n",
       "      <th>neighborhood_overview</th>\n",
       "      <th>notes</th>\n",
       "      <th>...</th>\n",
       "      <th>review_scores_communication</th>\n",
       "      <th>review_scores_location</th>\n",
       "      <th>review_scores_value</th>\n",
       "      <th>requires_license</th>\n",
       "      <th>instant_bookable</th>\n",
       "      <th>cancellation_policy</th>\n",
       "      <th>require_guest_profile_picture</th>\n",
       "      <th>require_guest_phone_verification</th>\n",
       "      <th>calculated_host_listings_count</th>\n",
       "      <th>reviews_per_month</th>\n",
       "    </tr>\n",
       "    <tr>\n",
       "      <th>id</th>\n",
       "      <th></th>\n",
       "      <th></th>\n",
       "      <th></th>\n",
       "      <th></th>\n",
       "      <th></th>\n",
       "      <th></th>\n",
       "      <th></th>\n",
       "      <th></th>\n",
       "      <th></th>\n",
       "      <th></th>\n",
       "      <th></th>\n",
       "      <th></th>\n",
       "      <th></th>\n",
       "      <th></th>\n",
       "      <th></th>\n",
       "      <th></th>\n",
       "      <th></th>\n",
       "      <th></th>\n",
       "      <th></th>\n",
       "      <th></th>\n",
       "      <th></th>\n",
       "    </tr>\n",
       "  </thead>\n",
       "  <tbody>\n",
       "    <tr>\n",
       "      <th>4625517</th>\n",
       "      <td>https://www.airbnb.com/rooms/4625517</td>\n",
       "      <td>20160906204935</td>\n",
       "      <td>2016-09-07</td>\n",
       "      <td>GreenT&amp;bus stops in front of door</td>\n",
       "      <td>Super convenient :30 seconds walk to Green T a...</td>\n",
       "      <td>Awesome area of Brookline&amp;Boston, one block fr...</td>\n",
       "      <td>Super convenient :30 seconds walk to Green T a...</td>\n",
       "      <td>none</td>\n",
       "      <td>Connivence to almost everywhere-  penguins piz...</td>\n",
       "      <td>If you are a student, I may give you 5% off.If...</td>\n",
       "      <td>...</td>\n",
       "      <td>NaN</td>\n",
       "      <td>NaN</td>\n",
       "      <td>NaN</td>\n",
       "      <td>f</td>\n",
       "      <td>f</td>\n",
       "      <td>strict</td>\n",
       "      <td>f</td>\n",
       "      <td>f</td>\n",
       "      <td>1</td>\n",
       "      <td>NaN</td>\n",
       "    </tr>\n",
       "  </tbody>\n",
       "</table>\n",
       "<p>1 rows × 90 columns</p>\n",
       "</div>"
      ],
      "text/plain": [
       "                                  listing_url       scrape_id last_scraped  \\\n",
       "id                                                                           \n",
       "4625517  https://www.airbnb.com/rooms/4625517  20160906204935   2016-09-07   \n",
       "\n",
       "                                       name  \\\n",
       "id                                            \n",
       "4625517  GreenT&bus stops in front of door    \n",
       "\n",
       "                                                   summary  \\\n",
       "id                                                           \n",
       "4625517  Super convenient :30 seconds walk to Green T a...   \n",
       "\n",
       "                                                     space  \\\n",
       "id                                                           \n",
       "4625517  Awesome area of Brookline&Boston, one block fr...   \n",
       "\n",
       "                                               description  \\\n",
       "id                                                           \n",
       "4625517  Super convenient :30 seconds walk to Green T a...   \n",
       "\n",
       "        experiences_offered  \\\n",
       "id                            \n",
       "4625517                none   \n",
       "\n",
       "                                     neighborhood_overview  \\\n",
       "id                                                           \n",
       "4625517  Connivence to almost everywhere-  penguins piz...   \n",
       "\n",
       "                                                     notes  ...  \\\n",
       "id                                                          ...   \n",
       "4625517  If you are a student, I may give you 5% off.If...  ...   \n",
       "\n",
       "        review_scores_communication review_scores_location  \\\n",
       "id                                                           \n",
       "4625517                         NaN                    NaN   \n",
       "\n",
       "        review_scores_value requires_license instant_bookable  \\\n",
       "id                                                              \n",
       "4625517                 NaN                f                f   \n",
       "\n",
       "        cancellation_policy require_guest_profile_picture  \\\n",
       "id                                                          \n",
       "4625517              strict                             f   \n",
       "\n",
       "        require_guest_phone_verification  calculated_host_listings_count  \\\n",
       "id                                                                         \n",
       "4625517                                f                               1   \n",
       "\n",
       "        reviews_per_month  \n",
       "id                         \n",
       "4625517               NaN  \n",
       "\n",
       "[1 rows x 90 columns]"
      ]
     },
     "execution_count": 141,
     "metadata": {},
     "output_type": "execute_result"
    }
   ],
   "source": [
    "listings_df[listings_df.city=='波士顿']"
   ]
  },
  {
   "cell_type": "code",
   "execution_count": 142,
   "id": "4a67f072-7cca-4445-8968-7d0663fcb270",
   "metadata": {},
   "outputs": [
    {
     "data": {
      "text/plain": [
       "(3254, 90)"
      ]
     },
     "execution_count": 142,
     "metadata": {},
     "output_type": "execute_result"
    }
   ],
   "source": [
    "# drop row with unusual city name since there is only with observation associated with it\n",
    "\n",
    "listings_df.drop(index=4625517, inplace=True)\n",
    "listings_df.shape"
   ]
  },
  {
   "cell_type": "code",
   "execution_count": 143,
   "id": "1d279ef0-7a86-4600-90d1-305b44a53092",
   "metadata": {},
   "outputs": [],
   "source": [
    "listings_df['city_cleansed'] = listings_df.city.copy()"
   ]
  },
  {
   "cell_type": "code",
   "execution_count": 144,
   "id": "509163cf-81c7-4e35-a9cd-1ffa9b07eff3",
   "metadata": {},
   "outputs": [],
   "source": [
    "# replace all duplicate entries\n",
    "\n",
    "listings_df['city_cleansed'] = listings_df.city_cleansed.replace('ALLSTON', 'Allston')\n",
    "listings_df['city_cleansed'] = listings_df.city_cleansed.replace('Roslindale, Boston', 'Roslindale')\n",
    "listings_df['city_cleansed'] = listings_df.city_cleansed.replace('dorchester, boston ', 'Dorchester')\n",
    "listings_df['city_cleansed'] = listings_df.city_cleansed.replace(['Boston ', 'boston'], 'Boston')\n",
    "listings_df['city_cleansed'] = listings_df.city_cleansed.replace('east Boston ', 'East Boston')\n",
    "listings_df['city_cleansed'] = listings_df.city_cleansed.replace('Boston (Charlestown)', 'Charlestown')\n",
    "listings_df['city_cleansed'] = listings_df.city_cleansed.replace('ROXBURY CROSSING', 'Roxbury Crossing')\n",
    "listings_df['city_cleansed'] = listings_df.city_cleansed.replace('Brighton ', 'Brighton')\n",
    "listings_df['city_cleansed'] = listings_df.city_cleansed.replace(\n",
    "    ['Jamaica Plain, Boston', 'Jamaica Plain (Boston)',\n",
    "     'Jamaica Plain ', 'Jamaica plain ', 'Boston (Jamaica Plain)',], 'Jamaica Plain')"
   ]
  },
  {
   "cell_type": "code",
   "execution_count": 145,
   "id": "48236f53-acb1-48ef-a6d1-053a90e4c570",
   "metadata": {},
   "outputs": [
    {
     "data": {
      "text/plain": [
       "array(['Boston', 'Roslindale', 'Jamaica Plain', 'Brookline',\n",
       "       'Roxbury Crossing', 'Jamaica Plain, MA', 'Mission Hill, Boston',\n",
       "       'Boston, Massachusetts, US', 'South End, Boston', 'Cambridge',\n",
       "       'East Boston', 'Charlestown', 'Somerville', 'Brighton', nan,\n",
       "       'West Roxbury', 'Newton', 'Hyde Park', 'Mattapan', 'Milton',\n",
       "       'Dorchester', 'South Boston', 'Allston'], dtype=object)"
      ]
     },
     "execution_count": 145,
     "metadata": {},
     "output_type": "execute_result"
    }
   ],
   "source": [
    "listings_df.city_cleansed.unique()"
   ]
  },
  {
   "cell_type": "code",
   "execution_count": 146,
   "id": "ad2098d5-f27a-45b3-ac18-f426ee0ebbfc",
   "metadata": {},
   "outputs": [],
   "source": [
    "listings_df.fillna(0, inplace=True)"
   ]
  },
  {
   "cell_type": "code",
   "execution_count": 147,
   "id": "66b05c2e-988b-4e9b-a746-b7d6e9dda00a",
   "metadata": {},
   "outputs": [
    {
     "data": {
      "text/plain": [
       "(3254, 91)"
      ]
     },
     "execution_count": 147,
     "metadata": {},
     "output_type": "execute_result"
    }
   ],
   "source": [
    "# test\n",
    "listings_df.shape"
   ]
  },
  {
   "cell_type": "markdown",
   "id": "ffd80d2d-97b4-41b5-9573-7bf541ea2064",
   "metadata": {},
   "source": [
    "# Classification\n",
    "## Review_Rating & Review_Accuracy -Room_type\n"
   ]
  },
  {
   "cell_type": "code",
   "execution_count": 148,
   "id": "851d6d76-08a6-4408-9dba-04bb2ebdcf0b",
   "metadata": {},
   "outputs": [],
   "source": [
    "import numpy as np\n",
    "import matplotlib.pyplot as plt\n",
    "import seaborn as sns\n",
    "from matplotlib.colors import ListedColormap\n",
    "from sklearn import neighbors, datasets\n",
    "from sklearn.model_selection import train_test_split\n",
    "from sklearn import metrics"
   ]
  },
  {
   "cell_type": "code",
   "execution_count": 149,
   "id": "a4553af5-246a-4e62-b66d-494ff1a98c95",
   "metadata": {},
   "outputs": [
    {
     "name": "stderr",
     "output_type": "stream",
     "text": [
      "Script file 'D:\\Anaconda\\Scripts\\pip-script.py' is not present.\n"
     ]
    }
   ],
   "source": [
    "!pip install scikit-learn"
   ]
  },
  {
   "cell_type": "code",
   "execution_count": 150,
   "id": "249ae5fa-91ff-4f11-984d-9ee235a28953",
   "metadata": {},
   "outputs": [],
   "source": [
    "x1 = listings_df['review_scores_accuracy']\n",
    "x2 = listings_df['review_scores_rating']\n",
    "X = listings_df[['review_scores_accuracy','review_scores_rating']]\n",
    "y = listings_df['room_type']\n",
    "X_train, X_test, y_train, y_test = train_test_split(X, y, test_size=0.3) # 70% training and 30% test"
   ]
  },
  {
   "cell_type": "code",
   "execution_count": 151,
   "id": "8df6c9fb-16bf-450f-af15-ca6a6c5cac6d",
   "metadata": {},
   "outputs": [
    {
     "data": {
      "text/plain": [
       "(977, 2)"
      ]
     },
     "execution_count": 151,
     "metadata": {},
     "output_type": "execute_result"
    }
   ],
   "source": [
    "X_test.shape"
   ]
  },
  {
   "cell_type": "code",
   "execution_count": 152,
   "id": "d052c24e-a314-4bf1-ad1b-97169111f8ea",
   "metadata": {},
   "outputs": [
    {
     "data": {
      "text/plain": [
       "Text(0, 0.5, 'rating')"
      ]
     },
     "execution_count": 152,
     "metadata": {},
     "output_type": "execute_result"
    },
    {
     "data": {
      "image/png": "[encoded data removed]",
      "text/plain": [
       "<Figure size 432x288 with 1 Axes>"
      ]
     },
     "metadata": {
      "needs_background": "light"
     },
     "output_type": "display_data"
    }
   ],
   "source": [
    "# Create color maps for Visualization\n",
    "cmap_light = ListedColormap(['orange', 'cyan', 'cornflowerblue'])\n",
    "cmap_bold = ['darkorange', 'c', 'darkblue']\n",
    " \n",
    "# Plot the training points\n",
    "sns.scatterplot(x=x1, y=x2, hue=y,\n",
    "                palette=cmap_bold, alpha=1.0, edgecolor=\"black\")\n",
    "\n",
    "\n",
    "plt.xlabel('accuracy')\n",
    "plt.ylabel('rating')"
   ]
  },
  {
   "cell_type": "markdown",
   "id": "56a86248-b255-41d4-9837-046c81afd6f8",
   "metadata": {},
   "source": [
    "## The room_type is in object datatype, we need to convert it to integer"
   ]
  },
  {
   "cell_type": "code",
   "execution_count": 153,
   "id": "9196f432-0612-4451-8326-d45b0e58d570",
   "metadata": {},
   "outputs": [
    {
     "name": "stdout",
     "output_type": "stream",
     "text": [
      "id\n",
      "12147973    Entire home/apt\n",
      "3075044        Private room\n",
      "6976           Private room\n",
      "1436513        Private room\n",
      "7651065        Private room\n",
      "                 ...       \n",
      "8373729        Private room\n",
      "14844274       Private room\n",
      "14585486    Entire home/apt\n",
      "14603878       Private room\n",
      "14504422       Private room\n",
      "Name: room_type, Length: 3254, dtype: object\n"
     ]
    }
   ],
   "source": [
    "print(y)"
   ]
  },
  {
   "cell_type": "markdown",
   "id": "8de1c3be-f7f9-4052-8789-6d4b765ffe2a",
   "metadata": {},
   "source": [
    "## Replace the room_type value with integer 0,1,2"
   ]
  },
  {
   "cell_type": "code",
   "execution_count": 154,
   "id": "05000d0e-f296-4809-8013-8800d50595f8",
   "metadata": {},
   "outputs": [
    {
     "name": "stderr",
     "output_type": "stream",
     "text": [
      "C:\\Users\\28461\\AppData\\Local\\Temp\\ipykernel_24128\\3673180782.py:1: SettingWithCopyWarning: \n",
      "A value is trying to be set on a copy of a slice from a DataFrame\n",
      "\n",
      "See the caveats in the documentation: https://pandas.pydata.org/pandas-docs/stable/user_guide/indexing.html#returning-a-view-versus-a-copy\n",
      "  listings_df.room_type[listings_df.room_type == 'Entire home/apt']=0\n",
      "C:\\Users\\28461\\AppData\\Local\\Temp\\ipykernel_24128\\3673180782.py:2: SettingWithCopyWarning: \n",
      "A value is trying to be set on a copy of a slice from a DataFrame\n",
      "\n",
      "See the caveats in the documentation: https://pandas.pydata.org/pandas-docs/stable/user_guide/indexing.html#returning-a-view-versus-a-copy\n",
      "  listings_df.room_type[listings_df.room_type == 'Private room']=1\n",
      "C:\\Users\\28461\\AppData\\Local\\Temp\\ipykernel_24128\\3673180782.py:3: SettingWithCopyWarning: \n",
      "A value is trying to be set on a copy of a slice from a DataFrame\n",
      "\n",
      "See the caveats in the documentation: https://pandas.pydata.org/pandas-docs/stable/user_guide/indexing.html#returning-a-view-versus-a-copy\n",
      "  listings_df.room_type[listings_df.room_type == 'Shared room']=2\n"
     ]
    }
   ],
   "source": [
    "listings_df.room_type[listings_df.room_type == 'Entire home/apt']=0\n",
    "listings_df.room_type[listings_df.room_type == 'Private room']=1\n",
    "listings_df.room_type[listings_df.room_type == 'Shared room']=2\n",
    "\n"
   ]
  },
  {
   "cell_type": "markdown",
   "id": "a42de8c1-661e-4d26-878f-778bb9d79c04",
   "metadata": {},
   "source": [
    "## Change datatype of room_type"
   ]
  },
  {
   "cell_type": "code",
   "execution_count": 155,
   "id": "4985f890-63ac-420b-9a54-24c7842d613c",
   "metadata": {},
   "outputs": [
    {
     "data": {
      "text/plain": [
       "dtype('O')"
      ]
     },
     "execution_count": 155,
     "metadata": {},
     "output_type": "execute_result"
    }
   ],
   "source": [
    "listings_df['room_type'].dtypes"
   ]
  },
  {
   "cell_type": "code",
   "execution_count": 156,
   "id": "cf290be8-70fa-4125-b8bc-c0a192862986",
   "metadata": {},
   "outputs": [],
   "source": [
    "listings_df[\"room_type\"] = listings_df[\"room_type\"].astype(int)"
   ]
  },
  {
   "cell_type": "code",
   "execution_count": 157,
   "id": "32caeda4-1e90-4d0a-be76-8cda865beeea",
   "metadata": {},
   "outputs": [
    {
     "data": {
      "text/plain": [
       "dtype('int32')"
      ]
     },
     "execution_count": 157,
     "metadata": {},
     "output_type": "execute_result"
    }
   ],
   "source": [
    "listings_df['room_type'].dtypes"
   ]
  },
  {
   "cell_type": "code",
   "execution_count": 158,
   "id": "05479926-34cc-4fd2-be7f-d13b017aac34",
   "metadata": {},
   "outputs": [
    {
     "name": "stdout",
     "output_type": "stream",
     "text": [
      "id\n",
      "12147973    0\n",
      "3075044     1\n",
      "6976        1\n",
      "1436513     1\n",
      "7651065     1\n",
      "           ..\n",
      "8373729     1\n",
      "14844274    1\n",
      "14585486    0\n",
      "14603878    1\n",
      "14504422    1\n",
      "Name: room_type, Length: 3254, dtype: int32\n"
     ]
    }
   ],
   "source": [
    "y = listings_df['room_type']\n",
    "X_train, X_test, y_train, y_test = train_test_split(X, y, test_size=0.3) # 70% training and 30% test\n",
    "print(y)"
   ]
  },
  {
   "cell_type": "code",
   "execution_count": 159,
   "id": "74642c99-e947-4dcc-aac0-e873e5c49af0",
   "metadata": {},
   "outputs": [
    {
     "data": {
      "text/plain": [
       "KNeighborsClassifier(weights='distance')"
      ]
     },
     "execution_count": 159,
     "metadata": {},
     "output_type": "execute_result"
    }
   ],
   "source": [
    "n_neighbors = 5\n",
    "weights = 'distance' \n",
    "clf = neighbors.KNeighborsClassifier(n_neighbors, weights=weights)\n",
    "clf.fit(X_train, y_train)"
   ]
  },
  {
   "cell_type": "code",
   "execution_count": 160,
   "id": "e906f5cf-6b8f-45eb-8376-008675c8e618",
   "metadata": {
    "scrolled": true
   },
   "outputs": [
    {
     "name": "stderr",
     "output_type": "stream",
     "text": [
      "D:\\Anaconda\\lib\\site-packages\\sklearn\\base.py:450: UserWarning: X does not have valid feature names, but KNeighborsClassifier was fitted with feature names\n",
      "  warnings.warn(\n"
     ]
    },
    {
     "data": {
      "text/plain": [
       "Text(0, 0.5, 'rating')"
      ]
     },
     "execution_count": 160,
     "metadata": {},
     "output_type": "execute_result"
    },
    {
     "data": {
      "image/png": "[encoded data removed]",
      "text/plain": [
       "<Figure size 576x432 with 1 Axes>"
      ]
     },
     "metadata": {
      "needs_background": "light"
     },
     "output_type": "display_data"
    }
   ],
   "source": [
    "# Visualizing the decision boundary.\n",
    "\n",
    "h = .05  # step size in the mesh\n",
    "x_min, x_max = x1.min() - 1, x1.max() + 1\n",
    "y_min, y_max = x2.min() - 1, x2.max() + 1\n",
    "xx, yy = np.meshgrid(np.arange(x_min, x_max, h),\n",
    "                     np.arange(y_min, y_max, h))\n",
    "Z = clf.predict(np.c_[xx.ravel(), yy.ravel()])\n",
    "\n",
    "\n",
    "Z = Z.reshape(xx.shape)\n",
    "plt.figure(figsize=(8, 6))\n",
    "plt.contourf(xx, yy, Z, cmap=cmap_light)\n",
    "\n",
    "# Plot training points on top of decision boundary\n",
    "sns.scatterplot(x=x1, y=x2, hue=y,\n",
    "                palette=cmap_bold, alpha=1.0, edgecolor=\"black\")\n",
    "plt.xlim(xx.min(), xx.max())\n",
    "plt.ylim(yy.min(), yy.max())\n",
    "plt.title(\"3-Class classification (k = %i, weights = '%s')\"\n",
    "          % (n_neighbors, weights))\n",
    "\n",
    "plt.xlabel('accuracy')\n",
    "plt.ylabel('rating')\n"
   ]
  },
  {
   "cell_type": "code",
   "execution_count": 161,
   "id": "3a6d2252-4217-4a9a-bf73-48a177d90bb1",
   "metadata": {},
   "outputs": [
    {
     "data": {
      "text/plain": [
       "array([0, 1, 2])"
      ]
     },
     "execution_count": 161,
     "metadata": {},
     "output_type": "execute_result"
    }
   ],
   "source": [
    "listings_df.room_type.unique()"
   ]
  },
  {
   "cell_type": "code",
   "execution_count": 162,
   "id": "6847d9ce-3591-4944-8128-1c8ba5dcf327",
   "metadata": {},
   "outputs": [
    {
     "name": "stdout",
     "output_type": "stream",
     "text": [
      "Accuracy: 0.5199590583418628\n"
     ]
    }
   ],
   "source": [
    "y_pred = clf.predict(X_test)\n",
    "# Model Accuracy\n",
    "print(\"Accuracy:\",metrics.accuracy_score(y_test, y_pred))"
   ]
  },
  {
   "cell_type": "code",
   "execution_count": 163,
   "id": "c6fc7889-8416-4b4b-bbcb-04d4b0ec8d75",
   "metadata": {},
   "outputs": [
    {
     "data": {
      "text/html": [
       "<div>\n",
       "<style scoped>\n",
       "    .dataframe tbody tr th:only-of-type {\n",
       "        vertical-align: middle;\n",
       "    }\n",
       "\n",
       "    .dataframe tbody tr th {\n",
       "        vertical-align: top;\n",
       "    }\n",
       "\n",
       "    .dataframe thead th {\n",
       "        text-align: right;\n",
       "    }\n",
       "</style>\n",
       "<table border=\"1\" class=\"dataframe\">\n",
       "  <thead>\n",
       "    <tr style=\"text-align: right;\">\n",
       "      <th></th>\n",
       "      <th>date</th>\n",
       "      <th>available</th>\n",
       "      <th>price</th>\n",
       "    </tr>\n",
       "    <tr>\n",
       "      <th>listing_id</th>\n",
       "      <th></th>\n",
       "      <th></th>\n",
       "      <th></th>\n",
       "    </tr>\n",
       "  </thead>\n",
       "  <tbody>\n",
       "    <tr>\n",
       "      <th>12147973</th>\n",
       "      <td>2017-09-05</td>\n",
       "      <td>f</td>\n",
       "      <td>NaN</td>\n",
       "    </tr>\n",
       "    <tr>\n",
       "      <th>12147973</th>\n",
       "      <td>2017-09-04</td>\n",
       "      <td>f</td>\n",
       "      <td>NaN</td>\n",
       "    </tr>\n",
       "    <tr>\n",
       "      <th>12147973</th>\n",
       "      <td>2017-09-03</td>\n",
       "      <td>f</td>\n",
       "      <td>NaN</td>\n",
       "    </tr>\n",
       "    <tr>\n",
       "      <th>12147973</th>\n",
       "      <td>2017-09-02</td>\n",
       "      <td>f</td>\n",
       "      <td>NaN</td>\n",
       "    </tr>\n",
       "    <tr>\n",
       "      <th>12147973</th>\n",
       "      <td>2017-09-01</td>\n",
       "      <td>f</td>\n",
       "      <td>NaN</td>\n",
       "    </tr>\n",
       "  </tbody>\n",
       "</table>\n",
       "</div>"
      ],
      "text/plain": [
       "                 date available  price\n",
       "listing_id                            \n",
       "12147973   2017-09-05         f    NaN\n",
       "12147973   2017-09-04         f    NaN\n",
       "12147973   2017-09-03         f    NaN\n",
       "12147973   2017-09-02         f    NaN\n",
       "12147973   2017-09-01         f    NaN"
      ]
     },
     "execution_count": 163,
     "metadata": {},
     "output_type": "execute_result"
    }
   ],
   "source": [
    "# load libraries\n",
    "import pandas as pd\n",
    "import numpy as np\n",
    "import matplotlib.pyplot as plt\n",
    "import matplotlib.dates as mdates\n",
    "import seaborn as sns\n",
    "\n",
    "calendar_jc = calendar_df\n",
    "listings_jc = listings_df\n",
    "reviews_jc = reviews_df\n",
    "\n",
    "calendar_jc.head()\n",
    "# # convert date from string to datetime object\n",
    "# calendar_jc[\"date\"] = pd.to_datetime(calendar_jc[\"date\"])\n",
    "# calendar_jc.date.describe(datetime_is_numeric=True)"
   ]
  },
  {
   "cell_type": "code",
   "execution_count": 164,
   "id": "b244e978-6ae6-4851-bd0e-90953887336b",
   "metadata": {},
   "outputs": [
    {
     "data": {
      "text/plain": [
       "0    665853\n",
       "1    643037\n",
       "Name: available, dtype: int64"
      ]
     },
     "execution_count": 164,
     "metadata": {},
     "output_type": "execute_result"
    }
   ],
   "source": [
    "# convert f to 0 (not available), and t to 1 (available)\n",
    "calendar_jc[\"available\"]=calendar_jc[\"available\"].apply(lambda x:1 if x==\"t\" else 0)\n",
    "calendar_jc.available.value_counts()"
   ]
  },
  {
   "cell_type": "code",
   "execution_count": 165,
   "id": "2eff98cd-71f7-4688-950e-83b29eb5205f",
   "metadata": {},
   "outputs": [
    {
     "data": {
      "text/html": [
       "<div>\n",
       "<style scoped>\n",
       "    .dataframe tbody tr th:only-of-type {\n",
       "        vertical-align: middle;\n",
       "    }\n",
       "\n",
       "    .dataframe tbody tr th {\n",
       "        vertical-align: top;\n",
       "    }\n",
       "\n",
       "    .dataframe thead th {\n",
       "        text-align: right;\n",
       "    }\n",
       "</style>\n",
       "<table border=\"1\" class=\"dataframe\">\n",
       "  <thead>\n",
       "    <tr style=\"text-align: right;\">\n",
       "      <th></th>\n",
       "      <th>date</th>\n",
       "      <th>available_count</th>\n",
       "      <th>availability</th>\n",
       "    </tr>\n",
       "  </thead>\n",
       "  <tbody>\n",
       "    <tr>\n",
       "      <th>0</th>\n",
       "      <td>2016-09-06</td>\n",
       "      <td>570</td>\n",
       "      <td>0.158951</td>\n",
       "    </tr>\n",
       "    <tr>\n",
       "      <th>1</th>\n",
       "      <td>2016-09-07</td>\n",
       "      <td>932</td>\n",
       "      <td>0.259900</td>\n",
       "    </tr>\n",
       "    <tr>\n",
       "      <th>2</th>\n",
       "      <td>2016-09-08</td>\n",
       "      <td>999</td>\n",
       "      <td>0.278583</td>\n",
       "    </tr>\n",
       "    <tr>\n",
       "      <th>3</th>\n",
       "      <td>2016-09-09</td>\n",
       "      <td>981</td>\n",
       "      <td>0.273564</td>\n",
       "    </tr>\n",
       "    <tr>\n",
       "      <th>4</th>\n",
       "      <td>2016-09-10</td>\n",
       "      <td>956</td>\n",
       "      <td>0.266592</td>\n",
       "    </tr>\n",
       "  </tbody>\n",
       "</table>\n",
       "</div>"
      ],
      "text/plain": [
       "        date  available_count  availability\n",
       "0 2016-09-06              570      0.158951\n",
       "1 2016-09-07              932      0.259900\n",
       "2 2016-09-08              999      0.278583\n",
       "3 2016-09-09              981      0.273564\n",
       "4 2016-09-10              956      0.266592"
      ]
     },
     "execution_count": 165,
     "metadata": {},
     "output_type": "execute_result"
    }
   ],
   "source": [
    "# compute availability (percentage of units available) of to each day\n",
    "# store in calendar_daily dataframe\n",
    "#calendar_daily = calendar.groupby(\"date\")[\"available\"].mean().reset_index()\n",
    "\n",
    "calendar_daily = calendar_jc.groupby(\"date\")[\"available\"].agg([\"sum\",\"mean\"]).reset_index()\n",
    "\n",
    "calendar_daily.rename(columns={\"sum\":\"available_count\",\"mean\":\"availability\"},inplace=True)                                         \n",
    "\n",
    "calendar_daily.head()"
   ]
  },
  {
   "cell_type": "code",
   "execution_count": 166,
   "id": "d46ff44e-6494-4d73-86fc-9795447c9aa1",
   "metadata": {},
   "outputs": [
    {
     "name": "stderr",
     "output_type": "stream",
     "text": [
      "C:\\Users\\28461\\AppData\\Local\\Temp\\ipykernel_24128\\1401318121.py:10: UserWarning: FixedFormatter should only be used together with FixedLocator\n",
      "  ax.set_yticklabels(y_tickvalue)\n"
     ]
    },
    {
     "data": {
      "image/png": "[encoded data removed]",
      "text/plain": [
       "<Figure size 864x288 with 1 Axes>"
      ]
     },
     "metadata": {},
     "output_type": "display_data"
    }
   ],
   "source": [
    "# view overall trend of availability by day\n",
    "sns.set_style(\"darkgrid\")\n",
    "plt.figure(figsize=(12,4))\n",
    "\n",
    "ax=sns.lineplot(x=calendar_daily.date,y=calendar_daily.availability)\n",
    "ax.set(xlabel=\"Date\",ylabel=\"Availability\", title=\"How does availability change by day?\")\n",
    "\n",
    "# set y tick values to % \n",
    "y_tickvalue=['{:,.0f}'.format(x*100) + '%' for x in ax.get_yticks()]\n",
    "ax.set_yticklabels(y_tickvalue)\n",
    "\n",
    "# set x tick increments \n",
    "months = mdates.MonthLocator()\n",
    "ax.xaxis.set_major_locator(months)\n",
    "\n",
    "plt.savefig(\"availability_trend_daily.png\")"
   ]
  },
  {
   "cell_type": "code",
   "execution_count": 167,
   "id": "ba19078b-0e4f-4e4b-acb9-a6b50d08960a",
   "metadata": {},
   "outputs": [
    {
     "data": {
      "text/html": [
       "<div>\n",
       "<style scoped>\n",
       "    .dataframe tbody tr th:only-of-type {\n",
       "        vertical-align: middle;\n",
       "    }\n",
       "\n",
       "    .dataframe tbody tr th {\n",
       "        vertical-align: top;\n",
       "    }\n",
       "\n",
       "    .dataframe thead th {\n",
       "        text-align: right;\n",
       "    }\n",
       "</style>\n",
       "<table border=\"1\" class=\"dataframe\">\n",
       "  <thead>\n",
       "    <tr style=\"text-align: right;\">\n",
       "      <th></th>\n",
       "      <th>day_of_week</th>\n",
       "      <th>available_count</th>\n",
       "      <th>availability</th>\n",
       "    </tr>\n",
       "  </thead>\n",
       "  <tbody>\n",
       "    <tr>\n",
       "      <th>0</th>\n",
       "      <td>0</td>\n",
       "      <td>92413</td>\n",
       "      <td>0.495586</td>\n",
       "    </tr>\n",
       "    <tr>\n",
       "      <th>1</th>\n",
       "      <td>1</td>\n",
       "      <td>93332</td>\n",
       "      <td>0.491071</td>\n",
       "    </tr>\n",
       "    <tr>\n",
       "      <th>2</th>\n",
       "      <td>2</td>\n",
       "      <td>91816</td>\n",
       "      <td>0.492385</td>\n",
       "    </tr>\n",
       "    <tr>\n",
       "      <th>3</th>\n",
       "      <td>3</td>\n",
       "      <td>91202</td>\n",
       "      <td>0.489092</td>\n",
       "    </tr>\n",
       "    <tr>\n",
       "      <th>4</th>\n",
       "      <td>4</td>\n",
       "      <td>90998</td>\n",
       "      <td>0.487998</td>\n",
       "    </tr>\n",
       "    <tr>\n",
       "      <th>5</th>\n",
       "      <td>5</td>\n",
       "      <td>91068</td>\n",
       "      <td>0.488374</td>\n",
       "    </tr>\n",
       "    <tr>\n",
       "      <th>6</th>\n",
       "      <td>6</td>\n",
       "      <td>92208</td>\n",
       "      <td>0.494487</td>\n",
       "    </tr>\n",
       "  </tbody>\n",
       "</table>\n",
       "</div>"
      ],
      "text/plain": [
       "   day_of_week  available_count  availability\n",
       "0            0            92413      0.495586\n",
       "1            1            93332      0.491071\n",
       "2            2            91816      0.492385\n",
       "3            3            91202      0.489092\n",
       "4            4            90998      0.487998\n",
       "5            5            91068      0.488374\n",
       "6            6            92208      0.494487"
      ]
     },
     "execution_count": 167,
     "metadata": {},
     "output_type": "execute_result"
    }
   ],
   "source": [
    "# explore trend throughout the week\n",
    "calendar_jc[\"day_of_week\"] = calendar_jc[\"date\"].dt.dayofweek\n",
    "calendar_weekly = calendar_jc.groupby(\"day_of_week\")[\"available\"].agg([\"sum\",\"mean\"]).reset_index()\n",
    "calendar_weekly.rename(columns={\"sum\":\"available_count\",\"mean\":\"availability\"},inplace=True)\n",
    "calendar_weekly\n"
   ]
  },
  {
   "cell_type": "code",
   "execution_count": 168,
   "id": "a4a2f0b1-3de7-4f9b-bdbb-effe7e6be706",
   "metadata": {},
   "outputs": [
    {
     "name": "stderr",
     "output_type": "stream",
     "text": [
      "C:\\Users\\28461\\AppData\\Local\\Temp\\ipykernel_24128\\1593621846.py:10: UserWarning: FixedFormatter should only be used together with FixedLocator\n",
      "  ax.set_yticklabels(y_tickvalue)\n"
     ]
    },
    {
     "data": {
      "image/png": "[encoded data removed]",
      "text/plain": [
       "<Figure size 720x576 with 1 Axes>"
      ]
     },
     "metadata": {},
     "output_type": "display_data"
    }
   ],
   "source": [
    "plt.figure(figsize=(10,8))\n",
    "sns.set_style(\"darkgrid\")\n",
    "ax=sns.lineplot(x=calendar_weekly.day_of_week,y=calendar_weekly.availability)\n",
    "ax.set(xlabel=\"Day of Week\",ylabel=\"Availability\", title=\"How does availability change throughout the week?\")\n",
    "ax.set_xticks([0,1,2,3,4,5,6])\n",
    "ax.set_xticklabels([\"Monday\",\"Tuesday\",\"Wednesday\",\"Thursday\",\"Friday\",\"Saturday\",\"Sunday\"])\n",
    "\n",
    "# set y tick values to % \n",
    "y_tickvalue=['{:,.1f}'.format(x*100) + '%' for x in ax.get_yticks()]\n",
    "ax.set_yticklabels(y_tickvalue)\n",
    "plt.savefig(\"availability_weekly.png\")\n"
   ]
  },
  {
   "cell_type": "code",
   "execution_count": 169,
   "id": "109b5c7e-7ff8-417f-96d1-a16a357be894",
   "metadata": {},
   "outputs": [
    {
     "data": {
      "image/png": "[encoded data removed]",
      "text/plain": [
       "<Figure size 720x576 with 1 Axes>"
      ]
     },
     "metadata": {},
     "output_type": "display_data"
    }
   ],
   "source": [
    "# Check total available units\n",
    "plt.figure(figsize=(10,8))\n",
    "sns.set_style(\"darkgrid\")\n",
    "ax=sns.lineplot(x=calendar_weekly.day_of_week,y=calendar_weekly.available_count)\n",
    "ax.set(xlabel=\"Day of Week\",ylabel=\"Total Available Listings\", title=\"Total Avaiable Units throughout the Week\")\n",
    "ax.set_xticks([0,1,2,3,4,5,6])\n",
    "ax.set_xticklabels([\"Monday\",\"Tuesday\",\"Wednesday\",\"Thursday\",\"Friday\",\"Saturday\",\"Sunday\"])\n",
    "\n",
    "\n",
    "plt.savefig(\"available_count_weekly.png\")"
   ]
  },
  {
   "cell_type": "code",
   "execution_count": 170,
   "id": "ea9f4100-72d6-4a28-a40b-3fa001b2e3eb",
   "metadata": {},
   "outputs": [
    {
     "data": {
      "text/plain": [
       "(3254, 26)"
      ]
     },
     "execution_count": 170,
     "metadata": {},
     "output_type": "execute_result"
    }
   ],
   "source": [
    "# select feature variables, and drop rows with one or more NAs \n",
    "\n",
    "listings_rm_nan = listings_jc.dropna(how=\"any\",subset=[\"neighbourhood_cleansed\",\"bedrooms\",\"bathrooms\",\n",
    "                                                   \"room_type\",\"review_scores_rating\",\"beds\"],axis=0)\n",
    "y=listings_rm_nan[\"price\"]\n",
    "\n",
    "# create dummy codes for categorical values \n",
    "X_categorical = listings_rm_nan[[\"room_type\",\"neighbourhood_cleansed\"]]\n",
    "X_categorical_dummy_coded = pd.get_dummies(X_categorical)\n",
    "\n",
    "# check how many rows left after removing nans, check the number of columns \n",
    "X_categorical_dummy_coded.shape"
   ]
  },
  {
   "cell_type": "code",
   "execution_count": 171,
   "id": "7b7c3935-92d2-46f2-bf7c-cb269a02eb24",
   "metadata": {},
   "outputs": [
    {
     "name": "stdout",
     "output_type": "stream",
     "text": [
      "id\n",
      "12147973    3.0\n",
      "3075044     1.0\n",
      "6976        1.0\n",
      "1436513     2.0\n",
      "7651065     2.0\n",
      "           ... \n",
      "8373729     1.0\n",
      "14844274    1.0\n",
      "14585486    1.0\n",
      "14603878    1.0\n",
      "14504422    1.0\n",
      "Name: beds, Length: 3254, dtype: float64\n"
     ]
    }
   ],
   "source": [
    "print(listings_jc.beds)"
   ]
  },
  {
   "cell_type": "code",
   "execution_count": 172,
   "id": "3aedceb2-c63a-4fe9-a2ec-4272b7b86589",
   "metadata": {},
   "outputs": [
    {
     "data": {
      "text/plain": [
       "True"
      ]
     },
     "execution_count": 172,
     "metadata": {},
     "output_type": "execute_result"
    }
   ],
   "source": [
    "X_num = listings_rm_nan[[\"bedrooms\",\"bathrooms\",\"review_scores_rating\",\"beds\"]]\n",
    "\n",
    "#concatenate columns of numerical and categorical features \n",
    "X=pd.concat([X_num,X_categorical_dummy_coded],axis=1)\n",
    "# check to make sure X and y have equal number of rows\n",
    "X.shape[0]==y.shape[0]"
   ]
  },
  {
   "cell_type": "code",
   "execution_count": 173,
   "id": "3f8055a3-1ad2-46d9-bd00-e074fbfa5da8",
   "metadata": {},
   "outputs": [],
   "source": [
    "# split X, y to test and train \n",
    "from sklearn.model_selection import train_test_split\n",
    "from sklearn.linear_model import LinearRegression\n",
    "import numpy.random as nr\n",
    "\n",
    "nr.seed(9988)\n",
    "indx = range(X.shape[0])\n",
    "indx = train_test_split(indx, test_size = 0.2)\n",
    "\n",
    "X_train = X.iloc[indx[0],:]\n",
    "y_train = np.ravel(y.iloc[indx[0]])\n",
    "X_test = X.iloc[indx[1],:]\n",
    "y_test = np.ravel(y.iloc[indx[1]])\n",
    "\n",
    "#X_train,X_test,y_train,y_test = train_test_split(X,y,test_size=0.2,random_state=42)\n",
    "linear_model = LinearRegression()\n",
    "linear_model.fit(X_train,y_train)\n",
    "linear_model.score(X_test,y_test)\n",
    "y_test_predicted = linear_model.predict(X_test)"
   ]
  },
  {
   "cell_type": "code",
   "execution_count": 174,
   "id": "4566d53a-ebec-4f5e-8278-88ee4c4cf5f3",
   "metadata": {},
   "outputs": [
    {
     "name": "stderr",
     "output_type": "stream",
     "text": [
      "D:\\Anaconda\\lib\\site-packages\\seaborn\\_decorators.py:36: FutureWarning: Pass the following variables as keyword args: x, y. From version 0.12, the only valid positional argument will be `data`, and passing other arguments without an explicit keyword will result in an error or misinterpretation.\n",
      "  warnings.warn(\n"
     ]
    },
    {
     "data": {
      "image/png": "[encoded data removed]",
      "text/plain": [
       "<Figure size 432x432 with 1 Axes>"
      ]
     },
     "metadata": {},
     "output_type": "display_data"
    }
   ],
   "source": [
    "# plot y_test_predict and y_test\n",
    "plt.figure(figsize=(6,6))\n",
    "ax=sns.scatterplot(y_test,y_test_predicted)\n",
    "sns.lineplot(x=y_test,y=y_test,ax=ax,color=\"r\",alpha=0.5, label=\"100% Perfect Fit\")\n",
    "ax.set(xlabel=\"Actual Rate\",ylabel=\"Predicted Rate\", title=\"Predicted Rate v.s. Actual Rate\")\n",
    "plt.savefig(\"predicted_rate_vs_actual_rate.png\",bbox_inches='tight')"
   ]
  },
  {
   "cell_type": "code",
   "execution_count": 175,
   "id": "fae8b996-0fc1-4c09-a3e7-b996cf6f7100",
   "metadata": {},
   "outputs": [
    {
     "data": {
      "text/html": [
       "<table class=\"simpletable\">\n",
       "<caption>OLS Regression Results</caption>\n",
       "<tr>\n",
       "  <th>Dep. Variable:</th>            <td>y</td>        <th>  R-squared:         </th> <td>   0.347</td> \n",
       "</tr>\n",
       "<tr>\n",
       "  <th>Model:</th>                   <td>OLS</td>       <th>  Adj. R-squared:    </th> <td>   0.340</td> \n",
       "</tr>\n",
       "<tr>\n",
       "  <th>Method:</th>             <td>Least Squares</td>  <th>  F-statistic:       </th> <td>   47.15</td> \n",
       "</tr>\n",
       "<tr>\n",
       "  <th>Date:</th>             <td>Mon, 26 Dec 2022</td> <th>  Prob (F-statistic):</th> <td>2.05e-213</td>\n",
       "</tr>\n",
       "<tr>\n",
       "  <th>Time:</th>                 <td>15:30:38</td>     <th>  Log-Likelihood:    </th> <td> -16337.</td> \n",
       "</tr>\n",
       "<tr>\n",
       "  <th>No. Observations:</th>      <td>  2603</td>      <th>  AIC:               </th> <td>3.273e+04</td>\n",
       "</tr>\n",
       "<tr>\n",
       "  <th>Df Residuals:</th>          <td>  2573</td>      <th>  BIC:               </th> <td>3.291e+04</td>\n",
       "</tr>\n",
       "<tr>\n",
       "  <th>Df Model:</th>              <td>    29</td>      <th>                     </th>     <td> </td>    \n",
       "</tr>\n",
       "<tr>\n",
       "  <th>Covariance Type:</th>      <td>nonrobust</td>    <th>                     </th>     <td> </td>    \n",
       "</tr>\n",
       "</table>\n",
       "<table class=\"simpletable\">\n",
       "<tr>\n",
       "                         <td></td>                           <th>coef</th>     <th>std err</th>      <th>t</th>      <th>P>|t|</th>  <th>[0.025</th>    <th>0.975]</th>  \n",
       "</tr>\n",
       "<tr>\n",
       "  <th>bedrooms</th>                                       <td>   49.5028</td> <td>    6.170</td> <td>    8.024</td> <td> 0.000</td> <td>   37.405</td> <td>   61.601</td>\n",
       "</tr>\n",
       "<tr>\n",
       "  <th>bathrooms</th>                                      <td>   27.7283</td> <td>    6.096</td> <td>    4.549</td> <td> 0.000</td> <td>   15.775</td> <td>   39.682</td>\n",
       "</tr>\n",
       "<tr>\n",
       "  <th>review_scores_rating</th>                           <td>   -0.2448</td> <td>    0.066</td> <td>   -3.696</td> <td> 0.000</td> <td>   -0.375</td> <td>   -0.115</td>\n",
       "</tr>\n",
       "<tr>\n",
       "  <th>beds</th>                                           <td>   16.9377</td> <td>    3.764</td> <td>    4.500</td> <td> 0.000</td> <td>    9.557</td> <td>   24.319</td>\n",
       "</tr>\n",
       "<tr>\n",
       "  <th>room_type</th>                                      <td>  -55.0390</td> <td>    5.861</td> <td>   -9.390</td> <td> 0.000</td> <td>  -66.532</td> <td>  -43.546</td>\n",
       "</tr>\n",
       "<tr>\n",
       "  <th>neighbourhood_cleansed_Allston</th>                 <td>   46.6208</td> <td>   13.932</td> <td>    3.346</td> <td> 0.001</td> <td>   19.302</td> <td>   73.940</td>\n",
       "</tr>\n",
       "<tr>\n",
       "  <th>neighbourhood_cleansed_Back Bay</th>                <td>  158.2567</td> <td>   13.041</td> <td>   12.136</td> <td> 0.000</td> <td>  132.685</td> <td>  183.828</td>\n",
       "</tr>\n",
       "<tr>\n",
       "  <th>neighbourhood_cleansed_Bay Village</th>             <td>  159.3347</td> <td>   33.784</td> <td>    4.716</td> <td> 0.000</td> <td>   93.089</td> <td>  225.580</td>\n",
       "</tr>\n",
       "<tr>\n",
       "  <th>neighbourhood_cleansed_Beacon Hill</th>             <td>  152.0625</td> <td>   15.022</td> <td>   10.123</td> <td> 0.000</td> <td>  122.606</td> <td>  181.519</td>\n",
       "</tr>\n",
       "<tr>\n",
       "  <th>neighbourhood_cleansed_Brighton</th>                <td>   51.0647</td> <td>   14.647</td> <td>    3.486</td> <td> 0.000</td> <td>   22.344</td> <td>   79.785</td>\n",
       "</tr>\n",
       "<tr>\n",
       "  <th>neighbourhood_cleansed_Charlestown</th>             <td>  100.0824</td> <td>   16.905</td> <td>    5.920</td> <td> 0.000</td> <td>   66.933</td> <td>  133.232</td>\n",
       "</tr>\n",
       "<tr>\n",
       "  <th>neighbourhood_cleansed_Chinatown</th>               <td>  116.8168</td> <td>   19.290</td> <td>    6.056</td> <td> 0.000</td> <td>   78.991</td> <td>  154.643</td>\n",
       "</tr>\n",
       "<tr>\n",
       "  <th>neighbourhood_cleansed_Dorchester</th>              <td>   30.2224</td> <td>   14.196</td> <td>    2.129</td> <td> 0.033</td> <td>    2.385</td> <td>   58.060</td>\n",
       "</tr>\n",
       "<tr>\n",
       "  <th>neighbourhood_cleansed_Downtown</th>                <td>  135.7553</td> <td>   14.819</td> <td>    9.161</td> <td> 0.000</td> <td>  106.697</td> <td>  164.814</td>\n",
       "</tr>\n",
       "<tr>\n",
       "  <th>neighbourhood_cleansed_East Boston</th>             <td>   46.8680</td> <td>   15.869</td> <td>    2.953</td> <td> 0.003</td> <td>   15.751</td> <td>   77.985</td>\n",
       "</tr>\n",
       "<tr>\n",
       "  <th>neighbourhood_cleansed_Fenway</th>                  <td>  138.5652</td> <td>   12.773</td> <td>   10.849</td> <td> 0.000</td> <td>  113.519</td> <td>  163.611</td>\n",
       "</tr>\n",
       "<tr>\n",
       "  <th>neighbourhood_cleansed_Hyde Park</th>               <td>   31.2845</td> <td>   27.764</td> <td>    1.127</td> <td> 0.260</td> <td>  -23.157</td> <td>   85.726</td>\n",
       "</tr>\n",
       "<tr>\n",
       "  <th>neighbourhood_cleansed_Jamaica Plain</th>           <td>   55.8272</td> <td>   13.606</td> <td>    4.103</td> <td> 0.000</td> <td>   29.147</td> <td>   82.507</td>\n",
       "</tr>\n",
       "<tr>\n",
       "  <th>neighbourhood_cleansed_Leather District</th>        <td>  120.1057</td> <td>   75.384</td> <td>    1.593</td> <td> 0.111</td> <td>  -27.715</td> <td>  267.926</td>\n",
       "</tr>\n",
       "<tr>\n",
       "  <th>neighbourhood_cleansed_Longwood Medical Area</th>   <td>   51.8090</td> <td>   58.652</td> <td>    0.883</td> <td> 0.377</td> <td>  -63.201</td> <td>  166.819</td>\n",
       "</tr>\n",
       "<tr>\n",
       "  <th>neighbourhood_cleansed_Mattapan</th>                <td>   34.8947</td> <td>   33.141</td> <td>    1.053</td> <td> 0.292</td> <td>  -30.091</td> <td>   99.880</td>\n",
       "</tr>\n",
       "<tr>\n",
       "  <th>neighbourhood_cleansed_Mission Hill</th>            <td>   54.5420</td> <td>   16.909</td> <td>    3.226</td> <td> 0.001</td> <td>   21.386</td> <td>   87.698</td>\n",
       "</tr>\n",
       "<tr>\n",
       "  <th>neighbourhood_cleansed_North End</th>               <td>   96.1475</td> <td>   15.735</td> <td>    6.110</td> <td> 0.000</td> <td>   65.293</td> <td>  127.002</td>\n",
       "</tr>\n",
       "<tr>\n",
       "  <th>neighbourhood_cleansed_Roslindale</th>              <td>   33.3725</td> <td>   24.140</td> <td>    1.382</td> <td> 0.167</td> <td>  -13.962</td> <td>   80.707</td>\n",
       "</tr>\n",
       "<tr>\n",
       "  <th>neighbourhood_cleansed_Roxbury</th>                 <td>   59.4089</td> <td>   16.783</td> <td>    3.540</td> <td> 0.000</td> <td>   26.498</td> <td>   92.319</td>\n",
       "</tr>\n",
       "<tr>\n",
       "  <th>neighbourhood_cleansed_South Boston</th>            <td>   86.8188</td> <td>   15.704</td> <td>    5.529</td> <td> 0.000</td> <td>   56.026</td> <td>  117.612</td>\n",
       "</tr>\n",
       "<tr>\n",
       "  <th>neighbourhood_cleansed_South Boston Waterfront</th> <td>  215.8959</td> <td>   20.088</td> <td>   10.747</td> <td> 0.000</td> <td>  176.505</td> <td>  255.287</td>\n",
       "</tr>\n",
       "<tr>\n",
       "  <th>neighbourhood_cleansed_South End</th>               <td>  129.0701</td> <td>   13.119</td> <td>    9.839</td> <td> 0.000</td> <td>  103.345</td> <td>  154.795</td>\n",
       "</tr>\n",
       "<tr>\n",
       "  <th>neighbourhood_cleansed_West End</th>                <td>   79.3020</td> <td>   23.247</td> <td>    3.411</td> <td> 0.001</td> <td>   33.718</td> <td>  124.886</td>\n",
       "</tr>\n",
       "<tr>\n",
       "  <th>neighbourhood_cleansed_West Roxbury</th>            <td>   33.4012</td> <td>   24.528</td> <td>    1.362</td> <td> 0.173</td> <td>  -14.696</td> <td>   81.498</td>\n",
       "</tr>\n",
       "</table>\n",
       "<table class=\"simpletable\">\n",
       "<tr>\n",
       "  <th>Omnibus:</th>       <td>4960.081</td> <th>  Durbin-Watson:     </th>   <td>   2.021</td>  \n",
       "</tr>\n",
       "<tr>\n",
       "  <th>Prob(Omnibus):</th>  <td> 0.000</td>  <th>  Jarque-Bera (JB):  </th> <td>13283300.893</td>\n",
       "</tr>\n",
       "<tr>\n",
       "  <th>Skew:</th>           <td>14.191</td>  <th>  Prob(JB):          </th>   <td>    0.00</td>  \n",
       "</tr>\n",
       "<tr>\n",
       "  <th>Kurtosis:</th>       <td>351.810</td> <th>  Cond. No.          </th>   <td>2.43e+03</td>  \n",
       "</tr>\n",
       "</table><br/><br/>Notes:<br/>[1] Standard Errors assume that the covariance matrix of the errors is correctly specified.<br/>[2] The condition number is large, 2.43e+03. This might indicate that there are<br/>strong multicollinearity or other numerical problems."
      ],
      "text/plain": [
       "<class 'statsmodels.iolib.summary.Summary'>\n",
       "\"\"\"\n",
       "                            OLS Regression Results                            \n",
       "==============================================================================\n",
       "Dep. Variable:                      y   R-squared:                       0.347\n",
       "Model:                            OLS   Adj. R-squared:                  0.340\n",
       "Method:                 Least Squares   F-statistic:                     47.15\n",
       "Date:                Mon, 26 Dec 2022   Prob (F-statistic):          2.05e-213\n",
       "Time:                        15:30:38   Log-Likelihood:                -16337.\n",
       "No. Observations:                2603   AIC:                         3.273e+04\n",
       "Df Residuals:                    2573   BIC:                         3.291e+04\n",
       "Df Model:                          29                                         \n",
       "Covariance Type:            nonrobust                                         \n",
       "==================================================================================================================\n",
       "                                                     coef    std err          t      P>|t|      [0.025      0.975]\n",
       "------------------------------------------------------------------------------------------------------------------\n",
       "bedrooms                                          49.5028      6.170      8.024      0.000      37.405      61.601\n",
       "bathrooms                                         27.7283      6.096      4.549      0.000      15.775      39.682\n",
       "review_scores_rating                              -0.2448      0.066     -3.696      0.000      -0.375      -0.115\n",
       "beds                                              16.9377      3.764      4.500      0.000       9.557      24.319\n",
       "room_type                                        -55.0390      5.861     -9.390      0.000     -66.532     -43.546\n",
       "neighbourhood_cleansed_Allston                    46.6208     13.932      3.346      0.001      19.302      73.940\n",
       "neighbourhood_cleansed_Back Bay                  158.2567     13.041     12.136      0.000     132.685     183.828\n",
       "neighbourhood_cleansed_Bay Village               159.3347     33.784      4.716      0.000      93.089     225.580\n",
       "neighbourhood_cleansed_Beacon Hill               152.0625     15.022     10.123      0.000     122.606     181.519\n",
       "neighbourhood_cleansed_Brighton                   51.0647     14.647      3.486      0.000      22.344      79.785\n",
       "neighbourhood_cleansed_Charlestown               100.0824     16.905      5.920      0.000      66.933     133.232\n",
       "neighbourhood_cleansed_Chinatown                 116.8168     19.290      6.056      0.000      78.991     154.643\n",
       "neighbourhood_cleansed_Dorchester                 30.2224     14.196      2.129      0.033       2.385      58.060\n",
       "neighbourhood_cleansed_Downtown                  135.7553     14.819      9.161      0.000     106.697     164.814\n",
       "neighbourhood_cleansed_East Boston                46.8680     15.869      2.953      0.003      15.751      77.985\n",
       "neighbourhood_cleansed_Fenway                    138.5652     12.773     10.849      0.000     113.519     163.611\n",
       "neighbourhood_cleansed_Hyde Park                  31.2845     27.764      1.127      0.260     -23.157      85.726\n",
       "neighbourhood_cleansed_Jamaica Plain              55.8272     13.606      4.103      0.000      29.147      82.507\n",
       "neighbourhood_cleansed_Leather District          120.1057     75.384      1.593      0.111     -27.715     267.926\n",
       "neighbourhood_cleansed_Longwood Medical Area      51.8090     58.652      0.883      0.377     -63.201     166.819\n",
       "neighbourhood_cleansed_Mattapan                   34.8947     33.141      1.053      0.292     -30.091      99.880\n",
       "neighbourhood_cleansed_Mission Hill               54.5420     16.909      3.226      0.001      21.386      87.698\n",
       "neighbourhood_cleansed_North End                  96.1475     15.735      6.110      0.000      65.293     127.002\n",
       "neighbourhood_cleansed_Roslindale                 33.3725     24.140      1.382      0.167     -13.962      80.707\n",
       "neighbourhood_cleansed_Roxbury                    59.4089     16.783      3.540      0.000      26.498      92.319\n",
       "neighbourhood_cleansed_South Boston               86.8188     15.704      5.529      0.000      56.026     117.612\n",
       "neighbourhood_cleansed_South Boston Waterfront   215.8959     20.088     10.747      0.000     176.505     255.287\n",
       "neighbourhood_cleansed_South End                 129.0701     13.119      9.839      0.000     103.345     154.795\n",
       "neighbourhood_cleansed_West End                   79.3020     23.247      3.411      0.001      33.718     124.886\n",
       "neighbourhood_cleansed_West Roxbury               33.4012     24.528      1.362      0.173     -14.696      81.498\n",
       "==============================================================================\n",
       "Omnibus:                     4960.081   Durbin-Watson:                   2.021\n",
       "Prob(Omnibus):                  0.000   Jarque-Bera (JB):         13283300.893\n",
       "Skew:                          14.191   Prob(JB):                         0.00\n",
       "Kurtosis:                     351.810   Cond. No.                     2.43e+03\n",
       "==============================================================================\n",
       "\n",
       "Notes:\n",
       "[1] Standard Errors assume that the covariance matrix of the errors is correctly specified.\n",
       "[2] The condition number is large, 2.43e+03. This might indicate that there are\n",
       "strong multicollinearity or other numerical problems.\n",
       "\"\"\""
      ]
     },
     "execution_count": 175,
     "metadata": {},
     "output_type": "execute_result"
    }
   ],
   "source": [
    "import statsmodels.api as sm\n",
    "results=sm.OLS(y_train,X_train).fit() #ordinary least squares \n",
    "results.summary()"
   ]
  },
  {
   "cell_type": "code",
   "execution_count": 176,
   "id": "1ad80854-320a-4463-8d99-e069e5fcccb0",
   "metadata": {},
   "outputs": [
    {
     "name": "stdout",
     "output_type": "stream",
     "text": [
      "Mean Square Error      = 10108.183387804691\n",
      "Root Mean Square Error = 100.53946184361985\n",
      "Mean Absolute Error    = 54.70001891659417\n",
      "Median Absolute Error  = 34.73566286691664\n",
      "R^2                    = 0.42358060003253706\n"
     ]
    },
    {
     "name": "stderr",
     "output_type": "stream",
     "text": [
      "D:\\Anaconda\\lib\\site-packages\\seaborn\\distributions.py:2619: FutureWarning: `distplot` is a deprecated function and will be removed in a future version. Please adapt your code to use either `displot` (a figure-level function with similar flexibility) or `histplot` (an axes-level function for histograms).\n",
      "  warnings.warn(msg, FutureWarning)\n"
     ]
    },
    {
     "data": {
      "image/png": "[encoded data removed]",
      "text/plain": [
       "<Figure size 432x288 with 1 Axes>"
      ]
     },
     "metadata": {},
     "output_type": "display_data"
    }
   ],
   "source": [
    "import sklearn.metrics as sklm #https://scikit-learn.org/stable/modules/generated/sklearn.model_selection.train_test_split.html\n",
    "def print_metrics(y_true, y_predicted):\n",
    "    ## First compute R^2 and the adjusted R^2\n",
    "    # https://scikit-learn.org/stable/modules/generated/sklearn.metrics.r2_score.html\n",
    "    r2 = sklm.r2_score(y_true, y_predicted)\n",
    "    \n",
    "    ## Print the usual metrics and the R^2 values\n",
    "    print('Mean Square Error      = ' + str(sklm.mean_squared_error(y_true, y_predicted)))\n",
    "    print('Root Mean Square Error = ' + str(math.sqrt(sklm.mean_squared_error(y_true, y_predicted))))\n",
    "    print('Mean Absolute Error    = ' + str(sklm.mean_absolute_error(y_true, y_predicted)))\n",
    "    print('Median Absolute Error  = ' + str(sklm.median_absolute_error(y_true, y_predicted)))\n",
    "    # R-squared evaluates the scatter of the data points around the fitted regression line. It is also called the coefficient of determination, or the coefficient of multiple determination for multiple regression. For the same data set, higher R-squared values represent smaller differences between the observed data and the fitted values.\n",
    "    # https://statisticsbyjim.com/regression/interpret-r-squared-regression/\n",
    "    print('R^2                    = ' + str(r2))\n",
    "    \n",
    "\n",
    "\n",
    "def hist_resids(y_test, y_score):\n",
    "    ## first compute vector of residuals. \n",
    "    resids = np.subtract(y_test.reshape(-1,1), y_score.reshape(-1,1))\n",
    "    ## now make the residual plots\n",
    "    # https://seaborn.pydata.org/generated/seaborn.distplot.html\n",
    "    sns.distplot(resids)\n",
    "    plt.title('Histogram of residuals')\n",
    "    plt.xlabel('Residual value')\n",
    "    plt.ylabel('count')\n",
    "    plt.show()\n",
    "    \n",
    "\n",
    "\n",
    "\n",
    "print_metrics(y_test, y_test_predicted) \n",
    "hist_resids(y_test, y_test_predicted)  "
   ]
  },
  {
   "cell_type": "code",
   "execution_count": 177,
   "id": "c8557a9b-6748-41c5-8119-c02cb8813cc6",
   "metadata": {},
   "outputs": [
    {
     "data": {
      "text/plain": [
       "array([ 49.50280972,  27.72826243,  -0.24476621,  16.93773488,\n",
       "       -55.0389557 , -42.08035957,  69.55550622,  70.63354815,\n",
       "        63.36136903, -37.63652475,  11.38125717,  28.11559878,\n",
       "       -58.47879551,  47.05416554, -41.83319145,  49.86399494,\n",
       "       -57.41670737, -32.87398443,  31.40448106, -36.8921502 ,\n",
       "       -53.80643183, -34.15920263,   7.44630339, -55.32870146,\n",
       "       -29.29226881,  -1.88234962, 127.19468037,  40.36888253,\n",
       "        -9.39915387, -55.29996566])"
      ]
     },
     "execution_count": 177,
     "metadata": {},
     "output_type": "execute_result"
    }
   ],
   "source": [
    "linear_model.coef_"
   ]
  },
  {
   "cell_type": "code",
   "execution_count": 178,
   "id": "4b1d146e-1baa-4ab7-ab7b-4882f4d44a11",
   "metadata": {},
   "outputs": [
    {
     "data": {
      "text/plain": [
       "88.70117564827288"
      ]
     },
     "execution_count": 178,
     "metadata": {},
     "output_type": "execute_result"
    }
   ],
   "source": [
    "linear_model.intercept_"
   ]
  },
  {
   "cell_type": "markdown",
   "id": "059298a2-1f50-4151-8005-1d5026db7807",
   "metadata": {},
   "source": [
    "#zhai"
   ]
  },
  {
   "cell_type": "code",
   "execution_count": 179,
   "id": "bfaabebd-a4e6-4e89-9a40-8e9d420501fe",
   "metadata": {
    "id": "TRMEPBxN-geA"
   },
   "outputs": [],
   "source": [
    "import matplotlib\n",
    "import matplotlib.pyplot as plt\n",
    "import numpy as np\n",
    "import pandas as pd\n",
    "import seaborn as sns\n",
    "from sklearn.preprocessing import StandardScaler\n",
    "from sklearn.model_selection import train_test_split\n",
    "from sklearn.model_selection import GridSearchCV\n",
    "from sklearn.metrics import accuracy_score, f1_score, make_scorer, r2_score, mean_squared_error\n",
    "from sklearn.ensemble import RandomForestRegressor, GradientBoostingRegressor"
   ]
  },
  {
   "cell_type": "markdown",
   "id": "df489ce0-6623-4f10-9a5a-a5e27589255d",
   "metadata": {
    "id": "_-kft3hryV29",
    "tags": []
   },
   "source": [
    "# **Problem formulation:**\n"
   ]
  },
  {
   "cell_type": "markdown",
   "id": "7a6232a5-0738-4bca-9756-d202078691c2",
   "metadata": {
    "id": "wS1xER5KyurQ"
   },
   "source": [
    "Problem: For rental platforms like Airbnb, data about the online behavior of their customers is probably the most important business asset. Through behavioral data analysis, platforms can extract deeper consumer information and present a more personalized experience to these customers. To enhance its competitiveness, a strong customer analytics is necessary for Airbnb to gaudging the health of the business. In this project, customer preference analysis is conducted to improve Airbnb's marketing decisions such as advertisements, recommendations and promotions.\n",
    "\n",
    "1. Objective: To analyze the preferences of customers, and quantify the importantance of the preferences to improve Airbnbs's marketing decisions. \n",
    "\n",
    "2. Input: Factors which involve the preferences of customers  \n",
    "\n",
    "3. Output: The model which predicts the book rate, and the importance of the factors in the model.\n",
    "   \n",
    "4. Evaluation methods: MSE score and R2 score.  "
   ]
  },
  {
   "cell_type": "markdown",
   "id": "22e0d33e-89bb-484a-acc3-67bd6e4a6ff4",
   "metadata": {
    "id": "f107a8e0"
   },
   "source": [
    "# **Before constructing the model, some analysis is conducted by descriptiving the data in the dataset** "
   ]
  },
  {
   "cell_type": "markdown",
   "id": "209609a7-c35f-4aeb-a1a0-0ac61e5cf77d",
   "metadata": {
    "id": "Q-NC6NJ1-v_a"
   },
   "source": [
    "## **`1. Analyze the price prefered by customers**"
   ]
  },
  {
   "cell_type": "code",
   "execution_count": 180,
   "id": "97931c41-ef36-488d-bc9d-7e394a911cf8",
   "metadata": {
    "colab": {
     "base_uri": "https://localhost:8080/"
    },
    "id": "671d73fd",
    "outputId": "3688dd3e-6873-4073-c99d-3c17eef01d92"
   },
   "outputs": [
    {
     "name": "stdout",
     "output_type": "stream",
     "text": [
      "<class 'pandas.core.frame.DataFrame'>\n",
      "Int64Index: 68222 entries, 0 to 68274\n",
      "Data columns (total 6 columns):\n",
      " #   Column         Non-Null Count  Dtype         \n",
      "---  ------         --------------  -----         \n",
      " 0   listing_id     68222 non-null  int64         \n",
      " 1   id             68222 non-null  int64         \n",
      " 2   date           68222 non-null  datetime64[ns]\n",
      " 3   reviewer_id    68222 non-null  int64         \n",
      " 4   reviewer_name  68222 non-null  object        \n",
      " 5   comments       68222 non-null  object        \n",
      "dtypes: datetime64[ns](1), int64(3), object(2)\n",
      "memory usage: 3.6+ MB\n"
     ]
    },
    {
     "data": {
      "text/plain": [
       "listing_id       0\n",
       "id               0\n",
       "date             0\n",
       "reviewer_id      0\n",
       "reviewer_name    0\n",
       "comments         0\n",
       "dtype: int64"
      ]
     },
     "execution_count": 180,
     "metadata": {},
     "output_type": "execute_result"
    }
   ],
   "source": [
    "reviews_df = pd.read_csv('reviews.csv')\n",
    "reviews_df.head()\n",
    "\n",
    "# convert string date to datetime object in reviews set\n",
    "reviews_df.date = pd.to_datetime(reviews_df.date)\n",
    "reviews_df = reviews_df.dropna()\n",
    "reviews_df.info()\n",
    "reviews_df.isnull().sum()"
   ]
  },
  {
   "cell_type": "code",
   "execution_count": 181,
   "id": "e7a05ab1-8a51-4feb-9ab8-7775a57d04c0",
   "metadata": {
    "colab": {
     "base_uri": "https://localhost:8080/",
     "height": 531
    },
    "id": "e5d93975",
    "outputId": "23551b91-fa20-40a9-f756-ea15d97c5253",
    "scrolled": true
   },
   "outputs": [
    {
     "data": {
      "text/plain": [
       "Text(0, 0.5, 'Number of reviews')"
      ]
     },
     "execution_count": 181,
     "metadata": {},
     "output_type": "execute_result"
    },
    {
     "data": {
      "image/png": "[encoded data removed]",
      "text/plain": [
       "<Figure size 864x576 with 1 Axes>"
      ]
     },
     "metadata": {},
     "output_type": "display_data"
    }
   ],
   "source": [
    "import matplotlib\n",
    "import matplotlib.pyplot as plt\n",
    "import numpy as np\n",
    "import pandas as pd\n",
    "\n",
    "inputDF = pd.read_csv('listings.csv')\n",
    "inputDF=inputDF[['number_of_reviews','price','review_scores_rating']]\n",
    "\n",
    "# replacing NaN values with 0\n",
    "inputDF.fillna(0, inplace=True)\n",
    "\n",
    "#Extracting prices from the table\n",
    "price = inputDF['price']\n",
    "prices=[]\n",
    "\n",
    "#clean the data to make it float\n",
    "for p in price:\n",
    "    p=float(p[1:].replace(',',''))\n",
    "    prices.append(p)\n",
    "\n",
    "#replace the price column with the new column\n",
    "inputDF['price']=prices\n",
    "\n",
    "price_review = inputDF[['number_of_reviews', 'price']].sort_values(by = 'price')\n",
    "\n",
    "price_review.plot(x = 'price', \n",
    "                  y = 'number_of_reviews', \n",
    "                  style = 'o',\n",
    "                  figsize =(12,8),\n",
    "                  legend = False,\n",
    "                  title = 'Reviews based on Price')\n",
    "\n",
    "plt.xlabel(\"price\")\n",
    "plt.ylabel(\"Number of reviews\")"
   ]
  },
  {
   "cell_type": "markdown",
   "id": "b75389df-2fbf-4323-8d78-110a83c060fa",
   "metadata": {
    "id": "1a389299"
   },
   "source": [
    "**Discussion:** The above graph shows that listings with prices that range around 100-400 get the most reviews, probably because they are in the most reasonable price range. The number quickly declines as the price goes up. This indicates that customers prefer to the listing with price around 100-400."
   ]
  },
  {
   "cell_type": "markdown",
   "id": "fdbfba6a-7c8b-4b45-880d-5bfeb3058caf",
   "metadata": {
    "id": "784049df"
   },
   "source": [
    "## **`2. Analyze the season and day prefered by customers**"
   ]
  },
  {
   "cell_type": "code",
   "execution_count": 182,
   "id": "0d59078f-4ef1-4fe7-9944-4c854b7d8ebc",
   "metadata": {
    "colab": {
     "base_uri": "https://localhost:8080/",
     "height": 300
    },
    "id": "b5c5b0cb",
    "outputId": "fb229d5d-c66b-4693-e172-bdb538c5b01d"
   },
   "outputs": [
    {
     "data": {
      "text/plain": [
       "Text(0, 0.5, 'Number')"
      ]
     },
     "execution_count": 182,
     "metadata": {},
     "output_type": "execute_result"
    },
    {
     "data": {
      "image/png": "[encoded data removed]",
      "text/plain": [
       "<Figure size 432x288 with 1 Axes>"
      ]
     },
     "metadata": {},
     "output_type": "display_data"
    }
   ],
   "source": [
    "reviews_df['year'] = reviews_df['date'].dt.year\n",
    "reviews_df['month'] = reviews_df['date'].dt.month\n",
    " \n",
    "n_reviews_month = reviews_df.groupby('month').size()\n",
    "n_reviews_month.plot(kind='bar',color='teal');\n",
    "plt.xlabel('Month')\n",
    "plt.ylabel('Number')"
   ]
  },
  {
   "cell_type": "code",
   "execution_count": 183,
   "id": "e778694e-3070-4d14-9d26-637441dde2e7",
   "metadata": {
    "id": "a31d21fc"
   },
   "outputs": [],
   "source": [
    "calendar = pd.read_csv('calendar.csv')"
   ]
  },
  {
   "cell_type": "code",
   "execution_count": 184,
   "id": "1d7fe036-218c-4035-a75e-45127140b4be",
   "metadata": {
    "colab": {
     "base_uri": "https://localhost:8080/"
    },
    "id": "99b1513f",
    "outputId": "e2af9415-1659-4ecc-e4c6-caf0355eea60"
   },
   "outputs": [
    {
     "data": {
      "text/plain": [
       "Tuesday      96726\n",
       "Friday       95474\n",
       "Saturday     95404\n",
       "Thursday     95270\n",
       "Wednesday    94656\n",
       "Sunday       94264\n",
       "Monday       94059\n",
       "Name: date, dtype: int64"
      ]
     },
     "execution_count": 184,
     "metadata": {},
     "output_type": "execute_result"
    }
   ],
   "source": [
    "from pandas.api.types import CategoricalDtype\n",
    "\n",
    "def sort_week_day(days):\n",
    "    cats = [ 'Monday', 'Tuesday', 'Wednesday', 'Thursday', 'Friday', 'Saturday', 'Sunday']\n",
    "\n",
    "    cat_type = CategoricalDtype(categories=cats, ordered=True)\n",
    "    week_day_sorted = pd.to_datetime(days[calendar.available == 'f']).dt.day_name().astype(cat_type)\n",
    "    return week_day_sorted\n",
    "    \n",
    "only_dates = sort_week_day(calendar.date)\n",
    "only_dates.value_counts()"
   ]
  },
  {
   "cell_type": "code",
   "execution_count": 185,
   "id": "4f5543f7-a7aa-4939-9cb2-41b91b15288e",
   "metadata": {
    "colab": {
     "base_uri": "https://localhost:8080/",
     "height": 583
    },
    "id": "f3ad3265",
    "outputId": "934a4a23-6e34-4055-bad5-c2e653884681"
   },
   "outputs": [
    {
     "data": {
      "text/plain": [
       "Text(0, 0.5, 'Not available places')"
      ]
     },
     "execution_count": 185,
     "metadata": {},
     "output_type": "execute_result"
    },
    {
     "data": {
      "image/png": "[encoded data removed]",
      "text/plain": [
       "<Figure size 576x576 with 1 Axes>"
      ]
     },
     "metadata": {},
     "output_type": "display_data"
    }
   ],
   "source": [
    "plt.figure(figsize=(8, 8))\n",
    "sample_plot = sns.barplot(x=only_dates.value_counts().index, y=only_dates.value_counts())\n",
    "sample_plot.set(ylim=(93000, 98000))\n",
    "sample_plot.axes.set_title(\"Weekly users frequency\", fontsize=25, pad=40)\n",
    "sample_plot.set_xlabel(\"Week day\",fontsize=20)\n",
    "sample_plot.set_ylabel(\"Not available places\",fontsize=20)"
   ]
  },
  {
   "cell_type": "markdown",
   "id": "ec410182-82b6-4348-a05d-72e14577ba7b",
   "metadata": {
    "id": "E7BMI8Mv_9_7"
   },
   "source": [
    "**Discussion:** The above graph shows that August and Tuesday have most reviews. This indicates that customers prefer to travel in August the on Tuesday."
   ]
  },
  {
   "cell_type": "markdown",
   "id": "28a511ec-62e0-4a07-8f8c-e8350d7a251d",
   "metadata": {
    "id": "42e8e19f"
   },
   "source": [
    "## **`3. Analyze the kind of listing prefered by customers**"
   ]
  },
  {
   "cell_type": "code",
   "execution_count": 186,
   "id": "51ab0008-096a-4010-be72-3ef4277c187c",
   "metadata": {
    "colab": {
     "base_uri": "https://localhost:8080/"
    },
    "id": "6661dcd9",
    "outputId": "bcd3176e-c2a3-453d-b20a-59e9606f9963"
   },
   "outputs": [
    {
     "data": {
      "text/plain": [
       "array([ nan,  94.,  98., 100.,  99.,  90.,  96.,  80.,  97.,  91.,  95.,\n",
       "        88.,  92.,  87.,  93.,  73.,  82.,  20.,  89.,  81.,  78.,  74.,\n",
       "        60.,  86.,  85.,  75.,  79.,  70.,  83.,  64.,  84.,  40.,  68.,\n",
       "        67.,  48.,  58.,  62.,  76.,  77.,  71.,  65.,  53.,  47.,  72.,\n",
       "        46.,  50.,  66.,  69.,  55.])"
      ]
     },
     "execution_count": 186,
     "metadata": {},
     "output_type": "execute_result"
    }
   ],
   "source": [
    "#load the data\n",
    "list = pd.read_csv('listings.csv')\n",
    "features_df = list.copy()\n",
    "features_df.review_scores_rating.unique()"
   ]
  },
  {
   "cell_type": "code",
   "execution_count": 187,
   "id": "cecae465-5dd7-4f08-b87b-ffbfb2b6d949",
   "metadata": {
    "colab": {
     "base_uri": "https://localhost:8080/"
    },
    "id": "e6cab8f2",
    "outputId": "ce5d7bea-774c-4a09-f179-1fd1365e0806"
   },
   "outputs": [
    {
     "name": "stdout",
     "output_type": "stream",
     "text": [
      "<class 'pandas.core.frame.DataFrame'>\n",
      "RangeIndex: 3585 entries, 0 to 3584\n",
      "Data columns (total 95 columns):\n",
      " #   Column                            Non-Null Count  Dtype  \n",
      "---  ------                            --------------  -----  \n",
      " 0   id                                3585 non-null   int64  \n",
      " 1   listing_url                       3585 non-null   object \n",
      " 2   scrape_id                         3585 non-null   int64  \n",
      " 3   last_scraped                      3585 non-null   object \n",
      " 4   name                              3585 non-null   object \n",
      " 5   summary                           3442 non-null   object \n",
      " 6   space                             2528 non-null   object \n",
      " 7   description                       3585 non-null   object \n",
      " 8   experiences_offered               3585 non-null   object \n",
      " 9   neighborhood_overview             2170 non-null   object \n",
      " 10  notes                             1610 non-null   object \n",
      " 11  transit                           2295 non-null   object \n",
      " 12  access                            2096 non-null   object \n",
      " 13  interaction                       2031 non-null   object \n",
      " 14  house_rules                       2393 non-null   object \n",
      " 15  thumbnail_url                     2986 non-null   object \n",
      " 16  medium_url                        2986 non-null   object \n",
      " 17  picture_url                       3585 non-null   object \n",
      " 18  xl_picture_url                    2986 non-null   object \n",
      " 19  host_id                           3585 non-null   int64  \n",
      " 20  host_url                          3585 non-null   object \n",
      " 21  host_name                         3585 non-null   object \n",
      " 22  host_since                        3585 non-null   object \n",
      " 23  host_location                     3574 non-null   object \n",
      " 24  host_about                        2276 non-null   object \n",
      " 25  host_response_time                3114 non-null   object \n",
      " 26  host_response_rate                3114 non-null   object \n",
      " 27  host_acceptance_rate              3114 non-null   object \n",
      " 28  host_is_superhost                 3585 non-null   object \n",
      " 29  host_thumbnail_url                3585 non-null   object \n",
      " 30  host_picture_url                  3585 non-null   object \n",
      " 31  host_neighbourhood                3246 non-null   object \n",
      " 32  host_listings_count               3585 non-null   int64  \n",
      " 33  host_total_listings_count         3585 non-null   int64  \n",
      " 34  host_verifications                3585 non-null   object \n",
      " 35  host_has_profile_pic              3585 non-null   object \n",
      " 36  host_identity_verified            3585 non-null   object \n",
      " 37  street                            3585 non-null   object \n",
      " 38  neighbourhood                     3042 non-null   object \n",
      " 39  neighbourhood_cleansed            3585 non-null   object \n",
      " 40  neighbourhood_group_cleansed      0 non-null      float64\n",
      " 41  city                              3583 non-null   object \n",
      " 42  state                             3585 non-null   object \n",
      " 43  zipcode                           3547 non-null   object \n",
      " 44  market                            3571 non-null   object \n",
      " 45  smart_location                    3585 non-null   object \n",
      " 46  country_code                      3585 non-null   object \n",
      " 47  country                           3585 non-null   object \n",
      " 48  latitude                          3585 non-null   float64\n",
      " 49  longitude                         3585 non-null   float64\n",
      " 50  is_location_exact                 3585 non-null   object \n",
      " 51  property_type                     3582 non-null   object \n",
      " 52  room_type                         3585 non-null   object \n",
      " 53  accommodates                      3585 non-null   int64  \n",
      " 54  bathrooms                         3571 non-null   float64\n",
      " 55  bedrooms                          3575 non-null   float64\n",
      " 56  beds                              3576 non-null   float64\n",
      " 57  bed_type                          3585 non-null   object \n",
      " 58  amenities                         3585 non-null   object \n",
      " 59  square_feet                       56 non-null     float64\n",
      " 60  price                             3585 non-null   object \n",
      " 61  weekly_price                      892 non-null    object \n",
      " 62  monthly_price                     888 non-null    object \n",
      " 63  security_deposit                  1342 non-null   object \n",
      " 64  cleaning_fee                      2478 non-null   object \n",
      " 65  guests_included                   3585 non-null   int64  \n",
      " 66  extra_people                      3585 non-null   object \n",
      " 67  minimum_nights                    3585 non-null   int64  \n",
      " 68  maximum_nights                    3585 non-null   int64  \n",
      " 69  calendar_updated                  3585 non-null   object \n",
      " 70  has_availability                  0 non-null      float64\n",
      " 71  availability_30                   3585 non-null   int64  \n",
      " 72  availability_60                   3585 non-null   int64  \n",
      " 73  availability_90                   3585 non-null   int64  \n",
      " 74  availability_365                  3585 non-null   int64  \n",
      " 75  calendar_last_scraped             3585 non-null   object \n",
      " 76  number_of_reviews                 3585 non-null   int64  \n",
      " 77  first_review                      2829 non-null   object \n",
      " 78  last_review                       2829 non-null   object \n",
      " 79  review_scores_rating              2772 non-null   float64\n",
      " 80  review_scores_accuracy            2762 non-null   float64\n",
      " 81  review_scores_cleanliness         2767 non-null   float64\n",
      " 82  review_scores_checkin             2765 non-null   float64\n",
      " 83  review_scores_communication       2767 non-null   float64\n",
      " 84  review_scores_location            2763 non-null   float64\n",
      " 85  review_scores_value               2764 non-null   float64\n",
      " 86  requires_license                  3585 non-null   object \n",
      " 87  license                           0 non-null      float64\n",
      " 88  jurisdiction_names                0 non-null      float64\n",
      " 89  instant_bookable                  3585 non-null   object \n",
      " 90  cancellation_policy               3585 non-null   object \n",
      " 91  require_guest_profile_picture     3585 non-null   object \n",
      " 92  require_guest_phone_verification  3585 non-null   object \n",
      " 93  calculated_host_listings_count    3585 non-null   int64  \n",
      " 94  reviews_per_month                 2829 non-null   float64\n",
      "dtypes: float64(18), int64(15), object(62)\n",
      "memory usage: 2.6+ MB\n"
     ]
    }
   ],
   "source": [
    "features_df.info()"
   ]
  },
  {
   "cell_type": "code",
   "execution_count": 188,
   "id": "074c33b5-bdaf-4c2f-a8a8-40299fc68805",
   "metadata": {
    "id": "acdf5968",
    "scrolled": true
   },
   "outputs": [],
   "source": [
    "ratings_per_neighbourhood = features_df.groupby(['neighbourhood_cleansed', 'property_type']).review_scores_rating.mean()"
   ]
  },
  {
   "cell_type": "code",
   "execution_count": 189,
   "id": "9358d66a-997f-44bf-9679-3a269d3fc7b0",
   "metadata": {
    "colab": {
     "base_uri": "https://localhost:8080/"
    },
    "id": "1716682e",
    "outputId": "9209197e-15a2-49b3-e724-f12fc5fe2adc"
   },
   "outputs": [
    {
     "data": {
      "text/plain": [
       "neighbourhood_cleansed  property_type  \n",
       "Downtown                Boat               100.0\n",
       "Brighton                Loft               100.0\n",
       "Charlestown             Entire Floor       100.0\n",
       "Bay Village             Townhouse          100.0\n",
       "                        Guesthouse         100.0\n",
       "                                           ...  \n",
       "Fenway                  Bed & Breakfast      NaN\n",
       "Jamaica Plain           Entire Floor         NaN\n",
       "Longwood Medical Area   Loft                 NaN\n",
       "Roxbury                 Entire Floor         NaN\n",
       "                        Loft                 NaN\n",
       "Name: review_scores_rating, Length: 132, dtype: float64"
      ]
     },
     "execution_count": 189,
     "metadata": {},
     "output_type": "execute_result"
    }
   ],
   "source": [
    "ratings_per_neighbourhood.sort_values(ascending=False)"
   ]
  },
  {
   "cell_type": "code",
   "execution_count": 190,
   "id": "ff59888c-21bd-4639-b499-14c9c0de4299",
   "metadata": {
    "id": "939ee520"
   },
   "outputs": [],
   "source": [
    "ratings_per_property_type = features_df.groupby('property_type').review_scores_rating.mean()\n",
    "ratings_per_neighbourhood_type = features_df.groupby('neighbourhood_cleansed').review_scores_rating.mean()"
   ]
  },
  {
   "cell_type": "code",
   "execution_count": 191,
   "id": "548b1828-f459-4d1f-9ee3-c7d88f2dd00f",
   "metadata": {
    "colab": {
     "base_uri": "https://localhost:8080/"
    },
    "id": "61499b96",
    "outputId": "f938ebaf-70a1-4b9d-99f2-f932b9bb2edd"
   },
   "outputs": [
    {
     "data": {
      "text/plain": [
       "property_type\n",
       "Apartment           91.514141\n",
       "Bed & Breakfast     91.800000\n",
       "Boat                91.454545\n",
       "Condominium         94.451977\n",
       "Dorm                86.500000\n",
       "Entire Floor       100.000000\n",
       "Guesthouse         100.000000\n",
       "House               92.204593\n",
       "Loft                96.312500\n",
       "Other               88.111111\n",
       "Townhouse           94.760870\n",
       "Villa               99.500000\n",
       "Name: review_scores_rating, dtype: float64"
      ]
     },
     "execution_count": 191,
     "metadata": {},
     "output_type": "execute_result"
    }
   ],
   "source": [
    "ratings_per_property_type = ratings_per_property_type.dropna()\n",
    "ratings_per_property_type"
   ]
  },
  {
   "cell_type": "code",
   "execution_count": 192,
   "id": "e3154b20-6bcf-4121-b97d-26f583f346cf",
   "metadata": {
    "colab": {
     "base_uri": "https://localhost:8080/",
     "height": 366
    },
    "id": "dc3f8aa4",
    "outputId": "c6f2dbe5-32a3-4baf-9f69-13c5c4aa228e"
   },
   "outputs": [
    {
     "data": {
      "image/png": "[encoded data removed]",
      "text/plain": [
       "<Figure size 432x288 with 1 Axes>"
      ]
     },
     "metadata": {},
     "output_type": "display_data"
    }
   ],
   "source": [
    "ratings_per_property_type.plot(kind='bar',color='teal');\n",
    "plt.xlabel('Property types')\n",
    "plt.ylabel('Average rating score')\n",
    "plt.title('Property Type vs Average Rating Chart');"
   ]
  },
  {
   "cell_type": "code",
   "execution_count": 193,
   "id": "7b925fdb-4eab-4263-9422-18b16521e805",
   "metadata": {
    "colab": {
     "base_uri": "https://localhost:8080/",
     "height": 408
    },
    "id": "fb482992",
    "outputId": "22a5332a-6e56-48d2-a50c-5cfaff983171"
   },
   "outputs": [
    {
     "data": {
      "image/png": "[encoded data removed]",
      "text/plain": [
       "<Figure size 432x288 with 1 Axes>"
      ]
     },
     "metadata": {},
     "output_type": "display_data"
    }
   ],
   "source": [
    "ratings_per_neighbourhood_type.plot(kind='bar',color='teal');\n",
    "plt.xlabel('Neighbourhood types')\n",
    "plt.ylabel('Average rating score')\n",
    "plt.title('Neighbourhood Type vs Average Rating Chart');"
   ]
  },
  {
   "cell_type": "code",
   "execution_count": 194,
   "id": "1651d54c-149d-4616-b798-db0ce8556af2",
   "metadata": {
    "colab": {
     "base_uri": "https://localhost:8080/",
     "height": 481
    },
    "id": "35c57c8b",
    "outputId": "56f06c13-e4fb-478a-d0f5-ea4442e0ee13"
   },
   "outputs": [
    {
     "data": {
      "text/plain": [
       "Text(0.5, 1.0, 'Reviews based on neighbourhood and property type')"
      ]
     },
     "execution_count": 194,
     "metadata": {},
     "output_type": "execute_result"
    },
    {
     "data": {
      "image/png": "[encoded data removed]",
      "text/plain": [
       "<Figure size 720x360 with 1 Axes>"
      ]
     },
     "metadata": {},
     "output_type": "display_data"
    }
   ],
   "source": [
    "plt.figure(figsize=(10, 5))\n",
    "sns.scatterplot(x='neighbourhood_cleansed', y='property_type', hue='review_scores_rating', data=features_df)\n",
    "plt.xticks(rotation=90);\n",
    "plt.title('Reviews based on neighbourhood and property type')"
   ]
  },
  {
   "cell_type": "markdown",
   "id": "ed480a33-3ce9-4d30-bd3d-f80278c3122c",
   "metadata": {
    "id": "PcjMBreyBWmH"
   },
   "source": [
    "**Discussion:** The above graphs show that \"Entire Floor\" and \"Guesthouse\" and listings in Longwood Medical Area got the highest rating, probably because they give customers the best experience. This indicates that the kind of listings that customers prefer to rent."
   ]
  },
  {
   "cell_type": "markdown",
   "id": "1c894b4a-bfca-4d63-ab92-8f6bfe56620a",
   "metadata": {
    "id": "142E4z_7GE2c"
   },
   "source": [
    "\n",
    "\n",
    "---\n",
    "\n"
   ]
  },
  {
   "cell_type": "markdown",
   "id": "190915ce-59a2-4cfc-b575-aaab98ab72fe",
   "metadata": {
    "id": "310bd244"
   },
   "source": [
    "Now that we've analyzed multiple aspects of customer preferences. However, there are still some features which indicate the uesr preference, but human cannot detect them in the data, so we can employ machine learning techniques.\n",
    "\n",
    "User preference can be represented by the book rate quantitatively, so a model regarding to book rate can be introduced to predict user preference. For the book rate model, the response variable is the availibaility_365, the total number of day available in one year.The book rate can simply converted by: 1-availibaility_365/365."
   ]
  },
  {
   "cell_type": "markdown",
   "id": "fa103751-2740-4145-b662-ecc4c0780991",
   "metadata": {
    "id": "31VKV-DAFdzr"
   },
   "source": [
    "# **Data preparation and preprocessing pipeline**"
   ]
  },
  {
   "cell_type": "markdown",
   "id": "8b78dc08-fa13-4a4e-af14-f9e4d304f711",
   "metadata": {
    "id": "2Gs56NpfM9iS"
   },
   "source": [
    "## **Data cleaning**"
   ]
  },
  {
   "cell_type": "code",
   "execution_count": 195,
   "id": "b7649361-da2f-47c3-a04b-b89dadcd45c5",
   "metadata": {
    "id": "ff4698c5",
    "scrolled": true
   },
   "outputs": [],
   "source": [
    "listings = pd.read_csv('listings.csv', delimiter = ',')"
   ]
  },
  {
   "cell_type": "code",
   "execution_count": 196,
   "id": "0dd0a4dd-cd5b-4253-a3c6-9f602b10ba85",
   "metadata": {
    "id": "dce95f14"
   },
   "outputs": [],
   "source": [
    "# keep the features which involve the decisions of customers\n",
    "cols = ['id', 'host_id', 'host_since', 'last_scraped', 'host_response_time', 'host_response_rate', 'host_acceptance_rate', \n",
    "             'host_is_superhost', \\\n",
    "             'host_identity_verified', 'neighbourhood_cleansed', 'city', 'neighbourhood_group_cleansed', \\\n",
    "             'latitude', 'longitude', 'property_type', 'room_type', 'accommodates', 'bathrooms', \\\n",
    "             'bedrooms', 'beds', 'bed_type', 'square_feet', 'price', 'weekly_price', \\\n",
    "             'monthly_price', 'security_deposit', 'cleaning_fee', 'guests_included', 'extra_people', \\\n",
    "             'minimum_nights', 'maximum_nights', 'has_availability', 'availability_365', 'number_of_reviews', \\\n",
    "             'first_review', 'review_scores_rating', 'review_scores_accuracy', 'review_scores_cleanliness', \\\n",
    "             'review_scores_checkin', 'review_scores_communication', 'review_scores_value', 'requires_license', \\\n",
    "             'license', 'instant_bookable', 'cancellation_policy', 'require_guest_profile_picture', \\\n",
    "             'require_guest_phone_verification', 'calculated_host_listings_count', 'reviews_per_month']\n",
    "cleaned_list = listings[cols]"
   ]
  },
  {
   "cell_type": "code",
   "execution_count": 197,
   "id": "067d5d4e-1e00-4c4b-b05a-91722c8245c6",
   "metadata": {
    "id": "tflV0hCqUMS9"
   },
   "outputs": [],
   "source": [
    "# drop high-NaN columns\n",
    "cleaned_list = cleaned_list.drop(labels = ['license', 'square_feet', 'monthly_price', 'weekly_price', \\\n",
    "                                           'has_availability', 'neighbourhood_group_cleansed'], axis = 1)"
   ]
  },
  {
   "cell_type": "code",
   "execution_count": 198,
   "id": "c2b2ba12-4a3a-44a3-bfda-ec1328e434ba",
   "metadata": {
    "id": "oWm8exwFSGdo"
   },
   "outputs": [],
   "source": [
    "def parse_dollar(x):\n",
    "\n",
    "    if x is np.nan:\n",
    "        return 0\n",
    "    elif isinstance(x, str):\n",
    "        return float(x[1:-3].replace(\",\", \"\"))\n",
    "    else:\n",
    "        return x\n",
    "\n",
    "def parse_percentage(x):\n",
    "\n",
    "    if isinstance(x, str):\n",
    "        return float(x[0:-1])\n",
    "    else:\n",
    "        return x\n",
    "\n",
    "# formatting from string to the correct format\n",
    "cleaned_list['security_deposit'] = cleaned_list['security_deposit'].apply(parse_dollar)\n",
    "cleaned_list['cleaning_fee'] = cleaned_list['cleaning_fee'].apply(parse_dollar)\n",
    "cleaned_list['price'] = cleaned_list['price'].apply(parse_dollar)\n",
    "cleaned_list['extra_people'] = cleaned_list['extra_people'].apply(parse_dollar)\n",
    "cleaned_list['host_response_rate'] = cleaned_list['host_response_rate'].apply(parse_percentage)\n",
    "cleaned_list['host_acceptance_rate'] = cleaned_list['host_acceptance_rate'].apply(parse_percentage)\n",
    "cleaned_list['last_scraped'] = pd.to_datetime(cleaned_list['last_scraped'])\n",
    "cleaned_list['host_since'] = pd.to_datetime(cleaned_list['host_since'])"
   ]
  },
  {
   "cell_type": "code",
   "execution_count": 199,
   "id": "b53e030d-5d69-4e91-8584-f50e4946fad1",
   "metadata": {
    "colab": {
     "base_uri": "https://localhost:8080/",
     "height": 297
    },
    "id": "waRXLhYOVQoQ",
    "outputId": "39e8716b-a9d5-4ffd-e2ce-40202f9304ea"
   },
   "outputs": [
    {
     "data": {
      "text/plain": [
       "Text(0, 0.5, 'Row Count')"
      ]
     },
     "execution_count": 199,
     "metadata": {},
     "output_type": "execute_result"
    },
    {
     "data": {
      "image/png": "[encoded data removed]",
      "text/plain": [
       "<Figure size 432x288 with 1 Axes>"
      ]
     },
     "metadata": {},
     "output_type": "display_data"
    }
   ],
   "source": [
    "# create a column to flag if the row contain any NaN value\n",
    "cleaned_list['has_NaN'] = (cleaned_list.isnull().sum(axis = 1)/cleaned_list.shape[1]) > 0\n",
    "# plot NaN distribution\n",
    "nan_rows = (cleaned_list.isnull().sum(axis = 1)/cleaned_list.shape[1]).sort_values(ascending = False)\n",
    "ax = nan_rows.hist()\n",
    "ax.set_xlabel(\"% NaN\")\n",
    "ax.set_ylabel(\"Row Count\")"
   ]
  },
  {
   "cell_type": "code",
   "execution_count": 200,
   "id": "724e8643-d28c-47f7-8dc0-a420ec1bf043",
   "metadata": {
    "colab": {
     "base_uri": "https://localhost:8080/"
    },
    "id": "zkth9iVkVUb7",
    "outputId": "949c0dd9-0924-4ec7-9fa8-816a43f8b83a"
   },
   "outputs": [
    {
     "name": "stdout",
     "output_type": "stream",
     "text": [
      "All data with any missing value has been dropped\n"
     ]
    }
   ],
   "source": [
    "# drop data containing any missing values\n",
    "dropped_list = cleaned_list.iloc[nan_rows[(nan_rows==0)].index.tolist(), :].reset_index(drop = True)\n",
    "nan_list = cleaned_list.iloc[nan_rows[(nan_rows>0)].index.tolist(), :].reset_index(drop = True)\n",
    "print(\"All data with any missing value has been dropped\")"
   ]
  },
  {
   "cell_type": "code",
   "execution_count": 216,
   "id": "dcaf3eaf-8e43-4900-a2d3-6d6b3628ddbd",
   "metadata": {
    "id": "uZyqIpnHVKdk"
   },
   "outputs": [],
   "source": [
    "# replace missing values with the most frequent value in the column\n",
    "\n",
    "def impute_mode(df, variable):\n",
    "\n",
    "    # find most frequent category\n",
    "    most_frequent_category = df.groupby([variable])[variable].count().sort_values(ascending=False).index[0]\n",
    "    \n",
    "    # replace NA\n",
    "    df[variable].fillna(most_frequent_category, inplace=True)\n",
    "    \n",
    "impute_cols = cleaned_list.columns[cleaned_list.isnull().any()]\n",
    "for col in impute_cols:\n",
    "    impute_mode(cleaned_list, col)"
   ]
  },
  {
   "cell_type": "code",
   "execution_count": 217,
   "id": "a6e2bab6-52de-4d51-8911-65133fdbbb20",
   "metadata": {
    "id": "567501b6"
   },
   "outputs": [],
   "source": [
    "# convert the availability to booking rate\n",
    "cleaned_list['booked_365'] = cleaned_list['availability_365'].apply(lambda x: (365 - x)/365*100)\n",
    "\n",
    "\n",
    "from datetime import datetime\n",
    "\n",
    "# calculate the day difference based the two dates: host_since and last_scrape\n",
    "def day_diff(df):\n",
    "    \n",
    "    if ('last_scraped' in df.columns) & ('host_since' in df.columns):\n",
    "        df['host_days'] = (pd.to_datetime(df['last_scraped']) - pd.to_datetime(df['host_since'])).apply(lambda x: x.days)\n",
    "    else:\n",
    "        print('Error: Date column does not exist in the dataset!')\n",
    "        \n",
    "# return day of the week based on the date provide       \n",
    "def date2day(x):\n",
    "    \n",
    "    if isinstance(x, datetime):\n",
    "        return x.isoweekday()\n",
    "    else:\n",
    "        return x\n",
    "\n",
    "    \n",
    "day_diff(cleaned_list)\n",
    "\n",
    "# # convert date to day\n",
    "# cleaned_list['day'] = cleaned_list.last_scraped.apply(date2day)\n",
    "\n",
    "# drop unnecessary columns in modeling the host booking rate\n",
    "feature_to_drop = ['id', 'host_id', 'latitude', 'longitude', 'city', \\\n",
    "                   'host_since', 'last_scraped', 'first_review', 'requires_license', 'availability_365']\n",
    "processed_list = cleaned_list.drop(labels = feature_to_drop, axis = 1)"
   ]
  },
  {
   "cell_type": "code",
   "execution_count": 218,
   "id": "55e98dff-a9f9-498f-995d-a3cc680fee27",
   "metadata": {
    "id": "adf62601"
   },
   "outputs": [],
   "source": [
    "# Convert host_response_time to integer numbers\n",
    "def engineer_host_response_time(x):\n",
    "\n",
    "    if x == 'within an hour':\n",
    "        return 1\n",
    "    elif x == 'within a few hours':\n",
    "        return 2\n",
    "    elif x == 'within a day':\n",
    "        return 3\n",
    "    elif x == 'a few days or more':\n",
    "        return 4\n",
    "    else:\n",
    "        return x\n",
    "\n",
    "# Convert cacellation_policy to ordinal number    \n",
    "def engineer_cancellation_policy(x):\n",
    "\n",
    "    if x == 'flexible':\n",
    "        return 1\n",
    "    elif x == 'moderate':\n",
    "        return 2\n",
    "    elif x == 'strict':\n",
    "        return 3\n",
    "    elif x == 'super_strict_30':\n",
    "        return 4\n",
    "    else:\n",
    "        return x\n",
    "\n",
    "\n",
    "processed_list.host_response_time = processed_list.host_response_time.apply(engineer_host_response_time)\n",
    "processed_list.cancellation_policy = processed_list.cancellation_policy.apply(engineer_cancellation_policy)"
   ]
  },
  {
   "cell_type": "code",
   "execution_count": 219,
   "id": "8eab017c-d2d1-4f67-b402-3dd7ee9d74d6",
   "metadata": {
    "id": "3c583696"
   },
   "outputs": [],
   "source": [
    "# convert string 't' and 'f' to 1 and 0\n",
    "def encode_binary(x):\n",
    "    \n",
    "    if x == 'f':\n",
    "        return 0\n",
    "    elif x == 't':\n",
    "        return 1\n",
    "    else:\n",
    "        return x\n",
    "\n",
    "processed_list.host_is_superhost = processed_list.host_is_superhost.apply(encode_binary)\n",
    "processed_list.host_identity_verified = processed_list.host_identity_verified.apply(encode_binary)\n",
    "processed_list.instant_bookable = processed_list.instant_bookable.apply(encode_binary)\n",
    "processed_list.require_guest_profile_picture = processed_list.require_guest_profile_picture.apply(encode_binary)\n",
    "processed_list.require_guest_phone_verification = processed_list.require_guest_phone_verification.apply(encode_binary)"
   ]
  },
  {
   "cell_type": "markdown",
   "id": "502a928a-4ebf-4159-9c6b-328841124d1a",
   "metadata": {
    "id": "B4Xg17bXM1V-"
   },
   "source": [
    "## **Data preprocessing**"
   ]
  },
  {
   "cell_type": "code",
   "execution_count": 220,
   "id": "d1c0eab8-f483-4232-a101-0874b08c80ea",
   "metadata": {
    "id": "85a6a288"
   },
   "outputs": [],
   "source": [
    "cat_features = ['neighbourhood_cleansed', 'property_type', 'room_type', 'bed_type']\n",
    "processed_list = pd.get_dummies(data = processed_list, columns = cat_features)"
   ]
  },
  {
   "cell_type": "markdown",
   "id": "ff4bf501-a66e-4459-ae2a-1b131e49c85f",
   "metadata": {
    "id": "xme7B2wSNMxA"
   },
   "source": [
    "# **Model description**"
   ]
  },
  {
   "cell_type": "markdown",
   "id": "0aa4ef50-840d-4cb9-b0c1-7bd810e35de8",
   "metadata": {
    "id": "tQq83WHKNXdu"
   },
   "source": [
    "Based on previous work, Random Forest Clssifier is best in training the model, but the parameters are difficult to choose. In order to select the appropriate parameters, GridSearch() is defined to find the optimal parameters automatically First, we define these models and obtain them from sklearn.\n",
    "Here is the description for Random Forest Classifier:   \n",
    "* <b>RandomForestClassifier</b>     \n",
    "This is an integrated learning method that works by training multiple decision trees on a training set and then combining their predictions to produce a final prediction. Random forests usually perform well on high-dimensional datasets and can handle non-linear relationships well.   "
   ]
  },
  {
   "cell_type": "code",
   "execution_count": 221,
   "id": "2dc6eadc-abce-4385-b889-f13737a2b58d",
   "metadata": {
    "id": "KqL6MoCTLHXc"
   },
   "outputs": [],
   "source": [
    "def GridSearch(X_train, X_test, y_train, y_test, criterion = ['mse'], n_estimators = [300, 600],\n",
    "                  method = 'GBDT', learning_rate = 0.5, validate = False, cv = 5,\n",
    "                  max_features = ['auto'], max_depth = [10, 20, 40], min_samples_leaf = [2,4], n_jobs = -1):\n",
    "    '''\n",
    "    Usage: use gridsearch to find optimal parameters for the random forest (RF) regressor.\n",
    "    Input: training and testing sets from X and y variables\n",
    "    Output: the best regressor\n",
    "    '''\n",
    "       \n",
    "    clf = RandomForestRegressor(random_state=42, n_jobs = n_jobs)\n",
    "        \n",
    "    parameters = {'criterion': criterion,\n",
    "                  'n_estimators': n_estimators,\n",
    "                  'max_depth': max_depth,\n",
    "                  'min_samples_leaf':min_samples_leaf,\n",
    "                  'max_features':max_features\n",
    "                 }\n",
    "    \n",
    "    #Use gridsearch to find the best-model parameters.\n",
    "    grid_obj = GridSearchCV(clf, parameters, cv = cv)\n",
    "    grid_fit = grid_obj.fit(X_train, y_train)\n",
    "    \n",
    "    #obtaining best model, fit it to training set\n",
    "    best_clf = grid_fit.best_estimator_\n",
    "    best_clf.fit(X_train, y_train)\n",
    "\n",
    "    # Make predictions using the new model.\n",
    "    best_train_predictions = best_clf.predict(X_train)\n",
    "    print('The training MSE Score is', mean_squared_error(y_train, best_train_predictions))\n",
    "    print('The training R2 Score is', r2_score(y_train, best_train_predictions))\n",
    "    \n",
    "    if validate:\n",
    "        best_test_predictions = best_clf.predict(X_test)\n",
    "        print('The testing MSE Score is', mean_squared_error(y_test, best_test_predictions))\n",
    "        print('The testing R2 Score is', r2_score(y_test, best_test_predictions))\n",
    "    return best_clf"
   ]
  },
  {
   "cell_type": "markdown",
   "id": "d10e4121-a2ad-4890-a3fc-1a780e747d2c",
   "metadata": {
    "id": "E705zkMpOWqs"
   },
   "source": [
    "# **Experiments**"
   ]
  },
  {
   "cell_type": "markdown",
   "id": "103b0caa-14a6-4530-8bcd-1fec5c9658a8",
   "metadata": {
    "id": "vL3WVlOSOrWD"
   },
   "source": [
    "## **1. Define the model**"
   ]
  },
  {
   "cell_type": "code",
   "execution_count": 222,
   "id": "10a38c58-3909-4100-b973-0242c7c963af",
   "metadata": {
    "id": "FLvzpsheOxSo"
   },
   "outputs": [],
   "source": [
    "# select features used for modeling\n",
    "data = processed_list.copy()\n",
    "drop_cols = ['reviews_per_month', 'calculated_host_listings_count','review_scores_accuracy',\n",
    "             'review_scores_cleanliness', 'review_scores_checkin', 'review_scores_communication', \n",
    "             'review_scores_value']\n",
    "\n",
    "data.drop(labels = drop_cols, axis = 1, inplace = True)\n",
    "\n",
    "## apply feature scaling\n",
    "scaler = StandardScaler()\n",
    "data_transformed = pd.DataFrame(data = scaler.fit_transform(data), index = data.index, columns = data.columns)\n",
    "X_transformed = data_transformed.drop(labels = ['booked_365'], axis = 1)\n",
    "y_transformed = data_transformed[['booked_365']].iloc[:,0]\n",
    "X_train, X_test, y_train, y_test = train_test_split(X_transformed, y_transformed, test_size = 0.3, random_state = 42)\n",
    "\n",
    "criterion = ['squared_error']\n",
    "method = 'RF' \n",
    "n_estimators =  [200, 400]\n",
    "max_features = [30, 50, 70] \n",
    "max_depth = [10, 20, 40] \n",
    "min_samples_leaf = [2,4]\n",
    "learning_rate = 0.001"
   ]
  },
  {
   "cell_type": "markdown",
   "id": "16b712c4-5ef3-40b5-9658-28ed96862872",
   "metadata": {
    "id": "68rQlPBUPACp"
   },
   "source": [
    "# **2. Get the best model**"
   ]
  },
  {
   "cell_type": "code",
   "execution_count": 223,
   "id": "84e817df-0477-4132-81a2-facfca82069f",
   "metadata": {
    "colab": {
     "base_uri": "https://localhost:8080/"
    },
    "id": "a618c810",
    "outputId": "26e245cb-d634-4122-9d58-67c9c7fac99c"
   },
   "outputs": [
    {
     "name": "stdout",
     "output_type": "stream",
     "text": [
      "The training MSE Score is 0.15952228848511027\n",
      "The training R2 Score is 0.8401485756240699\n"
     ]
    }
   ],
   "source": [
    "\n",
    "best_clf = GridSearch(X_train, X_test, y_train, y_test, method = method, learning_rate = learning_rate, \\\n",
    "                         criterion = criterion, n_estimators = n_estimators, \\\n",
    "                         max_features = max_features, max_depth = max_depth, min_samples_leaf = min_samples_leaf)"
   ]
  },
  {
   "cell_type": "markdown",
   "id": "5fb2f1e8-5f3e-4ff4-a90f-d6b43ddbee02",
   "metadata": {
    "id": "-9edn10vPGK5"
   },
   "source": [
    "# **Results**"
   ]
  },
  {
   "cell_type": "code",
   "execution_count": 224,
   "id": "fdea6ac3-3501-436a-b018-2c1b591b97ae",
   "metadata": {
    "colab": {
     "base_uri": "https://localhost:8080/",
     "height": 283
    },
    "id": "CJdUqKjXZj0p",
    "outputId": "3a1c82a7-8273-4b54-c9a8-78e009537d40"
   },
   "outputs": [
    {
     "data": {
      "text/plain": [
       "<AxesSubplot:ylabel='feature'>"
      ]
     },
     "execution_count": 224,
     "metadata": {},
     "output_type": "execute_result"
    },
    {
     "data": {
      "image/png": "[encoded data removed]",
      "text/plain": [
       "<Figure size 432x288 with 1 Axes>"
      ]
     },
     "metadata": {},
     "output_type": "display_data"
    }
   ],
   "source": [
    "importances = best_clf.feature_importances_ \n",
    "feat_names = X_train.columns\n",
    "tree_result = pd.DataFrame({'feature': feat_names, 'importance': importances})\n",
    "tree_result.sort_values(by='importance',ascending=True)[-10:].plot(x='feature', y='importance', kind='barh')"
   ]
  },
  {
   "cell_type": "markdown",
   "id": "16a2102f-7ebe-480c-8b96-2d83bd688202",
   "metadata": {
    "id": "t7maGzK7PNXZ"
   },
   "source": [
    "# **Discussion**"
   ]
  },
  {
   "cell_type": "markdown",
   "id": "7576d2c9-d97f-4f87-b9f3-597d9c4a703f",
   "metadata": {
    "id": "CvY6xGhMPQq-"
   },
   "source": [
    "The Book rate model above indicates top 10 customer preferences that AirBnB customers evaluate when choosing the homestay among the listings. In general, they prefer the following listings:\n",
    "\n",
    "*   listings with high hosts credit\n",
    "*   listings with good hosts communications\n",
    "*   listings with high ratings, including the number of review, and the overall review score\n",
    "*   listing with reasonable price\n",
    "\n",
    "In summary, customers tend to choose the listing with more reviews and good rating score. They also prefer experienced hosts, and appreciate a smooth communication with the host. Last but not least, price is the key factor that finalizes their decisions.\n",
    "\n",
    "In order to improve the competitiveness, Airbnb should always improve its marketing decisions, from the abovementioned analysis, It should advertise, recommend, and promote the listings which have the abovementioned preferences with price around 100-400 on August."
   ]
  },
  {
   "cell_type": "markdown",
   "id": "dc73b649-a516-4d5b-b1c7-0e716c1a0ca6",
   "metadata": {},
   "source": [
    "#lei"
   ]
  },
  {
   "cell_type": "code",
   "execution_count": 225,
   "id": "873efd58-d334-40a8-94b7-be8b834eba31",
   "metadata": {},
   "outputs": [],
   "source": [
    "import pandas as pd\n",
    "import nltk\n",
    "from nltk.corpus import stopwords\n",
    "from nltk.stem import SnowballStemmer\n",
    "from nltk.tokenize import word_tokenize\n",
    "import re\n",
    "import matplotlib.pyplot as plt\n",
    "from sklearn.model_selection import train_test_split"
   ]
  },
  {
   "cell_type": "markdown",
   "id": "0a647f14-9935-43d1-813e-d813e4ab0077",
   "metadata": {},
   "source": [
    "<h1>Problem formulation: </h1> \n",
    "Problem: Only the total rating for each house type is available in the dataset. However, for the Airbnb platform, feedback from individual users is also extremely important. We can know the bad host from the negative review ratio, and can get more information from negative feed information.\n",
    "\n",
    "1: Objective: To achieve a ranking of the positive ratings of properties based on the positive feedback from individual users. Also, to recommend appropriate listings for customers with too many bad reviews.    \n",
    "\n",
    "2: Input: user reviews, data type is text data.    \n",
    "\n",
    "3: Output: prediction of the positivity of user reviews, user reviews are labeled as positive, positive as 1, negative as 0.   \n",
    "\n",
    "4: Evaluation methods: accuracy, precision, recall, F1 score.  "
   ]
  },
  {
   "cell_type": "markdown",
   "id": "ccfcdbbd-eb10-41f8-9129-8530ade509f4",
   "metadata": {},
   "source": [
    "<h1>Data preparation and Preprocessing pipeline:</h1>"
   ]
  },
  {
   "cell_type": "markdown",
   "id": "9a0de500-00a5-425b-af51-56eef03e6cc1",
   "metadata": {},
   "source": [
    "<h2>Data cleaning part</h2>"
   ]
  },
  {
   "cell_type": "markdown",
   "id": "9808b4d6-7bb6-477c-9b76-192d0cf12c08",
   "metadata": {},
   "source": [
    "1. read the data from csv file and display it"
   ]
  },
  {
   "cell_type": "code",
   "execution_count": 226,
   "id": "e6e460e3-0b9c-42c5-8bf3-695b0eed1ca6",
   "metadata": {},
   "outputs": [],
   "source": [
    "review_df = pd.read_csv(\"reviews.csv\")"
   ]
  },
  {
   "cell_type": "code",
   "execution_count": 227,
   "id": "0dbcbc43-cc75-40ff-b959-31a033035d9a",
   "metadata": {
    "scrolled": true
   },
   "outputs": [
    {
     "data": {
      "text/html": [
       "<div>\n",
       "<style scoped>\n",
       "    .dataframe tbody tr th:only-of-type {\n",
       "        vertical-align: middle;\n",
       "    }\n",
       "\n",
       "    .dataframe tbody tr th {\n",
       "        vertical-align: top;\n",
       "    }\n",
       "\n",
       "    .dataframe thead th {\n",
       "        text-align: right;\n",
       "    }\n",
       "</style>\n",
       "<table border=\"1\" class=\"dataframe\">\n",
       "  <thead>\n",
       "    <tr style=\"text-align: right;\">\n",
       "      <th></th>\n",
       "      <th>listing_id</th>\n",
       "      <th>id</th>\n",
       "      <th>date</th>\n",
       "      <th>reviewer_id</th>\n",
       "      <th>reviewer_name</th>\n",
       "      <th>comments</th>\n",
       "    </tr>\n",
       "  </thead>\n",
       "  <tbody>\n",
       "    <tr>\n",
       "      <th>0</th>\n",
       "      <td>1178162</td>\n",
       "      <td>4724140</td>\n",
       "      <td>2013-05-21</td>\n",
       "      <td>4298113</td>\n",
       "      <td>Olivier</td>\n",
       "      <td>My stay at islam's place was really cool! Good...</td>\n",
       "    </tr>\n",
       "    <tr>\n",
       "      <th>1</th>\n",
       "      <td>1178162</td>\n",
       "      <td>4869189</td>\n",
       "      <td>2013-05-29</td>\n",
       "      <td>6452964</td>\n",
       "      <td>Charlotte</td>\n",
       "      <td>Great location for both airport and city - gre...</td>\n",
       "    </tr>\n",
       "    <tr>\n",
       "      <th>2</th>\n",
       "      <td>1178162</td>\n",
       "      <td>5003196</td>\n",
       "      <td>2013-06-06</td>\n",
       "      <td>6449554</td>\n",
       "      <td>Sebastian</td>\n",
       "      <td>We really enjoyed our stay at Islams house. Fr...</td>\n",
       "    </tr>\n",
       "    <tr>\n",
       "      <th>3</th>\n",
       "      <td>1178162</td>\n",
       "      <td>5150351</td>\n",
       "      <td>2013-06-15</td>\n",
       "      <td>2215611</td>\n",
       "      <td>Marine</td>\n",
       "      <td>The room was nice and clean and so were the co...</td>\n",
       "    </tr>\n",
       "    <tr>\n",
       "      <th>4</th>\n",
       "      <td>1178162</td>\n",
       "      <td>5171140</td>\n",
       "      <td>2013-06-16</td>\n",
       "      <td>6848427</td>\n",
       "      <td>Andrew</td>\n",
       "      <td>Great location. Just 5 mins walk from the Airp...</td>\n",
       "    </tr>\n",
       "    <tr>\n",
       "      <th>...</th>\n",
       "      <td>...</td>\n",
       "      <td>...</td>\n",
       "      <td>...</td>\n",
       "      <td>...</td>\n",
       "      <td>...</td>\n",
       "      <td>...</td>\n",
       "    </tr>\n",
       "    <tr>\n",
       "      <th>68270</th>\n",
       "      <td>7462268</td>\n",
       "      <td>80537457</td>\n",
       "      <td>2016-06-18</td>\n",
       "      <td>22034145</td>\n",
       "      <td>Antonio</td>\n",
       "      <td>Joe y su mujer son encantadores. La habitación...</td>\n",
       "    </tr>\n",
       "    <tr>\n",
       "      <th>68271</th>\n",
       "      <td>7462268</td>\n",
       "      <td>83640094</td>\n",
       "      <td>2016-07-03</td>\n",
       "      <td>40052513</td>\n",
       "      <td>Steve</td>\n",
       "      <td>Joe was on his way to Jamaica to be married! o...</td>\n",
       "    </tr>\n",
       "    <tr>\n",
       "      <th>68272</th>\n",
       "      <td>7462268</td>\n",
       "      <td>85797088</td>\n",
       "      <td>2016-07-13</td>\n",
       "      <td>77129134</td>\n",
       "      <td>Nick</td>\n",
       "      <td>The room was very clean as were the bathrooms ...</td>\n",
       "    </tr>\n",
       "    <tr>\n",
       "      <th>68273</th>\n",
       "      <td>7462268</td>\n",
       "      <td>97264637</td>\n",
       "      <td>2016-08-26</td>\n",
       "      <td>15799803</td>\n",
       "      <td>Vid</td>\n",
       "      <td>Staying in Lower Allston at Joe and Nancy's pl...</td>\n",
       "    </tr>\n",
       "    <tr>\n",
       "      <th>68274</th>\n",
       "      <td>7462268</td>\n",
       "      <td>98550693</td>\n",
       "      <td>2016-08-31</td>\n",
       "      <td>90128094</td>\n",
       "      <td>Arianna</td>\n",
       "      <td>The room itself and the aprtment were very cle...</td>\n",
       "    </tr>\n",
       "  </tbody>\n",
       "</table>\n",
       "<p>68275 rows × 6 columns</p>\n",
       "</div>"
      ],
      "text/plain": [
       "       listing_id        id        date  reviewer_id reviewer_name  \\\n",
       "0         1178162   4724140  2013-05-21      4298113       Olivier   \n",
       "1         1178162   4869189  2013-05-29      6452964     Charlotte   \n",
       "2         1178162   5003196  2013-06-06      6449554     Sebastian   \n",
       "3         1178162   5150351  2013-06-15      2215611        Marine   \n",
       "4         1178162   5171140  2013-06-16      6848427        Andrew   \n",
       "...           ...       ...         ...          ...           ...   \n",
       "68270     7462268  80537457  2016-06-18     22034145       Antonio   \n",
       "68271     7462268  83640094  2016-07-03     40052513         Steve   \n",
       "68272     7462268  85797088  2016-07-13     77129134          Nick   \n",
       "68273     7462268  97264637  2016-08-26     15799803           Vid   \n",
       "68274     7462268  98550693  2016-08-31     90128094       Arianna   \n",
       "\n",
       "                                                comments  \n",
       "0      My stay at islam's place was really cool! Good...  \n",
       "1      Great location for both airport and city - gre...  \n",
       "2      We really enjoyed our stay at Islams house. Fr...  \n",
       "3      The room was nice and clean and so were the co...  \n",
       "4      Great location. Just 5 mins walk from the Airp...  \n",
       "...                                                  ...  \n",
       "68270  Joe y su mujer son encantadores. La habitación...  \n",
       "68271  Joe was on his way to Jamaica to be married! o...  \n",
       "68272  The room was very clean as were the bathrooms ...  \n",
       "68273  Staying in Lower Allston at Joe and Nancy's pl...  \n",
       "68274  The room itself and the aprtment were very cle...  \n",
       "\n",
       "[68275 rows x 6 columns]"
      ]
     },
     "execution_count": 227,
     "metadata": {},
     "output_type": "execute_result"
    }
   ],
   "source": [
    "review_df"
   ]
  },
  {
   "cell_type": "markdown",
   "id": "50b0c524-f0c6-4ccb-8147-13f2b1cfa13a",
   "metadata": {},
   "source": [
    "2. Select the appropriate data type"
   ]
  },
  {
   "cell_type": "code",
   "execution_count": 228,
   "id": "9b55ce39-57bc-4af9-b447-aec18282ed7e",
   "metadata": {},
   "outputs": [],
   "source": [
    "review_df['comments'] = review_df['comments'].astype(str)\n",
    "review_df.date = pd.to_datetime(review_df.date)"
   ]
  },
  {
   "cell_type": "markdown",
   "id": "fd3056f4-f1f5-499d-8834-bc3ac982da31",
   "metadata": {},
   "source": [
    "3. drop null value"
   ]
  },
  {
   "cell_type": "code",
   "execution_count": 229,
   "id": "ff06a428-52d4-4e9d-9124-a061635eca9a",
   "metadata": {},
   "outputs": [
    {
     "name": "stdout",
     "output_type": "stream",
     "text": [
      "<class 'pandas.core.frame.DataFrame'>\n",
      "RangeIndex: 68275 entries, 0 to 68274\n",
      "Data columns (total 6 columns):\n",
      " #   Column         Non-Null Count  Dtype         \n",
      "---  ------         --------------  -----         \n",
      " 0   listing_id     68275 non-null  int64         \n",
      " 1   id             68275 non-null  int64         \n",
      " 2   date           68275 non-null  datetime64[ns]\n",
      " 3   reviewer_id    68275 non-null  int64         \n",
      " 4   reviewer_name  68275 non-null  object        \n",
      " 5   comments       68275 non-null  object        \n",
      "dtypes: datetime64[ns](1), int64(3), object(2)\n",
      "memory usage: 3.1+ MB\n"
     ]
    },
    {
     "data": {
      "text/plain": [
       "listing_id       0\n",
       "id               0\n",
       "date             0\n",
       "reviewer_id      0\n",
       "reviewer_name    0\n",
       "comments         0\n",
       "dtype: int64"
      ]
     },
     "execution_count": 229,
     "metadata": {},
     "output_type": "execute_result"
    }
   ],
   "source": [
    "review_df.dropna(inplace=True)\n",
    "review_df.info()\n",
    "review_df.isnull().sum()"
   ]
  },
  {
   "cell_type": "markdown",
   "id": "2d5851ac-120c-46c0-897a-fe584b5f43ac",
   "metadata": {},
   "source": [
    "4. use a language detect package to delete the non-english sentences"
   ]
  },
  {
   "cell_type": "code",
   "execution_count": 231,
   "id": "2858792e-31d7-4797-a369-2a308d8521c2",
   "metadata": {},
   "outputs": [
    {
     "name": "stderr",
     "output_type": "stream",
     "text": [
      "Script file 'D:\\Anaconda\\Scripts\\pip-script.py' is not present.\n"
     ]
    },
    {
     "ename": "ModuleNotFoundError",
     "evalue": "No module named 'langdetect'",
     "output_type": "error",
     "traceback": [
      "\u001b[1;31m---------------------------------------------------------------------------\u001b[0m",
      "\u001b[1;31mModuleNotFoundError\u001b[0m                       Traceback (most recent call last)",
      "Input \u001b[1;32mIn [231]\u001b[0m, in \u001b[0;36m<cell line: 2>\u001b[1;34m()\u001b[0m\n\u001b[0;32m      1\u001b[0m get_ipython()\u001b[38;5;241m.\u001b[39msystem(\u001b[38;5;124m'\u001b[39m\u001b[38;5;124mpip install langdetect\u001b[39m\u001b[38;5;124m'\u001b[39m)\n\u001b[1;32m----> 2\u001b[0m \u001b[38;5;28;01mimport\u001b[39;00m \u001b[38;5;21;01mlangdetect\u001b[39;00m\n\u001b[0;32m      4\u001b[0m \u001b[38;5;28;01mdef\u001b[39;00m \u001b[38;5;21mis_english\u001b[39m(text):\n\u001b[0;32m      5\u001b[0m     \u001b[38;5;28;01mtry\u001b[39;00m:\n",
      "\u001b[1;31mModuleNotFoundError\u001b[0m: No module named 'langdetect'"
     ]
    }
   ],
   "source": [
    "import langdetect\n",
    "\n",
    "def is_english(text):\n",
    "    try:\n",
    "        return langdetect.detect(text) == \"en\"\n",
    "    except:\n",
    "        return False\n",
    "\n",
    "review_df = review_df[review_df[\"comments\"].apply(is_english)]\n",
    "review_df = review_df[review_df['comments'].apply(lambda x: len(x.split()) >= 5)]"
   ]
  },
  {
   "cell_type": "markdown",
   "id": "06a4e5e6-0c56-43f2-bbcd-60ad92cfba4c",
   "metadata": {},
   "source": [
    "5. delete stop words which have no contribution to the sentence meaning"
   ]
  },
  {
   "cell_type": "code",
   "execution_count": null,
   "id": "4576b43d-64b7-461f-86be-d5b24a6a1b21",
   "metadata": {},
   "outputs": [],
   "source": [
    "def clean_comment(text):\n",
    "    text = re.sub(r\"[^\\w\\s]\", \"\", text).lower()\n",
    "    tokens = text.split()\n",
    "    stopwords = [\"a\", \"an\", \"the\", \"and\", \"but\", \"if\", \"or\", \"because\", \"as\", \"what\", \"which\", \"this\", \"that\", \"these\", \"those\", \"then\", \"just\", \"so\", \"than\", \"such\", \"both\", \"through\", \"about\", \"for\", \"is\", \"of\", \"while\", \"during\", \"to\", \"What\", \"Which\", \"Who\", \"How\", \"Whom\", \"The\"]\n",
    "    tokens = [token for token in tokens if token not in stopwords]\n",
    "    \n",
    "    # Return the cleaned and preprocessed review text\n",
    "    return \" \".join(tokens)"
   ]
  },
  {
   "cell_type": "code",
   "execution_count": null,
   "id": "c6308513-5a45-4033-af11-9e35b7a159dd",
   "metadata": {
    "scrolled": true
   },
   "outputs": [],
   "source": [
    "review_df[\"comments\"] = review_df[\"comments\"].apply(clean_comment)"
   ]
  },
  {
   "cell_type": "markdown",
   "id": "57aafc93-c128-4a8d-b85f-a3877e70c9b8",
   "metadata": {},
   "source": [
    "<h2>Data processing</h2>"
   ]
  },
  {
   "cell_type": "markdown",
   "id": "b89774d9-8d09-4e20-94c7-dc93fd692f8a",
   "metadata": {},
   "source": [
    "1. Combine room reviews from same listings together according to the listing id."
   ]
  },
  {
   "cell_type": "code",
   "execution_count": null,
   "id": "ee08ce91-329a-4f5d-a08e-69e7663c5a09",
   "metadata": {},
   "outputs": [],
   "source": [
    "grouped = review_df.groupby('listing_id')\n",
    "aggregated_comments = grouped['comments'].apply(lambda x: ''.join(x))\n",
    "aggregated_review_df = pd.DataFrame({'listing_id': aggregated_comments.index, 'comments': aggregated_comments.values})"
   ]
  },
  {
   "cell_type": "markdown",
   "id": "0d97da73-46b0-4486-91c2-87e5a5bc056f",
   "metadata": {},
   "source": [
    "2. Combine the rating and description data from listing dataframe"
   ]
  },
  {
   "cell_type": "code",
   "execution_count": null,
   "id": "57230dda-b5a8-4d0d-ade8-8795f5541511",
   "metadata": {},
   "outputs": [],
   "source": [
    "listings_df = pd.read_csv('listings.csv')\n",
    "listings_df.fillna(0, inplace=True)\n",
    "listings_df = listings_df.rename(columns={\"id\": \"listing_id\"})\n"
   ]
  },
  {
   "cell_type": "code",
   "execution_count": null,
   "id": "09f35ae1-52c9-40d1-9de0-94a4d8940845",
   "metadata": {},
   "outputs": [],
   "source": [
    "aggregated_review_df = pd.merge(aggregated_review_df, listings_df[['listing_id', 'review_scores_rating', 'description']], on=\"listing_id\")\n",
    "aggregated_review_df = aggregated_review_df[aggregated_review_df[\"review_scores_rating\"] != 0]\n"
   ]
  },
  {
   "cell_type": "markdown",
   "id": "bc214eea-365e-4096-9524-c4719621e51e",
   "metadata": {},
   "source": [
    "3. plot the figure to check the distribution of ratings"
   ]
  },
  {
   "cell_type": "code",
   "execution_count": null,
   "id": "b0f3ef52-12cd-41f3-a167-e93f67a3720e",
   "metadata": {},
   "outputs": [],
   "source": [
    "plt.hist(aggregated_review_df['review_scores_rating'], bins=100)\n",
    "plt.xlabel('Rating')\n",
    "plt.ylabel('Number of Reviews')\n",
    "plt.title('Distribution of Ratings')\n",
    "plt.show()\n"
   ]
  },
  {
   "cell_type": "markdown",
   "id": "554a0c83-cc09-4b62-afed-7a1e5df5e000",
   "metadata": {},
   "source": [
    "<b>Discussion:</b>  \n",
    "From the histogram we can see that the most selected rating is 100, and most of the ratings are located above 90. In order to distinguish between positive and negative reviews, we positioned the house reviews with a score of 90 or higher as positive reviews.  \n",
    "4. Label the rating positiveness"
   ]
  },
  {
   "cell_type": "code",
   "execution_count": null,
   "id": "5e25790c-7d70-4b62-be29-5009e2420440",
   "metadata": {},
   "outputs": [],
   "source": [
    "def is_positive(x):\n",
    "    if x >= 90:\n",
    "        return 1\n",
    "    else:\n",
    "        return 0\n",
    "\n",
    "aggregated_review_df['positive'] = aggregated_review_df['review_scores_rating'].apply(is_positive)"
   ]
  },
  {
   "cell_type": "markdown",
   "id": "cf16aff9-8eda-4a97-a007-7b4979f1475d",
   "metadata": {},
   "source": [
    "<h1>Model description</h1>"
   ]
  },
  {
   "cell_type": "markdown",
   "id": "0cb0e22b-6fbc-4b30-90f1-b3feec9563d8",
   "metadata": {},
   "source": [
    "1. In order to select the appropriate model, four models were selected simultaneously to test the accuracy on the data. First, we define these models and obtain them from sklearn.\n",
    "Here is the description for selected models:  \n",
    "* <b>MultinomialNB</b>     \n",
    "This is a plain Bayesian classifier for polynomial data. It assumes that all features are independent of each other and uses probabilities to predict the classification of the target variable.MultinomialNB is often used for text classification because it works well with digitized text data.  \n",
    "* <b>RandomForestClassifier</b>     \n",
    "This is an integrated learning method that works by training multiple decision trees on a training set and then combining their predictions to produce a final prediction. Random forests usually perform well on high-dimensional datasets and can handle non-linear relationships well.  \n",
    "* <b>KNeighborsClassifier</b>    \n",
    "This is an instance-based learning method that predicts the class of a test sample by computing the distance between the test sample and the training sample. kNeighborsClassifier is typically used for classification and regression problems and handles nonlinear relationships well.  \n",
    "* <b>BernoulliNB</b>  \n",
    "This is also a plain Bayesian classifier, similar to MultinomialNB, but it assumes that the features are binary, i.e., they have only two possible values (0 or 1).BernoulliNB is usually used for text classification because it can handle binary word bags well.  "
   ]
  },
  {
   "cell_type": "code",
   "execution_count": null,
   "id": "1815bbb5-8784-490b-a1f4-66713ce30408",
   "metadata": {},
   "outputs": [],
   "source": [
    "from sklearn.naive_bayes import MultinomialNB\n",
    "from sklearn.ensemble import RandomForestClassifier\n",
    "from sklearn.neighbors import KNeighborsClassifier\n",
    "from sklearn.naive_bayes import BernoulliNB"
   ]
  },
  {
   "cell_type": "code",
   "execution_count": null,
   "id": "795944b4-e7c6-4b0b-804d-fbf28000ba97",
   "metadata": {},
   "outputs": [],
   "source": [
    "models = [\n",
    "    BernoulliNB(),\n",
    "    MultinomialNB(),\n",
    "    KNeighborsClassifier(),\n",
    "    RandomForestClassifier(),\n",
    "]\n",
    "\n",
    "classifier_Names = ['BernoulliNB', 'MultinomialNB',\n",
    "                    'KNeighborsClassifier', 'RandomForestClassifier']"
   ]
  },
  {
   "cell_type": "markdown",
   "id": "0ac9e494-3a8b-4e6d-a096-4e12493e29ca",
   "metadata": {},
   "source": [
    "<h1>Experiments</h1>"
   ]
  },
  {
   "cell_type": "markdown",
   "id": "81d7bece-d29b-4855-85aa-e69d343dee7f",
   "metadata": {},
   "source": [
    "1. Check the sample distribution to prevent unbalanced"
   ]
  },
  {
   "cell_type": "code",
   "execution_count": null,
   "id": "393fd228-3ef7-4172-8d6a-2c17a810f27d",
   "metadata": {},
   "outputs": [],
   "source": [
    "counts = aggregated_review_df['positive'].value_counts()\n",
    "print(counts)"
   ]
  },
  {
   "cell_type": "markdown",
   "id": "29e01b4e-6726-47a5-941d-564efb02675e",
   "metadata": {},
   "source": [
    "2. Define training dataset and  test dataset"
   ]
  },
  {
   "cell_type": "code",
   "execution_count": null,
   "id": "cdb6db38-3bcd-4ae6-9a3e-b26010cd5946",
   "metadata": {},
   "outputs": [],
   "source": [
    "from sklearn.model_selection import train_test_split\n",
    "from sklearn.feature_extraction.text import CountVectorizer,TfidfVectorizer\n",
    "vectorizer = TfidfVectorizer()\n",
    "X = vectorizer.fit_transform(aggregated_review_df['comments'])\n",
    "y = aggregated_review_df['positive']\n",
    "\n",
    "X_train, X_test, y_train, y_test = train_test_split(X, y, test_size=0.2)"
   ]
  },
  {
   "cell_type": "markdown",
   "id": "936ac74b-9273-4090-9bf3-b8ee767ad606",
   "metadata": {},
   "source": [
    "3. Model test"
   ]
  },
  {
   "cell_type": "code",
   "execution_count": null,
   "id": "d8f33b33-9079-42a1-8957-fe220f64c3fb",
   "metadata": {},
   "outputs": [],
   "source": [
    "from sklearn.metrics import accuracy_score\n",
    "\n",
    "\n",
    "for name, model in zip(classifier_Names, models):\n",
    "    model.fit(X_train, y_train)\n",
    "    pre_labels = model.predict(X_test)\n",
    "    score = accuracy_score(y_test, pre_labels)\n",
    "    print('%s: %.2f' % (name, score))"
   ]
  },
  {
   "cell_type": "markdown",
   "id": "7083f27a-c5f0-40a5-8cdc-d0a1302213e2",
   "metadata": {},
   "source": [
    "<b>Discussion:</b>  \n",
    "Random Forest get the best results, so we select this as the model to predict our results"
   ]
  },
  {
   "cell_type": "markdown",
   "id": "907bf7d6-d63a-4fa8-8b46-e0b3241ab21e",
   "metadata": {},
   "source": [
    "4. Define the final selected model and train"
   ]
  },
  {
   "cell_type": "code",
   "execution_count": null,
   "id": "8efb5816-5e46-4029-8683-a4a8a74a242d",
   "metadata": {},
   "outputs": [],
   "source": [
    "from sklearn.naive_bayes import MultinomialNB\n",
    "vectorizer = TfidfVectorizer()\n",
    "X = vectorizer.fit_transform(aggregated_review_df['comments'])\n",
    "y = aggregated_review_df['positive']\n",
    "\n",
    "X_train, X_test, y_train, y_test = train_test_split(X, y, test_size=0.2)\n",
    "\n",
    "model = RandomForestClassifier()\n",
    "model.fit(X_train, y_train)"
   ]
  },
  {
   "cell_type": "markdown",
   "id": "cdfd9f00-03c8-4e60-81aa-71c794cc36cd",
   "metadata": {},
   "source": [
    "<h1>Results</h1>"
   ]
  },
  {
   "cell_type": "markdown",
   "id": "1603ccb7-c0b2-47c6-bb11-0aa2a17bb87f",
   "metadata": {},
   "source": [
    "1. Use the metrics.classification_report method the results."
   ]
  },
  {
   "cell_type": "code",
   "execution_count": null,
   "id": "d5a183cd-dec2-47d5-9337-4e6b8a375a25",
   "metadata": {},
   "outputs": [],
   "source": [
    "from sklearn import metrics\n",
    "own_model_result = model.predict(X_test)\n",
    "print(metrics.classification_report(y_test, own_model_result))"
   ]
  },
  {
   "cell_type": "markdown",
   "id": "b459c25a-f88d-4af5-8d29-81446237fc79",
   "metadata": {},
   "source": [
    "<b>Discussion:</b>  \n",
    "* <b>precision:</b>   \n",
    "This is an indicator of the precision rate, which indicates the percentage of samples predicted to be in a given category that actually belong to that category. For example, a precision of 1.00 for predicting category 0 means that all samples predicted as category 0 actually belong to category 0.  \n",
    "* <b>recall:</b>   \n",
    "This is an indicator of recall and indicates the proportion of samples that belong to a given category that are predicted to be in that category. For example, a recall of 1.00 for predicting category 1 means that all samples belonging to category 1 are correctly predicted as category 1.  \n",
    "* <b>f1-score:</b>   \n",
    "This is the f1-score metric, which is the summed average of the precision and recall rates. f1-score helps you understand how well the classifier balances precision and recall.  \n",
    "* <b>support:</b>   \n",
    "This is the number of samples per category.  \n",
    "* <b>accuracy:</b>   \n",
    "This is the accuracy of the classifier and indicates the percentage of samples where the category predicted by the classifier is the same as the actual category.  \n",
    "* <b>macro avg:</b>   \n",
    "This is the macro average of the categories and represents the average of the metrics for each category. In this case, the macro average precision is 0.89, the macro average recall is 0.58, and the macro average f1 score is 0.58.\n",
    "\n",
    "* <b>weighted avg:</b>   \n",
    "This is the weighted average, which represents the average of the metrics for each category multiplied by their sample size in the dataset and then the sum is calculated. In this case, the weighted average precision is 0.83, the weighted average recall is 0.79, and the weighted average f1 score is 0.72.  \n",
    "\n",
    "According to the classification report, your classifier performs better in predicting samples with category 0, as its precision rate is 1.00, recall rate is 0.16, and f1 score is 0.28. However, it performs worse in predicting samples with category 1, as its precision rate is 0.78, recall rate is 1.00, and f1 score is 0.88. Overall, the classifier has an accuracy rate of 0.79. The macro average precision and recall were 0.89 and 0.58, respectively, and the weighted average precision and recall were 0.83 and 0.79, respectively."
   ]
  },
  {
   "cell_type": "markdown",
   "id": "f1766b1f-2c8b-4b6d-b73a-1364c0fc8165",
   "metadata": {},
   "source": [
    "2. To further evaluate the model results, we use ROC diagram and AUC value."
   ]
  },
  {
   "cell_type": "code",
   "execution_count": null,
   "id": "d434fc00-baa1-4782-a275-f66e109e4940",
   "metadata": {},
   "outputs": [],
   "source": [
    "X_res = vectorizer.fit_transform(aggregated_review_df['comments'])\n",
    "predictions = [round(i[1], 5) for i in model.predict_proba(X_res)]\n",
    "aggregated_review_df['predict_positive'] = predictions"
   ]
  },
  {
   "cell_type": "code",
   "execution_count": null,
   "id": "df186d18-e0ce-4828-81a2-b022583b26eb",
   "metadata": {},
   "outputs": [],
   "source": [
    "from sklearn.metrics import roc_curve\n",
    "from sklearn.metrics import roc_auc_score\n",
    "fpr, tpr, thresholds = roc_curve(aggregated_review_df['positive'], aggregated_review_df['predict_positive'])\n",
    "plt.plot(fpr, tpr)\n",
    "plt.plot([0, 1], [0, 1], linestyle='--')\n",
    "plt.xlabel('False Positive Rate')\n",
    "plt.ylabel('True Positive Rate')\n",
    "plt.title('ROC Curve')\n",
    "plt.show()\n",
    "\n",
    "auc = roc_auc_score(aggregated_review_df['positive'], aggregated_review_df['predict_positive'])\n",
    "print(auc)"
   ]
  },
  {
   "cell_type": "markdown",
   "id": "b0de51ad-371a-4552-8007-b749fa94a40e",
   "metadata": {},
   "source": [
    "<b>Discussion:</b>  \n",
    "In general, our model has a good performace in positive prediction. So we can know that the rating is related to the review."
   ]
  },
  {
   "cell_type": "markdown",
   "id": "9a85adc7-8d63-40e6-8d48-9ba2e5d661e7",
   "metadata": {},
   "source": [
    "5. Prediction for evey single review."
   ]
  },
  {
   "cell_type": "code",
   "execution_count": null,
   "id": "99cdc925-74cd-4f20-afa6-58bff4ccd8da",
   "metadata": {},
   "outputs": [],
   "source": [
    "X_sep = vectorizer.transform(review_df['comments'])\n",
    "prediction_sep = model.predict(X_sep)\n",
    "review_df['score'] = prediction_sep"
   ]
  },
  {
   "cell_type": "code",
   "execution_count": null,
   "id": "c9aa3973-7e0b-4c0b-84db-8ed712fb3c60",
   "metadata": {},
   "outputs": [],
   "source": [
    "counts = review_df['score'].value_counts()\n",
    "print(counts)"
   ]
  },
  {
   "cell_type": "markdown",
   "id": "fc75918a-bc0b-452d-a0f5-0b3e12e886b5",
   "metadata": {},
   "source": [
    "<b>Discussion:</b>  \n",
    "From the model results, there are 63186 positive review and 718 negative review."
   ]
  },
  {
   "cell_type": "markdown",
   "id": "d9d4a466-0ed8-4e0c-9e12-5222cef069b2",
   "metadata": {},
   "source": [
    "6. Get the positive review ratio for each listing_id."
   ]
  },
  {
   "cell_type": "code",
   "execution_count": null,
   "id": "61a3d806-5b41-474f-814b-7232c5619f9c",
   "metadata": {
    "scrolled": true
   },
   "outputs": [],
   "source": [
    "review_df_counts_listing = review_df.groupby(\"listing_id\")[\"score\"].mean()\n",
    "review_df_counts_listing = review_df_counts_listing.reset_index()\n",
    "review_df_counts_listing = review_df_counts_listing.rename(columns={\"score\": \"ratio\"})\n",
    "review_df_counts_listing"
   ]
  },
  {
   "cell_type": "code",
   "execution_count": null,
   "id": "bd6d7b98-df4e-483b-806b-4c0c1fb62a3d",
   "metadata": {},
   "outputs": [],
   "source": [
    "review_df[review_df[\"score\"] == 0]['comments']"
   ]
  },
  {
   "cell_type": "markdown",
   "id": "33664d83-fa8b-40df-9fa9-dc5927dc54c7",
   "metadata": {},
   "source": [
    "7. Display the negative review word cloud"
   ]
  },
  {
   "cell_type": "code",
   "execution_count": null,
   "id": "b8b95a5e-bf0d-40a8-8173-a3587c789d65",
   "metadata": {},
   "outputs": [],
   "source": [
    "review_df_zero_score = review_df[review_df[\"score\"] == 0]\n",
    "comments_text = \" \".join(review_df_zero_score[\"comments\"])\n",
    "wordcloud_neg = WordCloud().generate(comments_text)\n",
    "\n",
    "# Display the wordcloud\n",
    "plt.imshow(wordcloud_neg, interpolation='bilinear')\n",
    "plt.axis(\"off\")\n",
    "plt.show()"
   ]
  },
  {
   "cell_type": "markdown",
   "id": "134a2b23-28b0-442c-ba57-a8bbb5851c10",
   "metadata": {},
   "source": [
    "8. Display the positive review word cloud"
   ]
  },
  {
   "cell_type": "code",
   "execution_count": null,
   "id": "84de2257-e162-467c-b844-58c5bf40dbaf",
   "metadata": {},
   "outputs": [],
   "source": [
    "review_df_one_score = review_df[review_df[\"score\"] == 1]\n",
    "comments_text = \" \".join(review_df_one_score[\"comments\"])\n",
    "wordcloud_pos = WordCloud().generate(comments_text)\n",
    "\n",
    "# Display the wordcloud\n",
    "plt.imshow(wordcloud_pos, interpolation='bilinear')\n",
    "plt.axis(\"off\")\n",
    "plt.show()"
   ]
  },
  {
   "cell_type": "markdown",
   "id": "746b3a7f-5385-4de8-bca2-cb2c0d16901c",
   "metadata": {},
   "source": [
    "<h1>Discussion</h1>  \n",
    "Now we can get the listing_id with maximum negative review number and ratio, the platform Airbnb should have some penalty on these listing_id to encourage them for improvement"
   ]
  },
  {
   "cell_type": "code",
   "execution_count": null,
   "id": "7158f6ea-acfb-4a0e-a97b-c73b487fa52c",
   "metadata": {},
   "outputs": [],
   "source": [
    "review_df_counts_listing.sort_values(by='ratio').head(100)\n"
   ]
  },
  {
   "cell_type": "code",
   "execution_count": null,
   "id": "a926dbb7-6419-441f-a31e-4c9546950531",
   "metadata": {},
   "outputs": [],
   "source": [
    "review_df_ratios_reviewer = review_df.assign(score=lambda x: x[\"score\"].astype(bool))\n",
    "review_df_ratios_reviewer = review_df_ratios_reviewer.groupby(\"reviewer_id\")[\"score\"].mean()\n",
    "review_df_ratios_reviewer = review_df_ratios_reviewer.reset_index()\n",
    "review_df_ratios_reviewer = review_df_ratios_reviewer.rename(columns={\"score\": \"ratio\"})\n",
    "review_df_ratios_reviewer[\"ratio\"] = review_df_ratios_reviewer[\"ratio\"].astype(int)"
   ]
  },
  {
   "cell_type": "code",
   "execution_count": null,
   "id": "607dc1e4-3616-4497-bcc1-ca9d4604c134",
   "metadata": {},
   "outputs": [],
   "source": [
    "review_df_ratios_reviewer"
   ]
  },
  {
   "cell_type": "markdown",
   "id": "e476e611-63be-4883-8bc7-bff32841c49b",
   "metadata": {},
   "source": [
    "From the word cloud, we can see that both positive and negative comments are most concerned with place, apartment, room, etc. Besides these most obvious ones, we can find negative comments with words like place, dirty and cancel, etc. Host needs to make improvements in these areas."
   ]
  },
  {
   "cell_type": "markdown",
   "id": "9ec63ced-8244-4bef-9618-dd88e1feb928",
   "metadata": {},
   "source": [
    "#Yu"
   ]
  },
  {
   "cell_type": "markdown",
   "id": "03ba3db0-d3f8-4677-bbf3-d1e8c5cc4d33",
   "metadata": {},
   "source": [
    "# Exploration of factors related to Availability_Rate \n",
    "\n",
    "**Introduction** In this section, the data preparation would be divided into three steps: data cleaning, data transformation and data visualization. \n",
    "\n",
    "1. **Data cleaning** \n",
    "- Null-value\n",
    "- Missing value\n",
    "- Duplicates\n",
    "- Special Symbol like stripping dollar, comma character\n",
    "2. **Data transformtion** \n",
    "- String->Date\n",
    "- 0/1 -> Bollean\n",
    "- String -> Float\n",
    "- Extract month and year from date string and rewrite values\n",
    "3. **Visualization** \n",
    "- Visualization of Room Type and availability_rate\n",
    "- Visualization of accommodates and availability_rate\n",
    "- Visualization of neighbourhood\n",
    "- Visualization of Amenities Num\n",
    "- Visualization of different room type,property type and vailability_rate\n",
    "\n",
    "**Research Question**\n",
    "\n",
    "\n",
    "\n"
   ]
  },
  {
   "cell_type": "code",
   "execution_count": null,
   "id": "9c4ac718-0697-417d-934b-3b3fcb509451",
   "metadata": {},
   "outputs": [],
   "source": [
    "import pandas as pd\n",
    "import matplotlib.pyplot as plt\n",
    "import seaborn as sns\n",
    "import numpy as np\n",
    "import numpy.random as nr\n",
    "import math\n",
    "\n",
    "%matplotlib inline"
   ]
  },
  {
   "cell_type": "code",
   "execution_count": null,
   "id": "d64d840d-6902-4b40-9c7b-49a3409ddea4",
   "metadata": {},
   "outputs": [],
   "source": [
    "Calendar = pd.read_csv(\"calendar.csv\")\n",
    "listings_df = pd.read_csv(\"listings.csv\")\n",
    "reviews_df = pd.read_csv(\"reviews.csv\")"
   ]
  },
  {
   "cell_type": "markdown",
   "id": "1e990523-7692-4b03-8132-51884c6304d1",
   "metadata": {},
   "source": [
    "## Data Cleaning"
   ]
  },
  {
   "cell_type": "code",
   "execution_count": null,
   "id": "98680915-ac5f-43c4-90a7-064a091d41fd",
   "metadata": {},
   "outputs": [],
   "source": [
    "Calendar.head()"
   ]
  },
  {
   "cell_type": "code",
   "execution_count": null,
   "id": "8e3c4669-7e05-4bb3-b21e-faf6feb710f4",
   "metadata": {},
   "outputs": [],
   "source": [
    "#Show the information of the data\n",
    "Calendar.info()"
   ]
  },
  {
   "cell_type": "code",
   "execution_count": null,
   "id": "8c84dbe8-0ca9-4caa-b7aa-de2873caa2bb",
   "metadata": {},
   "outputs": [],
   "source": [
    "#describe the count of the data \n",
    "Calendar.describe(include='object')"
   ]
  },
  {
   "cell_type": "code",
   "execution_count": null,
   "id": "9b8ae835-7b4e-41c8-9dac-7ef4a6718231",
   "metadata": {},
   "outputs": [],
   "source": [
    "#Drop the duplicate values\n",
    "Calendar.drop_duplicates()"
   ]
  },
  {
   "cell_type": "code",
   "execution_count": null,
   "id": "5812de3c-281f-439c-8e6d-06e704c14b51",
   "metadata": {},
   "outputs": [],
   "source": [
    "#Visualization of the null value in calendar.csv\n",
    "import missingno as msno\n",
    "\n",
    "msno.matrix(Calendar);"
   ]
  },
  {
   "cell_type": "code",
   "execution_count": null,
   "id": "ad15639f-0b94-4150-a49e-ee627d456345",
   "metadata": {},
   "outputs": [],
   "source": [
    "#Visualization of the null value in calendar.csv\n",
    "msno.matrix(Calendar);"
   ]
  },
  {
   "cell_type": "code",
   "execution_count": null,
   "id": "0de8eaff-2d31-48f4-bdc0-73ef1df09b19",
   "metadata": {},
   "outputs": [],
   "source": [
    "# Extract month and year from date string and rewrite values\n",
    "\n",
    "Calendar['date'] = pd.to_datetime(Calendar.date)\n",
    "    \n",
    "month = Calendar['date'].dt.month\n",
    "month = month.replace({1:'January', 2:'February', 3:'March', 4:'April', 5:'May', 6:'June', 7:'July', 8:'August', 9:'Septempber', 10:'October', 11:'November', 12:'December'})\n",
    " \n",
    "year =Calendar['date'].dt.year\n",
    "    \n",
    "Calendar['Month'] = month\n",
    "Calendar['Year'] = year"
   ]
  },
  {
   "cell_type": "code",
   "execution_count": null,
   "id": "725c9286-7fd6-4ddc-9f74-5fd2ae1b6277",
   "metadata": {},
   "outputs": [],
   "source": [
    "#Show 10 lines of Calendar\n",
    "Calendar.sample(10)"
   ]
  },
  {
   "cell_type": "code",
   "execution_count": null,
   "id": "604df5b1-8d0c-45e8-8c96-b7ea1c4dab08",
   "metadata": {},
   "outputs": [],
   "source": [
    "# convert string date to datetime object\n",
    "Calendar.date = pd.to_datetime(Calendar.date)"
   ]
  },
  {
   "cell_type": "code",
   "execution_count": null,
   "id": "6f19ed24-586a-4a66-a4c2-551174612c7c",
   "metadata": {},
   "outputs": [],
   "source": [
    "# Convert boolean t/f columns to 1/0 columns\n",
    "boolean_columns = ['available']\n",
    "for column in boolean_columns:\n",
    "    Calendar[column] =  Calendar[column].apply(lambda val: True if val=='t' else False)"
   ]
  },
  {
   "cell_type": "code",
   "execution_count": null,
   "id": "41f9bfe3-bc6d-470f-8246-9fb2f0d8746c",
   "metadata": {},
   "outputs": [],
   "source": [
    "#Show 10 lines of Calendar\n",
    "Calendar.sample(10)"
   ]
  },
  {
   "cell_type": "code",
   "execution_count": null,
   "id": "902df797-63ea-48f9-b4af-92233b4144f9",
   "metadata": {},
   "outputs": [],
   "source": [
    "#Show the information of the data\n",
    "Calendar.info()"
   ]
  },
  {
   "cell_type": "code",
   "execution_count": null,
   "id": "2fba37c2-522d-4857-a113-c9f12fbb28a5",
   "metadata": {},
   "outputs": [],
   "source": [
    "listings_df.shape"
   ]
  },
  {
   "cell_type": "code",
   "execution_count": null,
   "id": "82f832bf-07c2-47fc-b0bc-c63904d50f17",
   "metadata": {},
   "outputs": [],
   "source": [
    "listings_df.head()"
   ]
  },
  {
   "cell_type": "code",
   "execution_count": null,
   "id": "8a3a0071-89e2-46c0-8cb1-50861c175cc5",
   "metadata": {},
   "outputs": [],
   "source": [
    "reviews_df.shape\n",
    "reviews_df.head()"
   ]
  },
  {
   "cell_type": "code",
   "execution_count": null,
   "id": "a97cc4c6-365c-49e2-ae95-c4e6bc841428",
   "metadata": {},
   "outputs": [],
   "source": [
    "# listings_csv.dtypes\n",
    "listings_df.info(verbose=True)"
   ]
  },
  {
   "cell_type": "code",
   "execution_count": null,
   "id": "1e8a8c3a-1ae0-4be1-8dcf-0a2a14dc20f8",
   "metadata": {},
   "outputs": [],
   "source": [
    "reviews_df.set_index('id', inplace=True)"
   ]
  },
  {
   "cell_type": "code",
   "execution_count": null,
   "id": "38720fe1-c9d7-495f-a79f-e0e0ea445ad5",
   "metadata": {},
   "outputs": [],
   "source": [
    "# convert string date to datetime object in reviews set\n",
    "reviews_df.date = pd.to_datetime(reviews_df.date)"
   ]
  },
  {
   "cell_type": "code",
   "execution_count": null,
   "id": "6973cdc6-3369-4ef1-9450-2ea215c045fe",
   "metadata": {},
   "outputs": [],
   "source": [
    "# test\n",
    "reviews_df.info()"
   ]
  },
  {
   "cell_type": "code",
   "execution_count": null,
   "id": "80a2b70c-4f16-45b8-8dea-4d8e4350030e",
   "metadata": {},
   "outputs": [],
   "source": [
    "listings_df.info()"
   ]
  },
  {
   "cell_type": "code",
   "execution_count": null,
   "id": "24ceaf3a-573e-4ab1-9bf1-1a6edcc28a01",
   "metadata": {},
   "outputs": [],
   "source": [
    "listings_df.set_index('id', inplace=True)"
   ]
  },
  {
   "cell_type": "code",
   "execution_count": null,
   "id": "6e668db7-2474-4669-acbd-0ef47e053c14",
   "metadata": {},
   "outputs": [],
   "source": [
    "listings_df.head()"
   ]
  },
  {
   "cell_type": "code",
   "execution_count": null,
   "id": "e4f87122-ba96-4c05-b1ba-14d4b0f6beef",
   "metadata": {},
   "outputs": [],
   "source": [
    "# convert string dates to datetime objects\n",
    "listings_df.last_scraped = pd.to_datetime(listings_df.last_scraped)"
   ]
  },
  {
   "cell_type": "code",
   "execution_count": null,
   "id": "5f260225-3a88-4c72-a492-db60c5ce88d1",
   "metadata": {},
   "outputs": [],
   "source": [
    "# convert price column to float type after stripping dollar, comma character\n",
    "listings_df.price = listings_df.price.str.lstrip('$').str.replace(',', '').astype('float')"
   ]
  },
  {
   "cell_type": "code",
   "execution_count": null,
   "id": "317e8c42-483b-4e37-a616-c497c7bbbf48",
   "metadata": {},
   "outputs": [],
   "source": [
    "# drop columns with no recordings\n",
    "\n",
    "listings_df.drop(['neighbourhood_group_cleansed', 'jurisdiction_names', 'license', 'has_availability'],\n",
    "                 axis=1, inplace=True)"
   ]
  },
  {
   "cell_type": "code",
   "execution_count": null,
   "id": "de271de0-e651-4b47-888d-8c8d6dd590fd",
   "metadata": {},
   "outputs": [],
   "source": [
    "# drop rows with price <= 0, bathrooms < 1, bedrooms <=0, accommodates <= 0\n",
    "\n",
    "listings_df = listings_df[listings_df.price > 0]\n",
    "listings_df = listings_df[listings_df.bathrooms >= 1]\n",
    "listings_df = listings_df[listings_df.bedrooms > 0]\n",
    "listings_df = listings_df[listings_df.accommodates > 0]"
   ]
  },
  {
   "cell_type": "code",
   "execution_count": null,
   "id": "e28476f2-28dc-435e-8cbf-72a1cb14dd39",
   "metadata": {},
   "outputs": [],
   "source": [
    "# replace float values to lower value in bathroom column\n",
    "\n",
    "listings_df['bathrooms'] = listings_df.bathrooms.replace(1.5, 1)\n",
    "listings_df['bathrooms'] = listings_df.bathrooms.replace(2.5, 2)\n",
    "listings_df['bathrooms'] = listings_df.bathrooms.replace(3.5, 3)\n",
    "listings_df['bathrooms'] = listings_df.bathrooms.replace(4.5, 4)"
   ]
  },
  {
   "cell_type": "code",
   "execution_count": null,
   "id": "782fe3a7-0624-4b94-8395-56ef01dd48da",
   "metadata": {},
   "outputs": [],
   "source": [
    "# convert bedrooms, bathrooms, accommodates count to int from float\n",
    "listings_df.bedrooms = listings_df.bedrooms.astype('int')\n",
    "listings_df.bathrooms = listings_df.bathrooms.astype('int')\n",
    "listings_df.accommodates = listings_df.accommodates.astype('int')"
   ]
  },
  {
   "cell_type": "code",
   "execution_count": null,
   "id": "af2414e3-ce2b-4544-b897-8c45f0622acd",
   "metadata": {},
   "outputs": [],
   "source": [
    "# clean city column\n",
    "\n",
    "listings_df.city.unique()"
   ]
  },
  {
   "cell_type": "code",
   "execution_count": null,
   "id": "f5781f42-498c-4716-838c-cc859a877ab4",
   "metadata": {},
   "outputs": [],
   "source": [
    "listings_df[listings_df.city=='波士顿']"
   ]
  },
  {
   "cell_type": "code",
   "execution_count": null,
   "id": "f0525361-7e14-4a3f-ac7f-ac898d7bc787",
   "metadata": {},
   "outputs": [],
   "source": [
    "# drop row with unusual city name since there is only with observation associated with it\n",
    "\n",
    "listings_df.drop(index=4625517, inplace=True)\n",
    "listings_df.shape"
   ]
  },
  {
   "cell_type": "code",
   "execution_count": null,
   "id": "ecab94a6-c9b3-4c7c-bbb8-20c9b5342b32",
   "metadata": {},
   "outputs": [],
   "source": [
    "listings_df['city_cleansed'] = listings_df.city.copy()"
   ]
  },
  {
   "cell_type": "code",
   "execution_count": null,
   "id": "effa7da2-f936-45e2-9b1d-dae599646e61",
   "metadata": {},
   "outputs": [],
   "source": [
    "# replace all duplicate entries\n",
    "\n",
    "listings_df['city_cleansed'] = listings_df.city_cleansed.replace('ALLSTON', 'Allston')\n",
    "listings_df['city_cleansed'] = listings_df.city_cleansed.replace('Roslindale, Boston', 'Roslindale')\n",
    "listings_df['city_cleansed'] = listings_df.city_cleansed.replace('dorchester, boston ', 'Dorchester')\n",
    "listings_df['city_cleansed'] = listings_df.city_cleansed.replace(['Boston ', 'boston'], 'Boston')\n",
    "listings_df['city_cleansed'] = listings_df.city_cleansed.replace('east Boston ', 'East Boston')\n",
    "listings_df['city_cleansed'] = listings_df.city_cleansed.replace('Boston (Charlestown)', 'Charlestown')\n",
    "listings_df['city_cleansed'] = listings_df.city_cleansed.replace('ROXBURY CROSSING', 'Roxbury Crossing')\n",
    "listings_df['city_cleansed'] = listings_df.city_cleansed.replace('Brighton ', 'Brighton')\n",
    "listings_df['city_cleansed'] = listings_df.city_cleansed.replace(\n",
    "    ['Jamaica Plain, Boston', 'Jamaica Plain (Boston)',\n",
    "     'Jamaica Plain ', 'Jamaica plain ', 'Boston (Jamaica Plain)',], 'Jamaica Plain')"
   ]
  },
  {
   "cell_type": "code",
   "execution_count": null,
   "id": "5fcf15f2-e4cc-4e94-9c51-eec29c37a326",
   "metadata": {},
   "outputs": [],
   "source": [
    "# replace all duplicate entries\n",
    "\n",
    "listings_df['city_cleansed'] = listings_df.city_cleansed.replace('ALLSTON', 'Allston')\n",
    "listings_df['city_cleansed'] = listings_df.city_cleansed.replace('Roslindale, Boston', 'Roslindale')\n",
    "listings_df['city_cleansed'] = listings_df.city_cleansed.replace('dorchester, boston ', 'Dorchester')\n",
    "listings_df['city_cleansed'] = listings_df.city_cleansed.replace(['Boston ', 'boston'], 'Boston')\n",
    "listings_df['city_cleansed'] = listings_df.city_cleansed.replace('east Boston ', 'East Boston')\n",
    "listings_df['city_cleansed'] = listings_df.city_cleansed.replace('Boston (Charlestown)', 'Charlestown')\n",
    "listings_df['city_cleansed'] = listings_df.city_cleansed.replace('ROXBURY CROSSING', 'Roxbury Crossing')\n",
    "listings_df['city_cleansed'] = listings_df.city_cleansed.replace('Brighton ', 'Brighton')\n",
    "listings_df['city_cleansed'] = listings_df.city_cleansed.replace(\n",
    "    ['Jamaica Plain, Boston', 'Jamaica Plain (Boston)',\n",
    "     'Jamaica Plain ', 'Jamaica plain ', 'Boston (Jamaica Plain)',], 'Jamaica Plain')"
   ]
  },
  {
   "cell_type": "code",
   "execution_count": null,
   "id": "717c8183-0e54-4988-a50f-9c35ce39e4ca",
   "metadata": {},
   "outputs": [],
   "source": [
    "listings_df.city_cleansed.unique()"
   ]
  },
  {
   "cell_type": "code",
   "execution_count": null,
   "id": "09ccb0f6-4497-47ec-9956-15339d03eff7",
   "metadata": {},
   "outputs": [],
   "source": [
    "listings_df.fillna(0, inplace=True)"
   ]
  },
  {
   "cell_type": "code",
   "execution_count": null,
   "id": "ea3fad2c-9ebb-4bd5-a233-8fcf3cbfd36b",
   "metadata": {},
   "outputs": [],
   "source": [
    "# test\n",
    "listings_df.shape"
   ]
  },
  {
   "cell_type": "code",
   "execution_count": null,
   "id": "7accef6a-33b9-4818-86e5-88adc051c96c",
   "metadata": {},
   "outputs": [],
   "source": [
    "#Visualization of the null value in calendar.csv\n",
    "msno.matrix(Calendar);"
   ]
  },
  {
   "cell_type": "code",
   "execution_count": null,
   "id": "2a2faacb-3627-48db-8e97-c7538ab6b28d",
   "metadata": {},
   "outputs": [],
   "source": [
    "#Show the availability of each month in Boston\n",
    "new = Calendar.groupby(['Month']).count()[['listing_id']].sort_values(by = 'listing_id', ascending = False)\n",
    "new"
   ]
  },
  {
   "cell_type": "code",
   "execution_count": null,
   "id": "9f185c04-3b55-48fe-b6f4-cdd9e272fc8e",
   "metadata": {},
   "outputs": [],
   "source": [
    "#Calculate the number of amenities owned by the listings\n",
    "listings_df['availability_rate']=listings_df.availability_30/30\n",
    "\n",
    "listings_df.head()"
   ]
  },
  {
   "cell_type": "code",
   "execution_count": null,
   "id": "212274d4-8f88-45ae-bc3c-95cd0e1feef0",
   "metadata": {},
   "outputs": [],
   "source": [
    "listings_df['availability_rate']=listings_df.availability_30/30"
   ]
  },
  {
   "cell_type": "markdown",
   "id": "0a0b7b3c-4995-4d9e-a4a3-a60c3e56451a",
   "metadata": {},
   "source": [
    "## Data Visualization"
   ]
  },
  {
   "cell_type": "code",
   "execution_count": null,
   "id": "d7daeead-f329-411d-a229-0a2c4168128c",
   "metadata": {},
   "outputs": [],
   "source": [
    "features_df = listings_df.copy()\n",
    "# checking if the target label has all entries recorded\n",
    "features_df.price.count()\n",
    "# categorizing number of listings with room type\n",
    "room_type_count = features_df.room_type.value_counts()\n",
    "room_type_count"
   ]
  },
  {
   "cell_type": "code",
   "execution_count": null,
   "id": "a4f1d4e6-82a3-4c14-82bd-a781f071ad28",
   "metadata": {},
   "outputs": [],
   "source": [
    "room_type_count.plot.pie(figsize=(8, 8), fontsize = 20, autopct = '%.2f', title = 'Room Type Distribution');\n",
    "#From the chart it can be conclued that three are three types of room in the airbnb"
   ]
  },
  {
   "cell_type": "markdown",
   "id": "f717d937-09ae-4e73-add4-6ee77f2fce12",
   "metadata": {},
   "source": [
    "### Visualization Busy Month"
   ]
  },
  {
   "cell_type": "code",
   "execution_count": null,
   "id": "72337762-5010-459c-abf5-34619a48949c",
   "metadata": {},
   "outputs": [],
   "source": [
    "#Visualization the availability of each month in Boston\n",
    "#Sep and Otc have the lowest availability rate which suggests these are the busiest time of the year to visit Boston\n",
    "Nummonth = Calendar['date'].dt.month\n",
    "Calendar['NumMonth'] = Nummonth\n",
    "calendardf_copy=Calendar.copy()\n",
    "Calmonth = Calendar['date'].dt.month\n",
    "ax1 = calendardf_copy.groupby(['NumMonth'])['available'].mean().plot(title='Boston Airbnb availability over months')\n",
    "ax1.set_ylabel(\"availability\")"
   ]
  },
  {
   "cell_type": "markdown",
   "id": "5b8afd65-63f0-40b2-bd00-8a3b210b1878",
   "metadata": {},
   "source": [
    "### Visualization of neighbourhood"
   ]
  },
  {
   "cell_type": "code",
   "execution_count": null,
   "id": "7b202bac-7b5f-4966-b58e-daa80c957ea2",
   "metadata": {},
   "outputs": [],
   "source": [
    "# clean property type column\n",
    "features_df.property_type.unique()\n",
    "features_df = features_df[features_df.property_type != 0]\n",
    "# number of listings based on the property type\n",
    "property_type_count = features_df.neighbourhood_cleansed.value_counts()\n",
    "property_type_count\n",
    "property_type_count.plot.bar(color = 'teal', figsize =(10,5), title = 'Boston Property Type Frequency')\n",
    "plt.xlabel('Property type');\n",
    "plt.ylabel('Number of listings');"
   ]
  },
  {
   "cell_type": "markdown",
   "id": "3c37c5d2-df84-4b6e-9bc4-7b122de4efb5",
   "metadata": {},
   "source": [
    "### Visualization of Room Type and availability_rate"
   ]
  },
  {
   "cell_type": "code",
   "execution_count": null,
   "id": "7708f0d4-f6f5-417c-8b8d-dbda79bdd846",
   "metadata": {},
   "outputs": [],
   "source": [
    "# analyzing the availability_rate for different room type and property type\n",
    "\n",
    "availability_data = features_df.groupby(['neighbourhood_cleansed','room_type']).availability_rate.mean()\n",
    "availability_data"
   ]
  },
  {
   "cell_type": "code",
   "execution_count": null,
   "id": "70b3d471-9ea9-482a-afbe-9d2b9ccec987",
   "metadata": {},
   "outputs": [],
   "source": [
    "plt.figure(figsize=(12,12));\n",
    "sns.heatmap(features_df.groupby(['neighbourhood_cleansed', 'room_type']).availability_rate.mean().unstack(),annot=True, fmt=\".2f\");\n",
    "#From the graph it can be seen that :\n",
    "#1. In Boston the Townhouse with entire room, Guest house with Entire home/apt and Boat with Private room are the properties with maximum prices\n",
    "#2. The apartment and the House are the most popular among the us"
   ]
  },
  {
   "cell_type": "code",
   "execution_count": null,
   "id": "10cb496a-6fe8-4a24-8991-2f16cd06d1b6",
   "metadata": {},
   "outputs": [],
   "source": [
    "# clean property type column\n",
    "features_df.accommodates.unique()\n",
    "features_df = features_df[features_df.accommodates != 0]\n",
    "# number of listings based on the accommodates type\n",
    "acc_type_count = features_df.accommodates.value_counts()\n",
    "acc_type_count"
   ]
  },
  {
   "cell_type": "code",
   "execution_count": null,
   "id": "e7432dd3-6591-4158-b4cb-4bf64c0afc52",
   "metadata": {},
   "outputs": [],
   "source": [
    "acc_type_count.plot.bar(color = 'teal', figsize =(10,5), title = 'Boston Accommodates Type Frequency')\n",
    "plt.xlabel('Accommodates type');\n",
    "plt.ylabel('Number of listings');"
   ]
  },
  {
   "cell_type": "markdown",
   "id": "d4a70841-e08a-4281-8223-193e18479139",
   "metadata": {},
   "source": [
    "### Visualization of accommodates and availability_rate"
   ]
  },
  {
   "cell_type": "code",
   "execution_count": null,
   "id": "4fac3b10-8b8b-40c3-a046-9552ef1bc693",
   "metadata": {},
   "outputs": [],
   "source": [
    "# analyzing the availability_rate for different room type and property type\n",
    "\n",
    "prices_data = features_df.groupby(['accommodates','room_type']).availability_rate.mean()\n",
    "prices_data"
   ]
  },
  {
   "cell_type": "code",
   "execution_count": null,
   "id": "600f3dcb-b536-474a-89cb-c5aa68364845",
   "metadata": {},
   "outputs": [],
   "source": [
    "plt.figure(figsize=(12,12));\n",
    "sns.heatmap(features_df.groupby(['accommodates', 'room_type']).availability_rate.mean().unstack(),annot=True, fmt=\".2f\");\n",
    "#From the graph it can be seen that :\n",
    "#The accommodates also has the influence on the price.\n",
    "#1. In Boston the highest price of the accommodates\n",
    "#"
   ]
  },
  {
   "cell_type": "markdown",
   "id": "72e6c7c4-4206-4d24-941c-db30ebbe94ce",
   "metadata": {},
   "source": [
    "### Visualization of  different room type,property type and vailability_rate"
   ]
  },
  {
   "cell_type": "code",
   "execution_count": null,
   "id": "c5d979dd-4ada-4391-9a3d-d3a3369a655a",
   "metadata": {},
   "outputs": [],
   "source": [
    "# clean property type column\n",
    "features_df.price.unique()\n",
    "features_df = features_df[features_df.price != 0]\n",
    "# number of listings based on the accommodates type\n",
    "acc_type_count = features_df.price.value_counts()\n",
    "acc_type_count"
   ]
  },
  {
   "cell_type": "code",
   "execution_count": null,
   "id": "8c11b6f1-e6ca-4342-879b-67b01ab9b7d3",
   "metadata": {},
   "outputs": [],
   "source": [
    "price_df = listings_df.copy()\n",
    "price_df['price_range']=price_df.price\n",
    "price_df.price_range = price_df.price_range.astype('int')\n",
    "price_df['price_range'] = price_df.price_range.replace(price_df['price_range'].loc[(price_df['price_range']>=0) & (price_df['price_range']<=100)].tolist(), 1)\n",
    "price_df['price_range'] = price_df.price_range.replace(price_df['price_range'].loc[(price_df['price_range']>100) & (price_df['price_range']<=200)].tolist(), 2)\n",
    "price_df['price_range'] = price_df.price_range.replace(price_df['price_range'].loc[(price_df['price_range']>200) & (price_df['price_range']<=300)].tolist(), 3)\n",
    "price_df['price_range'] = price_df.price_range.replace(price_df['price_range'].loc[(price_df['price_range']>300) & (price_df['price_range']<=400)].tolist(), 4)\n",
    "price_df['price_range'] = price_df.price_range.replace(price_df['price_range'].loc[(price_df['price_range']>400) & (price_df['price_range']<=500)].tolist(), 5)\n",
    "price_df['price_range'] = price_df.price_range.replace(price_df['price_range'].loc[(price_df['price_range']>500) & (price_df['price_range']<=600)].tolist(), 6)\n",
    "price_df['price_range'] = price_df.price_range.replace(price_df['price_range'].loc[(price_df['price_range']>600) & (price_df['price_range']<=700)].tolist(), 7)\n",
    "price_df['price_range'] = price_df.price_range.replace(price_df['price_range'].loc[(price_df['price_range']>700) & (price_df['price_range']<=800)].tolist(), 8)\n",
    "price_df['price_range'] = price_df.price_range.replace(price_df['price_range'].loc[(price_df['price_range']>800) & (price_df['price_range']<=900)].tolist(), 9)\n",
    "price_df['price_range'] = price_df.price_range.replace(price_df['price_range'].loc[(price_df['price_range']>900) & (price_df['price_range']<=1000)].tolist(), 10)\n",
    "# number of listings based on the accommodates type\n",
    "price_type_count = price_df.price_range.value_counts()\n",
    "price_type_count"
   ]
  },
  {
   "cell_type": "code",
   "execution_count": null,
   "id": "2ad5d4cf-b139-476e-88de-809048607b8f",
   "metadata": {},
   "outputs": [],
   "source": [
    "price_drop=price_df['price_range'].where(cond = ((price_df.price_range==1250)|(price_df.price_range==1400)|(price_df.price_range==1300)|(price_df.price_range==1372)|(price_df.price_range==1235)|(price_df.price_range==1345)|(price_df.price_range==4000)|(price_df.price_range==1275)|(price_df.price_range==3000))).dropna()\n",
    "print(price_drop)"
   ]
  },
  {
   "cell_type": "code",
   "execution_count": null,
   "id": "afa069fe-22d5-4a35-9e06-bc93196ae811",
   "metadata": {},
   "outputs": [],
   "source": [
    "price_df=price_df.drop(index=10882267) #利用drop方法将含有特定数值的列删除\n",
    "price_df=price_df.drop(index=14758045)\n",
    "price_df=price_df.drop(index=14798673)\n",
    "price_df=price_df.drop(index=6451456)\n",
    "price_df=price_df.drop(index=12972378)\n",
    "price_df=price_df.drop(index=12962229)\n",
    "price_df=price_df.drop(index=12679021)\n",
    "price_df=price_df.drop(index=14291722)"
   ]
  },
  {
   "cell_type": "code",
   "execution_count": null,
   "id": "e3819806-d7cb-4689-98b5-fd008db84b34",
   "metadata": {},
   "outputs": [],
   "source": [
    "# number of listings based on the accommodates type\n",
    "price_type_count = price_df.price_range.value_counts()\n",
    "price_type_count"
   ]
  },
  {
   "cell_type": "code",
   "execution_count": null,
   "id": "3d874616-b608-4cff-8268-ba768341cf56",
   "metadata": {},
   "outputs": [],
   "source": [
    "# analyzing the availability_rate for different room type and property type\n",
    "\n",
    "prices_data = price_df.groupby(['price_range','room_type']).availability_rate.mean()\n",
    "prices_data"
   ]
  },
  {
   "cell_type": "code",
   "execution_count": null,
   "id": "2d789295-5156-4770-bd12-ae42c8b38bbd",
   "metadata": {},
   "outputs": [],
   "source": [
    "plt.figure(figsize=(12,12));\n",
    "sns.heatmap(features_df.groupby(['neighbourhood_cleansed', 'room_type']).availability_rate.mean().unstack(),annot=True, fmt=\".2f\");\n",
    "#From the graph it can be seen that :\n",
    "#1. In Boston the Townhouse with entire room, Guest house with Entire home/apt and Boat with Private room are the properties with maximum prices\n",
    "#2. The apartment and the House are the most popular among the users"
   ]
  },
  {
   "cell_type": "markdown",
   "id": "43f1d9e0-c4a7-48b8-8177-30acee90c09e",
   "metadata": {},
   "source": [
    "### Visualization of price_range and vailability_rate"
   ]
  },
  {
   "cell_type": "code",
   "execution_count": null,
   "id": "8154b902-5fc6-4ca9-8f21-4e13daa891b6",
   "metadata": {},
   "outputs": [],
   "source": [
    "price_zhexiantu=  price_df.groupby(['price_range']).availability_rate.mean().dropna()\n",
    "print(price_zhexiantu)\n",
    "zhexiantu = price_zhexiantu.index\n",
    "x = range(len(zhexiantu))\n",
    "plt.figure(figsize=(15,6))\n",
    "plt.xticks(x, zhexiantu, rotation=45)\n",
    "plt.plot(x,price_zhexiantu.values, 'ro-')\n",
    "plt.xlabel('price_range')\n",
    "plt.ylabel('availability_rate');\n",
    "plt.title('')"
   ]
  },
  {
   "cell_type": "markdown",
   "id": "b1f1ab19-7f9b-44c2-8a90-505bd6207472",
   "metadata": {},
   "source": [
    "### Visualization of review_scores_rating and vailability_rate"
   ]
  },
  {
   "cell_type": "code",
   "execution_count": null,
   "id": "29304605-d48f-4b97-9b33-9cb3065c96ff",
   "metadata": {},
   "outputs": [],
   "source": [
    "# analyzing the prices for different room type and property type\n",
    "\n",
    "prices_data = features_df.groupby(['review_scores_rating','room_type']).availability_rate.mean()\n",
    "prices_data"
   ]
  },
  {
   "cell_type": "code",
   "execution_count": null,
   "id": "0b50a75f-72fe-4654-b4ca-97976a444321",
   "metadata": {},
   "outputs": [],
   "source": [
    "price_df['rating_range']=price_df.review_scores_rating\n",
    "price_df.rating_range = price_df.rating_range.astype('int')\n",
    "price_df['rating_range'] = price_df.rating_range.replace(price_df['rating_range'].loc[(price_df['rating_range']>=0) & (price_df['rating_range']<=10)].tolist(), 1)\n",
    "price_df['rating_range'] = price_df.rating_range.replace(price_df['rating_range'].loc[(price_df['rating_range']>10) & (price_df['rating_range']<=20)].tolist(), 2)\n",
    "price_df['rating_range'] = price_df.rating_range.replace(price_df['rating_range'].loc[(price_df['rating_range']>20) & (price_df['rating_range']<=30)].tolist(), 3)\n",
    "price_df['rating_range'] = price_df.rating_range.replace(price_df['rating_range'].loc[(price_df['rating_range']>30) & (price_df['rating_range']<=40)].tolist(), 4)\n",
    "price_df['rating_range'] = price_df.rating_range.replace(price_df['rating_range'].loc[(price_df['rating_range']>40) & (price_df['rating_range']<=50)].tolist(), 5)\n",
    "price_df['rating_range'] = price_df.rating_range.replace(price_df['rating_range'].loc[(price_df['rating_range']>50) & (price_df['rating_range']<=60)].tolist(), 6)\n",
    "price_df['rating_range'] = price_df.rating_range.replace(price_df['rating_range'].loc[(price_df['rating_range']>60) & (price_df['rating_range']<=70)].tolist(), 7)\n",
    "price_df['rating_range'] = price_df.rating_range.replace(price_df['rating_range'].loc[(price_df['rating_range']>70) & (price_df['rating_range']<=80)].tolist(), 8)\n",
    "price_df['rating_range'] = price_df.rating_range.replace(price_df['rating_range'].loc[(price_df['rating_range']>80) & (price_df['rating_range']<=90)].tolist(), 9)\n",
    "price_df['rating_range'] = price_df.rating_range.replace(price_df['rating_range'].loc[(price_df['rating_range']>90) & (price_df['rating_range']<=100)].tolist(), 10)\n",
    "# number of listings based on the accommodates type\n",
    "rating_type_count = price_df.rating_range.value_counts()\n",
    "rating_type_count"
   ]
  },
  {
   "cell_type": "code",
   "execution_count": null,
   "id": "0e9373fb-f797-4b05-a238-18f51ffa6a09",
   "metadata": {},
   "outputs": [],
   "source": [
    "plt.figure(figsize=(12,12));\n",
    "sns.heatmap(price_df.groupby(['rating_range', 'room_type']).availability_rate.mean().unstack(),annot=True, fmt=\".2f\");\n",
    "#From the graph it can be seen that :\n",
    "#The accommodates also has the influence on the price.\n",
    "#1. In Boston the highest price of the accommodates\n",
    "#"
   ]
  },
  {
   "cell_type": "markdown",
   "id": "49a8949c-5a2e-4439-960c-d6c45afb96bf",
   "metadata": {},
   "source": [
    "### Visualization of host_response_rate and vailability_rate"
   ]
  },
  {
   "cell_type": "code",
   "execution_count": null,
   "id": "ec9798cf-b20d-4664-ad18-8510a053e8f2",
   "metadata": {},
   "outputs": [],
   "source": [
    "# analyzing the prices for different room type and property type\n",
    "\n",
    "prices_data = features_df.groupby(['host_response_rate','room_type']).availability_rate.mean()\n",
    "prices_data"
   ]
  },
  {
   "cell_type": "code",
   "execution_count": null,
   "id": "ea04c590-7752-4cdb-bf45-0180b1224a03",
   "metadata": {},
   "outputs": [],
   "source": [
    "price_df['response_range']=price_df.review_scores_rating\n",
    "price_df.rating_range = price_df.rating_range.astype('int')\n",
    "price_df['response_range'] = price_df.response_range.replace(price_df['response_range'].loc[(price_df['response_range']>=0) & (price_df['response_range']<=10)].tolist(), 1)\n",
    "price_df['response_range'] = price_df.response_range.replace(price_df['response_range'].loc[(price_df['response_range']>10) & (price_df['response_range']<=20)].tolist(), 2)\n",
    "price_df['response_range'] = price_df.response_range.replace(price_df['response_range'].loc[(price_df['response_range']>20) & (price_df['response_range']<=30)].tolist(), 3)\n",
    "price_df['response_range'] = price_df.response_range.replace(price_df['response_range'].loc[(price_df['response_range']>30) & (price_df['response_range']<=40)].tolist(), 4)\n",
    "price_df['response_range'] = price_df.response_range.replace(price_df['response_range'].loc[(price_df['response_range']>40) & (price_df['response_range']<=50)].tolist(), 5)\n",
    "price_df['response_range'] = price_df.response_range.replace(price_df['response_range'].loc[(price_df['response_range']>50) & (price_df['response_range']<=60)].tolist(), 6)\n",
    "price_df['response_range'] = price_df.response_range.replace(price_df['response_range'].loc[(price_df['response_range']>60) & (price_df['response_range']<=70)].tolist(), 7)\n",
    "price_df['response_range'] = price_df.response_range.replace(price_df['response_range'].loc[(price_df['response_range']>70) & (price_df['response_range']<=80)].tolist(), 8)\n",
    "price_df['response_range'] = price_df.response_range.replace(price_df['response_range'].loc[(price_df['response_range']>80) & (price_df['response_range']<=90)].tolist(), 9)\n",
    "price_df['response_range'] = price_df.response_range.replace(price_df['response_range'].loc[(price_df['response_range']>90) & (price_df['response_range']<=100)].tolist(), 10)\n",
    "# number of listings based on the accommodates type\n",
    "response_type_count = price_df.response_range.value_counts()\n",
    "response_type_count"
   ]
  },
  {
   "cell_type": "code",
   "execution_count": null,
   "id": "43d9595f-5dee-4a90-8cf0-6a413f67362e",
   "metadata": {},
   "outputs": [],
   "source": [
    "plt.figure(figsize=(12,12));\n",
    "sns.heatmap(price_df.groupby(['response_range', 'room_type']).availability_rate.mean().unstack(),annot=True, fmt=\".2f\");\n",
    "#From the graph it can be seen that :\n",
    "#The accommodates also has the influence on the price.\n",
    "#1. In Boston the highest price of the accommodates\n",
    "#"
   ]
  },
  {
   "cell_type": "markdown",
   "id": "30e52c28-ce81-4dc4-ab53-3d230845e951",
   "metadata": {},
   "source": [
    "### Visualization of security_deposit and vailability_rate"
   ]
  },
  {
   "cell_type": "code",
   "execution_count": null,
   "id": "40e1382a-0277-40c4-a59d-212e08478613",
   "metadata": {},
   "outputs": [],
   "source": [
    "# analyzing the prices for different room type and property type\n",
    "\n",
    "prices_data = features_df.groupby(['security_deposit','room_type']).availability_rate.mean()\n",
    "prices_data"
   ]
  },
  {
   "cell_type": "code",
   "execution_count": null,
   "id": "e145b572-a11b-4f14-8091-a4a1da037f06",
   "metadata": {},
   "outputs": [],
   "source": [
    "price_df.security_deposit = price_df.security_deposit.astype('str')\n",
    "import re\n",
    "price_df.security_deposit = price_df.security_deposit.apply(\n",
    "    lambda value: re.sub(r'\\$|,', '', value)\n",
    ").astype(float)"
   ]
  },
  {
   "cell_type": "code",
   "execution_count": null,
   "id": "0f5ed047-6103-4f5f-acd5-eee1f440ee25",
   "metadata": {},
   "outputs": [],
   "source": [
    "price_df['deposit_range']=price_df.security_deposit\n",
    "price_df.deposit_range = price_df.deposit_range.astype('int')\n",
    "price_df['deposit_range'] = price_df.deposit_range.replace(price_df['deposit_range'].loc[(price_df['deposit_range']>=0) & (price_df['deposit_range']<=100)].tolist(), 1)\n",
    "price_df['deposit_range'] = price_df.deposit_range.replace(price_df['deposit_range'].loc[(price_df['deposit_range']>100) & (price_df['deposit_range']<=200)].tolist(), 2)\n",
    "price_df['deposit_range'] = price_df.deposit_range.replace(price_df['deposit_range'].loc[(price_df['deposit_range']>200) & (price_df['deposit_range']<=300)].tolist(), 3)\n",
    "price_df['deposit_range'] = price_df.deposit_range.replace(price_df['deposit_range'].loc[(price_df['deposit_range']>300) & (price_df['deposit_range']<=400)].tolist(), 4)\n",
    "price_df['deposit_range'] = price_df.deposit_range.replace(price_df['deposit_range'].loc[(price_df['deposit_range']>400) & (price_df['deposit_range']<=500)].tolist(), 5)\n",
    "price_df['deposit_range'] = price_df.deposit_range.replace(price_df['deposit_range'].loc[(price_df['deposit_range']>500) & (price_df['deposit_range']<=600)].tolist(), 6)\n",
    "price_df['deposit_range'] = price_df.deposit_range.replace(price_df['deposit_range'].loc[(price_df['deposit_range']>600) & (price_df['deposit_range']<=700)].tolist(), 7)\n",
    "price_df['deposit_range'] = price_df.deposit_range.replace(price_df['deposit_range'].loc[(price_df['deposit_range']>700) & (price_df['deposit_range']<=800)].tolist(), 8)\n",
    "price_df['deposit_range'] = price_df.deposit_range.replace(price_df['deposit_range'].loc[(price_df['deposit_range']>800) & (price_df['deposit_range']<=900)].tolist(), 9)\n",
    "price_df['deposit_range'] = price_df.deposit_range.replace(price_df['deposit_range'].loc[(price_df['deposit_range']>900) & (price_df['deposit_range']<=1000)].tolist(), 10)\n",
    "price_df['deposit_range'] = price_df.deposit_range.replace(price_df['deposit_range'].loc[(price_df['deposit_range']>1000)].tolist(), 11)\n",
    "# number of listings based on the accommodates type\n",
    "deposit_type_count = price_df.deposit_range.value_counts()\n",
    "deposit_type_count"
   ]
  },
  {
   "cell_type": "code",
   "execution_count": null,
   "id": "6f722fe0-c8b2-498e-b2d2-308a81036d72",
   "metadata": {},
   "outputs": [],
   "source": [
    "plt.figure(figsize=(12,12));\n",
    "sns.heatmap(price_df.groupby(['deposit_range', 'room_type']).availability_rate.mean().unstack(),annot=True, fmt=\".2f\");\n",
    "#From the graph it can be seen that :\n",
    "#The accommodates also has the influence on the price.\n",
    "#1. In Boston the highest price of the accommodates\n",
    "#"
   ]
  },
  {
   "cell_type": "markdown",
   "id": "16e97858-ad3b-476c-8ba8-f56daf7a3f23",
   "metadata": {},
   "source": [
    "### Visualization of cleaning_fee and vailability_rate"
   ]
  },
  {
   "cell_type": "code",
   "execution_count": null,
   "id": "8e9706aa-51f9-47a8-a871-e7d810f266fa",
   "metadata": {},
   "outputs": [],
   "source": [
    "price_df.cleaning_fee = price_df.cleaning_fee.astype('str')\n",
    "import re\n",
    "price_df.cleaning_fee = price_df.cleaning_fee.apply(\n",
    "    lambda value: re.sub(r'\\$|,', '', value)\n",
    ").astype(float)"
   ]
  },
  {
   "cell_type": "code",
   "execution_count": null,
   "id": "d6638992-9299-44bf-90d4-f18a6c7e0f8f",
   "metadata": {},
   "outputs": [],
   "source": [
    "# analyzing the prices for different room type and property type\n",
    "\n",
    "cleaning_data = price_df.groupby(['cleaning_fee','room_type']).availability_rate.mean()\n",
    "cleaning_data"
   ]
  },
  {
   "cell_type": "code",
   "execution_count": null,
   "id": "316c3d4d-9bc2-4eb5-b15c-adcea679504a",
   "metadata": {},
   "outputs": [],
   "source": [
    "price_df['cleaning_range']=price_df.cleaning_fee\n",
    "price_df.deposit_range = price_df.deposit_range.astype('int')\n",
    "price_df['cleaning_range'] = price_df.cleaning_range.replace(price_df['cleaning_range'].loc[(price_df['cleaning_range']>=0) & (price_df['cleaning_range']<=50)].tolist(), 1)\n",
    "price_df['cleaning_range'] = price_df.cleaning_range.replace(price_df['cleaning_range'].loc[(price_df['cleaning_range']>50) & (price_df['cleaning_range']<=100)].tolist(), 2)\n",
    "price_df['cleaning_range'] = price_df.cleaning_range.replace(price_df['cleaning_range'].loc[(price_df['cleaning_range']>100) & (price_df['cleaning_range']<=150)].tolist(), 3)\n",
    "price_df['cleaning_range'] = price_df.cleaning_range.replace(price_df['cleaning_range'].loc[(price_df['cleaning_range']>150) & (price_df['cleaning_range']<=200)].tolist(), 4)\n",
    "price_df['cleaning_range'] = price_df.cleaning_range.replace(price_df['cleaning_range'].loc[(price_df['cleaning_range']>200) & (price_df['cleaning_range']<=250)].tolist(), 5)\n",
    "price_df['cleaning_range'] = price_df.cleaning_range.replace(price_df['cleaning_range'].loc[(price_df['cleaning_range']>250) & (price_df['cleaning_range']<=300)].tolist(), 6)\n",
    "# number of listings based on the accommodates type\n",
    "cleaning_type_count = price_df.cleaning_range.value_counts()\n",
    "cleaning_type_count"
   ]
  },
  {
   "cell_type": "code",
   "execution_count": null,
   "id": "fa4a02f0-eaf9-4e03-817a-604188829129",
   "metadata": {},
   "outputs": [],
   "source": [
    "plt.figure(figsize=(12,12));\n",
    "sns.heatmap(price_df.groupby(['cleaning_range', 'room_type']).availability_rate.mean().unstack(),annot=True, fmt=\".2f\");\n",
    "#From the graph it can be seen that :\n",
    "#The accommodates also has the influence on the price.\n",
    "#1. In Boston the highest price of the accommodates\n",
    "#"
   ]
  },
  {
   "cell_type": "markdown",
   "id": "7472966b-35e6-407f-b163-96a5e2fcea4a",
   "metadata": {},
   "source": [
    "### Visualization of Amenities Num"
   ]
  },
  {
   "cell_type": "code",
   "execution_count": null,
   "id": "80e60588-454d-4c44-82e7-3dfe7d28f5bc",
   "metadata": {},
   "outputs": [],
   "source": [
    "from sklearn.preprocessing import MultiLabelBinarizer\n",
    "\n",
    "# Change datatype:Split String\n",
    "amenities = listings_df.amenities.map(lambda ele: [amenity_list.replace('\"', '').replace('{', '').replace('}', '').replace('/', '') for amenity_list in ele.split(',')])\n",
    "amenities\n",
    "\n",
    "#Data frame mapping\n",
    "mlb = MultiLabelBinarizer()\n",
    "fit = pd.DataFrame(mlb.fit_transform(amenities), columns=mlb.classes_, index=amenities.index)"
   ]
  },
  {
   "cell_type": "code",
   "execution_count": null,
   "id": "e4cb5e37-84a1-4833-ba12-77d1f63934f6",
   "metadata": {},
   "outputs": [],
   "source": [
    "# Combine ameamenities to listing data:\n",
    "listings_df = pd.concat([listings_df, fit], axis = 1, sort = False)\n",
    "listings_df.sample(5)"
   ]
  },
  {
   "cell_type": "code",
   "execution_count": null,
   "id": "9fc5c43e-02e8-4eab-8142-1df5c072a1c8",
   "metadata": {},
   "outputs": [],
   "source": [
    "#The most popular 10 amenities\n",
    "amenitie = fit\n",
    "amenitie.sum().sort_values(ascending = False)[:10]"
   ]
  },
  {
   "cell_type": "code",
   "execution_count": null,
   "id": "7759d2ff-3957-4c49-8a21-66294e6c0a54",
   "metadata": {},
   "outputs": [],
   "source": [
    "# Plot Amenities Lists:\n",
    "amen = fit.sum().sort_values(ascending = False)[:15]\n",
    "plt.bar(amen.index, amen.values)\n",
    "plt.title('Amenities Lists')\n",
    "plt.xlabel('Amenities')\n",
    "plt.ylabel('count')\n",
    "plt.xticks(rotation = 90);"
   ]
  },
  {
   "cell_type": "code",
   "execution_count": null,
   "id": "62856a99-ce28-40e8-8653-544748f22554",
   "metadata": {},
   "outputs": [],
   "source": [
    "#Calculate the number of amenities owned by the listings\n",
    "listings_df['amenities_sum']=fit.sum(axis=1)\n"
   ]
  },
  {
   "cell_type": "code",
   "execution_count": null,
   "id": "1a73a587-75fc-4ba9-a0e7-01eb61871f3a",
   "metadata": {},
   "outputs": [],
   "source": [
    "# The relationship between the number of listings and the number of amenities sum\n",
    "amenities_sum_count = listings_df.amenities_sum.value_counts()\n",
    "amenities_sum_count\n"
   ]
  },
  {
   "cell_type": "code",
   "execution_count": null,
   "id": "5c3853b6-55cc-46c1-b5de-4a24000e51ea",
   "metadata": {},
   "outputs": [],
   "source": [
    "# Relationship between number of amenities and availabilit (positive)\n",
    "plt.title('Number of amenities with the highest availability (top 10)')\n",
    "plt.xlabel('Amenities Num')\n",
    "plt.ylabel('Availability Rate')\n",
    "\n",
    "X_axis=listings_df.amenities_sum.value_counts().where(cond = (listings_df.amenities_sum.value_counts()>=20)).dropna()\n",
    "plt.xlim((0,X_axis.index.max()+1)) # Determine the range of the X-axis\n",
    "\n",
    "amen_score =  listings_df.groupby(['amenities_sum'])['availability_rate'].mean().where(cond = (listings_df.amenities_sum.value_counts()>=20)).dropna().sort_values(ascending = False)[:10]\n",
    "plt.bar(amen_score.index, amen_score.values)"
   ]
  },
  {
   "cell_type": "code",
   "execution_count": null,
   "id": "609e08bd-1364-4b8c-89af-9bb345512542",
   "metadata": {},
   "outputs": [],
   "source": [
    "plt.title('Number of amenities with the highest availability (bottom 10)')\n",
    "plt.xlabel('Amenities Num')\n",
    "plt.ylabel('Availability Rate')\n",
    "\n",
    "X_axis=listings_df.amenities_sum.value_counts().where(cond = (listings_df.amenities_sum.value_counts()>=20)).dropna()\n",
    "plt.xlim((0,X_axis.index.max()+1)) # Determine the range of the X-axis\n",
    "\n",
    "amen_score =  listings_df.groupby(['amenities_sum'])['availability_rate'].mean().where(cond = (listings_df.amenities_sum.value_counts()>=20)).dropna().sort_values(ascending = True)[:10]\n",
    "plt.bar(amen_score.index, amen_score.values);"
   ]
  },
  {
   "cell_type": "markdown",
   "id": "ebd46b62-36a4-49dc-b715-ec83bac2bb1d",
   "metadata": {},
   "source": [
    "## Linear Regression"
   ]
  },
  {
   "cell_type": "markdown",
   "id": "7a03d4ed-470d-4101-9bd7-b1605ddc9599",
   "metadata": {},
   "source": [
    "#### This Chapter introduces"
   ]
  },
  {
   "cell_type": "code",
   "execution_count": null,
   "id": "cb854b39-bbe0-4169-9201-545e98de9d87",
   "metadata": {},
   "outputs": [],
   "source": [
    "# Create new list from listing_data(only int and float)\n",
    "\n",
    "num = ['availability_rate','host_response_rate','monthly_price','amenities_sum']\n",
    "listings_df.dropna(subset=['cleaning_fee'], inplace=True)\n",
    "listings_df.cleaning_fee = listings_df.cleaning_fee.astype('str')\n",
    "import re\n",
    "listings_df.cleaning_fee = listings_df.cleaning_fee.apply(\n",
    "    lambda value: re.sub(r'\\$|,', '', value)\n",
    ").astype(float)\n",
    "listings_df.dropna(subset=['extra_people'], inplace=True)\n",
    "listings_df.extra_people = listings_df.extra_people.astype('str')\n",
    "import re\n",
    "listings_df.extra_people = listings_df.extra_people.apply(\n",
    "    lambda value: re.sub(r'\\$|,', '', value)\n",
    ").astype(float)\n",
    "listings_df.dropna(subset=['host_response_rate'], inplace=True)\n",
    "listings_df.host_response_rate = listings_df.host_response_rate.astype('str')\n",
    "import re\n",
    "listings_df.host_response_rate = listings_df.host_response_rate.apply(\n",
    "    lambda value: re.sub(r'\\%|,', '', value)\n",
    ").astype(float)\n",
    "listings_df.dropna(subset=['monthly_price'], inplace=True)\n",
    "listings_df.monthly_price = listings_df.monthly_price.astype('str')\n",
    "import re\n",
    "listings_df.monthly_price = listings_df.monthly_price.apply(\n",
    "    lambda value: re.sub(r'\\$|,', '', value)\n",
    ").astype(float)"
   ]
  },
  {
   "cell_type": "code",
   "execution_count": null,
   "id": "4bf8d7f0-b002-4aac-a4b8-f4bbcf9cf11d",
   "metadata": {},
   "outputs": [],
   "source": [
    "data1 = listings_df.select_dtypes(include=['int32','int64', 'float64'])[num]"
   ]
  },
  {
   "cell_type": "code",
   "execution_count": null,
   "id": "631bcbb3-6b46-46da-b25e-f4203afe812e",
   "metadata": {},
   "outputs": [],
   "source": [
    "# Create new list from listing_data(only Object)\n",
    "\n",
    "cat = ['neighbourhood','calendar_updated']"
   ]
  },
  {
   "cell_type": "code",
   "execution_count": null,
   "id": "df668694-e65f-4c1f-8ae7-bd9db4fecdcf",
   "metadata": {},
   "outputs": [],
   "source": [
    "data1[cat] = listings_df[cat]\n",
    "d_data = data1.copy()\n",
    "new_data = pd.get_dummies(d_data)\n",
    "new_data = new_data.dropna(axis=0, how='any', thresh=None, subset=None, inplace=False)"
   ]
  },
  {
   "cell_type": "code",
   "execution_count": null,
   "id": "486ccd43-3f5d-4f4e-bef6-73f70e2b9d74",
   "metadata": {},
   "outputs": [],
   "source": [
    "y = new_data['availability_rate']\n",
    "X = new_data.drop('availability_rate',  axis =1 )"
   ]
  },
  {
   "cell_type": "code",
   "execution_count": null,
   "id": "c2cb2fb7-c93e-4c38-a1bb-836a33aed5db",
   "metadata": {},
   "outputs": [],
   "source": [
    "from sklearn.model_selection import train_test_split\n",
    "X_train, X_test, y_train, y_test = train_test_split(X, y, test_size=0.20, random_state=45)"
   ]
  },
  {
   "cell_type": "code",
   "execution_count": null,
   "id": "b32e2b64-38bb-4a83-b101-33d946358697",
   "metadata": {},
   "outputs": [],
   "source": [
    "from sklearn.ensemble import AdaBoostClassifier\n",
    "from sklearn.ensemble import BaggingClassifier\n",
    "from sklearn.ensemble import ExtraTreesClassifier\n",
    "from sklearn.ensemble import GradientBoostingClassifier\n",
    "from sklearn.ensemble import RandomForestClassifier\n",
    "from sklearn.gaussian_process import GaussianProcessClassifier\n",
    "from sklearn.linear_model import PassiveAggressiveClassifier\n",
    "from sklearn.linear_model import RidgeClassifier\n",
    "from sklearn.linear_model import SGDClassifier\n",
    "from sklearn.neighbors import KNeighborsClassifier\n",
    "from sklearn.naive_bayes import GaussianNB\n",
    "from sklearn.neural_network import MLPClassifier\n",
    "from sklearn.tree import DecisionTreeClassifier\n",
    "from sklearn.tree import ExtraTreeClassifier\n",
    "from sklearn.svm import SVC\n",
    "from sklearn.svm import LinearSVC\n",
    "from sklearn.linear_model import LinearRegression\n",
    "import seaborn as sb\n",
    "\n",
    "from sklearn.metrics import accuracy_score, r2_score, mean_squared_error, mean_absolute_error"
   ]
  },
  {
   "cell_type": "code",
   "execution_count": null,
   "id": "45bcdb3f-b524-4e31-a0eb-318c95e36659",
   "metadata": {
    "scrolled": true
   },
   "outputs": [],
   "source": [
    "# Linear Regression Model:\n",
    "\n",
    "reg = LinearRegression()\n",
    "reg.fit(X_train, y_train)\n",
    "\n",
    "y_pred = reg.predict(X_test)\n",
    "\n",
    "r2_score(y_test, y_pred)"
   ]
  },
  {
   "cell_type": "code",
   "execution_count": null,
   "id": "bae62444-9b5c-4ff2-8d3c-ec0c6f807c90",
   "metadata": {},
   "outputs": [],
   "source": [
    "# Plot predicted and original values:\n",
    "# Plot predicted and original values:\n",
    "plt.figure(figsize=[20,5])\n",
    "plt.subplot(1,2,1)\n",
    "ax1 = sb.kdeplot(data=y_test, color=\"g\", label='Actual values')\n",
    "ax2 = sb.kdeplot(data=y_pred, color=\"b\", label='Predicted values')\n",
    "plt.legend();\n",
    "\n",
    "plt.subplot(1,2,2)\n",
    "sb.regplot(x=y_test, y=y_pred)\n",
    "plt.title('Distribution of predicted vs actual values')\n",
    "plt.xlabel('Avaliable rate');"
   ]
  },
  {
   "cell_type": "code",
   "execution_count": null,
   "id": "52b31b0c-0481-4ed4-93a6-7ec77eccf844",
   "metadata": {},
   "outputs": [],
   "source": [
    "import sklearn.metrics as sklm #https://scikit-learn.org/stable/modules/generated/sklearn.model_selection.train_test_split.html\n",
    "def print_metrics(y_true, y_predicted):\n",
    "    ## First compute R^2 and the adjusted R^2\n",
    "    # https://scikit-learn.org/stable/modules/generated/sklearn.metrics.r2_score.html\n",
    "    r2 = sklm.r2_score(y_true, y_predicted)\n",
    "    \n",
    "    ## Print the usual metrics and the R^2 values\n",
    "    print('Mean Square Error      = ' + str(sklm.mean_squared_error(y_true, y_predicted)))\n",
    "    print('Root Mean Square Error = ' + str(math.sqrt(sklm.mean_squared_error(y_true, y_predicted))))\n",
    "    print('Mean Absolute Error    = ' + str(sklm.mean_absolute_error(y_true, y_predicted)))\n",
    "    print('Median Absolute Error  = ' + str(sklm.median_absolute_error(y_true, y_predicted)))\n",
    "    # R-squared evaluates the scatter of the data points around the fitted regression line. It is also called the coefficient of determination, or the coefficient of multiple determination for multiple regression. For the same data set, higher R-squared values represent smaller differences between the observed data and the fitted values.\n",
    "    # https://statisticsbyjim.com/regression/interpret-r-squared-regression/\n",
    "    print('R^2                    = ' + str(r2))\n",
    "\n",
    "y_pred = reg.predict(X_test) \n",
    "print_metrics(y_test, y_pred) "
   ]
  },
  {
   "cell_type": "markdown",
   "id": "b68118cd-326c-4f5a-80f6-69402fb17ead",
   "metadata": {},
   "source": [
    "## Random Forest"
   ]
  },
  {
   "cell_type": "code",
   "execution_count": null,
   "id": "d46d7a4c-23bf-46e6-92e8-4175787d258d",
   "metadata": {},
   "outputs": [],
   "source": [
    "from sklearn.ensemble import RandomForestRegressor\n",
    "ran = RandomForestRegressor(n_estimators = 100,oob_score = True,n_jobs = -1,random_state =42,max_features='auto',min_samples_leaf = 12)\n",
    "ran.fit(X_train, y_train)\n",
    "y_preds = ran.predict(X_test)\n",
    "r2_score(y_test, y_preds)"
   ]
  },
  {
   "cell_type": "code",
   "execution_count": null,
   "id": "5922b039-af20-42e1-a4f2-ec2acb055669",
   "metadata": {
    "scrolled": true
   },
   "outputs": [],
   "source": [
    "# Plot predicted and original values:\n",
    "plt.figure(figsize=[20,5])\n",
    "plt.subplot(1,2,1)\n",
    "ax1 = sb.kdeplot(data=y_test, color=\"g\", label='Actual values')\n",
    "ax2 = sb.kdeplot(data=y_preds, color=\"b\", label='Predicted values')\n",
    "plt.legend();\n",
    "\n",
    "plt.subplot(1,2,2)\n",
    "sb.regplot(x=y_test, y=y_preds)\n",
    "plt.title('Distribution of predicted vs actual values')\n",
    "plt.xlabel('Price');"
   ]
  },
  {
   "cell_type": "code",
   "execution_count": null,
   "id": "c7a08fcb-841f-4fcb-9c49-d4e7ffefccce",
   "metadata": {},
   "outputs": [],
   "source": [
    "from sklearn.model_selection import GridSearchCV\n",
    "#GridSearch to adjust the parameter\n",
    "rfc=RandomForestRegressor()\n",
    "param = {\"n_estimators\": range(1,20),\"min_samples_leaf\": range(1,20)}     #Adjust the parameter\n",
    "gs = GridSearchCV(estimator=rfc,param_grid=param,cv=5)\n",
    "gs.fit(X_train,y_train)    "
   ]
  },
  {
   "cell_type": "code",
   "execution_count": null,
   "id": "ef154f62-84b2-410c-b8ad-4ea9aefc13f2",
   "metadata": {},
   "outputs": [],
   "source": [
    "#Export the parameter\n",
    "best_score=gs.best_score_\n",
    "best_params=gs.best_params_\n",
    "print(best_score,best_params,end='\\n')"
   ]
  },
  {
   "cell_type": "code",
   "execution_count": null,
   "id": "c5013d13-c651-43e5-acdf-2a8f64ce4b45",
   "metadata": {},
   "outputs": [],
   "source": [
    "#Adjust the parameter then evaluation\n",
    "rf=RandomForestRegressor(n_estimators = 16,oob_score = True,n_jobs = -1,random_state =42,max_features='auto',min_samples_leaf = 1)\n",
    "rf.fit(X_train,y_train)\n",
    "predictions= rf.predict(X_test)\n",
    "print(\"train r2:%.3f\"%r2_score(y_train,rf.predict(X_train)))         #Evaluation\n",
    "print(\"test r2:%.3f\"%r2_score(y_test,predictions)) "
   ]
  },
  {
   "cell_type": "code",
   "execution_count": null,
   "id": "62c7e8e3-7c82-4a00-8ceb-16a847bdbea3",
   "metadata": {},
   "outputs": [],
   "source": [
    "# Plot predicted and original values:\n",
    "plt.figure(figsize=[20,5])\n",
    "plt.subplot(1,2,1)\n",
    "ax1 = sb.kdeplot(data=y_test, color=\"g\", label='Actual values')\n",
    "ax2 = sb.kdeplot(data=y_preds, color=\"b\", label='Predicted values')\n",
    "plt.legend();\n",
    "\n",
    "plt.subplot(1,2,2)\n",
    "sb.regplot(x=y_test, y=y_preds)\n",
    "plt.title('Distribution of predicted vs actual values')\n",
    "plt.xlabel('Price');"
   ]
  },
  {
   "cell_type": "code",
   "execution_count": null,
   "id": "9fd0bd78-e5cf-4063-841a-6ca968499c71",
   "metadata": {},
   "outputs": [],
   "source": [
    "import sklearn.metrics as sklm #https://scikit-learn.org/stable/modules/generated/sklearn.model_selection.train_test_split.html\n",
    "def print_metrics(y_true, y_predicted):\n",
    "    ## First compute R^2 and the adjusted R^2\n",
    "    # https://scikit-learn.org/stable/modules/generated/sklearn.metrics.r2_score.html\n",
    "    r2 = sklm.r2_score(y_true, y_predicted)\n",
    "    \n",
    "    ## Print the usual metrics and the R^2 values\n",
    "    print('Mean Square Error      = ' + str(sklm.mean_squared_error(y_true, y_predicted)))\n",
    "    print('Root Mean Square Error = ' + str(math.sqrt(sklm.mean_squared_error(y_true, y_predicted))))\n",
    "    print('Mean Absolute Error    = ' + str(sklm.mean_absolute_error(y_true, y_predicted)))\n",
    "    print('Median Absolute Error  = ' + str(sklm.median_absolute_error(y_true, y_predicted)))\n",
    "    # R-squared evaluates the scatter of the data points around the fitted regression line. It is also called the coefficient of determination, or the coefficient of multiple determination for multiple regression. For the same data set, higher R-squared values represent smaller differences between the observed data and the fitted values.\n",
    "    # https://statisticsbyjim.com/regression/interpret-r-squared-regression/\n",
    "    print('R^2                    = ' + str(r2))\n",
    "\n",
    "y_pred = rf.predict(X_test) \n",
    "print_metrics(y_test, y_pred) "
   ]
  },
  {
   "cell_type": "code",
   "execution_count": null,
   "id": "9293ce90-b4cb-4178-a273-801016dc8067",
   "metadata": {},
   "outputs": [],
   "source": [
    "feature_list = list(X.columns) \n",
    "\n",
    "importances = list(rf.feature_importances_)    \n",
    "feature_importances = [(feature, round(importance, 2)) for feature, importance in zip(feature_list,importances)]     \n",
    "feature_importances = sorted(feature_importances, key = lambda x: x[1], reverse = True)                \n",
    "[print('Variable: {:12} Importance: {}'.format(*pair)) for pair in feature_importances]            "
   ]
  },
  {
   "cell_type": "code",
   "execution_count": null,
   "id": "f0da4b31-af7d-4187-9c36-e8b553a8b82f",
   "metadata": {},
   "outputs": [],
   "source": [
    "#绘图\n",
    "f,ax = plt.subplots(figsize = (13,8))    #Picture size\n",
    "x_values = list(range(len(importances)))     \n",
    "plt.bar(x_values,importances, orientation = 'vertical', color = 'r',edgecolor = 'k',linewidth =0.2)    #Draw picture\n",
    "# Tick labels for x axis\n",
    "plt.xticks(x_values, feature_list, rotation='vertical',fontsize=8)      \n",
    "# Axis labels and title\n",
    "plt.ylabel('Importance'); plt.xlabel('Variable'); plt.title('Variable Importances');"
   ]
  },
  {
   "cell_type": "code",
   "execution_count": null,
   "id": "13d34daa-8e34-4fa4-a1c3-f8c13469794a",
   "metadata": {},
   "outputs": [],
   "source": [
    "#绘图\n",
    "f,ax = plt.subplots(figsize = (13,8))    #设置图片大小\n",
    "x_values = list(range(len(importances)))     \n",
    "plt.bar(x_values,importances, orientation = 'vertical', color = 'r',edgecolor = 'k',linewidth =0.2)    #绘制柱形图\n",
    "# Tick labels for x axis\n",
    "plt.xticks(x_values, feature_list, rotation='vertical',fontsize=8)      \n",
    "# Axis labels and title\n",
    "plt.ylabel('Importance'); plt.xlabel('Variable'); plt.title('Variable Importances');"
   ]
  },
  {
   "cell_type": "code",
   "execution_count": null,
   "id": "5a3b4da8-2282-4f3e-a659-9de9177ff92e",
   "metadata": {},
   "outputs": [],
   "source": [
    "# Show the attribute of the importance\n",
    "importances_df = pd.DataFrame()\n",
    "importances_df[\"Feature Name\"]=feature_list\n",
    "importances_df[\"Feature Importance\"]=importances\n",
    "p=importances_df.sort_values(\"Feature Importance\",ascending=False)\n",
    "print(importances_df)"
   ]
  },
  {
   "cell_type": "code",
   "execution_count": null,
   "id": "e4fceb95-c3a6-4379-888c-b6fada90bfd0",
   "metadata": {},
   "outputs": [],
   "source": [
    "lost_result=list(p['Feature Name'][:15])                \n",
    "print(lost_result)"
   ]
  },
  {
   "cell_type": "code",
   "execution_count": null,
   "id": "17264e6c-f79d-46eb-8de4-b4d2fb42a27b",
   "metadata": {},
   "outputs": [],
   "source": []
  }
 ],
 "metadata": {
  "kernelspec": {
   "display_name": "Python 3 (ipykernel)",
   "language": "python",
   "name": "python3"
  },
  "language_info": {
   "codemirror_mode": {
    "name": "ipython",
    "version": 3
   },
   "file_extension": ".py",
   "mimetype": "text/x-python",
   "name": "python",
   "nbconvert_exporter": "python",
   "pygments_lexer": "ipython3",
   "version": "3.9.12"
  }
 },
 "nbformat": 4,
 "nbformat_minor": 5
}
