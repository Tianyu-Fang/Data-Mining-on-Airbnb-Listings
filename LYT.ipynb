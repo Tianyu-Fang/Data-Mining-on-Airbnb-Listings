{
 "cells": [
  {
   "cell_type": "code",
   "execution_count": 1,
   "id": "59bfcb41",
   "metadata": {},
   "outputs": [],
   "source": [
    "import pandas as pd\n",
    "import nltk\n",
    "from nltk.corpus import stopwords\n",
    "from nltk.stem import SnowballStemmer\n",
    "from nltk.tokenize import word_tokenize\n",
    "import re\n",
    "import matplotlib.pyplot as plt\n",
    "from sklearn.model_selection import train_test_split"
   ]
  },
  {
   "cell_type": "markdown",
   "id": "1214b98b",
   "metadata": {},
   "source": [
    "<h1>Data preparation and Preprocessing pipeline</h1>"
   ]
  },
  {
   "cell_type": "markdown",
   "id": "7fa25e5e",
   "metadata": {},
   "source": [
    "1. read the data from csv file and display it"
   ]
  },
  {
   "cell_type": "code",
   "execution_count": 2,
   "id": "adcc11f5",
   "metadata": {},
   "outputs": [],
   "source": [
    "review_df = pd.read_csv(\"reviews.csv\")"
   ]
  },
  {
   "cell_type": "code",
   "execution_count": 3,
   "id": "3a5dec9d",
   "metadata": {
    "scrolled": true
   },
   "outputs": [
    {
     "data": {
      "text/html": [
       "<div>\n",
       "<style scoped>\n",
       "    .dataframe tbody tr th:only-of-type {\n",
       "        vertical-align: middle;\n",
       "    }\n",
       "\n",
       "    .dataframe tbody tr th {\n",
       "        vertical-align: top;\n",
       "    }\n",
       "\n",
       "    .dataframe thead th {\n",
       "        text-align: right;\n",
       "    }\n",
       "</style>\n",
       "<table border=\"1\" class=\"dataframe\">\n",
       "  <thead>\n",
       "    <tr style=\"text-align: right;\">\n",
       "      <th></th>\n",
       "      <th>listing_id</th>\n",
       "      <th>id</th>\n",
       "      <th>date</th>\n",
       "      <th>reviewer_id</th>\n",
       "      <th>reviewer_name</th>\n",
       "      <th>comments</th>\n",
       "    </tr>\n",
       "  </thead>\n",
       "  <tbody>\n",
       "    <tr>\n",
       "      <th>0</th>\n",
       "      <td>1178162</td>\n",
       "      <td>4724140</td>\n",
       "      <td>2013-05-21</td>\n",
       "      <td>4298113</td>\n",
       "      <td>Olivier</td>\n",
       "      <td>My stay at islam's place was really cool! Good...</td>\n",
       "    </tr>\n",
       "    <tr>\n",
       "      <th>1</th>\n",
       "      <td>1178162</td>\n",
       "      <td>4869189</td>\n",
       "      <td>2013-05-29</td>\n",
       "      <td>6452964</td>\n",
       "      <td>Charlotte</td>\n",
       "      <td>Great location for both airport and city - gre...</td>\n",
       "    </tr>\n",
       "    <tr>\n",
       "      <th>2</th>\n",
       "      <td>1178162</td>\n",
       "      <td>5003196</td>\n",
       "      <td>2013-06-06</td>\n",
       "      <td>6449554</td>\n",
       "      <td>Sebastian</td>\n",
       "      <td>We really enjoyed our stay at Islams house. Fr...</td>\n",
       "    </tr>\n",
       "    <tr>\n",
       "      <th>3</th>\n",
       "      <td>1178162</td>\n",
       "      <td>5150351</td>\n",
       "      <td>2013-06-15</td>\n",
       "      <td>2215611</td>\n",
       "      <td>Marine</td>\n",
       "      <td>The room was nice and clean and so were the co...</td>\n",
       "    </tr>\n",
       "    <tr>\n",
       "      <th>4</th>\n",
       "      <td>1178162</td>\n",
       "      <td>5171140</td>\n",
       "      <td>2013-06-16</td>\n",
       "      <td>6848427</td>\n",
       "      <td>Andrew</td>\n",
       "      <td>Great location. Just 5 mins walk from the Airp...</td>\n",
       "    </tr>\n",
       "    <tr>\n",
       "      <th>...</th>\n",
       "      <td>...</td>\n",
       "      <td>...</td>\n",
       "      <td>...</td>\n",
       "      <td>...</td>\n",
       "      <td>...</td>\n",
       "      <td>...</td>\n",
       "    </tr>\n",
       "    <tr>\n",
       "      <th>68270</th>\n",
       "      <td>7462268</td>\n",
       "      <td>80537457</td>\n",
       "      <td>2016-06-18</td>\n",
       "      <td>22034145</td>\n",
       "      <td>Antonio</td>\n",
       "      <td>Joe y su mujer son encantadores. La habitación...</td>\n",
       "    </tr>\n",
       "    <tr>\n",
       "      <th>68271</th>\n",
       "      <td>7462268</td>\n",
       "      <td>83640094</td>\n",
       "      <td>2016-07-03</td>\n",
       "      <td>40052513</td>\n",
       "      <td>Steve</td>\n",
       "      <td>Joe was on his way to Jamaica to be married! o...</td>\n",
       "    </tr>\n",
       "    <tr>\n",
       "      <th>68272</th>\n",
       "      <td>7462268</td>\n",
       "      <td>85797088</td>\n",
       "      <td>2016-07-13</td>\n",
       "      <td>77129134</td>\n",
       "      <td>Nick</td>\n",
       "      <td>The room was very clean as were the bathrooms ...</td>\n",
       "    </tr>\n",
       "    <tr>\n",
       "      <th>68273</th>\n",
       "      <td>7462268</td>\n",
       "      <td>97264637</td>\n",
       "      <td>2016-08-26</td>\n",
       "      <td>15799803</td>\n",
       "      <td>Vid</td>\n",
       "      <td>Staying in Lower Allston at Joe and Nancy's pl...</td>\n",
       "    </tr>\n",
       "    <tr>\n",
       "      <th>68274</th>\n",
       "      <td>7462268</td>\n",
       "      <td>98550693</td>\n",
       "      <td>2016-08-31</td>\n",
       "      <td>90128094</td>\n",
       "      <td>Arianna</td>\n",
       "      <td>The room itself and the aprtment were very cle...</td>\n",
       "    </tr>\n",
       "  </tbody>\n",
       "</table>\n",
       "<p>68275 rows × 6 columns</p>\n",
       "</div>"
      ],
      "text/plain": [
       "       listing_id        id        date  reviewer_id reviewer_name  \\\n",
       "0         1178162   4724140  2013-05-21      4298113       Olivier   \n",
       "1         1178162   4869189  2013-05-29      6452964     Charlotte   \n",
       "2         1178162   5003196  2013-06-06      6449554     Sebastian   \n",
       "3         1178162   5150351  2013-06-15      2215611        Marine   \n",
       "4         1178162   5171140  2013-06-16      6848427        Andrew   \n",
       "...           ...       ...         ...          ...           ...   \n",
       "68270     7462268  80537457  2016-06-18     22034145       Antonio   \n",
       "68271     7462268  83640094  2016-07-03     40052513         Steve   \n",
       "68272     7462268  85797088  2016-07-13     77129134          Nick   \n",
       "68273     7462268  97264637  2016-08-26     15799803           Vid   \n",
       "68274     7462268  98550693  2016-08-31     90128094       Arianna   \n",
       "\n",
       "                                                comments  \n",
       "0      My stay at islam's place was really cool! Good...  \n",
       "1      Great location for both airport and city - gre...  \n",
       "2      We really enjoyed our stay at Islams house. Fr...  \n",
       "3      The room was nice and clean and so were the co...  \n",
       "4      Great location. Just 5 mins walk from the Airp...  \n",
       "...                                                  ...  \n",
       "68270  Joe y su mujer son encantadores. La habitación...  \n",
       "68271  Joe was on his way to Jamaica to be married! o...  \n",
       "68272  The room was very clean as were the bathrooms ...  \n",
       "68273  Staying in Lower Allston at Joe and Nancy's pl...  \n",
       "68274  The room itself and the aprtment were very cle...  \n",
       "\n",
       "[68275 rows x 6 columns]"
      ]
     },
     "execution_count": 3,
     "metadata": {},
     "output_type": "execute_result"
    }
   ],
   "source": [
    "review_df"
   ]
  },
  {
   "cell_type": "code",
   "execution_count": 4,
   "id": "abb04ead",
   "metadata": {},
   "outputs": [],
   "source": [
    "review_df['comments'] = review_df['comments'].astype(str)"
   ]
  },
  {
   "cell_type": "code",
   "execution_count": 5,
   "id": "70e2400a",
   "metadata": {},
   "outputs": [
    {
     "name": "stdout",
     "output_type": "stream",
     "text": [
      "<class 'pandas.core.frame.DataFrame'>\n",
      "Int64Index: 68275 entries, 0 to 68274\n",
      "Data columns (total 6 columns):\n",
      " #   Column         Non-Null Count  Dtype         \n",
      "---  ------         --------------  -----         \n",
      " 0   listing_id     68275 non-null  int64         \n",
      " 1   id             68275 non-null  int64         \n",
      " 2   date           68275 non-null  datetime64[ns]\n",
      " 3   reviewer_id    68275 non-null  int64         \n",
      " 4   reviewer_name  68275 non-null  object        \n",
      " 5   comments       68275 non-null  object        \n",
      "dtypes: datetime64[ns](1), int64(3), object(2)\n",
      "memory usage: 3.6+ MB\n"
     ]
    },
    {
     "data": {
      "text/plain": [
       "listing_id       0\n",
       "id               0\n",
       "date             0\n",
       "reviewer_id      0\n",
       "reviewer_name    0\n",
       "comments         0\n",
       "dtype: int64"
      ]
     },
     "execution_count": 5,
     "metadata": {},
     "output_type": "execute_result"
    }
   ],
   "source": [
    "review_df.dropna(inplace=True)\n",
    "review_df.date = pd.to_datetime(review_df.date)\n",
    "review_df.info()\n",
    "review_df.isnull().sum()"
   ]
  },
  {
   "cell_type": "code",
   "execution_count": 6,
   "id": "c7d1bfe6",
   "metadata": {},
   "outputs": [],
   "source": [
    "import langdetect\n",
    "\n",
    "def is_english(text):\n",
    "    try:\n",
    "        return langdetect.detect(text) == \"en\"\n",
    "    except:\n",
    "        return False\n",
    "\n",
    "review_df = review_df[review_df[\"comments\"].apply(is_english)]\n",
    "review_df = review_df[review_df['comments'].apply(lambda x: len(x.split()) >= 5)]"
   ]
  },
  {
   "cell_type": "code",
   "execution_count": 7,
   "id": "1e7a1563",
   "metadata": {},
   "outputs": [],
   "source": [
    "def clean_comment(text):\n",
    "    text = re.sub(r\"[^\\w\\s]\", \"\", text).lower()\n",
    "    tokens = text.split()\n",
    "    stopwords = [\"a\", \"an\", \"the\", \"and\", \"but\", \"if\", \"or\", \"because\", \"as\", \"what\", \"which\", \"this\", \"that\", \"these\", \"those\", \"then\", \"just\", \"so\", \"than\", \"such\", \"both\", \"through\", \"about\", \"for\", \"is\", \"of\", \"while\", \"during\", \"to\", \"What\", \"Which\", \"Who\", \"How\", \"Whom\", \"The\"]\n",
    "    tokens = [token for token in tokens if token not in stopwords]\n",
    "    \n",
    "    # Return the cleaned and preprocessed review text\n",
    "    return \" \".join(tokens)"
   ]
  },
  {
   "cell_type": "code",
   "execution_count": 8,
   "id": "6ff3f58e",
   "metadata": {
    "scrolled": true
   },
   "outputs": [],
   "source": [
    "review_df[\"comments\"] = review_df[\"comments\"].apply(clean_comment)"
   ]
  },
  {
   "cell_type": "markdown",
   "id": "ae6a0735",
   "metadata": {},
   "source": [
    "Problem formulation:\n",
    "Only the total rating for each house type is available in the dataset. However, for the Airbnb platform, feedback from individual users is also extremely important.  \n",
    "1: Objective: To achieve a ranking of the positive ratings of properties based on the positive feedback from individual users. Also, to recommend appropriate listings for customers with too many bad reviews.  \n",
    "2: Input: user reviews, data type is text data.  \n",
    "3: Output: prediction of the positivity of user reviews, user reviews are labeled as positive, positive as 1, negative as 0.  \n",
    "4: Evaluation methods: accuracy, precision, recall, F1 score."
   ]
  },
  {
   "cell_type": "code",
   "execution_count": 9,
   "id": "a4bccccb",
   "metadata": {},
   "outputs": [],
   "source": [
    "grouped = review_df.groupby('listing_id')\n",
    "aggregated_comments = grouped['comments'].apply(lambda x: ''.join(x))\n",
    "aggregated_review_df = pd.DataFrame({'listing_id': aggregated_comments.index, 'comments': aggregated_comments.values})"
   ]
  },
  {
   "cell_type": "code",
   "execution_count": 10,
   "id": "8676ea75",
   "metadata": {},
   "outputs": [],
   "source": [
    "listings_df = pd.read_csv('./listings.csv')\n",
    "listings_df.fillna(0, inplace=True)\n",
    "listings_df = listings_df.rename(columns={\"id\": \"listing_id\"})\n"
   ]
  },
  {
   "cell_type": "code",
   "execution_count": 11,
   "id": "bbe6d429",
   "metadata": {},
   "outputs": [],
   "source": [
    "aggregated_review_df = pd.merge(aggregated_review_df, listings_df[['listing_id', 'review_scores_rating', 'description']], on=\"listing_id\")\n",
    "aggregated_review_df = aggregated_review_df[aggregated_review_df[\"review_scores_rating\"] != 0]\n"
   ]
  },
  {
   "cell_type": "code",
   "execution_count": 31,
   "id": "ee5c56e4",
   "metadata": {},
   "outputs": [
    {
     "data": {
      "image/png": "[encoded data removed]",
      "text/plain": [
       "<Figure size 640x480 with 1 Axes>"
      ]
     },
     "metadata": {},
     "output_type": "display_data"
    }
   ],
   "source": [
    "plt.hist(aggregated_review_df['review_scores_rating'], bins=100)\n",
    "plt.xlabel('Rating')\n",
    "plt.ylabel('Number of Reviews')\n",
    "plt.title('Distribution of Ratings')\n",
    "plt.show()\n"
   ]
  },
  {
   "cell_type": "code",
   "execution_count": 13,
   "id": "cb12e13b",
   "metadata": {},
   "outputs": [],
   "source": [
    "aggregated_review_df\n",
    "def is_positive(x):\n",
    "    if x >= 90:\n",
    "        return 1\n",
    "    else:\n",
    "        return 0\n",
    "\n",
    "aggregated_review_df['positive'] = aggregated_review_df['review_scores_rating'].apply(is_positive)"
   ]
  },
  {
   "cell_type": "code",
   "execution_count": 14,
   "id": "29e480d5",
   "metadata": {},
   "outputs": [],
   "source": [
    "from sklearn.naive_bayes import MultinomialNB\n",
    "from sklearn.ensemble import RandomForestClassifier\n",
    "from sklearn.neighbors import KNeighborsClassifier\n",
    "from sklearn.naive_bayes import BernoulliNB"
   ]
  },
  {
   "cell_type": "code",
   "execution_count": 15,
   "id": "707cab93",
   "metadata": {},
   "outputs": [],
   "source": [
    "models = [\n",
    "    BernoulliNB(),\n",
    "    MultinomialNB(),\n",
    "    KNeighborsClassifier(),\n",
    "    RandomForestClassifier(),\n",
    "]\n",
    "\n",
    "classifier_Names = ['BernoulliNB', 'MultinomialNB',\n",
    "                    'KNeighborsClassifier', 'RandomForestClassifier']"
   ]
  },
  {
   "cell_type": "code",
   "execution_count": 16,
   "id": "95619a1d",
   "metadata": {},
   "outputs": [
    {
     "name": "stdout",
     "output_type": "stream",
     "text": [
      "1    2037\n",
      "0     711\n",
      "Name: positive, dtype: int64\n"
     ]
    }
   ],
   "source": [
    "counts = aggregated_review_df['positive'].value_counts()\n",
    "print(counts)"
   ]
  },
  {
   "cell_type": "code",
   "execution_count": 17,
   "id": "74e18d02",
   "metadata": {},
   "outputs": [],
   "source": [
    "from sklearn.model_selection import train_test_split\n",
    "from sklearn.feature_extraction.text import CountVectorizer,TfidfVectorizer\n",
    "vectorizer = TfidfVectorizer()\n",
    "X = vectorizer.fit_transform(aggregated_review_df['comments'])\n",
    "y = aggregated_review_df['positive']\n",
    "\n",
    "X_train, X_test, y_train, y_test = train_test_split(X, y, test_size=0.2)"
   ]
  },
  {
   "cell_type": "code",
   "execution_count": 18,
   "id": "8ce7132b",
   "metadata": {},
   "outputs": [
    {
     "name": "stdout",
     "output_type": "stream",
     "text": [
      "BernoulliNB: 0.73\n",
      "MultinomialNB: 0.74\n",
      "KNeighborsClassifier: 0.70\n",
      "RandomForestClassifier: 0.76\n"
     ]
    }
   ],
   "source": [
    "from sklearn.metrics import accuracy_score\n",
    "\n",
    "\n",
    "for name, model in zip(classifier_Names, models):\n",
    "    model.fit(X_train, y_train)\n",
    "    pre_labels = model.predict(X_test)\n",
    "    score = accuracy_score(y_test, pre_labels)\n",
    "    print('%s: %.2f' % (name, score))"
   ]
  },
  {
   "cell_type": "code",
   "execution_count": 19,
   "id": "23167d71",
   "metadata": {},
   "outputs": [
    {
     "data": {
      "text/plain": [
       "RandomForestClassifier()"
      ]
     },
     "execution_count": 19,
     "metadata": {},
     "output_type": "execute_result"
    }
   ],
   "source": [
    "from sklearn.naive_bayes import MultinomialNB\n",
    "vectorizer = TfidfVectorizer()\n",
    "X = vectorizer.fit_transform(aggregated_review_df['comments'])\n",
    "y = aggregated_review_df['positive']\n",
    "\n",
    "X_train, X_test, y_train, y_test = train_test_split(X, y, test_size=0.2)\n",
    "\n",
    "model = RandomForestClassifier()\n",
    "model.fit(X_train, y_train)"
   ]
  },
  {
   "cell_type": "code",
   "execution_count": 20,
   "id": "91a6ce20",
   "metadata": {},
   "outputs": [
    {
     "name": "stdout",
     "output_type": "stream",
     "text": [
      "              precision    recall  f1-score   support\n",
      "\n",
      "           0       1.00      0.16      0.28       140\n",
      "           1       0.78      1.00      0.88       410\n",
      "\n",
      "    accuracy                           0.79       550\n",
      "   macro avg       0.89      0.58      0.58       550\n",
      "weighted avg       0.83      0.79      0.72       550\n",
      "\n"
     ]
    }
   ],
   "source": [
    "from sklearn import metrics\n",
    "own_model_result = model.predict(X_test)\n",
    "print(metrics.classification_report(y_test, own_model_result))"
   ]
  },
  {
   "cell_type": "code",
   "execution_count": 21,
   "id": "e026bcd7",
   "metadata": {},
   "outputs": [],
   "source": [
    "X_res = vectorizer.fit_transform(aggregated_review_df['comments'])\n",
    "predictions = [round(i[1], 5) for i in model.predict_proba(X_res)]\n",
    "aggregated_review_df['predict_positive'] = predictions"
   ]
  },
  {
   "cell_type": "code",
   "execution_count": 36,
   "id": "879a8b92",
   "metadata": {},
   "outputs": [
    {
     "data": {
      "image/png": "[encoded data removed]",
      "text/plain": [
       "<Figure size 640x480 with 1 Axes>"
      ]
     },
     "metadata": {},
     "output_type": "display_data"
    },
    {
     "name": "stdout",
     "output_type": "stream",
     "text": [
      "0.9915152657551196\n"
     ]
    }
   ],
   "source": [
    "from sklearn.metrics import roc_curve\n",
    "from sklearn.metrics import roc_auc_score\n",
    "fpr, tpr, thresholds = roc_curve(aggregated_review_df['positive'], aggregated_review_df['predict_positive'])\n",
    "plt.plot(fpr, tpr)\n",
    "plt.plot([0, 1], [0, 1], linestyle='--')\n",
    "plt.xlabel('False Positive Rate')\n",
    "plt.ylabel('True Positive Rate')\n",
    "plt.title('ROC Curve')\n",
    "plt.show()\n",
    "\n",
    "auc = roc_auc_score(aggregated_review_df['positive'], aggregated_review_df['predict_positive'])\n",
    "print(auc)"
   ]
  },
  {
   "cell_type": "code",
   "execution_count": 23,
   "id": "4753e890",
   "metadata": {},
   "outputs": [],
   "source": [
    "X_sep = vectorizer.transform(review_df['comments'])\n",
    "prediction_sep = model.predict(X_sep)\n",
    "review_df['score'] = prediction_sep"
   ]
  },
  {
   "cell_type": "code",
   "execution_count": 24,
   "id": "3e248a5d",
   "metadata": {},
   "outputs": [
    {
     "name": "stdout",
     "output_type": "stream",
     "text": [
      "1    63186\n",
      "0      718\n",
      "Name: score, dtype: int64\n"
     ]
    }
   ],
   "source": [
    "counts = review_df['score'].value_counts()\n",
    "print(counts)"
   ]
  },
  {
   "cell_type": "code",
   "execution_count": 25,
   "id": "c79aa296",
   "metadata": {},
   "outputs": [
    {
     "data": {
      "text/html": [
       "<div>\n",
       "<style scoped>\n",
       "    .dataframe tbody tr th:only-of-type {\n",
       "        vertical-align: middle;\n",
       "    }\n",
       "\n",
       "    .dataframe tbody tr th {\n",
       "        vertical-align: top;\n",
       "    }\n",
       "\n",
       "    .dataframe thead th {\n",
       "        text-align: right;\n",
       "    }\n",
       "</style>\n",
       "<table border=\"1\" class=\"dataframe\">\n",
       "  <thead>\n",
       "    <tr style=\"text-align: right;\">\n",
       "      <th></th>\n",
       "      <th>listing_id</th>\n",
       "      <th>ratio</th>\n",
       "    </tr>\n",
       "  </thead>\n",
       "  <tbody>\n",
       "    <tr>\n",
       "      <th>0</th>\n",
       "      <td>3353</td>\n",
       "      <td>1.0</td>\n",
       "    </tr>\n",
       "    <tr>\n",
       "      <th>1</th>\n",
       "      <td>5506</td>\n",
       "      <td>1.0</td>\n",
       "    </tr>\n",
       "    <tr>\n",
       "      <th>2</th>\n",
       "      <td>6695</td>\n",
       "      <td>1.0</td>\n",
       "    </tr>\n",
       "    <tr>\n",
       "      <th>3</th>\n",
       "      <td>6976</td>\n",
       "      <td>1.0</td>\n",
       "    </tr>\n",
       "    <tr>\n",
       "      <th>4</th>\n",
       "      <td>8792</td>\n",
       "      <td>1.0</td>\n",
       "    </tr>\n",
       "    <tr>\n",
       "      <th>...</th>\n",
       "      <td>...</td>\n",
       "      <td>...</td>\n",
       "    </tr>\n",
       "    <tr>\n",
       "      <th>2800</th>\n",
       "      <td>14813006</td>\n",
       "      <td>1.0</td>\n",
       "    </tr>\n",
       "    <tr>\n",
       "      <th>2801</th>\n",
       "      <td>14823724</td>\n",
       "      <td>1.0</td>\n",
       "    </tr>\n",
       "    <tr>\n",
       "      <th>2802</th>\n",
       "      <td>14842237</td>\n",
       "      <td>1.0</td>\n",
       "    </tr>\n",
       "    <tr>\n",
       "      <th>2803</th>\n",
       "      <td>14843050</td>\n",
       "      <td>1.0</td>\n",
       "    </tr>\n",
       "    <tr>\n",
       "      <th>2804</th>\n",
       "      <td>14843783</td>\n",
       "      <td>1.0</td>\n",
       "    </tr>\n",
       "  </tbody>\n",
       "</table>\n",
       "<p>2805 rows × 2 columns</p>\n",
       "</div>"
      ],
      "text/plain": [
       "      listing_id  ratio\n",
       "0           3353    1.0\n",
       "1           5506    1.0\n",
       "2           6695    1.0\n",
       "3           6976    1.0\n",
       "4           8792    1.0\n",
       "...          ...    ...\n",
       "2800    14813006    1.0\n",
       "2801    14823724    1.0\n",
       "2802    14842237    1.0\n",
       "2803    14843050    1.0\n",
       "2804    14843783    1.0\n",
       "\n",
       "[2805 rows x 2 columns]"
      ]
     },
     "execution_count": 25,
     "metadata": {},
     "output_type": "execute_result"
    }
   ],
   "source": [
    "review_df_counts_listing = review_df.groupby(\"listing_id\")[\"score\"].mean()\n",
    "review_df_counts_listing = review_df_counts_listing.reset_index()\n",
    "review_df_counts_listing = review_df_counts_listing.rename(columns={\"score\": \"ratio\"})\n",
    "review_df_counts_listing"
   ]
  },
  {
   "cell_type": "code",
   "execution_count": 26,
   "id": "37ec74e0",
   "metadata": {},
   "outputs": [],
   "source": [
    "review_df_ratios_reviewer = review_df.assign(score=lambda x: x[\"score\"].astype(bool))\n",
    "review_df_ratios_reviewer = review_df_ratios_reviewer.groupby(\"reviewer_id\")[\"score\"].mean()\n",
    "review_df_ratios_reviewer = review_df_ratios_reviewer.reset_index()\n",
    "review_df_ratios_reviewer = review_df_ratios_reviewer.rename(columns={\"score\": \"ratio\"})\n",
    "review_df_ratios_reviewer[\"ratio\"] = review_df_ratios_reviewer[\"ratio\"].astype(int)"
   ]
  },
  {
   "cell_type": "code",
   "execution_count": 27,
   "id": "bd5db36d",
   "metadata": {},
   "outputs": [
    {
     "data": {
      "text/html": [
       "<div>\n",
       "<style scoped>\n",
       "    .dataframe tbody tr th:only-of-type {\n",
       "        vertical-align: middle;\n",
       "    }\n",
       "\n",
       "    .dataframe tbody tr th {\n",
       "        vertical-align: top;\n",
       "    }\n",
       "\n",
       "    .dataframe thead th {\n",
       "        text-align: right;\n",
       "    }\n",
       "</style>\n",
       "<table border=\"1\" class=\"dataframe\">\n",
       "  <thead>\n",
       "    <tr style=\"text-align: right;\">\n",
       "      <th></th>\n",
       "      <th>reviewer_id</th>\n",
       "      <th>ratio</th>\n",
       "    </tr>\n",
       "  </thead>\n",
       "  <tbody>\n",
       "    <tr>\n",
       "      <th>0</th>\n",
       "      <td>143</td>\n",
       "      <td>1</td>\n",
       "    </tr>\n",
       "    <tr>\n",
       "      <th>1</th>\n",
       "      <td>322</td>\n",
       "      <td>1</td>\n",
       "    </tr>\n",
       "    <tr>\n",
       "      <th>2</th>\n",
       "      <td>933</td>\n",
       "      <td>1</td>\n",
       "    </tr>\n",
       "    <tr>\n",
       "      <th>3</th>\n",
       "      <td>1960</td>\n",
       "      <td>1</td>\n",
       "    </tr>\n",
       "    <tr>\n",
       "      <th>4</th>\n",
       "      <td>2237</td>\n",
       "      <td>1</td>\n",
       "    </tr>\n",
       "    <tr>\n",
       "      <th>...</th>\n",
       "      <td>...</td>\n",
       "      <td>...</td>\n",
       "    </tr>\n",
       "    <tr>\n",
       "      <th>59713</th>\n",
       "      <td>92877330</td>\n",
       "      <td>1</td>\n",
       "    </tr>\n",
       "    <tr>\n",
       "      <th>59714</th>\n",
       "      <td>93000637</td>\n",
       "      <td>1</td>\n",
       "    </tr>\n",
       "    <tr>\n",
       "      <th>59715</th>\n",
       "      <td>93041229</td>\n",
       "      <td>1</td>\n",
       "    </tr>\n",
       "    <tr>\n",
       "      <th>59716</th>\n",
       "      <td>93113474</td>\n",
       "      <td>1</td>\n",
       "    </tr>\n",
       "    <tr>\n",
       "      <th>59717</th>\n",
       "      <td>93275959</td>\n",
       "      <td>1</td>\n",
       "    </tr>\n",
       "  </tbody>\n",
       "</table>\n",
       "<p>59718 rows × 2 columns</p>\n",
       "</div>"
      ],
      "text/plain": [
       "       reviewer_id  ratio\n",
       "0              143      1\n",
       "1              322      1\n",
       "2              933      1\n",
       "3             1960      1\n",
       "4             2237      1\n",
       "...            ...    ...\n",
       "59713     92877330      1\n",
       "59714     93000637      1\n",
       "59715     93041229      1\n",
       "59716     93113474      1\n",
       "59717     93275959      1\n",
       "\n",
       "[59718 rows x 2 columns]"
      ]
     },
     "execution_count": 27,
     "metadata": {},
     "output_type": "execute_result"
    }
   ],
   "source": [
    "review_df_ratios_reviewer"
   ]
  },
  {
   "cell_type": "code",
   "execution_count": 28,
   "id": "378e384d",
   "metadata": {},
   "outputs": [
    {
     "data": {
      "text/html": [
       "<div>\n",
       "<style scoped>\n",
       "    .dataframe tbody tr th:only-of-type {\n",
       "        vertical-align: middle;\n",
       "    }\n",
       "\n",
       "    .dataframe tbody tr th {\n",
       "        vertical-align: top;\n",
       "    }\n",
       "\n",
       "    .dataframe thead th {\n",
       "        text-align: right;\n",
       "    }\n",
       "</style>\n",
       "<table border=\"1\" class=\"dataframe\">\n",
       "  <thead>\n",
       "    <tr style=\"text-align: right;\">\n",
       "      <th></th>\n",
       "      <th>listing_id</th>\n",
       "      <th>id</th>\n",
       "      <th>date</th>\n",
       "      <th>reviewer_id</th>\n",
       "      <th>reviewer_name</th>\n",
       "      <th>comments</th>\n",
       "      <th>score</th>\n",
       "      <th>description</th>\n",
       "    </tr>\n",
       "  </thead>\n",
       "  <tbody>\n",
       "    <tr>\n",
       "      <th>0</th>\n",
       "      <td>1178162</td>\n",
       "      <td>4724140</td>\n",
       "      <td>2013-05-21</td>\n",
       "      <td>4298113</td>\n",
       "      <td>Olivier</td>\n",
       "      <td>my stay at islams place was really cool good l...</td>\n",
       "      <td>1</td>\n",
       "      <td>Great Boston Location conveniently located nea...</td>\n",
       "    </tr>\n",
       "    <tr>\n",
       "      <th>1</th>\n",
       "      <td>1178162</td>\n",
       "      <td>4869189</td>\n",
       "      <td>2013-05-29</td>\n",
       "      <td>6452964</td>\n",
       "      <td>Charlotte</td>\n",
       "      <td>great location airport city great amenities in...</td>\n",
       "      <td>1</td>\n",
       "      <td>Great Boston Location conveniently located nea...</td>\n",
       "    </tr>\n",
       "    <tr>\n",
       "      <th>2</th>\n",
       "      <td>1178162</td>\n",
       "      <td>5003196</td>\n",
       "      <td>2013-06-06</td>\n",
       "      <td>6449554</td>\n",
       "      <td>Sebastian</td>\n",
       "      <td>we really enjoyed our stay at islams house fro...</td>\n",
       "      <td>1</td>\n",
       "      <td>Great Boston Location conveniently located nea...</td>\n",
       "    </tr>\n",
       "    <tr>\n",
       "      <th>3</th>\n",
       "      <td>1178162</td>\n",
       "      <td>5150351</td>\n",
       "      <td>2013-06-15</td>\n",
       "      <td>2215611</td>\n",
       "      <td>Marine</td>\n",
       "      <td>room was nice clean were commodities very clos...</td>\n",
       "      <td>1</td>\n",
       "      <td>Great Boston Location conveniently located nea...</td>\n",
       "    </tr>\n",
       "    <tr>\n",
       "      <th>4</th>\n",
       "      <td>1178162</td>\n",
       "      <td>5171140</td>\n",
       "      <td>2013-06-16</td>\n",
       "      <td>6848427</td>\n",
       "      <td>Andrew</td>\n",
       "      <td>great location 5 mins walk from airport statio...</td>\n",
       "      <td>1</td>\n",
       "      <td>Great Boston Location conveniently located nea...</td>\n",
       "    </tr>\n",
       "    <tr>\n",
       "      <th>...</th>\n",
       "      <td>...</td>\n",
       "      <td>...</td>\n",
       "      <td>...</td>\n",
       "      <td>...</td>\n",
       "      <td>...</td>\n",
       "      <td>...</td>\n",
       "      <td>...</td>\n",
       "      <td>...</td>\n",
       "    </tr>\n",
       "    <tr>\n",
       "      <th>63899</th>\n",
       "      <td>7462268</td>\n",
       "      <td>79199165</td>\n",
       "      <td>2016-06-11</td>\n",
       "      <td>66618882</td>\n",
       "      <td>Darci</td>\n",
       "      <td>wonderful location bus stop right at corner bu...</td>\n",
       "      <td>1</td>\n",
       "      <td>My place is close to Harvard Business School, ...</td>\n",
       "    </tr>\n",
       "    <tr>\n",
       "      <th>63900</th>\n",
       "      <td>7462268</td>\n",
       "      <td>83640094</td>\n",
       "      <td>2016-07-03</td>\n",
       "      <td>40052513</td>\n",
       "      <td>Steve</td>\n",
       "      <td>joe was on his way jamaica be married on last ...</td>\n",
       "      <td>1</td>\n",
       "      <td>My place is close to Harvard Business School, ...</td>\n",
       "    </tr>\n",
       "    <tr>\n",
       "      <th>63901</th>\n",
       "      <td>7462268</td>\n",
       "      <td>85797088</td>\n",
       "      <td>2016-07-13</td>\n",
       "      <td>77129134</td>\n",
       "      <td>Nick</td>\n",
       "      <td>room was very clean were bathrooms kitchen bed...</td>\n",
       "      <td>1</td>\n",
       "      <td>My place is close to Harvard Business School, ...</td>\n",
       "    </tr>\n",
       "    <tr>\n",
       "      <th>63902</th>\n",
       "      <td>7462268</td>\n",
       "      <td>97264637</td>\n",
       "      <td>2016-08-26</td>\n",
       "      <td>15799803</td>\n",
       "      <td>Vid</td>\n",
       "      <td>staying in lower allston at joe nancys place w...</td>\n",
       "      <td>1</td>\n",
       "      <td>My place is close to Harvard Business School, ...</td>\n",
       "    </tr>\n",
       "    <tr>\n",
       "      <th>63903</th>\n",
       "      <td>7462268</td>\n",
       "      <td>98550693</td>\n",
       "      <td>2016-08-31</td>\n",
       "      <td>90128094</td>\n",
       "      <td>Arianna</td>\n",
       "      <td>room itself aprtment were very clean joe provi...</td>\n",
       "      <td>1</td>\n",
       "      <td>My place is close to Harvard Business School, ...</td>\n",
       "    </tr>\n",
       "  </tbody>\n",
       "</table>\n",
       "<p>63904 rows × 8 columns</p>\n",
       "</div>"
      ],
      "text/plain": [
       "       listing_id        id       date  reviewer_id reviewer_name  \\\n",
       "0         1178162   4724140 2013-05-21      4298113       Olivier   \n",
       "1         1178162   4869189 2013-05-29      6452964     Charlotte   \n",
       "2         1178162   5003196 2013-06-06      6449554     Sebastian   \n",
       "3         1178162   5150351 2013-06-15      2215611        Marine   \n",
       "4         1178162   5171140 2013-06-16      6848427        Andrew   \n",
       "...           ...       ...        ...          ...           ...   \n",
       "63899     7462268  79199165 2016-06-11     66618882         Darci   \n",
       "63900     7462268  83640094 2016-07-03     40052513         Steve   \n",
       "63901     7462268  85797088 2016-07-13     77129134          Nick   \n",
       "63902     7462268  97264637 2016-08-26     15799803           Vid   \n",
       "63903     7462268  98550693 2016-08-31     90128094       Arianna   \n",
       "\n",
       "                                                comments  score  \\\n",
       "0      my stay at islams place was really cool good l...      1   \n",
       "1      great location airport city great amenities in...      1   \n",
       "2      we really enjoyed our stay at islams house fro...      1   \n",
       "3      room was nice clean were commodities very clos...      1   \n",
       "4      great location 5 mins walk from airport statio...      1   \n",
       "...                                                  ...    ...   \n",
       "63899  wonderful location bus stop right at corner bu...      1   \n",
       "63900  joe was on his way jamaica be married on last ...      1   \n",
       "63901  room was very clean were bathrooms kitchen bed...      1   \n",
       "63902  staying in lower allston at joe nancys place w...      1   \n",
       "63903  room itself aprtment were very clean joe provi...      1   \n",
       "\n",
       "                                             description  \n",
       "0      Great Boston Location conveniently located nea...  \n",
       "1      Great Boston Location conveniently located nea...  \n",
       "2      Great Boston Location conveniently located nea...  \n",
       "3      Great Boston Location conveniently located nea...  \n",
       "4      Great Boston Location conveniently located nea...  \n",
       "...                                                  ...  \n",
       "63899  My place is close to Harvard Business School, ...  \n",
       "63900  My place is close to Harvard Business School, ...  \n",
       "63901  My place is close to Harvard Business School, ...  \n",
       "63902  My place is close to Harvard Business School, ...  \n",
       "63903  My place is close to Harvard Business School, ...  \n",
       "\n",
       "[63904 rows x 8 columns]"
      ]
     },
     "execution_count": 28,
     "metadata": {},
     "output_type": "execute_result"
    }
   ],
   "source": [
    "review_df = pd.merge(review_df, listings_df[[\"listing_id\", \"description\"]], on=\"listing_id\")\n",
    "review_df"
   ]
  },
  {
   "cell_type": "code",
   "execution_count": 29,
   "id": "cedaab5e",
   "metadata": {},
   "outputs": [],
   "source": [
    "# import pandas as pd\n",
    "# from sklearn.feature_extraction.text import CountVectorizer\n",
    "# from sklearn.metrics.pairwise import cosine_similarity\n",
    "# import numpy as np\n",
    "\n",
    "# df = review_df.loc[review_df[\"score\"] == 1]\n",
    "# X = vectorizer.fit_transform(df[\"comments\"] + df[\"description_x\"])\n",
    "\n",
    "# similarity = cosine_similarity(X)\n",
    "# most_similar = np.argmax(similarity, axis=1)\n",
    "# recommendations = df.iloc[most_similar][\"listing_id\"]\n"
   ]
  },
  {
   "cell_type": "code",
   "execution_count": 33,
   "id": "29191c40",
   "metadata": {},
   "outputs": [
    {
     "ename": "AttributeError",
     "evalue": "'Series' object has no attribute 'lower'",
     "output_type": "error",
     "traceback": [
      "\u001b[1;31m---------------------------------------------------------------------------\u001b[0m",
      "\u001b[1;31mAttributeError\u001b[0m                            Traceback (most recent call last)",
      "Cell \u001b[1;32mIn[33], line 15\u001b[0m\n\u001b[0;32m     13\u001b[0m item_descriptions \u001b[38;5;241m=\u001b[39m review_df[\u001b[38;5;124m\"\u001b[39m\u001b[38;5;124mdescription\u001b[39m\u001b[38;5;124m\"\u001b[39m]\n\u001b[0;32m     14\u001b[0m user_ratings \u001b[38;5;241m=\u001b[39m review_df[\u001b[38;5;124m\"\u001b[39m\u001b[38;5;124mscore\u001b[39m\u001b[38;5;124m\"\u001b[39m]\n\u001b[1;32m---> 15\u001b[0m recommended_item_indices \u001b[38;5;241m=\u001b[39m \u001b[43mrecommend\u001b[49m\u001b[43m(\u001b[49m\u001b[43mitem_descriptions\u001b[49m\u001b[43m,\u001b[49m\u001b[43m \u001b[49m\u001b[43muser_ratings\u001b[49m\u001b[43m)\u001b[49m\n",
      "Cell \u001b[1;32mIn[33], line 6\u001b[0m, in \u001b[0;36mrecommend\u001b[1;34m(item_descriptions, user_ratings)\u001b[0m\n\u001b[0;32m      4\u001b[0m \u001b[38;5;28;01mdef\u001b[39;00m \u001b[38;5;21mrecommend\u001b[39m(item_descriptions, user_ratings):\n\u001b[0;32m      5\u001b[0m   item_vectors \u001b[38;5;241m=\u001b[39m vectorizer\u001b[38;5;241m.\u001b[39mfit_transform(item_descriptions)\n\u001b[1;32m----> 6\u001b[0m   user_vector \u001b[38;5;241m=\u001b[39m \u001b[43mvectorizer\u001b[49m\u001b[38;5;241;43m.\u001b[39;49m\u001b[43mtransform\u001b[49m\u001b[43m(\u001b[49m\u001b[43m[\u001b[49m\u001b[43muser_ratings\u001b[49m\u001b[43m]\u001b[49m\u001b[43m)\u001b[49m\n\u001b[0;32m      7\u001b[0m   sim_scores \u001b[38;5;241m=\u001b[39m cosine_similarity(user_vector, item_vectors)\n\u001b[0;32m      8\u001b[0m   sim_scores \u001b[38;5;241m=\u001b[39m sim_scores\u001b[38;5;241m.\u001b[39mflatten()\n",
      "File \u001b[1;32mD:\\ProgramData\\Anaconda3\\lib\\site-packages\\sklearn\\feature_extraction\\text.py:1870\u001b[0m, in \u001b[0;36mTfidfVectorizer.transform\u001b[1;34m(self, raw_documents)\u001b[0m\n\u001b[0;32m   1853\u001b[0m \u001b[38;5;124;03m\"\"\"Transform documents to document-term matrix.\u001b[39;00m\n\u001b[0;32m   1854\u001b[0m \n\u001b[0;32m   1855\u001b[0m \u001b[38;5;124;03mUses the vocabulary and document frequencies (df) learned by fit (or\u001b[39;00m\n\u001b[1;32m   (...)\u001b[0m\n\u001b[0;32m   1866\u001b[0m \u001b[38;5;124;03m    Tf-idf-weighted document-term matrix.\u001b[39;00m\n\u001b[0;32m   1867\u001b[0m \u001b[38;5;124;03m\"\"\"\u001b[39;00m\n\u001b[0;32m   1868\u001b[0m check_is_fitted(\u001b[38;5;28mself\u001b[39m, msg\u001b[38;5;241m=\u001b[39m\u001b[38;5;124m'\u001b[39m\u001b[38;5;124mThe TF-IDF vectorizer is not fitted\u001b[39m\u001b[38;5;124m'\u001b[39m)\n\u001b[1;32m-> 1870\u001b[0m X \u001b[38;5;241m=\u001b[39m \u001b[38;5;28;43msuper\u001b[39;49m\u001b[43m(\u001b[49m\u001b[43m)\u001b[49m\u001b[38;5;241;43m.\u001b[39;49m\u001b[43mtransform\u001b[49m\u001b[43m(\u001b[49m\u001b[43mraw_documents\u001b[49m\u001b[43m)\u001b[49m\n\u001b[0;32m   1871\u001b[0m \u001b[38;5;28;01mreturn\u001b[39;00m \u001b[38;5;28mself\u001b[39m\u001b[38;5;241m.\u001b[39m_tfidf\u001b[38;5;241m.\u001b[39mtransform(X, copy\u001b[38;5;241m=\u001b[39m\u001b[38;5;28;01mFalse\u001b[39;00m)\n",
      "File \u001b[1;32mD:\\ProgramData\\Anaconda3\\lib\\site-packages\\sklearn\\feature_extraction\\text.py:1254\u001b[0m, in \u001b[0;36mCountVectorizer.transform\u001b[1;34m(self, raw_documents)\u001b[0m\n\u001b[0;32m   1251\u001b[0m \u001b[38;5;28mself\u001b[39m\u001b[38;5;241m.\u001b[39m_check_vocabulary()\n\u001b[0;32m   1253\u001b[0m \u001b[38;5;66;03m# use the same matrix-building strategy as fit_transform\u001b[39;00m\n\u001b[1;32m-> 1254\u001b[0m _, X \u001b[38;5;241m=\u001b[39m \u001b[38;5;28;43mself\u001b[39;49m\u001b[38;5;241;43m.\u001b[39;49m\u001b[43m_count_vocab\u001b[49m\u001b[43m(\u001b[49m\u001b[43mraw_documents\u001b[49m\u001b[43m,\u001b[49m\u001b[43m \u001b[49m\u001b[43mfixed_vocab\u001b[49m\u001b[38;5;241;43m=\u001b[39;49m\u001b[38;5;28;43;01mTrue\u001b[39;49;00m\u001b[43m)\u001b[49m\n\u001b[0;32m   1255\u001b[0m \u001b[38;5;28;01mif\u001b[39;00m \u001b[38;5;28mself\u001b[39m\u001b[38;5;241m.\u001b[39mbinary:\n\u001b[0;32m   1256\u001b[0m     X\u001b[38;5;241m.\u001b[39mdata\u001b[38;5;241m.\u001b[39mfill(\u001b[38;5;241m1\u001b[39m)\n",
      "File \u001b[1;32mD:\\ProgramData\\Anaconda3\\lib\\site-packages\\sklearn\\feature_extraction\\text.py:1114\u001b[0m, in \u001b[0;36mCountVectorizer._count_vocab\u001b[1;34m(self, raw_documents, fixed_vocab)\u001b[0m\n\u001b[0;32m   1112\u001b[0m \u001b[38;5;28;01mfor\u001b[39;00m doc \u001b[38;5;129;01min\u001b[39;00m raw_documents:\n\u001b[0;32m   1113\u001b[0m     feature_counter \u001b[38;5;241m=\u001b[39m {}\n\u001b[1;32m-> 1114\u001b[0m     \u001b[38;5;28;01mfor\u001b[39;00m feature \u001b[38;5;129;01min\u001b[39;00m \u001b[43manalyze\u001b[49m\u001b[43m(\u001b[49m\u001b[43mdoc\u001b[49m\u001b[43m)\u001b[49m:\n\u001b[0;32m   1115\u001b[0m         \u001b[38;5;28;01mtry\u001b[39;00m:\n\u001b[0;32m   1116\u001b[0m             feature_idx \u001b[38;5;241m=\u001b[39m vocabulary[feature]\n",
      "File \u001b[1;32mD:\\ProgramData\\Anaconda3\\lib\\site-packages\\sklearn\\feature_extraction\\text.py:104\u001b[0m, in \u001b[0;36m_analyze\u001b[1;34m(doc, analyzer, tokenizer, ngrams, preprocessor, decoder, stop_words)\u001b[0m\n\u001b[0;32m    102\u001b[0m \u001b[38;5;28;01melse\u001b[39;00m:\n\u001b[0;32m    103\u001b[0m     \u001b[38;5;28;01mif\u001b[39;00m preprocessor \u001b[38;5;129;01mis\u001b[39;00m \u001b[38;5;129;01mnot\u001b[39;00m \u001b[38;5;28;01mNone\u001b[39;00m:\n\u001b[1;32m--> 104\u001b[0m         doc \u001b[38;5;241m=\u001b[39m \u001b[43mpreprocessor\u001b[49m\u001b[43m(\u001b[49m\u001b[43mdoc\u001b[49m\u001b[43m)\u001b[49m\n\u001b[0;32m    105\u001b[0m     \u001b[38;5;28;01mif\u001b[39;00m tokenizer \u001b[38;5;129;01mis\u001b[39;00m \u001b[38;5;129;01mnot\u001b[39;00m \u001b[38;5;28;01mNone\u001b[39;00m:\n\u001b[0;32m    106\u001b[0m         doc \u001b[38;5;241m=\u001b[39m tokenizer(doc)\n",
      "File \u001b[1;32mD:\\ProgramData\\Anaconda3\\lib\\site-packages\\sklearn\\feature_extraction\\text.py:69\u001b[0m, in \u001b[0;36m_preprocess\u001b[1;34m(doc, accent_function, lower)\u001b[0m\n\u001b[0;32m     50\u001b[0m \u001b[38;5;124;03m\"\"\"Chain together an optional series of text preprocessing steps to\u001b[39;00m\n\u001b[0;32m     51\u001b[0m \u001b[38;5;124;03mapply to a document.\u001b[39;00m\n\u001b[0;32m     52\u001b[0m \n\u001b[1;32m   (...)\u001b[0m\n\u001b[0;32m     66\u001b[0m \u001b[38;5;124;03m    preprocessed string\u001b[39;00m\n\u001b[0;32m     67\u001b[0m \u001b[38;5;124;03m\"\"\"\u001b[39;00m\n\u001b[0;32m     68\u001b[0m \u001b[38;5;28;01mif\u001b[39;00m lower:\n\u001b[1;32m---> 69\u001b[0m     doc \u001b[38;5;241m=\u001b[39m \u001b[43mdoc\u001b[49m\u001b[38;5;241;43m.\u001b[39;49m\u001b[43mlower\u001b[49m()\n\u001b[0;32m     70\u001b[0m \u001b[38;5;28;01mif\u001b[39;00m accent_function \u001b[38;5;129;01mis\u001b[39;00m \u001b[38;5;129;01mnot\u001b[39;00m \u001b[38;5;28;01mNone\u001b[39;00m:\n\u001b[0;32m     71\u001b[0m     doc \u001b[38;5;241m=\u001b[39m accent_function(doc)\n",
      "File \u001b[1;32mD:\\ProgramData\\Anaconda3\\lib\\site-packages\\pandas\\core\\generic.py:5487\u001b[0m, in \u001b[0;36mNDFrame.__getattr__\u001b[1;34m(self, name)\u001b[0m\n\u001b[0;32m   5480\u001b[0m \u001b[38;5;28;01mif\u001b[39;00m (\n\u001b[0;32m   5481\u001b[0m     name \u001b[38;5;129;01mnot\u001b[39;00m \u001b[38;5;129;01min\u001b[39;00m \u001b[38;5;28mself\u001b[39m\u001b[38;5;241m.\u001b[39m_internal_names_set\n\u001b[0;32m   5482\u001b[0m     \u001b[38;5;129;01mand\u001b[39;00m name \u001b[38;5;129;01mnot\u001b[39;00m \u001b[38;5;129;01min\u001b[39;00m \u001b[38;5;28mself\u001b[39m\u001b[38;5;241m.\u001b[39m_metadata\n\u001b[0;32m   5483\u001b[0m     \u001b[38;5;129;01mand\u001b[39;00m name \u001b[38;5;129;01mnot\u001b[39;00m \u001b[38;5;129;01min\u001b[39;00m \u001b[38;5;28mself\u001b[39m\u001b[38;5;241m.\u001b[39m_accessors\n\u001b[0;32m   5484\u001b[0m     \u001b[38;5;129;01mand\u001b[39;00m \u001b[38;5;28mself\u001b[39m\u001b[38;5;241m.\u001b[39m_info_axis\u001b[38;5;241m.\u001b[39m_can_hold_identifiers_and_holds_name(name)\n\u001b[0;32m   5485\u001b[0m ):\n\u001b[0;32m   5486\u001b[0m     \u001b[38;5;28;01mreturn\u001b[39;00m \u001b[38;5;28mself\u001b[39m[name]\n\u001b[1;32m-> 5487\u001b[0m \u001b[38;5;28;01mreturn\u001b[39;00m \u001b[38;5;28;43mobject\u001b[39;49m\u001b[38;5;241;43m.\u001b[39;49m\u001b[38;5;21;43m__getattribute__\u001b[39;49m\u001b[43m(\u001b[49m\u001b[38;5;28;43mself\u001b[39;49m\u001b[43m,\u001b[49m\u001b[43m \u001b[49m\u001b[43mname\u001b[49m\u001b[43m)\u001b[49m\n",
      "\u001b[1;31mAttributeError\u001b[0m: 'Series' object has no attribute 'lower'"
     ]
    }
   ],
   "source": [
    "from sklearn.feature_extraction.text import TfidfVectorizer\n",
    "from sklearn.metrics.pairwise import cosine_similarity\n",
    "\n",
    "def recommend(item_descriptions, user_ratings):\n",
    "  item_vectors = vectorizer.fit_transform(item_descriptions)\n",
    "  user_vector = vectorizer.transform([user_ratings])\n",
    "  sim_scores = cosine_similarity(user_vector, item_vectors)\n",
    "  sim_scores = sim_scores.flatten()\n",
    "  sim_scores_sorted_indices = sim_scores.argsort()[::-1]\n",
    "  k = 10\n",
    "  return sim_scores_sorted_indices[:k]\n",
    "\n",
    "item_descriptions = review_df[\"description\"]\n",
    "user_ratings = review_df[\"score\"]\n",
    "recommended_item_indices = recommend(item_descriptions, user_ratings)\n"
   ]
  }
 ],
 "metadata": {
  "kernelspec": {
   "display_name": "Python 3 (ipykernel)",
   "language": "python",
   "name": "python3"
  },
  "language_info": {
   "codemirror_mode": {
    "name": "ipython",
    "version": 3
   },
   "file_extension": ".py",
   "mimetype": "text/x-python",
   "name": "python",
   "nbconvert_exporter": "python",
   "pygments_lexer": "ipython3",
   "version": "3.9.7"
  }
 },
 "nbformat": 4,
 "nbformat_minor": 5
}
