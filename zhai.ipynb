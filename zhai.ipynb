{
 "cells": [
  {
   "cell_type": "code",
   "execution_count": null,
   "id": "35c2b1f2",
   "metadata": {
    "id": "35c2b1f2"
   },
   "outputs": [],
   "source": [
    "import pandas as pd\n",
    "from nltk.corpus import stopwords\n",
    "from nltk.stem import SnowballStemmer\n",
    "from nltk.tokenize import word_tokenize\n",
    "import re\n",
    "from googletrans import Translator"
   ]
  },
  {
   "cell_type": "markdown",
   "id": "Z2XVWq6cxUhJ",
   "metadata": {
    "id": "Z2XVWq6cxUhJ"
   },
   "source": []
  },
  {
   "cell_type": "markdown",
   "id": "af26183e",
   "metadata": {
    "id": "af26183e"
   },
   "source": [
    "### **How to become a super host**\n",
    "\n"
   ]
  },
  {
   "cell_type": "code",
   "execution_count": null,
   "id": "b38abe37",
   "metadata": {
    "id": "b38abe37"
   },
   "outputs": [],
   "source": [
    "# import\n",
    "import numpy as np\n",
    "import pandas as pd\n",
    "import matplotlib.pyplot as plt\n",
    "import seaborn as sns"
   ]
  },
  {
   "cell_type": "code",
   "execution_count": null,
   "id": "ff0f33ff",
   "metadata": {
    "id": "ff0f33ff"
   },
   "outputs": [],
   "source": [
    "#load the data\n",
    "list = pd.read_csv('listings.csv')\n",
    "features_df = list.copy()"
   ]
  },
  {
   "cell_type": "code",
   "execution_count": null,
   "id": "489879bc",
   "metadata": {
    "id": "489879bc",
    "outputId": "98649055-926b-453d-b87e-57428189fa2b"
   },
   "outputs": [
    {
     "name": "stdout",
     "output_type": "stream",
     "text": [
      "id                                    int64\n",
      "listing_url                          object\n",
      "scrape_id                             int64\n",
      "last_scraped                         object\n",
      "name                                 object\n",
      "summary                              object\n",
      "space                                object\n",
      "description                          object\n",
      "experiences_offered                  object\n",
      "neighborhood_overview                object\n",
      "notes                                object\n",
      "transit                              object\n",
      "access                               object\n",
      "interaction                          object\n",
      "house_rules                          object\n",
      "thumbnail_url                        object\n",
      "medium_url                           object\n",
      "picture_url                          object\n",
      "xl_picture_url                       object\n",
      "host_id                               int64\n",
      "host_url                             object\n",
      "host_name                            object\n",
      "host_since                           object\n",
      "host_location                        object\n",
      "host_about                           object\n",
      "host_response_time                   object\n",
      "host_response_rate                   object\n",
      "host_acceptance_rate                 object\n",
      "host_is_superhost                    object\n",
      "host_thumbnail_url                   object\n",
      "host_picture_url                     object\n",
      "host_neighbourhood                   object\n",
      "host_listings_count                   int64\n",
      "host_total_listings_count             int64\n",
      "host_verifications                   object\n",
      "host_has_profile_pic                 object\n",
      "host_identity_verified               object\n",
      "street                               object\n",
      "neighbourhood                        object\n",
      "neighbourhood_cleansed               object\n",
      "neighbourhood_group_cleansed        float64\n",
      "city                                 object\n",
      "state                                object\n",
      "zipcode                              object\n",
      "market                               object\n",
      "smart_location                       object\n",
      "country_code                         object\n",
      "country                              object\n",
      "latitude                            float64\n",
      "longitude                           float64\n",
      "is_location_exact                    object\n",
      "property_type                        object\n",
      "room_type                            object\n",
      "accommodates                          int64\n",
      "bathrooms                           float64\n",
      "bedrooms                            float64\n",
      "beds                                float64\n",
      "bed_type                             object\n",
      "amenities                            object\n",
      "square_feet                         float64\n",
      "price                                object\n",
      "weekly_price                         object\n",
      "monthly_price                        object\n",
      "security_deposit                     object\n",
      "cleaning_fee                         object\n",
      "guests_included                       int64\n",
      "extra_people                         object\n",
      "minimum_nights                        int64\n",
      "maximum_nights                        int64\n",
      "calendar_updated                     object\n",
      "has_availability                    float64\n",
      "availability_30                       int64\n",
      "availability_60                       int64\n",
      "availability_90                       int64\n",
      "availability_365                      int64\n",
      "calendar_last_scraped                object\n",
      "number_of_reviews                     int64\n",
      "first_review                         object\n",
      "last_review                          object\n",
      "review_scores_rating                float64\n",
      "review_scores_accuracy              float64\n",
      "review_scores_cleanliness           float64\n",
      "review_scores_checkin               float64\n",
      "review_scores_communication         float64\n",
      "review_scores_location              float64\n",
      "review_scores_value                 float64\n",
      "requires_license                     object\n",
      "license                             float64\n",
      "jurisdiction_names                  float64\n",
      "instant_bookable                     object\n",
      "cancellation_policy                  object\n",
      "require_guest_profile_picture        object\n",
      "require_guest_phone_verification     object\n",
      "calculated_host_listings_count        int64\n",
      "reviews_per_month                   float64\n",
      "dtype: object\n"
     ]
    }
   ],
   "source": [
    "# check the data type of the columns\n",
    "with pd.option_context('display.max_rows', None, 'display.max_columns', None):  # show all contents in a series\n",
    "    print(list.dtypes)"
   ]
  },
  {
   "cell_type": "code",
   "execution_count": null,
   "id": "9949dadb",
   "metadata": {
    "id": "9949dadb"
   },
   "outputs": [],
   "source": [
    "#Drop id and other columns unrelated to the business questions\n",
    "list = list.drop(['id', 'listing_url', 'scrape_id', 'last_scraped', 'name', 'summary',\n",
    "       'space', 'description', 'experiences_offered', 'neighborhood_overview',\n",
    "       'notes', 'transit', 'access', 'interaction', 'house_rules',\n",
    "       'thumbnail_url', 'medium_url', 'picture_url', 'xl_picture_url',\n",
    "       'host_id', 'host_url', 'host_name', 'host_since', 'host_location',\n",
    "       'host_about','host_thumbnail_url','host_picture_url', 'host_neighbourhood', \n",
    "       'host_total_listings_count', 'host_verifications','host_listings_count',\n",
    "       'host_has_profile_pic', 'host_identity_verified', 'street','neighbourhood_cleansed','neighbourhood_group_cleansed', 'city', 'state', 'zipcode', 'market',\n",
    "       'smart_location', 'country_code', 'country', 'latitude', 'longitude',\n",
    "       'is_location_exact', 'property_type', 'room_type', 'amenities', \n",
    "       'security_deposit','guests_included', 'extra_people', 'minimum_nights',\n",
    "       'maximum_nights', 'calendar_updated','calendar_last_scraped', 'number_of_reviews',\n",
    "       'first_review', 'last_review','requires_license',\n",
    "       'license', 'jurisdiction_names','instant_bookable',\n",
    "       'cancellation_policy', 'require_guest_profile_picture',\n",
    "       'require_guest_phone_verification', 'calculated_host_listings_count',\n",
    "       'reviews_per_month'], axis=1)"
   ]
  },
  {
   "cell_type": "code",
   "execution_count": null,
   "id": "e5ed70ce",
   "metadata": {
    "id": "e5ed70ce",
    "outputId": "4a4577e4-e953-4560-83e2-6bf7c1f1f954"
   },
   "outputs": [
    {
     "data": {
      "text/html": [
       "<div>\n",
       "<style scoped>\n",
       "    .dataframe tbody tr th:only-of-type {\n",
       "        vertical-align: middle;\n",
       "    }\n",
       "\n",
       "    .dataframe tbody tr th {\n",
       "        vertical-align: top;\n",
       "    }\n",
       "\n",
       "    .dataframe thead th {\n",
       "        text-align: right;\n",
       "    }\n",
       "</style>\n",
       "<table border=\"1\" class=\"dataframe\">\n",
       "  <thead>\n",
       "    <tr style=\"text-align: right;\">\n",
       "      <th></th>\n",
       "      <th>host_response_time</th>\n",
       "      <th>host_response_rate</th>\n",
       "      <th>host_acceptance_rate</th>\n",
       "      <th>host_is_superhost</th>\n",
       "      <th>neighbourhood</th>\n",
       "      <th>accommodates</th>\n",
       "      <th>bathrooms</th>\n",
       "      <th>bedrooms</th>\n",
       "      <th>beds</th>\n",
       "      <th>bed_type</th>\n",
       "      <th>...</th>\n",
       "      <th>availability_60</th>\n",
       "      <th>availability_90</th>\n",
       "      <th>availability_365</th>\n",
       "      <th>review_scores_rating</th>\n",
       "      <th>review_scores_accuracy</th>\n",
       "      <th>review_scores_cleanliness</th>\n",
       "      <th>review_scores_checkin</th>\n",
       "      <th>review_scores_communication</th>\n",
       "      <th>review_scores_location</th>\n",
       "      <th>review_scores_value</th>\n",
       "    </tr>\n",
       "  </thead>\n",
       "  <tbody>\n",
       "    <tr>\n",
       "      <th>2</th>\n",
       "      <td>within a few hours</td>\n",
       "      <td>100%</td>\n",
       "      <td>88%</td>\n",
       "      <td>t</td>\n",
       "      <td>Roslindale</td>\n",
       "      <td>2</td>\n",
       "      <td>1.0</td>\n",
       "      <td>1.0</td>\n",
       "      <td>1.0</td>\n",
       "      <td>Real Bed</td>\n",
       "      <td>...</td>\n",
       "      <td>46</td>\n",
       "      <td>61</td>\n",
       "      <td>319</td>\n",
       "      <td>98.0</td>\n",
       "      <td>10.0</td>\n",
       "      <td>9.0</td>\n",
       "      <td>10.0</td>\n",
       "      <td>10.0</td>\n",
       "      <td>9.0</td>\n",
       "      <td>10.0</td>\n",
       "    </tr>\n",
       "    <tr>\n",
       "      <th>4</th>\n",
       "      <td>within an hour</td>\n",
       "      <td>100%</td>\n",
       "      <td>100%</td>\n",
       "      <td>t</td>\n",
       "      <td>Roslindale</td>\n",
       "      <td>2</td>\n",
       "      <td>1.5</td>\n",
       "      <td>1.0</td>\n",
       "      <td>2.0</td>\n",
       "      <td>Real Bed</td>\n",
       "      <td>...</td>\n",
       "      <td>34</td>\n",
       "      <td>59</td>\n",
       "      <td>334</td>\n",
       "      <td>99.0</td>\n",
       "      <td>10.0</td>\n",
       "      <td>10.0</td>\n",
       "      <td>10.0</td>\n",
       "      <td>10.0</td>\n",
       "      <td>9.0</td>\n",
       "      <td>10.0</td>\n",
       "    </tr>\n",
       "    <tr>\n",
       "      <th>5</th>\n",
       "      <td>within a few hours</td>\n",
       "      <td>100%</td>\n",
       "      <td>95%</td>\n",
       "      <td>t</td>\n",
       "      <td>Roslindale</td>\n",
       "      <td>2</td>\n",
       "      <td>1.0</td>\n",
       "      <td>1.0</td>\n",
       "      <td>1.0</td>\n",
       "      <td>Real Bed</td>\n",
       "      <td>...</td>\n",
       "      <td>28</td>\n",
       "      <td>58</td>\n",
       "      <td>58</td>\n",
       "      <td>100.0</td>\n",
       "      <td>10.0</td>\n",
       "      <td>10.0</td>\n",
       "      <td>10.0</td>\n",
       "      <td>10.0</td>\n",
       "      <td>9.0</td>\n",
       "      <td>10.0</td>\n",
       "    </tr>\n",
       "    <tr>\n",
       "      <th>7</th>\n",
       "      <td>within a few hours</td>\n",
       "      <td>100%</td>\n",
       "      <td>100%</td>\n",
       "      <td>t</td>\n",
       "      <td>Roslindale</td>\n",
       "      <td>2</td>\n",
       "      <td>2.0</td>\n",
       "      <td>1.0</td>\n",
       "      <td>1.0</td>\n",
       "      <td>Real Bed</td>\n",
       "      <td>...</td>\n",
       "      <td>60</td>\n",
       "      <td>90</td>\n",
       "      <td>365</td>\n",
       "      <td>96.0</td>\n",
       "      <td>10.0</td>\n",
       "      <td>10.0</td>\n",
       "      <td>10.0</td>\n",
       "      <td>10.0</td>\n",
       "      <td>10.0</td>\n",
       "      <td>10.0</td>\n",
       "    </tr>\n",
       "    <tr>\n",
       "      <th>8</th>\n",
       "      <td>within an hour</td>\n",
       "      <td>100%</td>\n",
       "      <td>100%</td>\n",
       "      <td>t</td>\n",
       "      <td>Roslindale</td>\n",
       "      <td>2</td>\n",
       "      <td>1.0</td>\n",
       "      <td>1.0</td>\n",
       "      <td>2.0</td>\n",
       "      <td>Real Bed</td>\n",
       "      <td>...</td>\n",
       "      <td>42</td>\n",
       "      <td>72</td>\n",
       "      <td>347</td>\n",
       "      <td>96.0</td>\n",
       "      <td>10.0</td>\n",
       "      <td>10.0</td>\n",
       "      <td>10.0</td>\n",
       "      <td>10.0</td>\n",
       "      <td>9.0</td>\n",
       "      <td>10.0</td>\n",
       "    </tr>\n",
       "    <tr>\n",
       "      <th>...</th>\n",
       "      <td>...</td>\n",
       "      <td>...</td>\n",
       "      <td>...</td>\n",
       "      <td>...</td>\n",
       "      <td>...</td>\n",
       "      <td>...</td>\n",
       "      <td>...</td>\n",
       "      <td>...</td>\n",
       "      <td>...</td>\n",
       "      <td>...</td>\n",
       "      <td>...</td>\n",
       "      <td>...</td>\n",
       "      <td>...</td>\n",
       "      <td>...</td>\n",
       "      <td>...</td>\n",
       "      <td>...</td>\n",
       "      <td>...</td>\n",
       "      <td>...</td>\n",
       "      <td>...</td>\n",
       "      <td>...</td>\n",
       "      <td>...</td>\n",
       "    </tr>\n",
       "    <tr>\n",
       "      <th>3449</th>\n",
       "      <td>within an hour</td>\n",
       "      <td>100%</td>\n",
       "      <td>100%</td>\n",
       "      <td>t</td>\n",
       "      <td>Allston-Brighton</td>\n",
       "      <td>2</td>\n",
       "      <td>1.0</td>\n",
       "      <td>1.0</td>\n",
       "      <td>1.0</td>\n",
       "      <td>Real Bed</td>\n",
       "      <td>...</td>\n",
       "      <td>0</td>\n",
       "      <td>0</td>\n",
       "      <td>14</td>\n",
       "      <td>98.0</td>\n",
       "      <td>10.0</td>\n",
       "      <td>10.0</td>\n",
       "      <td>10.0</td>\n",
       "      <td>10.0</td>\n",
       "      <td>10.0</td>\n",
       "      <td>10.0</td>\n",
       "    </tr>\n",
       "    <tr>\n",
       "      <th>3496</th>\n",
       "      <td>within a day</td>\n",
       "      <td>100%</td>\n",
       "      <td>77%</td>\n",
       "      <td>t</td>\n",
       "      <td>Allston-Brighton</td>\n",
       "      <td>2</td>\n",
       "      <td>1.0</td>\n",
       "      <td>1.0</td>\n",
       "      <td>1.0</td>\n",
       "      <td>Real Bed</td>\n",
       "      <td>...</td>\n",
       "      <td>39</td>\n",
       "      <td>69</td>\n",
       "      <td>69</td>\n",
       "      <td>95.0</td>\n",
       "      <td>10.0</td>\n",
       "      <td>10.0</td>\n",
       "      <td>10.0</td>\n",
       "      <td>10.0</td>\n",
       "      <td>10.0</td>\n",
       "      <td>9.0</td>\n",
       "    </tr>\n",
       "    <tr>\n",
       "      <th>3497</th>\n",
       "      <td>within an hour</td>\n",
       "      <td>100%</td>\n",
       "      <td>95%</td>\n",
       "      <td>t</td>\n",
       "      <td>Allston-Brighton</td>\n",
       "      <td>2</td>\n",
       "      <td>2.0</td>\n",
       "      <td>1.0</td>\n",
       "      <td>1.0</td>\n",
       "      <td>Real Bed</td>\n",
       "      <td>...</td>\n",
       "      <td>0</td>\n",
       "      <td>0</td>\n",
       "      <td>256</td>\n",
       "      <td>91.0</td>\n",
       "      <td>9.0</td>\n",
       "      <td>9.0</td>\n",
       "      <td>9.0</td>\n",
       "      <td>9.0</td>\n",
       "      <td>9.0</td>\n",
       "      <td>9.0</td>\n",
       "    </tr>\n",
       "    <tr>\n",
       "      <th>3501</th>\n",
       "      <td>within an hour</td>\n",
       "      <td>100%</td>\n",
       "      <td>95%</td>\n",
       "      <td>t</td>\n",
       "      <td>Allston-Brighton</td>\n",
       "      <td>2</td>\n",
       "      <td>2.0</td>\n",
       "      <td>1.0</td>\n",
       "      <td>1.0</td>\n",
       "      <td>Real Bed</td>\n",
       "      <td>...</td>\n",
       "      <td>9</td>\n",
       "      <td>38</td>\n",
       "      <td>313</td>\n",
       "      <td>90.0</td>\n",
       "      <td>9.0</td>\n",
       "      <td>9.0</td>\n",
       "      <td>10.0</td>\n",
       "      <td>10.0</td>\n",
       "      <td>9.0</td>\n",
       "      <td>9.0</td>\n",
       "    </tr>\n",
       "    <tr>\n",
       "      <th>3536</th>\n",
       "      <td>within an hour</td>\n",
       "      <td>100%</td>\n",
       "      <td>100%</td>\n",
       "      <td>t</td>\n",
       "      <td>Brookline</td>\n",
       "      <td>1</td>\n",
       "      <td>2.5</td>\n",
       "      <td>1.0</td>\n",
       "      <td>1.0</td>\n",
       "      <td>Real Bed</td>\n",
       "      <td>...</td>\n",
       "      <td>19</td>\n",
       "      <td>19</td>\n",
       "      <td>31</td>\n",
       "      <td>NaN</td>\n",
       "      <td>NaN</td>\n",
       "      <td>NaN</td>\n",
       "      <td>NaN</td>\n",
       "      <td>NaN</td>\n",
       "      <td>NaN</td>\n",
       "      <td>NaN</td>\n",
       "    </tr>\n",
       "  </tbody>\n",
       "</table>\n",
       "<p>407 rows × 27 columns</p>\n",
       "</div>"
      ],
      "text/plain": [
       "      host_response_time host_response_rate host_acceptance_rate  \\\n",
       "2     within a few hours               100%                  88%   \n",
       "4         within an hour               100%                 100%   \n",
       "5     within a few hours               100%                  95%   \n",
       "7     within a few hours               100%                 100%   \n",
       "8         within an hour               100%                 100%   \n",
       "...                  ...                ...                  ...   \n",
       "3449      within an hour               100%                 100%   \n",
       "3496        within a day               100%                  77%   \n",
       "3497      within an hour               100%                  95%   \n",
       "3501      within an hour               100%                  95%   \n",
       "3536      within an hour               100%                 100%   \n",
       "\n",
       "     host_is_superhost     neighbourhood  accommodates  bathrooms  bedrooms  \\\n",
       "2                    t        Roslindale             2        1.0       1.0   \n",
       "4                    t        Roslindale             2        1.5       1.0   \n",
       "5                    t        Roslindale             2        1.0       1.0   \n",
       "7                    t        Roslindale             2        2.0       1.0   \n",
       "8                    t        Roslindale             2        1.0       1.0   \n",
       "...                ...               ...           ...        ...       ...   \n",
       "3449                 t  Allston-Brighton             2        1.0       1.0   \n",
       "3496                 t  Allston-Brighton             2        1.0       1.0   \n",
       "3497                 t  Allston-Brighton             2        2.0       1.0   \n",
       "3501                 t  Allston-Brighton             2        2.0       1.0   \n",
       "3536                 t         Brookline             1        2.5       1.0   \n",
       "\n",
       "      beds  bed_type  ...  availability_60 availability_90 availability_365  \\\n",
       "2      1.0  Real Bed  ...               46              61              319   \n",
       "4      2.0  Real Bed  ...               34              59              334   \n",
       "5      1.0  Real Bed  ...               28              58               58   \n",
       "7      1.0  Real Bed  ...               60              90              365   \n",
       "8      2.0  Real Bed  ...               42              72              347   \n",
       "...    ...       ...  ...              ...             ...              ...   \n",
       "3449   1.0  Real Bed  ...                0               0               14   \n",
       "3496   1.0  Real Bed  ...               39              69               69   \n",
       "3497   1.0  Real Bed  ...                0               0              256   \n",
       "3501   1.0  Real Bed  ...                9              38              313   \n",
       "3536   1.0  Real Bed  ...               19              19               31   \n",
       "\n",
       "     review_scores_rating review_scores_accuracy  review_scores_cleanliness  \\\n",
       "2                    98.0                   10.0                        9.0   \n",
       "4                    99.0                   10.0                       10.0   \n",
       "5                   100.0                   10.0                       10.0   \n",
       "7                    96.0                   10.0                       10.0   \n",
       "8                    96.0                   10.0                       10.0   \n",
       "...                   ...                    ...                        ...   \n",
       "3449                 98.0                   10.0                       10.0   \n",
       "3496                 95.0                   10.0                       10.0   \n",
       "3497                 91.0                    9.0                        9.0   \n",
       "3501                 90.0                    9.0                        9.0   \n",
       "3536                  NaN                    NaN                        NaN   \n",
       "\n",
       "      review_scores_checkin  review_scores_communication  \\\n",
       "2                      10.0                         10.0   \n",
       "4                      10.0                         10.0   \n",
       "5                      10.0                         10.0   \n",
       "7                      10.0                         10.0   \n",
       "8                      10.0                         10.0   \n",
       "...                     ...                          ...   \n",
       "3449                   10.0                         10.0   \n",
       "3496                   10.0                         10.0   \n",
       "3497                    9.0                          9.0   \n",
       "3501                   10.0                         10.0   \n",
       "3536                    NaN                          NaN   \n",
       "\n",
       "      review_scores_location  review_scores_value  \n",
       "2                        9.0                 10.0  \n",
       "4                        9.0                 10.0  \n",
       "5                        9.0                 10.0  \n",
       "7                       10.0                 10.0  \n",
       "8                        9.0                 10.0  \n",
       "...                      ...                  ...  \n",
       "3449                    10.0                 10.0  \n",
       "3496                    10.0                  9.0  \n",
       "3497                     9.0                  9.0  \n",
       "3501                     9.0                  9.0  \n",
       "3536                     NaN                  NaN  \n",
       "\n",
       "[407 rows x 27 columns]"
      ]
     },
     "execution_count": 6,
     "metadata": {},
     "output_type": "execute_result"
    }
   ],
   "source": [
    "#filter data to view characteristics of a super host\n",
    "list[list.host_is_superhost== 't']"
   ]
  },
  {
   "cell_type": "code",
   "execution_count": null,
   "id": "e6f7a3a9",
   "metadata": {
    "id": "e6f7a3a9"
   },
   "outputs": [],
   "source": [
    "#Create a list of columns that are related to examining the requirements for a superhost\n",
    "SuperHost_req= list[['host_response_rate', 'host_acceptance_rate', 'availability_30',\n",
    "       'availability_60', 'availability_90', 'availability_365',\n",
    "       'review_scores_rating', 'review_scores_accuracy',\n",
    "       'review_scores_cleanliness', 'review_scores_checkin',\n",
    "       'review_scores_communication', 'review_scores_location',\n",
    "       'review_scores_value']]"
   ]
  },
  {
   "cell_type": "code",
   "execution_count": null,
   "id": "6f5dc507",
   "metadata": {
    "id": "6f5dc507",
    "outputId": "34450a20-9bbf-44fc-bdc1-0a51cfa0bdae"
   },
   "outputs": [
    {
     "data": {
      "text/html": [
       "<div>\n",
       "<style scoped>\n",
       "    .dataframe tbody tr th:only-of-type {\n",
       "        vertical-align: middle;\n",
       "    }\n",
       "\n",
       "    .dataframe tbody tr th {\n",
       "        vertical-align: top;\n",
       "    }\n",
       "\n",
       "    .dataframe thead th {\n",
       "        text-align: right;\n",
       "    }\n",
       "</style>\n",
       "<table border=\"1\" class=\"dataframe\">\n",
       "  <thead>\n",
       "    <tr style=\"text-align: right;\">\n",
       "      <th></th>\n",
       "      <th>availability_30</th>\n",
       "      <th>availability_60</th>\n",
       "      <th>availability_90</th>\n",
       "      <th>availability_365</th>\n",
       "      <th>review_scores_rating</th>\n",
       "      <th>review_scores_accuracy</th>\n",
       "      <th>review_scores_cleanliness</th>\n",
       "      <th>review_scores_checkin</th>\n",
       "      <th>review_scores_communication</th>\n",
       "      <th>review_scores_location</th>\n",
       "      <th>review_scores_value</th>\n",
       "    </tr>\n",
       "  </thead>\n",
       "  <tbody>\n",
       "    <tr>\n",
       "      <th>count</th>\n",
       "      <td>3585.00000</td>\n",
       "      <td>3585.000000</td>\n",
       "      <td>3585.000000</td>\n",
       "      <td>3585.000000</td>\n",
       "      <td>2772.000000</td>\n",
       "      <td>2762.000000</td>\n",
       "      <td>2767.000000</td>\n",
       "      <td>2765.000000</td>\n",
       "      <td>2767.000000</td>\n",
       "      <td>2763.000000</td>\n",
       "      <td>2764.000000</td>\n",
       "    </tr>\n",
       "    <tr>\n",
       "      <th>mean</th>\n",
       "      <td>8.64993</td>\n",
       "      <td>21.833194</td>\n",
       "      <td>38.558159</td>\n",
       "      <td>179.346444</td>\n",
       "      <td>91.916667</td>\n",
       "      <td>9.431571</td>\n",
       "      <td>9.258041</td>\n",
       "      <td>9.646293</td>\n",
       "      <td>9.646549</td>\n",
       "      <td>9.414043</td>\n",
       "      <td>9.168234</td>\n",
       "    </tr>\n",
       "    <tr>\n",
       "      <th>std</th>\n",
       "      <td>10.43533</td>\n",
       "      <td>21.860966</td>\n",
       "      <td>33.158272</td>\n",
       "      <td>142.136180</td>\n",
       "      <td>9.531686</td>\n",
       "      <td>0.931863</td>\n",
       "      <td>1.168977</td>\n",
       "      <td>0.762753</td>\n",
       "      <td>0.735507</td>\n",
       "      <td>0.903436</td>\n",
       "      <td>1.011116</td>\n",
       "    </tr>\n",
       "    <tr>\n",
       "      <th>min</th>\n",
       "      <td>0.00000</td>\n",
       "      <td>0.000000</td>\n",
       "      <td>0.000000</td>\n",
       "      <td>0.000000</td>\n",
       "      <td>20.000000</td>\n",
       "      <td>2.000000</td>\n",
       "      <td>2.000000</td>\n",
       "      <td>2.000000</td>\n",
       "      <td>4.000000</td>\n",
       "      <td>2.000000</td>\n",
       "      <td>2.000000</td>\n",
       "    </tr>\n",
       "    <tr>\n",
       "      <th>25%</th>\n",
       "      <td>0.00000</td>\n",
       "      <td>0.000000</td>\n",
       "      <td>0.000000</td>\n",
       "      <td>19.000000</td>\n",
       "      <td>89.000000</td>\n",
       "      <td>9.000000</td>\n",
       "      <td>9.000000</td>\n",
       "      <td>9.000000</td>\n",
       "      <td>9.000000</td>\n",
       "      <td>9.000000</td>\n",
       "      <td>9.000000</td>\n",
       "    </tr>\n",
       "    <tr>\n",
       "      <th>50%</th>\n",
       "      <td>4.00000</td>\n",
       "      <td>16.000000</td>\n",
       "      <td>37.000000</td>\n",
       "      <td>179.000000</td>\n",
       "      <td>94.000000</td>\n",
       "      <td>10.000000</td>\n",
       "      <td>10.000000</td>\n",
       "      <td>10.000000</td>\n",
       "      <td>10.000000</td>\n",
       "      <td>10.000000</td>\n",
       "      <td>9.000000</td>\n",
       "    </tr>\n",
       "    <tr>\n",
       "      <th>75%</th>\n",
       "      <td>15.00000</td>\n",
       "      <td>40.000000</td>\n",
       "      <td>68.000000</td>\n",
       "      <td>325.000000</td>\n",
       "      <td>98.250000</td>\n",
       "      <td>10.000000</td>\n",
       "      <td>10.000000</td>\n",
       "      <td>10.000000</td>\n",
       "      <td>10.000000</td>\n",
       "      <td>10.000000</td>\n",
       "      <td>10.000000</td>\n",
       "    </tr>\n",
       "    <tr>\n",
       "      <th>max</th>\n",
       "      <td>30.00000</td>\n",
       "      <td>60.000000</td>\n",
       "      <td>90.000000</td>\n",
       "      <td>365.000000</td>\n",
       "      <td>100.000000</td>\n",
       "      <td>10.000000</td>\n",
       "      <td>10.000000</td>\n",
       "      <td>10.000000</td>\n",
       "      <td>10.000000</td>\n",
       "      <td>10.000000</td>\n",
       "      <td>10.000000</td>\n",
       "    </tr>\n",
       "  </tbody>\n",
       "</table>\n",
       "</div>"
      ],
      "text/plain": [
       "       availability_30  availability_60  availability_90  availability_365  \\\n",
       "count       3585.00000      3585.000000      3585.000000       3585.000000   \n",
       "mean           8.64993        21.833194        38.558159        179.346444   \n",
       "std           10.43533        21.860966        33.158272        142.136180   \n",
       "min            0.00000         0.000000         0.000000          0.000000   \n",
       "25%            0.00000         0.000000         0.000000         19.000000   \n",
       "50%            4.00000        16.000000        37.000000        179.000000   \n",
       "75%           15.00000        40.000000        68.000000        325.000000   \n",
       "max           30.00000        60.000000        90.000000        365.000000   \n",
       "\n",
       "       review_scores_rating  review_scores_accuracy  \\\n",
       "count           2772.000000             2762.000000   \n",
       "mean              91.916667                9.431571   \n",
       "std                9.531686                0.931863   \n",
       "min               20.000000                2.000000   \n",
       "25%               89.000000                9.000000   \n",
       "50%               94.000000               10.000000   \n",
       "75%               98.250000               10.000000   \n",
       "max              100.000000               10.000000   \n",
       "\n",
       "       review_scores_cleanliness  review_scores_checkin  \\\n",
       "count                2767.000000            2765.000000   \n",
       "mean                    9.258041               9.646293   \n",
       "std                     1.168977               0.762753   \n",
       "min                     2.000000               2.000000   \n",
       "25%                     9.000000               9.000000   \n",
       "50%                    10.000000              10.000000   \n",
       "75%                    10.000000              10.000000   \n",
       "max                    10.000000              10.000000   \n",
       "\n",
       "       review_scores_communication  review_scores_location  \\\n",
       "count                  2767.000000             2763.000000   \n",
       "mean                      9.646549                9.414043   \n",
       "std                       0.735507                0.903436   \n",
       "min                       4.000000                2.000000   \n",
       "25%                       9.000000                9.000000   \n",
       "50%                      10.000000               10.000000   \n",
       "75%                      10.000000               10.000000   \n",
       "max                      10.000000               10.000000   \n",
       "\n",
       "       review_scores_value  \n",
       "count          2764.000000  \n",
       "mean              9.168234  \n",
       "std               1.011116  \n",
       "min               2.000000  \n",
       "25%               9.000000  \n",
       "50%               9.000000  \n",
       "75%              10.000000  \n",
       "max              10.000000  "
      ]
     },
     "execution_count": 10,
     "metadata": {},
     "output_type": "execute_result"
    }
   ],
   "source": [
    "#calculate the descriptive statistics for superhost requirement\n",
    "SuperHost_req.describe()"
   ]
  },
  {
   "cell_type": "markdown",
   "id": "9a618f78",
   "metadata": {
    "id": "9a618f78"
   },
   "source": [
    "The data suggests the following criteria for becoming a superhost:\n",
    "\n",
    "Host guests for 179 days a year on average\n",
    "\n",
    "On average, maintain a 95% response rate\n",
    "\n",
    "Have an average of 92% 5-star reviews\n",
    "\n",
    "Honor confirmed reservations 84% of the time\n",
    "\n",
    "Have a guest rating of 9.7 for check-in and communication\n",
    "\n",
    "Have a guest rating of 9.3 for cleanliness\n",
    "\n",
    "Have a guest rating of 9.4 for accuracy and location\n",
    "\n",
    "Have a guest rating of 9.2 for value"
   ]
  },
  {
   "cell_type": "code",
   "execution_count": null,
   "id": "Y97MdzRz-fSJ",
   "metadata": {
    "id": "Y97MdzRz-fSJ"
   },
   "outputs": [],
   "source": []
  },
  {
   "cell_type": "markdown",
   "id": "YV38_y_eyIeX",
   "metadata": {
    "id": "YV38_y_eyIeX"
   },
   "source": [
    "\n",
    "\n",
    "\n",
    "---\n",
    "\n",
    "\n",
    "\n",
    "\n"
   ]
  },
  {
   "cell_type": "code",
   "execution_count": 11,
   "id": "TRMEPBxN-geA",
   "metadata": {
    "id": "TRMEPBxN-geA"
   },
   "outputs": [],
   "source": [
    "import matplotlib\n",
    "import matplotlib.pyplot as plt\n",
    "import numpy as np\n",
    "import pandas as pd\n",
    "import seaborn as sns\n",
    "from sklearn.preprocessing import StandardScaler\n",
    "from sklearn.model_selection import train_test_split\n",
    "from sklearn.model_selection import GridSearchCV\n",
    "from sklearn.metrics import accuracy_score, f1_score, make_scorer, r2_score, mean_squared_error\n",
    "from sklearn.ensemble import RandomForestRegressor, GradientBoostingRegressor"
   ]
  },
  {
   "cell_type": "markdown",
   "id": "_-kft3hryV29",
   "metadata": {
    "id": "_-kft3hryV29"
   },
   "source": [
    "# **Problem formulation:**\n"
   ]
  },
  {
   "cell_type": "markdown",
   "id": "wS1xER5KyurQ",
   "metadata": {
    "id": "wS1xER5KyurQ"
   },
   "source": [
    "Problem: For rental platforms like Airbnb, data about the online behavior of their customers is probably the most important business asset. Through behavioral data analysis, platforms can extract deeper consumer information and present a more personalized experience to these customers. To enhance its competitiveness, a strong customer analytics is necessary for Airbnb to gaudging the health of the business. In this project, customer preference analysis is conducted to improve Airbnb's marketing decisions such as advertisements, recommendations and promotions.\n",
    "\n",
    "1. Objective: To analyze the preferences of customers, and quantify the importantance of the preferences to improve Airbnbs's marketing decisions. \n",
    "\n",
    "2. Input: Factors which involve the preferences of customers  \n",
    "\n",
    "3. Output: The model which predicts the book rate, and the importance of the factors in the model.\n",
    "   \n",
    "4. Evaluation methods: MSE score and R2 score.  "
   ]
  },
  {
   "cell_type": "markdown",
   "id": "f107a8e0",
   "metadata": {
    "id": "f107a8e0"
   },
   "source": [
    "# **Before constructing the model, some analysis is conducted by descriptiving the data in the dataset** "
   ]
  },
  {
   "cell_type": "markdown",
   "id": "Q-NC6NJ1-v_a",
   "metadata": {
    "id": "Q-NC6NJ1-v_a"
   },
   "source": [
    "## **`1. Analyze the price prefered by customers**"
   ]
  },
  {
   "cell_type": "code",
   "execution_count": 3,
   "id": "671d73fd",
   "metadata": {
    "colab": {
     "base_uri": "https://localhost:8080/"
    },
    "id": "671d73fd",
    "outputId": "3688dd3e-6873-4073-c99d-3c17eef01d92"
   },
   "outputs": [
    {
     "name": "stdout",
     "output_type": "stream",
     "text": [
      "<class 'pandas.core.frame.DataFrame'>\n",
      "Int64Index: 68222 entries, 0 to 68274\n",
      "Data columns (total 6 columns):\n",
      " #   Column         Non-Null Count  Dtype         \n",
      "---  ------         --------------  -----         \n",
      " 0   listing_id     68222 non-null  int64         \n",
      " 1   id             68222 non-null  int64         \n",
      " 2   date           68222 non-null  datetime64[ns]\n",
      " 3   reviewer_id    68222 non-null  int64         \n",
      " 4   reviewer_name  68222 non-null  object        \n",
      " 5   comments       68222 non-null  object        \n",
      "dtypes: datetime64[ns](1), int64(3), object(2)\n",
      "memory usage: 3.6+ MB\n"
     ]
    },
    {
     "data": {
      "text/plain": [
       "listing_id       0\n",
       "id               0\n",
       "date             0\n",
       "reviewer_id      0\n",
       "reviewer_name    0\n",
       "comments         0\n",
       "dtype: int64"
      ]
     },
     "execution_count": 3,
     "metadata": {},
     "output_type": "execute_result"
    }
   ],
   "source": [
    "reviews_df = pd.read_csv('reviews.csv')\n",
    "reviews_df.head()\n",
    "\n",
    "# convert string date to datetime object in reviews set\n",
    "reviews_df.date = pd.to_datetime(reviews_df.date)\n",
    "reviews_df = reviews_df.dropna()\n",
    "reviews_df.info()\n",
    "reviews_df.isnull().sum()"
   ]
  },
  {
   "cell_type": "code",
   "execution_count": 5,
   "id": "e5d93975",
   "metadata": {
    "colab": {
     "base_uri": "https://localhost:8080/",
     "height": 531
    },
    "id": "e5d93975",
    "outputId": "23551b91-fa20-40a9-f756-ea15d97c5253",
    "scrolled": true
   },
   "outputs": [
    {
     "data": {
      "text/plain": [
       "Text(0, 0.5, 'Number of reviews')"
      ]
     },
     "execution_count": 5,
     "metadata": {},
     "output_type": "execute_result"
    },
    {
     "data": {
      "image/png": "[encoded data removed]",
      "text/plain": [
       "<Figure size 864x576 with 1 Axes>"
      ]
     },
     "metadata": {
      "needs_background": "light"
     },
     "output_type": "display_data"
    }
   ],
   "source": [
    "import matplotlib\n",
    "import matplotlib.pyplot as plt\n",
    "import numpy as np\n",
    "import pandas as pd\n",
    "\n",
    "inputDF = pd.read_csv('listings.csv')\n",
    "inputDF=inputDF[['number_of_reviews','price','review_scores_rating']]\n",
    "\n",
    "# replacing NaN values with 0\n",
    "inputDF.fillna(0, inplace=True)\n",
    "\n",
    "#Extracting prices from the table\n",
    "price = inputDF['price']\n",
    "prices=[]\n",
    "\n",
    "#clean the data to make it float\n",
    "for p in price:\n",
    "    p=float(p[1:].replace(',',''))\n",
    "    prices.append(p)\n",
    "\n",
    "#replace the price column with the new column\n",
    "inputDF['price']=prices\n",
    "\n",
    "price_review = inputDF[['number_of_reviews', 'price']].sort_values(by = 'price')\n",
    "\n",
    "price_review.plot(x = 'price', \n",
    "                  y = 'number_of_reviews', \n",
    "                  style = 'o',\n",
    "                  figsize =(12,8),\n",
    "                  legend = False,\n",
    "                  title = 'Reviews based on Price')\n",
    "\n",
    "plt.xlabel(\"price\")\n",
    "plt.ylabel(\"Number of reviews\")"
   ]
  },
  {
   "cell_type": "markdown",
   "id": "1a389299",
   "metadata": {
    "id": "1a389299"
   },
   "source": [
    "**Discussion:** The above graph shows that listings with prices that range around 100-400 get the most reviews, probably because they are in the most reasonable price range. The number quickly declines as the price goes up. This indicates that customers prefer to the listing with price around 100-400."
   ]
  },
  {
   "cell_type": "markdown",
   "id": "784049df",
   "metadata": {
    "id": "784049df"
   },
   "source": [
    "## **`2. Analyze the season and day prefered by customers**"
   ]
  },
  {
   "cell_type": "code",
   "execution_count": 6,
   "id": "b5c5b0cb",
   "metadata": {
    "colab": {
     "base_uri": "https://localhost:8080/",
     "height": 300
    },
    "id": "b5c5b0cb",
    "outputId": "fb229d5d-c66b-4693-e172-bdb538c5b01d"
   },
   "outputs": [
    {
     "data": {
      "text/plain": [
       "Text(0, 0.5, 'Number')"
      ]
     },
     "execution_count": 6,
     "metadata": {},
     "output_type": "execute_result"
    },
    {
     "data": {
      "image/png": "[encoded data removed]",
      "text/plain": [
       "<Figure size 432x288 with 1 Axes>"
      ]
     },
     "metadata": {
      "needs_background": "light"
     },
     "output_type": "display_data"
    }
   ],
   "source": [
    "reviews_df['year'] = reviews_df['date'].dt.year\n",
    "reviews_df['month'] = reviews_df['date'].dt.month\n",
    " \n",
    "n_reviews_month = reviews_df.groupby('month').size()\n",
    "n_reviews_month.plot(kind='bar',color='teal');\n",
    "plt.xlabel('Month')\n",
    "plt.ylabel('Number')"
   ]
  },
  {
   "cell_type": "code",
   "execution_count": 7,
   "id": "a31d21fc",
   "metadata": {
    "id": "a31d21fc"
   },
   "outputs": [],
   "source": [
    "calendar = pd.read_csv('calendar.csv')"
   ]
  },
  {
   "cell_type": "code",
   "execution_count": 9,
   "id": "99b1513f",
   "metadata": {
    "colab": {
     "base_uri": "https://localhost:8080/"
    },
    "id": "99b1513f",
    "outputId": "e2af9415-1659-4ecc-e4c6-caf0355eea60"
   },
   "outputs": [
    {
     "data": {
      "text/plain": [
       "Tuesday      96726\n",
       "Friday       95474\n",
       "Saturday     95404\n",
       "Thursday     95270\n",
       "Wednesday    94656\n",
       "Sunday       94264\n",
       "Monday       94059\n",
       "Name: date, dtype: int64"
      ]
     },
     "execution_count": 9,
     "metadata": {},
     "output_type": "execute_result"
    }
   ],
   "source": [
    "from pandas.api.types import CategoricalDtype\n",
    "\n",
    "def sort_week_day(days):\n",
    "    cats = [ 'Monday', 'Tuesday', 'Wednesday', 'Thursday', 'Friday', 'Saturday', 'Sunday']\n",
    "\n",
    "    cat_type = CategoricalDtype(categories=cats, ordered=True)\n",
    "    week_day_sorted = pd.to_datetime(days[calendar.available == 'f']).dt.day_name().astype(cat_type)\n",
    "    return week_day_sorted\n",
    "    \n",
    "only_dates = sort_week_day(calendar.date)\n",
    "only_dates.value_counts()"
   ]
  },
  {
   "cell_type": "code",
   "execution_count": 58,
   "id": "f3ad3265",
   "metadata": {
    "colab": {
     "base_uri": "https://localhost:8080/",
     "height": 583
    },
    "id": "f3ad3265",
    "outputId": "934a4a23-6e34-4055-bad5-c2e653884681"
   },
   "outputs": [
    {
     "data": {
      "text/plain": [
       "Text(0, 0.5, 'Not available places')"
      ]
     },
     "execution_count": 58,
     "metadata": {},
     "output_type": "execute_result"
    },
    {
     "data": {
      "image/png": "[encoded data removed]",
      "text/plain": [
       "<Figure size 576x576 with 1 Axes>"
      ]
     },
     "metadata": {
      "needs_background": "light"
     },
     "output_type": "display_data"
    }
   ],
   "source": [
    "plt.figure(figsize=(8, 8))\n",
    "sample_plot = sns.barplot(x=only_dates.value_counts().index, y=only_dates.value_counts())\n",
    "sample_plot.set(ylim=(93000, 98000))\n",
    "sample_plot.axes.set_title(\"Weekly users frequency\", fontsize=25, pad=40)\n",
    "sample_plot.set_xlabel(\"Week day\",fontsize=20)\n",
    "sample_plot.set_ylabel(\"Not available places\",fontsize=20)"
   ]
  },
  {
   "cell_type": "markdown",
   "id": "E7BMI8Mv_9_7",
   "metadata": {
    "id": "E7BMI8Mv_9_7"
   },
   "source": [
    "**Discussion:** The above graph shows that August and Tuesday have most reviews. This indicates that customers prefer to travel in August the on Tuesday."
   ]
  },
  {
   "cell_type": "markdown",
   "id": "42e8e19f",
   "metadata": {
    "id": "42e8e19f"
   },
   "source": [
    "## **`3. Analyze the kind of listing prefered by customers**"
   ]
  },
  {
   "cell_type": "code",
   "execution_count": 14,
   "id": "6661dcd9",
   "metadata": {
    "colab": {
     "base_uri": "https://localhost:8080/"
    },
    "id": "6661dcd9",
    "outputId": "bcd3176e-c2a3-453d-b20a-59e9606f9963"
   },
   "outputs": [
    {
     "data": {
      "text/plain": [
       "array([ nan,  94.,  98., 100.,  99.,  90.,  96.,  80.,  97.,  91.,  95.,\n",
       "        88.,  92.,  87.,  93.,  73.,  82.,  20.,  89.,  81.,  78.,  74.,\n",
       "        60.,  86.,  85.,  75.,  79.,  70.,  83.,  64.,  84.,  40.,  68.,\n",
       "        67.,  48.,  58.,  62.,  76.,  77.,  71.,  65.,  53.,  47.,  72.,\n",
       "        46.,  50.,  66.,  69.,  55.])"
      ]
     },
     "execution_count": 14,
     "metadata": {},
     "output_type": "execute_result"
    }
   ],
   "source": [
    "#load the data\n",
    "list = pd.read_csv('listings.csv')\n",
    "features_df = list.copy()\n",
    "features_df.review_scores_rating.unique()"
   ]
  },
  {
   "cell_type": "code",
   "execution_count": 15,
   "id": "e6cab8f2",
   "metadata": {
    "colab": {
     "base_uri": "https://localhost:8080/"
    },
    "id": "e6cab8f2",
    "outputId": "ce5d7bea-774c-4a09-f179-1fd1365e0806"
   },
   "outputs": [
    {
     "name": "stdout",
     "output_type": "stream",
     "text": [
      "<class 'pandas.core.frame.DataFrame'>\n",
      "RangeIndex: 3585 entries, 0 to 3584\n",
      "Data columns (total 95 columns):\n",
      " #   Column                            Non-Null Count  Dtype  \n",
      "---  ------                            --------------  -----  \n",
      " 0   id                                3585 non-null   int64  \n",
      " 1   listing_url                       3585 non-null   object \n",
      " 2   scrape_id                         3585 non-null   int64  \n",
      " 3   last_scraped                      3585 non-null   object \n",
      " 4   name                              3585 non-null   object \n",
      " 5   summary                           3442 non-null   object \n",
      " 6   space                             2528 non-null   object \n",
      " 7   description                       3585 non-null   object \n",
      " 8   experiences_offered               3585 non-null   object \n",
      " 9   neighborhood_overview             2170 non-null   object \n",
      " 10  notes                             1610 non-null   object \n",
      " 11  transit                           2295 non-null   object \n",
      " 12  access                            2096 non-null   object \n",
      " 13  interaction                       2031 non-null   object \n",
      " 14  house_rules                       2393 non-null   object \n",
      " 15  thumbnail_url                     2986 non-null   object \n",
      " 16  medium_url                        2986 non-null   object \n",
      " 17  picture_url                       3585 non-null   object \n",
      " 18  xl_picture_url                    2986 non-null   object \n",
      " 19  host_id                           3585 non-null   int64  \n",
      " 20  host_url                          3585 non-null   object \n",
      " 21  host_name                         3585 non-null   object \n",
      " 22  host_since                        3585 non-null   object \n",
      " 23  host_location                     3574 non-null   object \n",
      " 24  host_about                        2276 non-null   object \n",
      " 25  host_response_time                3114 non-null   object \n",
      " 26  host_response_rate                3114 non-null   object \n",
      " 27  host_acceptance_rate              3114 non-null   object \n",
      " 28  host_is_superhost                 3585 non-null   object \n",
      " 29  host_thumbnail_url                3585 non-null   object \n",
      " 30  host_picture_url                  3585 non-null   object \n",
      " 31  host_neighbourhood                3246 non-null   object \n",
      " 32  host_listings_count               3585 non-null   int64  \n",
      " 33  host_total_listings_count         3585 non-null   int64  \n",
      " 34  host_verifications                3585 non-null   object \n",
      " 35  host_has_profile_pic              3585 non-null   object \n",
      " 36  host_identity_verified            3585 non-null   object \n",
      " 37  street                            3585 non-null   object \n",
      " 38  neighbourhood                     3042 non-null   object \n",
      " 39  neighbourhood_cleansed            3585 non-null   object \n",
      " 40  neighbourhood_group_cleansed      0 non-null      float64\n",
      " 41  city                              3583 non-null   object \n",
      " 42  state                             3585 non-null   object \n",
      " 43  zipcode                           3547 non-null   object \n",
      " 44  market                            3571 non-null   object \n",
      " 45  smart_location                    3585 non-null   object \n",
      " 46  country_code                      3585 non-null   object \n",
      " 47  country                           3585 non-null   object \n",
      " 48  latitude                          3585 non-null   float64\n",
      " 49  longitude                         3585 non-null   float64\n",
      " 50  is_location_exact                 3585 non-null   object \n",
      " 51  property_type                     3582 non-null   object \n",
      " 52  room_type                         3585 non-null   object \n",
      " 53  accommodates                      3585 non-null   int64  \n",
      " 54  bathrooms                         3571 non-null   float64\n",
      " 55  bedrooms                          3575 non-null   float64\n",
      " 56  beds                              3576 non-null   float64\n",
      " 57  bed_type                          3585 non-null   object \n",
      " 58  amenities                         3585 non-null   object \n",
      " 59  square_feet                       56 non-null     float64\n",
      " 60  price                             3585 non-null   object \n",
      " 61  weekly_price                      892 non-null    object \n",
      " 62  monthly_price                     888 non-null    object \n",
      " 63  security_deposit                  1342 non-null   object \n",
      " 64  cleaning_fee                      2478 non-null   object \n",
      " 65  guests_included                   3585 non-null   int64  \n",
      " 66  extra_people                      3585 non-null   object \n",
      " 67  minimum_nights                    3585 non-null   int64  \n",
      " 68  maximum_nights                    3585 non-null   int64  \n",
      " 69  calendar_updated                  3585 non-null   object \n",
      " 70  has_availability                  0 non-null      float64\n",
      " 71  availability_30                   3585 non-null   int64  \n",
      " 72  availability_60                   3585 non-null   int64  \n",
      " 73  availability_90                   3585 non-null   int64  \n",
      " 74  availability_365                  3585 non-null   int64  \n",
      " 75  calendar_last_scraped             3585 non-null   object \n",
      " 76  number_of_reviews                 3585 non-null   int64  \n",
      " 77  first_review                      2829 non-null   object \n",
      " 78  last_review                       2829 non-null   object \n",
      " 79  review_scores_rating              2772 non-null   float64\n",
      " 80  review_scores_accuracy            2762 non-null   float64\n",
      " 81  review_scores_cleanliness         2767 non-null   float64\n",
      " 82  review_scores_checkin             2765 non-null   float64\n",
      " 83  review_scores_communication       2767 non-null   float64\n",
      " 84  review_scores_location            2763 non-null   float64\n",
      " 85  review_scores_value               2764 non-null   float64\n",
      " 86  requires_license                  3585 non-null   object \n",
      " 87  license                           0 non-null      float64\n",
      " 88  jurisdiction_names                0 non-null      float64\n",
      " 89  instant_bookable                  3585 non-null   object \n",
      " 90  cancellation_policy               3585 non-null   object \n",
      " 91  require_guest_profile_picture     3585 non-null   object \n",
      " 92  require_guest_phone_verification  3585 non-null   object \n",
      " 93  calculated_host_listings_count    3585 non-null   int64  \n",
      " 94  reviews_per_month                 2829 non-null   float64\n",
      "dtypes: float64(18), int64(15), object(62)\n",
      "memory usage: 2.6+ MB\n"
     ]
    }
   ],
   "source": [
    "features_df.info()"
   ]
  },
  {
   "cell_type": "code",
   "execution_count": 16,
   "id": "acdf5968",
   "metadata": {
    "id": "acdf5968",
    "scrolled": true
   },
   "outputs": [],
   "source": [
    "ratings_per_neighbourhood = features_df.groupby(['neighbourhood_cleansed', 'property_type']).review_scores_rating.mean()"
   ]
  },
  {
   "cell_type": "code",
   "execution_count": 17,
   "id": "1716682e",
   "metadata": {
    "colab": {
     "base_uri": "https://localhost:8080/"
    },
    "id": "1716682e",
    "outputId": "9209197e-15a2-49b3-e724-f12fc5fe2adc"
   },
   "outputs": [
    {
     "data": {
      "text/plain": [
       "neighbourhood_cleansed  property_type  \n",
       "Downtown                Boat               100.0\n",
       "Brighton                Loft               100.0\n",
       "Charlestown             Entire Floor       100.0\n",
       "Bay Village             Townhouse          100.0\n",
       "                        Guesthouse         100.0\n",
       "                                           ...  \n",
       "Fenway                  Bed & Breakfast      NaN\n",
       "Jamaica Plain           Entire Floor         NaN\n",
       "Longwood Medical Area   Loft                 NaN\n",
       "Roxbury                 Entire Floor         NaN\n",
       "                        Loft                 NaN\n",
       "Name: review_scores_rating, Length: 132, dtype: float64"
      ]
     },
     "execution_count": 17,
     "metadata": {},
     "output_type": "execute_result"
    }
   ],
   "source": [
    "ratings_per_neighbourhood.sort_values(ascending=False)"
   ]
  },
  {
   "cell_type": "code",
   "execution_count": 22,
   "id": "939ee520",
   "metadata": {
    "id": "939ee520"
   },
   "outputs": [],
   "source": [
    "ratings_per_property_type = features_df.groupby('property_type').review_scores_rating.mean()\n",
    "ratings_per_neighbourhood_type = features_df.groupby('neighbourhood_cleansed').review_scores_rating.mean()"
   ]
  },
  {
   "cell_type": "code",
   "execution_count": 26,
   "id": "61499b96",
   "metadata": {
    "colab": {
     "base_uri": "https://localhost:8080/"
    },
    "id": "61499b96",
    "outputId": "f938ebaf-70a1-4b9d-99f2-f932b9bb2edd"
   },
   "outputs": [
    {
     "data": {
      "text/plain": [
       "property_type\n",
       "Apartment           91.514141\n",
       "Bed & Breakfast     91.800000\n",
       "Boat                91.454545\n",
       "Condominium         94.451977\n",
       "Dorm                86.500000\n",
       "Entire Floor       100.000000\n",
       "Guesthouse         100.000000\n",
       "House               92.204593\n",
       "Loft                96.312500\n",
       "Other               88.111111\n",
       "Townhouse           94.760870\n",
       "Villa               99.500000\n",
       "Name: review_scores_rating, dtype: float64"
      ]
     },
     "execution_count": 26,
     "metadata": {},
     "output_type": "execute_result"
    }
   ],
   "source": [
    "ratings_per_property_type = ratings_per_property_type.dropna()\n",
    "ratings_per_property_type"
   ]
  },
  {
   "cell_type": "code",
   "execution_count": 27,
   "id": "dc3f8aa4",
   "metadata": {
    "colab": {
     "base_uri": "https://localhost:8080/",
     "height": 366
    },
    "id": "dc3f8aa4",
    "outputId": "c6f2dbe5-32a3-4baf-9f69-13c5c4aa228e"
   },
   "outputs": [
    {
     "data": {
      "image/png": "[encoded data removed]",
      "text/plain": [
       "<Figure size 432x288 with 1 Axes>"
      ]
     },
     "metadata": {
      "needs_background": "light"
     },
     "output_type": "display_data"
    }
   ],
   "source": [
    "ratings_per_property_type.plot(kind='bar',color='teal');\n",
    "plt.xlabel('Property types')\n",
    "plt.ylabel('Average rating score')\n",
    "plt.title('Property Type vs Average Rating Chart');"
   ]
  },
  {
   "cell_type": "code",
   "execution_count": 28,
   "id": "fb482992",
   "metadata": {
    "colab": {
     "base_uri": "https://localhost:8080/",
     "height": 408
    },
    "id": "fb482992",
    "outputId": "22a5332a-6e56-48d2-a50c-5cfaff983171"
   },
   "outputs": [
    {
     "data": {
      "image/png": "[encoded data removed]",
      "text/plain": [
       "<Figure size 432x288 with 1 Axes>"
      ]
     },
     "metadata": {
      "needs_background": "light"
     },
     "output_type": "display_data"
    }
   ],
   "source": [
    "ratings_per_neighbourhood_type.plot(kind='bar',color='teal');\n",
    "plt.xlabel('Neighbourhood types')\n",
    "plt.ylabel('Average rating score')\n",
    "plt.title('Neighbourhood Type vs Average Rating Chart');"
   ]
  },
  {
   "cell_type": "code",
   "execution_count": 30,
   "id": "35c57c8b",
   "metadata": {
    "colab": {
     "base_uri": "https://localhost:8080/",
     "height": 481
    },
    "id": "35c57c8b",
    "outputId": "56f06c13-e4fb-478a-d0f5-ea4442e0ee13"
   },
   "outputs": [
    {
     "data": {
      "text/plain": [
       "Text(0.5, 1.0, 'Reviews based on neighbourhood and property type')"
      ]
     },
     "execution_count": 30,
     "metadata": {},
     "output_type": "execute_result"
    },
    {
     "data": {
      "image/png": "[encoded data removed]",
      "text/plain": [
       "<Figure size 720x360 with 1 Axes>"
      ]
     },
     "metadata": {
      "needs_background": "light"
     },
     "output_type": "display_data"
    }
   ],
   "source": [
    "plt.figure(figsize=(10, 5))\n",
    "sns.scatterplot(x='neighbourhood_cleansed', y='property_type', hue='review_scores_rating', data=features_df)\n",
    "plt.xticks(rotation=90);\n",
    "plt.title('Reviews based on neighbourhood and property type')"
   ]
  },
  {
   "cell_type": "markdown",
   "id": "PcjMBreyBWmH",
   "metadata": {
    "id": "PcjMBreyBWmH"
   },
   "source": [
    "**Discussion:** The above graphs show that \"Entire Floor\" and \"Guesthouse\" and listings in Longwood Medical Area got the highest rating, probably because they give customers the best experience. This indicates that the kind of listings that customers prefer to rent."
   ]
  },
  {
   "cell_type": "markdown",
   "id": "142E4z_7GE2c",
   "metadata": {
    "id": "142E4z_7GE2c"
   },
   "source": [
    "\n",
    "\n",
    "---\n",
    "\n"
   ]
  },
  {
   "cell_type": "markdown",
   "id": "310bd244",
   "metadata": {
    "id": "310bd244"
   },
   "source": [
    "Now that we've analyzed multiple aspects of customer preferences. However, there are still some features which indicate the uesr preference, but human cannot detect them in the data, so we can employ machine learning techniques.\n",
    "\n",
    "User preference can be represented by the book rate quantitatively, so a model regarding to book rate can be introduced to predict user preference. For the book rate model, the response variable is the availibaility_365, the total number of day available in one year.The book rate can simply converted by: 1-availibaility_365/365."
   ]
  },
  {
   "cell_type": "markdown",
   "id": "31VKV-DAFdzr",
   "metadata": {
    "id": "31VKV-DAFdzr"
   },
   "source": [
    "# **Data preparation and preprocessing pipeline**"
   ]
  },
  {
   "cell_type": "markdown",
   "id": "2Gs56NpfM9iS",
   "metadata": {
    "id": "2Gs56NpfM9iS"
   },
   "source": [
    "## **Data cleaning**"
   ]
  },
  {
   "cell_type": "code",
   "execution_count": 31,
   "id": "ff4698c5",
   "metadata": {
    "id": "ff4698c5",
    "scrolled": true
   },
   "outputs": [],
   "source": [
    "listings = pd.read_csv('listings.csv', delimiter = ',')"
   ]
  },
  {
   "cell_type": "code",
   "execution_count": 38,
   "id": "dce95f14",
   "metadata": {
    "id": "dce95f14"
   },
   "outputs": [],
   "source": [
    "# keep the features which involve the decisions of customers\n",
    "cols = ['id', 'host_id', 'host_since', 'last_scraped', 'host_response_time', 'host_response_rate', 'host_acceptance_rate', \n",
    "             'host_is_superhost', \\\n",
    "             'host_identity_verified', 'neighbourhood_cleansed', 'city', 'neighbourhood_group_cleansed', \\\n",
    "             'latitude', 'longitude', 'property_type', 'room_type', 'accommodates', 'bathrooms', \\\n",
    "             'bedrooms', 'beds', 'bed_type', 'square_feet', 'price', 'weekly_price', \\\n",
    "             'monthly_price', 'security_deposit', 'cleaning_fee', 'guests_included', 'extra_people', \\\n",
    "             'minimum_nights', 'maximum_nights', 'has_availability', 'availability_365', 'number_of_reviews', \\\n",
    "             'first_review', 'review_scores_rating', 'review_scores_accuracy', 'review_scores_cleanliness', \\\n",
    "             'review_scores_checkin', 'review_scores_communication', 'review_scores_value', 'requires_license', \\\n",
    "             'license', 'instant_bookable', 'cancellation_policy', 'require_guest_profile_picture', \\\n",
    "             'require_guest_phone_verification', 'calculated_host_listings_count', 'reviews_per_month']\n",
    "cleaned_list = listings[cols]"
   ]
  },
  {
   "cell_type": "code",
   "execution_count": 39,
   "id": "tflV0hCqUMS9",
   "metadata": {
    "id": "tflV0hCqUMS9"
   },
   "outputs": [],
   "source": [
    "# drop high-NaN columns\n",
    "cleaned_list = cleaned_list.drop(labels = ['license', 'square_feet', 'monthly_price', 'weekly_price', \\\n",
    "                                           'has_availability', 'neighbourhood_group_cleansed'], axis = 1)"
   ]
  },
  {
   "cell_type": "code",
   "execution_count": 41,
   "id": "oWm8exwFSGdo",
   "metadata": {
    "id": "oWm8exwFSGdo"
   },
   "outputs": [],
   "source": [
    "def parse_dollar(x):\n",
    "\n",
    "    if x is np.nan:\n",
    "        return 0\n",
    "    elif isinstance(x, str):\n",
    "        return float(x[1:-3].replace(\",\", \"\"))\n",
    "    else:\n",
    "        return x\n",
    "\n",
    "def parse_percentage(x):\n",
    "\n",
    "    if isinstance(x, str):\n",
    "        return float(x[0:-1])\n",
    "    else:\n",
    "        return x\n",
    "\n",
    "# formatting from string to the correct format\n",
    "cleaned_list['security_deposit'] = cleaned_list['security_deposit'].apply(parse_dollar)\n",
    "cleaned_list['cleaning_fee'] = cleaned_list['cleaning_fee'].apply(parse_dollar)\n",
    "cleaned_list['price'] = cleaned_list['price'].apply(parse_dollar)\n",
    "cleaned_list['extra_people'] = cleaned_list['extra_people'].apply(parse_dollar)\n",
    "cleaned_list['host_response_rate'] = cleaned_list['host_response_rate'].apply(parse_percentage)\n",
    "cleaned_list['host_acceptance_rate'] = cleaned_list['host_acceptance_rate'].apply(parse_percentage)\n",
    "cleaned_list['last_scraped'] = pd.to_datetime(cleaned_list['last_scraped'])\n",
    "cleaned_list['host_since'] = pd.to_datetime(cleaned_list['host_since'])"
   ]
  },
  {
   "cell_type": "code",
   "execution_count": 42,
   "id": "waRXLhYOVQoQ",
   "metadata": {
    "colab": {
     "base_uri": "https://localhost:8080/",
     "height": 297
    },
    "id": "waRXLhYOVQoQ",
    "outputId": "39e8716b-a9d5-4ffd-e2ce-40202f9304ea"
   },
   "outputs": [
    {
     "data": {
      "text/plain": [
       "Text(0, 0.5, 'Row Count')"
      ]
     },
     "execution_count": 42,
     "metadata": {},
     "output_type": "execute_result"
    },
    {
     "data": {
      "image/png": "[encoded data removed]",
      "text/plain": [
       "<Figure size 432x288 with 1 Axes>"
      ]
     },
     "metadata": {
      "needs_background": "light"
     },
     "output_type": "display_data"
    }
   ],
   "source": [
    "# create a column to flag if the row contain any NaN value\n",
    "cleaned_list['has_NaN'] = (cleaned_list.isnull().sum(axis = 1)/cleaned_list.shape[1]) > 0\n",
    "# plot NaN distribution\n",
    "nan_rows = (cleaned_list.isnull().sum(axis = 1)/cleaned_list.shape[1]).sort_values(ascending = False)\n",
    "ax = nan_rows.hist()\n",
    "ax.set_xlabel(\"% NaN\")\n",
    "ax.set_ylabel(\"Row Count\")"
   ]
  },
  {
   "cell_type": "code",
   "execution_count": 44,
   "id": "zkth9iVkVUb7",
   "metadata": {
    "colab": {
     "base_uri": "https://localhost:8080/"
    },
    "id": "zkth9iVkVUb7",
    "outputId": "949c0dd9-0924-4ec7-9fa8-816a43f8b83a"
   },
   "outputs": [
    {
     "name": "stdout",
     "output_type": "stream",
     "text": [
      "All data with any missing value has been dropped\n"
     ]
    }
   ],
   "source": [
    "# drop data containing any missing values\n",
    "dropped_list = cleaned_list.iloc[nan_rows[(nan_rows==0)].index.tolist(), :].reset_index(drop = True)\n",
    "nan_list = cleaned_list.iloc[nan_rows[(nan_rows>0)].index.tolist(), :].reset_index(drop = True)\n",
    "print(\"All data with any missing value has been dropped\")"
   ]
  },
  {
   "cell_type": "code",
   "execution_count": 46,
   "id": "uZyqIpnHVKdk",
   "metadata": {
    "id": "uZyqIpnHVKdk"
   },
   "outputs": [],
   "source": [
    "# replace missing values with the most frequent value in the column\n",
    "\n",
    "def impute_mode(df, variable):\n",
    "\n",
    "    # find most frequent category\n",
    "    most_frequent_category = df.groupby([variable])[variable].count().sort_values(ascending=False).index[0]\n",
    "    \n",
    "    # replace NA\n",
    "    df[variable].fillna(most_frequent_category, inplace=True)\n",
    "    \n",
    "impute_cols = cleaned_list.columns[cleaned_list.isnull().any()]\n",
    "for col in impute_cols:\n",
    "    impute_mode(cleaned_list, col)"
   ]
  },
  {
   "cell_type": "code",
   "execution_count": 47,
   "id": "567501b6",
   "metadata": {
    "id": "567501b6"
   },
   "outputs": [],
   "source": [
    "# convert the availability to booking rate\n",
    "cleaned_list['booked_365'] = cleaned_list['availability_365'].apply(lambda x: (365 - x)/365*100)\n",
    "\n",
    "from datetime import datetime\n",
    "\n",
    "# calculate the day difference based the two dates: host_since and last_scrape\n",
    "def day_diff(df):\n",
    "    \n",
    "    if ('last_scraped' in df.columns) & ('host_since' in df.columns):\n",
    "        df['host_days'] = (pd.to_datetime(df['last_scraped']) - pd.to_datetime(df['host_since'])).apply(lambda x: x.days)\n",
    "    else:\n",
    "        print('Error: Date column does not exist in the dataset!')\n",
    "        \n",
    "# return day of the week based on the date provide       \n",
    "def date2day(x):\n",
    "    \n",
    "    if isinstance(x, datetime):\n",
    "        return x.isoweekday()\n",
    "    else:\n",
    "        return x\n",
    "\n",
    "    \n",
    "day_diff(cleaned_list)\n",
    "\n",
    "# # convert date to day\n",
    "# cleaned_list['day'] = cleaned_list.last_scraped.apply(date2day)\n",
    "\n",
    "# drop unnecessary columns in modeling the host booking rate\n",
    "feature_to_drop = ['id', 'host_id', 'latitude', 'longitude', 'city', \\\n",
    "                   'host_since', 'last_scraped', 'first_review', 'requires_license', 'availability_365']\n",
    "processed_list = cleaned_list.drop(labels = feature_to_drop, axis = 1)"
   ]
  },
  {
   "cell_type": "code",
   "execution_count": 48,
   "id": "adf62601",
   "metadata": {
    "id": "adf62601"
   },
   "outputs": [],
   "source": [
    "# Convert host_response_time to integer numbers\n",
    "def engineer_host_response_time(x):\n",
    "\n",
    "    if x == 'within an hour':\n",
    "        return 1\n",
    "    elif x == 'within a few hours':\n",
    "        return 2\n",
    "    elif x == 'within a day':\n",
    "        return 3\n",
    "    elif x == 'a few days or more':\n",
    "        return 4\n",
    "    else:\n",
    "        return x\n",
    "\n",
    "# Convert cacellation_policy to ordinal number    \n",
    "def engineer_cancellation_policy(x):\n",
    "\n",
    "    if x == 'flexible':\n",
    "        return 1\n",
    "    elif x == 'moderate':\n",
    "        return 2\n",
    "    elif x == 'strict':\n",
    "        return 3\n",
    "    elif x == 'super_strict_30':\n",
    "        return 4\n",
    "    else:\n",
    "        return x\n",
    "\n",
    "\n",
    "processed_list.host_response_time = processed_list.host_response_time.apply(engineer_host_response_time)\n",
    "processed_list.cancellation_policy = processed_list.cancellation_policy.apply(engineer_cancellation_policy)"
   ]
  },
  {
   "cell_type": "code",
   "execution_count": 49,
   "id": "3c583696",
   "metadata": {
    "id": "3c583696"
   },
   "outputs": [],
   "source": [
    "# convert string 't' and 'f' to 1 and 0\n",
    "def encode_binary(x):\n",
    "    \n",
    "    if x == 'f':\n",
    "        return 0\n",
    "    elif x == 't':\n",
    "        return 1\n",
    "    else:\n",
    "        return x\n",
    "\n",
    "processed_list.host_is_superhost = processed_list.host_is_superhost.apply(encode_binary)\n",
    "processed_list.host_identity_verified = processed_list.host_identity_verified.apply(encode_binary)\n",
    "processed_list.instant_bookable = processed_list.instant_bookable.apply(encode_binary)\n",
    "processed_list.require_guest_profile_picture = processed_list.require_guest_profile_picture.apply(encode_binary)\n",
    "processed_list.require_guest_phone_verification = processed_list.require_guest_phone_verification.apply(encode_binary)"
   ]
  },
  {
   "cell_type": "markdown",
   "id": "B4Xg17bXM1V-",
   "metadata": {
    "id": "B4Xg17bXM1V-"
   },
   "source": [
    "## **Data preprocessing**"
   ]
  },
  {
   "cell_type": "code",
   "execution_count": 50,
   "id": "85a6a288",
   "metadata": {
    "id": "85a6a288"
   },
   "outputs": [],
   "source": [
    "cat_features = ['neighbourhood_cleansed', 'property_type', 'room_type', 'bed_type']\n",
    "processed_list = pd.get_dummies(data = processed_list, columns = cat_features)"
   ]
  },
  {
   "cell_type": "markdown",
   "id": "xme7B2wSNMxA",
   "metadata": {
    "id": "xme7B2wSNMxA"
   },
   "source": [
    "# **Model description**"
   ]
  },
  {
   "cell_type": "markdown",
   "id": "tQq83WHKNXdu",
   "metadata": {
    "id": "tQq83WHKNXdu"
   },
   "source": [
    "Based on previous work, Random Forest Clssifier is best in training the model, but the parameters are difficult to choose. In order to select the appropriate parameters, GridSearch() is defined to find the optimal parameters automatically First, we define these models and obtain them from sklearn.\n",
    "Here is the description for Random Forest Classifier:   \n",
    "* <b>RandomForestClassifier</b>     \n",
    "This is an integrated learning method that works by training multiple decision trees on a training set and then combining their predictions to produce a final prediction. Random forests usually perform well on high-dimensional datasets and can handle non-linear relationships well.   "
   ]
  },
  {
   "cell_type": "code",
   "execution_count": null,
   "id": "KqL6MoCTLHXc",
   "metadata": {
    "id": "KqL6MoCTLHXc"
   },
   "outputs": [],
   "source": [
    "def GridSearch(X_train, X_test, y_train, y_test, criterion = ['mse'], n_estimators = [300, 600],\n",
    "                  method = 'GBDT', learning_rate = 0.5, validate = False, cv = 5,\n",
    "                  max_features = ['auto'], max_depth = [10, 20, 40], min_samples_leaf = [2,4], n_jobs = -1):\n",
    "    '''\n",
    "    Usage: use gridsearch to find optimal parameters for the random forest (RF) regressor.\n",
    "    Input: training and testing sets from X and y variables\n",
    "    Output: the best regressor\n",
    "    '''\n",
    "       \n",
    "    clf = RandomForestRegressor(random_state=42, n_jobs = n_jobs)\n",
    "        \n",
    "    parameters = {'criterion': criterion,\n",
    "                  'n_estimators': n_estimators,\n",
    "                  'max_depth': max_depth,\n",
    "                  'min_samples_leaf':min_samples_leaf,\n",
    "                  'max_features':max_features\n",
    "                 }\n",
    "    \n",
    "    #Use gridsearch to find the best-model parameters.\n",
    "    grid_obj = GridSearchCV(clf, parameters, cv = cv)\n",
    "    grid_fit = grid_obj.fit(X_train, y_train)\n",
    "    \n",
    "    #obtaining best model, fit it to training set\n",
    "    best_clf = grid_fit.best_estimator_\n",
    "    best_clf.fit(X_train, y_train)\n",
    "\n",
    "    # Make predictions using the new model.\n",
    "    best_train_predictions = best_clf.predict(X_train)\n",
    "    print('The training MSE Score is', mean_squared_error(y_train, best_train_predictions))\n",
    "    print('The training R2 Score is', r2_score(y_train, best_train_predictions))\n",
    "    \n",
    "    if validate:\n",
    "        best_test_predictions = best_clf.predict(X_test)\n",
    "        print('The testing MSE Score is', mean_squared_error(y_test, best_test_predictions))\n",
    "        print('The testing R2 Score is', r2_score(y_test, best_test_predictions))\n",
    "    return best_clf"
   ]
  },
  {
   "cell_type": "markdown",
   "id": "E705zkMpOWqs",
   "metadata": {
    "id": "E705zkMpOWqs"
   },
   "source": [
    "# **Experiments**"
   ]
  },
  {
   "cell_type": "markdown",
   "id": "vL3WVlOSOrWD",
   "metadata": {
    "id": "vL3WVlOSOrWD"
   },
   "source": [
    "## **1. Define the model**"
   ]
  },
  {
   "cell_type": "code",
   "execution_count": null,
   "id": "FLvzpsheOxSo",
   "metadata": {
    "id": "FLvzpsheOxSo"
   },
   "outputs": [],
   "source": [
    "# select features used for modeling\n",
    "data = processed_list.copy()\n",
    "drop_cols = ['reviews_per_month', 'calculated_host_listings_count','review_scores_accuracy',\n",
    "             'review_scores_cleanliness', 'review_scores_checkin', 'review_scores_communication', \n",
    "             'review_scores_value']\n",
    "\n",
    "data.drop(labels = drop_cols, axis = 1, inplace = True)\n",
    "\n",
    "## apply feature scaling\n",
    "scaler = StandardScaler()\n",
    "data_transformed = pd.DataFrame(data = scaler.fit_transform(data), index = data.index, columns = data.columns)\n",
    "X_transformed = data_transformed.drop(labels = ['booked_365'], axis = 1)\n",
    "y_transformed = data_transformed[['booked_365']].iloc[:,0]\n",
    "X_train, X_test, y_train, y_test = train_test_split(X_transformed, y_transformed, test_size = 0.3, random_state = 42)\n",
    "\n",
    "criterion = ['squared_error']\n",
    "method = 'RF' \n",
    "n_estimators =  [200, 400]\n",
    "max_features = [30, 50, 70] \n",
    "max_depth = [10, 20, 40] \n",
    "min_samples_leaf = [2,4]\n",
    "learning_rate = 0.001"
   ]
  },
  {
   "cell_type": "markdown",
   "id": "68rQlPBUPACp",
   "metadata": {
    "id": "68rQlPBUPACp"
   },
   "source": [
    "# **2. Get the best model**"
   ]
  },
  {
   "cell_type": "code",
   "execution_count": 56,
   "id": "a618c810",
   "metadata": {
    "colab": {
     "base_uri": "https://localhost:8080/"
    },
    "id": "a618c810",
    "outputId": "26e245cb-d634-4122-9d58-67c9c7fac99c"
   },
   "outputs": [
    {
     "name": "stdout",
     "output_type": "stream",
     "text": [
      "The training MSE Score is 0.15952228848511027\n",
      "The training R2 Score is 0.8401485756240699\n"
     ]
    }
   ],
   "source": [
    "\n",
    "best_clf = GridSearch(X_train, X_test, y_train, y_test, method = method, learning_rate = learning_rate, \\\n",
    "                         criterion = criterion, n_estimators = n_estimators, \\\n",
    "                         max_features = max_features, max_depth = max_depth, min_samples_leaf = min_samples_leaf)"
   ]
  },
  {
   "cell_type": "markdown",
   "id": "-9edn10vPGK5",
   "metadata": {
    "id": "-9edn10vPGK5"
   },
   "source": [
    "# **Results**"
   ]
  },
  {
   "cell_type": "code",
   "execution_count": 57,
   "id": "CJdUqKjXZj0p",
   "metadata": {
    "colab": {
     "base_uri": "https://localhost:8080/",
     "height": 283
    },
    "id": "CJdUqKjXZj0p",
    "outputId": "3a1c82a7-8273-4b54-c9a8-78e009537d40"
   },
   "outputs": [
    {
     "data": {
      "text/plain": [
       "<matplotlib.axes._subplots.AxesSubplot at 0x7f07e4e2da00>"
      ]
     },
     "execution_count": 57,
     "metadata": {},
     "output_type": "execute_result"
    },
    {
     "data": {
      "image/png": "[encoded data removed]",
      "text/plain": [
       "<Figure size 432x288 with 1 Axes>"
      ]
     },
     "metadata": {
      "needs_background": "light"
     },
     "output_type": "display_data"
    }
   ],
   "source": [
    "importances = best_clf.feature_importances_ \n",
    "feat_names = X_train.columns\n",
    "tree_result = pd.DataFrame({'feature': feat_names, 'importance': importances})\n",
    "tree_result.sort_values(by='importance',ascending=True)[-10:].plot(x='feature', y='importance', kind='barh')"
   ]
  },
  {
   "cell_type": "markdown",
   "id": "t7maGzK7PNXZ",
   "metadata": {
    "id": "t7maGzK7PNXZ"
   },
   "source": [
    "# **Discussion**"
   ]
  },
  {
   "cell_type": "markdown",
   "id": "CvY6xGhMPQq-",
   "metadata": {
    "id": "CvY6xGhMPQq-"
   },
   "source": [
    "The Book rate model above indicates top 10 customer preferences that AirBnB customers evaluate when choosing the homestay among the listings. In general, they prefer the following listings:\n",
    "\n",
    "*   listings with high hosts credit\n",
    "*   listings with good hosts communications\n",
    "*   listings with high ratings, including the number of review, and the overall review score\n",
    "*   listing with reasonable price\n",
    "\n",
    "In summary, customers tend to choose the listing with more reviews and good rating score. They also prefer experienced hosts, and appreciate a smooth communication with the host. Last but not least, price is the key factor that finalizes their decisions.\n",
    "\n",
    "In order to improve the competitiveness, Airbnb should always improve its marketing decisions, from the abovementioned analysis, It should advertise, recommend, and promote the listings which have the abovementioned preferences with price around 100-400 on August."
   ]
  }
 ],
 "metadata": {
  "colab": {
   "provenance": []
  },
  "kernelspec": {
   "display_name": "Python 3 (ipykernel)",
   "language": "python",
   "name": "python3"
  },
  "language_info": {
   "codemirror_mode": {
    "name": "ipython",
    "version": 3
   },
   "file_extension": ".py",
   "mimetype": "text/x-python",
   "name": "python",
   "nbconvert_exporter": "python",
   "pygments_lexer": "ipython3",
   "version": "3.9.12"
  }
 },
 "nbformat": 4,
 "nbformat_minor": 5
}
